{
 "cells": [
  {
   "cell_type": "markdown",
   "id": "edb5e6f2",
   "metadata": {},
   "source": [
    "## BCIS 5110 Analysis of JD Data"
   ]
  },
  {
   "cell_type": "code",
   "execution_count": 2,
   "id": "6fc2bb24",
   "metadata": {},
   "outputs": [],
   "source": [
    "# This code appears in every demonstration Notebook.\n",
    "# By default, when you run each cell, only the last output of the codes will show.\n",
    "# This code makes all outputs of a cell show.\n",
    "from IPython.core.interactiveshell import InteractiveShell\n",
    "InteractiveShell.ast_node_interactivity = \"all\""
   ]
  },
  {
   "cell_type": "markdown",
   "id": "409e4901",
   "metadata": {},
   "source": [
    "### We will analyze JD Data in the rest of our assignments.\n",
    "The objective: to build models to accurately predict delivery times for customer orders.<br>\n",
    "The data: We need the following tables from the JD.com data<br>\n",
    "        1. Order<br>\n",
    "        2. User<br>\n",
    "        3. Delivery<br>\n",
    "        4. Inventory<br>\n",
    "        5. Network<br>        "
   ]
  },
  {
   "cell_type": "markdown",
   "id": "959c44b9",
   "metadata": {},
   "source": [
    "#### Assignment 8 include Q1 - Q10."
   ]
  },
  {
   "cell_type": "markdown",
   "id": "52749b83",
   "metadata": {},
   "source": [
    "1. Import necessary packages."
   ]
  },
  {
   "cell_type": "code",
   "execution_count": 3,
   "id": "e832a01e",
   "metadata": {},
   "outputs": [],
   "source": [
    "import pandas as pd  \n",
    "import numpy as np   \n",
    "import matplotlib.pyplot as plt  \n",
    "import seaborn as sns  \n",
    "from sklearn.model_selection import train_test_split \n",
    "from sklearn.preprocessing import StandardScaler  \n",
    "from sklearn.linear_model import LinearRegression  \n",
    "from sklearn.metrics import mean_squared_error, r2_score \n",
    "from sklearn.ensemble import RandomForestRegressor "
   ]
  },
  {
   "cell_type": "markdown",
   "id": "2169b408",
   "metadata": {},
   "source": [
    "2. Read in the five csv files."
   ]
  },
  {
   "cell_type": "code",
   "execution_count": 4,
   "id": "4c19a50a",
   "metadata": {},
   "outputs": [],
   "source": [
    "user_data = pd.read_csv('C:\\\\Users\\\\prana\\\\Downloads\\\\JD Data (2)\\\\JD Data\\\\JD_user_data.csv')\n",
    "delivery_data = pd.read_csv('C:\\\\Users\\\\prana\\\\Downloads\\\\JD Data (2)\\\\JD Data\\\\JD_delivery_data.csv')\n",
    "inventory_data = pd.read_csv('C:\\\\Users\\\\prana\\\\Downloads\\\\JD Data (2)\\\\JD Data\\\\JD_inventory_data.csv')\n",
    "network_data = pd.read_csv('C:\\\\Users\\\\prana\\\\Downloads\\\\JD Data (2)\\\\JD Data\\\\JD_network_data.csv')\n",
    "order_data = pd.read_csv('C:\\\\Users\\\\prana\\\\Downloads\\\\JD Data (2)\\\\JD Data\\\\JD_order_data.csv')\n",
    "sku_data = pd.read_csv('C:\\\\Users\\\\prana\\\\Downloads\\\\JD Data (2)\\\\JD Data\\\\JD_sku_data.csv') \n",
    "click_data = pd.read_csv('C:\\\\Users\\\\prana\\\\Downloads\\\\JD Data (2)\\\\JD Data\\\\JD_click_data.csv')"
   ]
  },
  {
   "cell_type": "markdown",
   "id": "68e999a7",
   "metadata": {},
   "source": [
    "3. Display a sample of each data frame. How many observations? How many columns? What are the column names? (Use code to display such information.)"
   ]
  },
  {
   "cell_type": "code",
   "execution_count": 5,
   "id": "66478200",
   "metadata": {},
   "outputs": [
    {
     "name": "stdout",
     "output_type": "stream",
     "text": [
      "print the order data\n",
      "     order_ID     user_ID      sku_ID  order_date             order_time  \\\n",
      "0  d0cf5cc6db  0abe9ef2ce  581d5b54c1  2018-03-01  2018-03-01 17:14:25.0   \n",
      "1  7444318d01  33a9e56257  067b673f2b  2018-03-01  2018-03-01 11:10:40.0   \n",
      "2  f973b01694  4ea3cf408f  623d0a582a  2018-03-01  2018-03-01 09:13:26.0   \n",
      "3  8c1cec8d4b  b87cb736cb  fc5289b139  2018-03-01  2018-03-01 21:29:50.0   \n",
      "4  d43a33c38a  4829223b6f  623d0a582a  2018-03-01  2018-03-01 19:13:37.0   \n",
      "\n",
      "   quantity  type promise  original_unit_price  final_unit_price  \\\n",
      "0         1     2       -                 89.0              79.0   \n",
      "1         1     1       2                 99.9              53.9   \n",
      "2         1     1       2                 78.0              58.5   \n",
      "3         1     1       2                 61.0              35.0   \n",
      "4         1     1       1                 78.0              53.0   \n",
      "\n",
      "   direct_discount_per_unit  quantity_discount_per_unit  \\\n",
      "0                       0.0                        10.0   \n",
      "1                       5.0                        41.0   \n",
      "2                      19.5                         0.0   \n",
      "3                       0.0                        26.0   \n",
      "4                      19.0                         0.0   \n",
      "\n",
      "   bundle_discount_per_unit  coupon_discount_per_unit  gift_item  dc_ori  \\\n",
      "0                       0.0                       0.0          0       4   \n",
      "1                       0.0                       0.0          0      28   \n",
      "2                       0.0                       0.0          0      28   \n",
      "3                       0.0                       0.0          0       4   \n",
      "4                       0.0                       6.0          0       3   \n",
      "\n",
      "   dc_des  \n",
      "0      28  \n",
      "1      28  \n",
      "2      28  \n",
      "3      28  \n",
      "4      16  \n",
      "print the users data\n",
      "      user_ID  user_level first_order_month  plus gender    age  \\\n",
      "0  000089d6a6           1           2017-08     0      F  26-35   \n",
      "1  0000babd1f           1           2018-03     0      U      U   \n",
      "2  0000bc018b           3           2016-06     0      F   >=56   \n",
      "3  0000d0e5ab           3           2014-06     0      M  26-35   \n",
      "4  0000dce472           3           2012-08     1      U      U   \n",
      "\n",
      "  marital_status  education  city_level  purchase_power  \n",
      "0              S          3           4               3  \n",
      "1              U         -1          -1              -1  \n",
      "2              M          3           2               3  \n",
      "3              M          3           2               2  \n",
      "4              U         -1          -1              -1  \n",
      "print the delivery data\n",
      "   package_ID    order_ID  type        ship_out_time     arr_station_time  \\\n",
      "0  dc3d6d2258  dc3d6d2258     1  2018-03-01 08:00:00  2018-03-01 15:00:00   \n",
      "1  19802a570c  19802a570c     1  2018-03-01 10:00:00  2018-03-01 15:00:00   \n",
      "2  e22627af66  e22627af66     1  2018-03-01 11:00:00  2018-03-01 15:00:00   \n",
      "3  50d11a586d  50d11a586d     1  2018-03-01 10:00:00  2018-03-01 16:00:00   \n",
      "4  a3bfe38bf4  a3bfe38bf4     1  2018-03-01 11:00:00  2018-03-01 16:00:00   \n",
      "\n",
      "              arr_time  \n",
      "0  2018-03-01 18:00:00  \n",
      "1  2018-03-01 17:00:00  \n",
      "2  2018-03-01 17:00:00  \n",
      "3  2018-03-01 19:00:00  \n",
      "4  2018-03-01 17:00:00  \n",
      "print the inventory data\n",
      "   dc_ID      sku_ID        date\n",
      "0      9  50f6f91962  2018-03-01\n",
      "1      9  7f0ddbcdde  2018-03-01\n",
      "2      9  8ad5789d74  2018-03-01\n",
      "3      9  468d34eda4  2018-03-01\n",
      "4      9  460afaddb6  2018-03-01\n",
      "print the network data\n",
      "   region_ID  dc_ID\n",
      "0          2     57\n",
      "1          2     43\n",
      "2          2     42\n",
      "3          2     66\n",
      "4          2     20\n",
      "print the sku data\n",
      "       sku_ID  type    brand_ID attribute1 attribute2 activate_date  \\\n",
      "0  a234e08c57     1  c3ab4bf4d9        3.0       60.0           NaN   \n",
      "1  6449e1fd87     1  1d8b4b4c63        2.0       50.0           NaN   \n",
      "2  09b70fcd83     2  eb7d2a675a        3.0       70.0           NaN   \n",
      "3  acad9fed04     2  9b0d3a5fc6        3.0       70.0           NaN   \n",
      "4  2fa77e3b4d     2  b681299668          -          -           NaN   \n",
      "\n",
      "  deactivate_date  \n",
      "0             NaN  \n",
      "1             NaN  \n",
      "2             NaN  \n",
      "3             NaN  \n",
      "4             NaN  \n",
      "print the click data\n",
      "       sku_ID     user_ID         request_time channel\n",
      "0  a234e08c57  4c3d6d10c2  2018-03-01 23:57:53  wechat\n",
      "1  6449e1fd87           -  2018-03-01 16:13:48  wechat\n",
      "2  09b70fcd83  2791ec4485  2018-03-01 22:10:51  wechat\n",
      "3  09b70fcd83  eb0718c1c9  2018-03-01 16:34:08  wechat\n",
      "4  09b70fcd83  59f84cf342  2018-03-01 22:20:35  wechat\n"
     ]
    }
   ],
   "source": [
    "#sample data for orders data\n",
    "print(\"print the order data\")\n",
    "print(order_data.head())\n",
    "\n",
    "#sample data for users data\n",
    "print(\"print the users data\")\n",
    "print(user_data.head())\n",
    "\n",
    "#sample data for delivery data\n",
    "print(\"print the delivery data\")\n",
    "print(delivery_data.head())\n",
    "\n",
    "#sample data for Invetntory data\n",
    "print(\"print the inventory data\")\n",
    "print(inventory_data.head())\n",
    "\n",
    "#sample data for network data\n",
    "print(\"print the network data\")\n",
    "print(network_data.head())\n",
    "\n",
    "#sample data for sku data\n",
    "print(\"print the sku data\")\n",
    "print(sku_data.head())\n",
    "\n",
    "#sample data for click data\n",
    "print(\"print the click data\")\n",
    "print(click_data.head())"
   ]
  },
  {
   "cell_type": "code",
   "execution_count": 6,
   "id": "3dfceb39",
   "metadata": {},
   "outputs": [
    {
     "name": "stdout",
     "output_type": "stream",
     "text": [
      "<class 'pandas.core.frame.DataFrame'>\n",
      "RangeIndex: 293229 entries, 0 to 293228\n",
      "Data columns (total 6 columns):\n",
      " #   Column            Non-Null Count   Dtype \n",
      "---  ------            --------------   ----- \n",
      " 0   package_ID        293229 non-null  object\n",
      " 1   order_ID          293229 non-null  object\n",
      " 2   type              293229 non-null  int64 \n",
      " 3   ship_out_time     293229 non-null  object\n",
      " 4   arr_station_time  293229 non-null  object\n",
      " 5   arr_time          293229 non-null  object\n",
      "dtypes: int64(1), object(5)\n",
      "memory usage: 13.4+ MB\n"
     ]
    }
   ],
   "source": [
    "delivery_data.info()"
   ]
  },
  {
   "cell_type": "code",
   "execution_count": 7,
   "id": "b0a9d45d",
   "metadata": {},
   "outputs": [
    {
     "name": "stdout",
     "output_type": "stream",
     "text": [
      "<class 'pandas.core.frame.DataFrame'>\n",
      "RangeIndex: 549989 entries, 0 to 549988\n",
      "Data columns (total 17 columns):\n",
      " #   Column                      Non-Null Count   Dtype  \n",
      "---  ------                      --------------   -----  \n",
      " 0   order_ID                    549989 non-null  object \n",
      " 1   user_ID                     549989 non-null  object \n",
      " 2   sku_ID                      549989 non-null  object \n",
      " 3   order_date                  549989 non-null  object \n",
      " 4   order_time                  549989 non-null  object \n",
      " 5   quantity                    549989 non-null  int64  \n",
      " 6   type                        549989 non-null  int64  \n",
      " 7   promise                     549989 non-null  object \n",
      " 8   original_unit_price         549989 non-null  float64\n",
      " 9   final_unit_price            549989 non-null  float64\n",
      " 10  direct_discount_per_unit    549989 non-null  float64\n",
      " 11  quantity_discount_per_unit  549989 non-null  float64\n",
      " 12  bundle_discount_per_unit    549989 non-null  float64\n",
      " 13  coupon_discount_per_unit    549989 non-null  float64\n",
      " 14  gift_item                   549989 non-null  int64  \n",
      " 15  dc_ori                      549989 non-null  int64  \n",
      " 16  dc_des                      549989 non-null  int64  \n",
      "dtypes: float64(6), int64(5), object(6)\n",
      "memory usage: 71.3+ MB\n"
     ]
    }
   ],
   "source": [
    "order_data.info()"
   ]
  },
  {
   "cell_type": "code",
   "execution_count": 8,
   "id": "51705946",
   "metadata": {},
   "outputs": [
    {
     "name": "stdout",
     "output_type": "stream",
     "text": [
      "<class 'pandas.core.frame.DataFrame'>\n",
      "RangeIndex: 457298 entries, 0 to 457297\n",
      "Data columns (total 10 columns):\n",
      " #   Column             Non-Null Count   Dtype \n",
      "---  ------             --------------   ----- \n",
      " 0   user_ID            457298 non-null  object\n",
      " 1   user_level         457298 non-null  int64 \n",
      " 2   first_order_month  457298 non-null  object\n",
      " 3   plus               457298 non-null  int64 \n",
      " 4   gender             457298 non-null  object\n",
      " 5   age                457298 non-null  object\n",
      " 6   marital_status     457298 non-null  object\n",
      " 7   education          457298 non-null  int64 \n",
      " 8   city_level         457298 non-null  int64 \n",
      " 9   purchase_power     457298 non-null  int64 \n",
      "dtypes: int64(5), object(5)\n",
      "memory usage: 34.9+ MB\n"
     ]
    }
   ],
   "source": [
    "user_data.info()"
   ]
  },
  {
   "cell_type": "code",
   "execution_count": 9,
   "id": "7faaf12e",
   "metadata": {},
   "outputs": [
    {
     "name": "stdout",
     "output_type": "stream",
     "text": [
      "<class 'pandas.core.frame.DataFrame'>\n",
      "RangeIndex: 136079 entries, 0 to 136078\n",
      "Data columns (total 3 columns):\n",
      " #   Column  Non-Null Count   Dtype \n",
      "---  ------  --------------   ----- \n",
      " 0   dc_ID   136079 non-null  int64 \n",
      " 1   sku_ID  136079 non-null  object\n",
      " 2   date    136079 non-null  object\n",
      "dtypes: int64(1), object(2)\n",
      "memory usage: 3.1+ MB\n"
     ]
    }
   ],
   "source": [
    "inventory_data.info()"
   ]
  },
  {
   "cell_type": "code",
   "execution_count": 10,
   "id": "a277cd25",
   "metadata": {},
   "outputs": [
    {
     "name": "stdout",
     "output_type": "stream",
     "text": [
      "<class 'pandas.core.frame.DataFrame'>\n",
      "RangeIndex: 20214515 entries, 0 to 20214514\n",
      "Data columns (total 4 columns):\n",
      " #   Column        Dtype \n",
      "---  ------        ----- \n",
      " 0   sku_ID        object\n",
      " 1   user_ID       object\n",
      " 2   request_time  object\n",
      " 3   channel       object\n",
      "dtypes: object(4)\n",
      "memory usage: 616.9+ MB\n"
     ]
    }
   ],
   "source": [
    "click_data.info()"
   ]
  },
  {
   "cell_type": "code",
   "execution_count": 11,
   "id": "d205f01e",
   "metadata": {},
   "outputs": [
    {
     "name": "stdout",
     "output_type": "stream",
     "text": [
      "<class 'pandas.core.frame.DataFrame'>\n",
      "RangeIndex: 31868 entries, 0 to 31867\n",
      "Data columns (total 7 columns):\n",
      " #   Column           Non-Null Count  Dtype \n",
      "---  ------           --------------  ----- \n",
      " 0   sku_ID           31868 non-null  object\n",
      " 1   type             31868 non-null  int64 \n",
      " 2   brand_ID         31868 non-null  object\n",
      " 3   attribute1       31868 non-null  object\n",
      " 4   attribute2       31868 non-null  object\n",
      " 5   activate_date    3058 non-null   object\n",
      " 6   deactivate_date  1141 non-null   object\n",
      "dtypes: int64(1), object(6)\n",
      "memory usage: 1.7+ MB\n"
     ]
    }
   ],
   "source": [
    "sku_data.info()"
   ]
  },
  {
   "cell_type": "code",
   "execution_count": 12,
   "id": "48f875d0",
   "metadata": {},
   "outputs": [
    {
     "name": "stdout",
     "output_type": "stream",
     "text": [
      "<class 'pandas.core.frame.DataFrame'>\n",
      "RangeIndex: 56 entries, 0 to 55\n",
      "Data columns (total 2 columns):\n",
      " #   Column     Non-Null Count  Dtype\n",
      "---  ------     --------------  -----\n",
      " 0   region_ID  56 non-null     int64\n",
      " 1   dc_ID      56 non-null     int64\n",
      "dtypes: int64(2)\n",
      "memory usage: 1.0 KB\n"
     ]
    }
   ],
   "source": [
    "network_data.info()"
   ]
  },
  {
   "cell_type": "code",
   "execution_count": 13,
   "id": "2d821e46",
   "metadata": {},
   "outputs": [
    {
     "name": "stdout",
     "output_type": "stream",
     "text": [
      "number of observations for order data: 549989\n",
      "number of observations for sku data: 31868\n",
      "number of observations for users data: 457298\n",
      "number of observations for delivery data: 293229\n",
      "number of observations for click data: 20214515\n",
      "number of observations for inventory data: 136079\n",
      "number of observations for network data: 56\n"
     ]
    }
   ],
   "source": [
    "#Number of observations\n",
    "print(\"number of observations for order data:\", len(order_data))\n",
    "print(\"number of observations for sku data:\", len(sku_data))\n",
    "print(\"number of observations for users data:\", len(user_data))\n",
    "print(\"number of observations for delivery data:\", len(delivery_data))\n",
    "print(\"number of observations for click data:\", len(click_data))\n",
    "print(\"number of observations for inventory data:\", len(inventory_data))\n",
    "print(\"number of observations for network data:\", len(network_data))"
   ]
  },
  {
   "cell_type": "code",
   "execution_count": 14,
   "id": "ac24ac76",
   "metadata": {},
   "outputs": [
    {
     "name": "stdout",
     "output_type": "stream",
     "text": [
      "number of columns in order data: 17\n",
      "column names in order data: Index(['order_ID', 'user_ID', 'sku_ID', 'order_date', 'order_time', 'quantity',\n",
      "       'type', 'promise', 'original_unit_price', 'final_unit_price',\n",
      "       'direct_discount_per_unit', 'quantity_discount_per_unit',\n",
      "       'bundle_discount_per_unit', 'coupon_discount_per_unit', 'gift_item',\n",
      "       'dc_ori', 'dc_des'],\n",
      "      dtype='object')\n",
      "number of columns in sku data: 7\n",
      "column names in sku data: Index(['sku_ID', 'type', 'brand_ID', 'attribute1', 'attribute2',\n",
      "       'activate_date', 'deactivate_date'],\n",
      "      dtype='object')\n",
      "number of columns in users data: 10\n",
      "column names in users data: Index(['user_ID', 'user_level', 'first_order_month', 'plus', 'gender', 'age',\n",
      "       'marital_status', 'education', 'city_level', 'purchase_power'],\n",
      "      dtype='object')\n",
      "number of columns in delivery data: 6\n",
      "column names in delivery data: Index(['package_ID', 'order_ID', 'type', 'ship_out_time', 'arr_station_time',\n",
      "       'arr_time'],\n",
      "      dtype='object')\n",
      "number of columns in click data: 4\n",
      "column names in click data: Index(['sku_ID', 'user_ID', 'request_time', 'channel'], dtype='object')\n",
      "number of columns in inventory data: 3\n",
      "column names in inventory data: Index(['dc_ID', 'sku_ID', 'date'], dtype='object')\n",
      "number of columns in network data: 2\n",
      "column names in network data: Index(['region_ID', 'dc_ID'], dtype='object')\n"
     ]
    }
   ],
   "source": [
    "#number of columns and column names\n",
    "print(\"number of columns in order data:\", len(order_data.columns))\n",
    "print(\"column names in order data:\", order_data.columns)\n",
    "\n",
    "print(\"number of columns in sku data:\", len(sku_data.columns))\n",
    "print(\"column names in sku data:\", sku_data.columns)\n",
    "\n",
    "print(\"number of columns in users data:\", len(user_data.columns))\n",
    "print(\"column names in users data:\", user_data.columns)\n",
    "\n",
    "print(\"number of columns in delivery data:\", len(delivery_data.columns))\n",
    "print(\"column names in delivery data:\", delivery_data.columns)\n",
    "\n",
    "print(\"number of columns in click data:\", len(click_data.columns))\n",
    "print(\"column names in click data:\", click_data.columns)\n",
    "\n",
    "print(\"number of columns in inventory data:\", len(inventory_data.columns))\n",
    "print(\"column names in inventory data:\", inventory_data.columns)\n",
    "\n",
    "print(\"number of columns in network data:\", len(network_data.columns))\n",
    "print(\"column names in network data:\", network_data.columns)"
   ]
  },
  {
   "cell_type": "markdown",
   "id": "740303fd",
   "metadata": {},
   "source": [
    "4. Check for missing values of columns of each dataframe. You can use sum() (instead of any()) to find out the number of missing values. Which variables have missing values?"
   ]
  },
  {
   "cell_type": "code",
   "execution_count": 15,
   "id": "7c36b60a",
   "metadata": {
    "scrolled": true
   },
   "outputs": [
    {
     "name": "stdout",
     "output_type": "stream",
     "text": [
      "Missing values for order data order_ID                      0\n",
      "user_ID                       0\n",
      "sku_ID                        0\n",
      "order_date                    0\n",
      "order_time                    0\n",
      "quantity                      0\n",
      "type                          0\n",
      "promise                       0\n",
      "original_unit_price           0\n",
      "final_unit_price              0\n",
      "direct_discount_per_unit      0\n",
      "quantity_discount_per_unit    0\n",
      "bundle_discount_per_unit      0\n",
      "coupon_discount_per_unit      0\n",
      "gift_item                     0\n",
      "dc_ori                        0\n",
      "dc_des                        0\n",
      "dtype: int64\n",
      "Missing values for sku data sku_ID                 0\n",
      "type                   0\n",
      "brand_ID               0\n",
      "attribute1             0\n",
      "attribute2             0\n",
      "activate_date      28810\n",
      "deactivate_date    30727\n",
      "dtype: int64\n",
      "Missing values are present in columns - activate_date and deactivate_date\n",
      "Missing values for usets data user_ID              0\n",
      "user_level           0\n",
      "first_order_month    0\n",
      "plus                 0\n",
      "gender               0\n",
      "age                  0\n",
      "marital_status       0\n",
      "education            0\n",
      "city_level           0\n",
      "purchase_power       0\n",
      "dtype: int64\n",
      "Missing values for delivery data package_ID          0\n",
      "order_ID            0\n",
      "type                0\n",
      "ship_out_time       0\n",
      "arr_station_time    0\n",
      "arr_time            0\n",
      "dtype: int64\n",
      "Missing values for click data sku_ID          0\n",
      "user_ID         0\n",
      "request_time    0\n",
      "channel         0\n",
      "dtype: int64\n",
      "Missing values for inventory data dc_ID     0\n",
      "sku_ID    0\n",
      "date      0\n",
      "dtype: int64\n",
      "Missing values for network data region_ID    0\n",
      "dc_ID        0\n",
      "dtype: int64\n"
     ]
    }
   ],
   "source": [
    "missing_values_order = order_data.isnull().sum()\n",
    "print(\"Missing values for order data\",missing_values_order)\n",
    "\n",
    "missing_values_sku = sku_data.isnull().sum()\n",
    "print(\"Missing values for sku data\",missing_values_sku)\n",
    "print(\"Missing values are present in columns - activate_date and deactivate_date\")\n",
    "\n",
    "missing_values_user = user_data.isnull().sum()\n",
    "print(\"Missing values for usets data\",missing_values_user)\n",
    "\n",
    "missing_values_delivery = delivery_data.isnull().sum()\n",
    "print(\"Missing values for delivery data\",missing_values_delivery)\n",
    "\n",
    "missing_values_click = click_data.isnull().sum()\n",
    "print(\"Missing values for click data\",missing_values_click)\n",
    "\n",
    "missing_values_inventory = inventory_data.isnull().sum()\n",
    "print(\"Missing values for inventory data\",missing_values_inventory)\n",
    "\n",
    "missing_values_network = network_data.isnull().sum()\n",
    "print(\"Missing values for network data\",missing_values_network)"
   ]
  },
  {
   "cell_type": "code",
   "execution_count": 16,
   "id": "55b7712a",
   "metadata": {},
   "outputs": [
    {
     "name": "stdout",
     "output_type": "stream",
     "text": [
      "Missing values for sku data sku_ID             0\n",
      "type               0\n",
      "brand_ID           0\n",
      "attribute1         0\n",
      "attribute2         0\n",
      "activate_date      0\n",
      "deactivate_date    0\n",
      "dtype: int64\n"
     ]
    }
   ],
   "source": [
    "#remove the missing values from sku_data\n",
    "sku_data = sku_data.dropna()\n",
    "\n",
    "# Remove missing values in place\n",
    "sku_data.dropna(inplace=True)\n",
    "\n",
    "missing_values_sku = sku_data.isnull().sum()\n",
    "print(\"Missing values for sku data\",missing_values_sku)\n"
   ]
  },
  {
   "cell_type": "code",
   "execution_count": 17,
   "id": "fe8f25a9",
   "metadata": {},
   "outputs": [
    {
     "data": {
      "text/html": [
       "<div>\n",
       "<style scoped>\n",
       "    .dataframe tbody tr th:only-of-type {\n",
       "        vertical-align: middle;\n",
       "    }\n",
       "\n",
       "    .dataframe tbody tr th {\n",
       "        vertical-align: top;\n",
       "    }\n",
       "\n",
       "    .dataframe thead th {\n",
       "        text-align: right;\n",
       "    }\n",
       "</style>\n",
       "<table border=\"1\" class=\"dataframe\">\n",
       "  <thead>\n",
       "    <tr style=\"text-align: right;\">\n",
       "      <th></th>\n",
       "      <th>quantity</th>\n",
       "      <th>type</th>\n",
       "      <th>original_unit_price</th>\n",
       "      <th>final_unit_price</th>\n",
       "      <th>direct_discount_per_unit</th>\n",
       "      <th>quantity_discount_per_unit</th>\n",
       "      <th>bundle_discount_per_unit</th>\n",
       "      <th>coupon_discount_per_unit</th>\n",
       "      <th>gift_item</th>\n",
       "      <th>dc_ori</th>\n",
       "      <th>dc_des</th>\n",
       "    </tr>\n",
       "  </thead>\n",
       "  <tbody>\n",
       "    <tr>\n",
       "      <th>count</th>\n",
       "      <td>549989.000000</td>\n",
       "      <td>549989.000000</td>\n",
       "      <td>549989.000000</td>\n",
       "      <td>549989.000000</td>\n",
       "      <td>549989.000000</td>\n",
       "      <td>549989.000000</td>\n",
       "      <td>549989.000000</td>\n",
       "      <td>549989.000000</td>\n",
       "      <td>549989.000000</td>\n",
       "      <td>549989.000000</td>\n",
       "      <td>549989.000000</td>\n",
       "    </tr>\n",
       "    <tr>\n",
       "      <th>mean</th>\n",
       "      <td>1.216670</td>\n",
       "      <td>1.499139</td>\n",
       "      <td>102.813542</td>\n",
       "      <td>71.572599</td>\n",
       "      <td>19.845889</td>\n",
       "      <td>7.843390</td>\n",
       "      <td>0.625649</td>\n",
       "      <td>2.926015</td>\n",
       "      <td>0.172014</td>\n",
       "      <td>12.062714</td>\n",
       "      <td>21.679845</td>\n",
       "    </tr>\n",
       "    <tr>\n",
       "      <th>std</th>\n",
       "      <td>1.844589</td>\n",
       "      <td>0.500000</td>\n",
       "      <td>95.035563</td>\n",
       "      <td>75.879057</td>\n",
       "      <td>33.593536</td>\n",
       "      <td>17.994354</td>\n",
       "      <td>6.442281</td>\n",
       "      <td>11.588338</td>\n",
       "      <td>0.377393</td>\n",
       "      <td>14.201200</td>\n",
       "      <td>16.973899</td>\n",
       "    </tr>\n",
       "    <tr>\n",
       "      <th>min</th>\n",
       "      <td>1.000000</td>\n",
       "      <td>1.000000</td>\n",
       "      <td>0.000000</td>\n",
       "      <td>-32.000000</td>\n",
       "      <td>0.000000</td>\n",
       "      <td>0.000000</td>\n",
       "      <td>0.000000</td>\n",
       "      <td>0.000000</td>\n",
       "      <td>0.000000</td>\n",
       "      <td>1.000000</td>\n",
       "      <td>1.000000</td>\n",
       "    </tr>\n",
       "    <tr>\n",
       "      <th>25%</th>\n",
       "      <td>1.000000</td>\n",
       "      <td>1.000000</td>\n",
       "      <td>59.000000</td>\n",
       "      <td>33.000000</td>\n",
       "      <td>0.000000</td>\n",
       "      <td>0.000000</td>\n",
       "      <td>0.000000</td>\n",
       "      <td>0.000000</td>\n",
       "      <td>0.000000</td>\n",
       "      <td>4.000000</td>\n",
       "      <td>5.000000</td>\n",
       "    </tr>\n",
       "    <tr>\n",
       "      <th>50%</th>\n",
       "      <td>1.000000</td>\n",
       "      <td>1.000000</td>\n",
       "      <td>79.000000</td>\n",
       "      <td>58.000000</td>\n",
       "      <td>4.000000</td>\n",
       "      <td>0.000000</td>\n",
       "      <td>0.000000</td>\n",
       "      <td>0.000000</td>\n",
       "      <td>0.000000</td>\n",
       "      <td>7.000000</td>\n",
       "      <td>20.000000</td>\n",
       "    </tr>\n",
       "    <tr>\n",
       "      <th>75%</th>\n",
       "      <td>1.000000</td>\n",
       "      <td>2.000000</td>\n",
       "      <td>139.000000</td>\n",
       "      <td>95.000000</td>\n",
       "      <td>21.000000</td>\n",
       "      <td>0.000000</td>\n",
       "      <td>0.000000</td>\n",
       "      <td>0.000000</td>\n",
       "      <td>0.000000</td>\n",
       "      <td>10.000000</td>\n",
       "      <td>34.000000</td>\n",
       "    </tr>\n",
       "    <tr>\n",
       "      <th>max</th>\n",
       "      <td>400.000000</td>\n",
       "      <td>2.000000</td>\n",
       "      <td>12158.000000</td>\n",
       "      <td>12158.000000</td>\n",
       "      <td>720.000000</td>\n",
       "      <td>225.000000</td>\n",
       "      <td>252.000000</td>\n",
       "      <td>210.000000</td>\n",
       "      <td>1.000000</td>\n",
       "      <td>67.000000</td>\n",
       "      <td>67.000000</td>\n",
       "    </tr>\n",
       "  </tbody>\n",
       "</table>\n",
       "</div>"
      ],
      "text/plain": [
       "            quantity           type  original_unit_price  final_unit_price  \\\n",
       "count  549989.000000  549989.000000        549989.000000     549989.000000   \n",
       "mean        1.216670       1.499139           102.813542         71.572599   \n",
       "std         1.844589       0.500000            95.035563         75.879057   \n",
       "min         1.000000       1.000000             0.000000        -32.000000   \n",
       "25%         1.000000       1.000000            59.000000         33.000000   \n",
       "50%         1.000000       1.000000            79.000000         58.000000   \n",
       "75%         1.000000       2.000000           139.000000         95.000000   \n",
       "max       400.000000       2.000000         12158.000000      12158.000000   \n",
       "\n",
       "       direct_discount_per_unit  quantity_discount_per_unit  \\\n",
       "count             549989.000000               549989.000000   \n",
       "mean                  19.845889                    7.843390   \n",
       "std                   33.593536                   17.994354   \n",
       "min                    0.000000                    0.000000   \n",
       "25%                    0.000000                    0.000000   \n",
       "50%                    4.000000                    0.000000   \n",
       "75%                   21.000000                    0.000000   \n",
       "max                  720.000000                  225.000000   \n",
       "\n",
       "       bundle_discount_per_unit  coupon_discount_per_unit      gift_item  \\\n",
       "count             549989.000000             549989.000000  549989.000000   \n",
       "mean                   0.625649                  2.926015       0.172014   \n",
       "std                    6.442281                 11.588338       0.377393   \n",
       "min                    0.000000                  0.000000       0.000000   \n",
       "25%                    0.000000                  0.000000       0.000000   \n",
       "50%                    0.000000                  0.000000       0.000000   \n",
       "75%                    0.000000                  0.000000       0.000000   \n",
       "max                  252.000000                210.000000       1.000000   \n",
       "\n",
       "              dc_ori         dc_des  \n",
       "count  549989.000000  549989.000000  \n",
       "mean       12.062714      21.679845  \n",
       "std        14.201200      16.973899  \n",
       "min         1.000000       1.000000  \n",
       "25%         4.000000       5.000000  \n",
       "50%         7.000000      20.000000  \n",
       "75%        10.000000      34.000000  \n",
       "max        67.000000      67.000000  "
      ]
     },
     "execution_count": 17,
     "metadata": {},
     "output_type": "execute_result"
    }
   ],
   "source": [
    "order_data.describe()"
   ]
  },
  {
   "cell_type": "code",
   "execution_count": 18,
   "id": "757570ee",
   "metadata": {},
   "outputs": [
    {
     "data": {
      "text/html": [
       "<div>\n",
       "<style scoped>\n",
       "    .dataframe tbody tr th:only-of-type {\n",
       "        vertical-align: middle;\n",
       "    }\n",
       "\n",
       "    .dataframe tbody tr th {\n",
       "        vertical-align: top;\n",
       "    }\n",
       "\n",
       "    .dataframe thead th {\n",
       "        text-align: right;\n",
       "    }\n",
       "</style>\n",
       "<table border=\"1\" class=\"dataframe\">\n",
       "  <thead>\n",
       "    <tr style=\"text-align: right;\">\n",
       "      <th></th>\n",
       "      <th>user_level</th>\n",
       "      <th>plus</th>\n",
       "      <th>education</th>\n",
       "      <th>city_level</th>\n",
       "      <th>purchase_power</th>\n",
       "    </tr>\n",
       "  </thead>\n",
       "  <tbody>\n",
       "    <tr>\n",
       "      <th>count</th>\n",
       "      <td>457298.000000</td>\n",
       "      <td>457298.000000</td>\n",
       "      <td>457298.000000</td>\n",
       "      <td>457298.000000</td>\n",
       "      <td>457298.000000</td>\n",
       "    </tr>\n",
       "    <tr>\n",
       "      <th>mean</th>\n",
       "      <td>2.305547</td>\n",
       "      <td>0.177031</td>\n",
       "      <td>1.938830</td>\n",
       "      <td>1.688945</td>\n",
       "      <td>1.585170</td>\n",
       "    </tr>\n",
       "    <tr>\n",
       "      <th>std</th>\n",
       "      <td>1.157647</td>\n",
       "      <td>0.381695</td>\n",
       "      <td>1.752484</td>\n",
       "      <td>1.608057</td>\n",
       "      <td>1.461573</td>\n",
       "    </tr>\n",
       "    <tr>\n",
       "      <th>min</th>\n",
       "      <td>-1.000000</td>\n",
       "      <td>0.000000</td>\n",
       "      <td>-1.000000</td>\n",
       "      <td>-1.000000</td>\n",
       "      <td>-1.000000</td>\n",
       "    </tr>\n",
       "    <tr>\n",
       "      <th>25%</th>\n",
       "      <td>1.000000</td>\n",
       "      <td>0.000000</td>\n",
       "      <td>1.000000</td>\n",
       "      <td>1.000000</td>\n",
       "      <td>2.000000</td>\n",
       "    </tr>\n",
       "    <tr>\n",
       "      <th>50%</th>\n",
       "      <td>2.000000</td>\n",
       "      <td>0.000000</td>\n",
       "      <td>3.000000</td>\n",
       "      <td>2.000000</td>\n",
       "      <td>2.000000</td>\n",
       "    </tr>\n",
       "    <tr>\n",
       "      <th>75%</th>\n",
       "      <td>3.000000</td>\n",
       "      <td>0.000000</td>\n",
       "      <td>3.000000</td>\n",
       "      <td>3.000000</td>\n",
       "      <td>2.000000</td>\n",
       "    </tr>\n",
       "    <tr>\n",
       "      <th>max</th>\n",
       "      <td>10.000000</td>\n",
       "      <td>1.000000</td>\n",
       "      <td>4.000000</td>\n",
       "      <td>5.000000</td>\n",
       "      <td>5.000000</td>\n",
       "    </tr>\n",
       "  </tbody>\n",
       "</table>\n",
       "</div>"
      ],
      "text/plain": [
       "          user_level           plus      education     city_level  \\\n",
       "count  457298.000000  457298.000000  457298.000000  457298.000000   \n",
       "mean        2.305547       0.177031       1.938830       1.688945   \n",
       "std         1.157647       0.381695       1.752484       1.608057   \n",
       "min        -1.000000       0.000000      -1.000000      -1.000000   \n",
       "25%         1.000000       0.000000       1.000000       1.000000   \n",
       "50%         2.000000       0.000000       3.000000       2.000000   \n",
       "75%         3.000000       0.000000       3.000000       3.000000   \n",
       "max        10.000000       1.000000       4.000000       5.000000   \n",
       "\n",
       "       purchase_power  \n",
       "count   457298.000000  \n",
       "mean         1.585170  \n",
       "std          1.461573  \n",
       "min         -1.000000  \n",
       "25%          2.000000  \n",
       "50%          2.000000  \n",
       "75%          2.000000  \n",
       "max          5.000000  "
      ]
     },
     "execution_count": 18,
     "metadata": {},
     "output_type": "execute_result"
    }
   ],
   "source": [
    "user_data.describe()"
   ]
  },
  {
   "cell_type": "code",
   "execution_count": 19,
   "id": "3874d8d8",
   "metadata": {},
   "outputs": [
    {
     "data": {
      "text/html": [
       "<div>\n",
       "<style scoped>\n",
       "    .dataframe tbody tr th:only-of-type {\n",
       "        vertical-align: middle;\n",
       "    }\n",
       "\n",
       "    .dataframe tbody tr th {\n",
       "        vertical-align: top;\n",
       "    }\n",
       "\n",
       "    .dataframe thead th {\n",
       "        text-align: right;\n",
       "    }\n",
       "</style>\n",
       "<table border=\"1\" class=\"dataframe\">\n",
       "  <thead>\n",
       "    <tr style=\"text-align: right;\">\n",
       "      <th></th>\n",
       "      <th>type</th>\n",
       "    </tr>\n",
       "  </thead>\n",
       "  <tbody>\n",
       "    <tr>\n",
       "      <th>count</th>\n",
       "      <td>293229.000000</td>\n",
       "    </tr>\n",
       "    <tr>\n",
       "      <th>mean</th>\n",
       "      <td>0.833250</td>\n",
       "    </tr>\n",
       "    <tr>\n",
       "      <th>std</th>\n",
       "      <td>0.372753</td>\n",
       "    </tr>\n",
       "    <tr>\n",
       "      <th>min</th>\n",
       "      <td>0.000000</td>\n",
       "    </tr>\n",
       "    <tr>\n",
       "      <th>25%</th>\n",
       "      <td>1.000000</td>\n",
       "    </tr>\n",
       "    <tr>\n",
       "      <th>50%</th>\n",
       "      <td>1.000000</td>\n",
       "    </tr>\n",
       "    <tr>\n",
       "      <th>75%</th>\n",
       "      <td>1.000000</td>\n",
       "    </tr>\n",
       "    <tr>\n",
       "      <th>max</th>\n",
       "      <td>1.000000</td>\n",
       "    </tr>\n",
       "  </tbody>\n",
       "</table>\n",
       "</div>"
      ],
      "text/plain": [
       "                type\n",
       "count  293229.000000\n",
       "mean        0.833250\n",
       "std         0.372753\n",
       "min         0.000000\n",
       "25%         1.000000\n",
       "50%         1.000000\n",
       "75%         1.000000\n",
       "max         1.000000"
      ]
     },
     "execution_count": 19,
     "metadata": {},
     "output_type": "execute_result"
    }
   ],
   "source": [
    "delivery_data.describe()"
   ]
  },
  {
   "cell_type": "code",
   "execution_count": 20,
   "id": "ac0562cc",
   "metadata": {},
   "outputs": [
    {
     "data": {
      "text/html": [
       "<div>\n",
       "<style scoped>\n",
       "    .dataframe tbody tr th:only-of-type {\n",
       "        vertical-align: middle;\n",
       "    }\n",
       "\n",
       "    .dataframe tbody tr th {\n",
       "        vertical-align: top;\n",
       "    }\n",
       "\n",
       "    .dataframe thead th {\n",
       "        text-align: right;\n",
       "    }\n",
       "</style>\n",
       "<table border=\"1\" class=\"dataframe\">\n",
       "  <thead>\n",
       "    <tr style=\"text-align: right;\">\n",
       "      <th></th>\n",
       "      <th>type</th>\n",
       "    </tr>\n",
       "  </thead>\n",
       "  <tbody>\n",
       "    <tr>\n",
       "      <th>count</th>\n",
       "      <td>152.0</td>\n",
       "    </tr>\n",
       "    <tr>\n",
       "      <th>mean</th>\n",
       "      <td>2.0</td>\n",
       "    </tr>\n",
       "    <tr>\n",
       "      <th>std</th>\n",
       "      <td>0.0</td>\n",
       "    </tr>\n",
       "    <tr>\n",
       "      <th>min</th>\n",
       "      <td>2.0</td>\n",
       "    </tr>\n",
       "    <tr>\n",
       "      <th>25%</th>\n",
       "      <td>2.0</td>\n",
       "    </tr>\n",
       "    <tr>\n",
       "      <th>50%</th>\n",
       "      <td>2.0</td>\n",
       "    </tr>\n",
       "    <tr>\n",
       "      <th>75%</th>\n",
       "      <td>2.0</td>\n",
       "    </tr>\n",
       "    <tr>\n",
       "      <th>max</th>\n",
       "      <td>2.0</td>\n",
       "    </tr>\n",
       "  </tbody>\n",
       "</table>\n",
       "</div>"
      ],
      "text/plain": [
       "        type\n",
       "count  152.0\n",
       "mean     2.0\n",
       "std      0.0\n",
       "min      2.0\n",
       "25%      2.0\n",
       "50%      2.0\n",
       "75%      2.0\n",
       "max      2.0"
      ]
     },
     "execution_count": 20,
     "metadata": {},
     "output_type": "execute_result"
    }
   ],
   "source": [
    "sku_data.describe()"
   ]
  },
  {
   "cell_type": "code",
   "execution_count": 21,
   "id": "8aff11f2",
   "metadata": {},
   "outputs": [
    {
     "data": {
      "text/html": [
       "<div>\n",
       "<style scoped>\n",
       "    .dataframe tbody tr th:only-of-type {\n",
       "        vertical-align: middle;\n",
       "    }\n",
       "\n",
       "    .dataframe tbody tr th {\n",
       "        vertical-align: top;\n",
       "    }\n",
       "\n",
       "    .dataframe thead th {\n",
       "        text-align: right;\n",
       "    }\n",
       "</style>\n",
       "<table border=\"1\" class=\"dataframe\">\n",
       "  <thead>\n",
       "    <tr style=\"text-align: right;\">\n",
       "      <th></th>\n",
       "      <th>region_ID</th>\n",
       "      <th>dc_ID</th>\n",
       "    </tr>\n",
       "  </thead>\n",
       "  <tbody>\n",
       "    <tr>\n",
       "      <th>count</th>\n",
       "      <td>56.000000</td>\n",
       "      <td>56.000000</td>\n",
       "    </tr>\n",
       "    <tr>\n",
       "      <th>mean</th>\n",
       "      <td>7.196429</td>\n",
       "      <td>34.000000</td>\n",
       "    </tr>\n",
       "    <tr>\n",
       "      <th>std</th>\n",
       "      <td>5.934245</td>\n",
       "      <td>20.000909</td>\n",
       "    </tr>\n",
       "    <tr>\n",
       "      <th>min</th>\n",
       "      <td>2.000000</td>\n",
       "      <td>1.000000</td>\n",
       "    </tr>\n",
       "    <tr>\n",
       "      <th>25%</th>\n",
       "      <td>3.000000</td>\n",
       "      <td>14.750000</td>\n",
       "    </tr>\n",
       "    <tr>\n",
       "      <th>50%</th>\n",
       "      <td>5.000000</td>\n",
       "      <td>35.500000</td>\n",
       "    </tr>\n",
       "    <tr>\n",
       "      <th>75%</th>\n",
       "      <td>9.000000</td>\n",
       "      <td>51.250000</td>\n",
       "    </tr>\n",
       "    <tr>\n",
       "      <th>max</th>\n",
       "      <td>24.000000</td>\n",
       "      <td>67.000000</td>\n",
       "    </tr>\n",
       "  </tbody>\n",
       "</table>\n",
       "</div>"
      ],
      "text/plain": [
       "       region_ID      dc_ID\n",
       "count  56.000000  56.000000\n",
       "mean    7.196429  34.000000\n",
       "std     5.934245  20.000909\n",
       "min     2.000000   1.000000\n",
       "25%     3.000000  14.750000\n",
       "50%     5.000000  35.500000\n",
       "75%     9.000000  51.250000\n",
       "max    24.000000  67.000000"
      ]
     },
     "execution_count": 21,
     "metadata": {},
     "output_type": "execute_result"
    }
   ],
   "source": [
    "network_data.describe()"
   ]
  },
  {
   "cell_type": "code",
   "execution_count": 22,
   "id": "9b3f08b3",
   "metadata": {},
   "outputs": [
    {
     "data": {
      "text/html": [
       "<div>\n",
       "<style scoped>\n",
       "    .dataframe tbody tr th:only-of-type {\n",
       "        vertical-align: middle;\n",
       "    }\n",
       "\n",
       "    .dataframe tbody tr th {\n",
       "        vertical-align: top;\n",
       "    }\n",
       "\n",
       "    .dataframe thead th {\n",
       "        text-align: right;\n",
       "    }\n",
       "</style>\n",
       "<table border=\"1\" class=\"dataframe\">\n",
       "  <thead>\n",
       "    <tr style=\"text-align: right;\">\n",
       "      <th></th>\n",
       "      <th>sku_ID</th>\n",
       "      <th>user_ID</th>\n",
       "      <th>request_time</th>\n",
       "      <th>channel</th>\n",
       "    </tr>\n",
       "  </thead>\n",
       "  <tbody>\n",
       "    <tr>\n",
       "      <th>count</th>\n",
       "      <td>20214515</td>\n",
       "      <td>20214515</td>\n",
       "      <td>20214515</td>\n",
       "      <td>20214515</td>\n",
       "    </tr>\n",
       "    <tr>\n",
       "      <th>unique</th>\n",
       "      <td>31867</td>\n",
       "      <td>2557837</td>\n",
       "      <td>2403971</td>\n",
       "      <td>5</td>\n",
       "    </tr>\n",
       "    <tr>\n",
       "      <th>top</th>\n",
       "      <td>068f4481b3</td>\n",
       "      <td>-</td>\n",
       "      <td>2018-03-19 10:02:45</td>\n",
       "      <td>app</td>\n",
       "    </tr>\n",
       "    <tr>\n",
       "      <th>freq</th>\n",
       "      <td>860799</td>\n",
       "      <td>2308420</td>\n",
       "      <td>100</td>\n",
       "      <td>15107411</td>\n",
       "    </tr>\n",
       "  </tbody>\n",
       "</table>\n",
       "</div>"
      ],
      "text/plain": [
       "            sku_ID   user_ID         request_time   channel\n",
       "count     20214515  20214515             20214515  20214515\n",
       "unique       31867   2557837              2403971         5\n",
       "top     068f4481b3         -  2018-03-19 10:02:45       app\n",
       "freq        860799   2308420                  100  15107411"
      ]
     },
     "execution_count": 22,
     "metadata": {},
     "output_type": "execute_result"
    }
   ],
   "source": [
    "click_data.describe()"
   ]
  },
  {
   "cell_type": "code",
   "execution_count": 23,
   "id": "0fd5db67",
   "metadata": {},
   "outputs": [
    {
     "data": {
      "text/html": [
       "<div>\n",
       "<style scoped>\n",
       "    .dataframe tbody tr th:only-of-type {\n",
       "        vertical-align: middle;\n",
       "    }\n",
       "\n",
       "    .dataframe tbody tr th {\n",
       "        vertical-align: top;\n",
       "    }\n",
       "\n",
       "    .dataframe thead th {\n",
       "        text-align: right;\n",
       "    }\n",
       "</style>\n",
       "<table border=\"1\" class=\"dataframe\">\n",
       "  <thead>\n",
       "    <tr style=\"text-align: right;\">\n",
       "      <th></th>\n",
       "      <th>dc_ID</th>\n",
       "    </tr>\n",
       "  </thead>\n",
       "  <tbody>\n",
       "    <tr>\n",
       "      <th>count</th>\n",
       "      <td>136079.000000</td>\n",
       "    </tr>\n",
       "    <tr>\n",
       "      <th>mean</th>\n",
       "      <td>25.737564</td>\n",
       "    </tr>\n",
       "    <tr>\n",
       "      <th>std</th>\n",
       "      <td>19.320124</td>\n",
       "    </tr>\n",
       "    <tr>\n",
       "      <th>min</th>\n",
       "      <td>1.000000</td>\n",
       "    </tr>\n",
       "    <tr>\n",
       "      <th>25%</th>\n",
       "      <td>7.000000</td>\n",
       "    </tr>\n",
       "    <tr>\n",
       "      <th>50%</th>\n",
       "      <td>24.000000</td>\n",
       "    </tr>\n",
       "    <tr>\n",
       "      <th>75%</th>\n",
       "      <td>42.000000</td>\n",
       "    </tr>\n",
       "    <tr>\n",
       "      <th>max</th>\n",
       "      <td>67.000000</td>\n",
       "    </tr>\n",
       "  </tbody>\n",
       "</table>\n",
       "</div>"
      ],
      "text/plain": [
       "               dc_ID\n",
       "count  136079.000000\n",
       "mean       25.737564\n",
       "std        19.320124\n",
       "min         1.000000\n",
       "25%         7.000000\n",
       "50%        24.000000\n",
       "75%        42.000000\n",
       "max        67.000000"
      ]
     },
     "execution_count": 23,
     "metadata": {},
     "output_type": "execute_result"
    }
   ],
   "source": [
    "inventory_data.describe()"
   ]
  },
  {
   "cell_type": "markdown",
   "id": "d8417be7",
   "metadata": {},
   "source": [
    "5. Check the promise variable in orders table. What unusual values do you notice? What do you think it means?"
   ]
  },
  {
   "cell_type": "code",
   "execution_count": 24,
   "id": "db6c21e7",
   "metadata": {},
   "outputs": [
    {
     "data": {
      "text/plain": [
       "array(['-', '2', '1', '3', '4', '5', '6', '7', '8'], dtype=object)"
      ]
     },
     "execution_count": 24,
     "metadata": {},
     "output_type": "execute_result"
    }
   ],
   "source": [
    "order_data['promise'].unique()\n",
    "\n",
    "#The unusual value '-' in the 'promise' variable likely signifies missing or unspecified commitment information for some orders in the dataset."
   ]
  },
  {
   "cell_type": "markdown",
   "id": "7f44a1aa",
   "metadata": {},
   "source": [
    "6. How many observations for each value in 'promise' variable? What information can you draw from this?"
   ]
  },
  {
   "cell_type": "code",
   "execution_count": 25,
   "id": "ed4221a7",
   "metadata": {
    "scrolled": true
   },
   "outputs": [
    {
     "name": "stdout",
     "output_type": "stream",
     "text": [
      "-    208583\n",
      "1    157509\n",
      "2    109990\n",
      "3     33176\n",
      "4     23882\n",
      "5     10054\n",
      "6      3039\n",
      "8      2374\n",
      "7      1382\n",
      "Name: promise, dtype: int64\n"
     ]
    }
   ],
   "source": [
    "Observations = order_data['promise'].value_counts()\n",
    "print(Observations)\n",
    "\n",
    "#The 'promise' variable's observations are counted, revealing that the most frequent value is '-', followed by '1' and '2'. \n",
    "#The counts represent the occurrence of each value within the 'promise' variable."
   ]
  },
  {
   "cell_type": "markdown",
   "id": "056bb6b2",
   "metadata": {},
   "source": [
    "7. Select only two variables: 'type' and 'promise' from order table. Sort it by variable 'type' in descending order. What do you observe from the results? (check the first 10 and last 10 observations.) Think about the meaning of the type variable."
   ]
  },
  {
   "cell_type": "code",
   "execution_count": 26,
   "id": "e7c4bf62",
   "metadata": {},
   "outputs": [
    {
     "name": "stdout",
     "output_type": "stream",
     "text": [
      "First 10 observations:\n",
      "        type promise\n",
      "0          2       -\n",
      "308329     2       -\n",
      "308358     2       -\n",
      "308357     2       -\n",
      "308356     2       -\n",
      "308355     2       -\n",
      "308354     2       -\n",
      "308353     2       -\n",
      "308352     2       -\n",
      "308351     2       -\n",
      "\n",
      "Last 10 observations:\n",
      "        type promise\n",
      "334636     1       1\n",
      "334633     1       1\n",
      "334626     1       1\n",
      "334632     1       1\n",
      "334631     1       1\n",
      "116820     1       2\n",
      "116821     1       2\n",
      "116822     1       1\n",
      "334627     1       1\n",
      "274994     1       2\n"
     ]
    }
   ],
   "source": [
    "selected_sorted = order_data[['type', 'promise']].sort_values(by='type', ascending=False)\n",
    "\n",
    "first_10_observations = selected_sorted.head(10)\n",
    "print(\"First 10 observations:\")\n",
    "print(first_10_observations)\n",
    "\n",
    "last_10_observations = selected_sorted.tail(10)\n",
    "print(\"\\nLast 10 observations:\")\n",
    "print(last_10_observations)\n",
    "\n",
    "\n",
    "#The 'type' variable in the dataset appears to categorize orders into different types or subtypes, with the most common values being '2' and '1' for the first and last 10 observations, respectively. \n",
    "#The 'promise' variable seems to indicate a commitment or status associated with the orders, with values '-' and '1' or '2'. \n"
   ]
  },
  {
   "cell_type": "markdown",
   "id": "0df0b8a6",
   "metadata": {},
   "source": [
    "8. Merge order and delivery tables, using inner merge. What does inner merge mean? How many observations are there in the merged dataset? Compared with the number of observations in the original order and delivery table, what can you say about the match between orders and deliveries?"
   ]
  },
  {
   "cell_type": "code",
   "execution_count": 27,
   "id": "f3678054",
   "metadata": {},
   "outputs": [
    {
     "name": "stdout",
     "output_type": "stream",
     "text": [
      "Number of observations in the merged dataset:  (326862, 22)\n",
      "Number of observations in the Original Order dataset:  (549989, 17)\n",
      "Number of observations in the Original Delivery dataset:  (293229, 6)\n"
     ]
    },
    {
     "data": {
      "text/html": [
       "<div>\n",
       "<style scoped>\n",
       "    .dataframe tbody tr th:only-of-type {\n",
       "        vertical-align: middle;\n",
       "    }\n",
       "\n",
       "    .dataframe tbody tr th {\n",
       "        vertical-align: top;\n",
       "    }\n",
       "\n",
       "    .dataframe thead th {\n",
       "        text-align: right;\n",
       "    }\n",
       "</style>\n",
       "<table border=\"1\" class=\"dataframe\">\n",
       "  <thead>\n",
       "    <tr style=\"text-align: right;\">\n",
       "      <th></th>\n",
       "      <th>order_ID</th>\n",
       "      <th>user_ID</th>\n",
       "      <th>sku_ID</th>\n",
       "      <th>order_date</th>\n",
       "      <th>order_time</th>\n",
       "      <th>quantity</th>\n",
       "      <th>type_x</th>\n",
       "      <th>promise</th>\n",
       "      <th>original_unit_price</th>\n",
       "      <th>final_unit_price</th>\n",
       "      <th>...</th>\n",
       "      <th>bundle_discount_per_unit</th>\n",
       "      <th>coupon_discount_per_unit</th>\n",
       "      <th>gift_item</th>\n",
       "      <th>dc_ori</th>\n",
       "      <th>dc_des</th>\n",
       "      <th>package_ID</th>\n",
       "      <th>type_y</th>\n",
       "      <th>ship_out_time</th>\n",
       "      <th>arr_station_time</th>\n",
       "      <th>arr_time</th>\n",
       "    </tr>\n",
       "  </thead>\n",
       "  <tbody>\n",
       "    <tr>\n",
       "      <th>0</th>\n",
       "      <td>7444318d01</td>\n",
       "      <td>33a9e56257</td>\n",
       "      <td>067b673f2b</td>\n",
       "      <td>2018-03-01</td>\n",
       "      <td>2018-03-01 11:10:40.0</td>\n",
       "      <td>1</td>\n",
       "      <td>1</td>\n",
       "      <td>2</td>\n",
       "      <td>99.9</td>\n",
       "      <td>53.9</td>\n",
       "      <td>...</td>\n",
       "      <td>0.0</td>\n",
       "      <td>0.0</td>\n",
       "      <td>0</td>\n",
       "      <td>28</td>\n",
       "      <td>28</td>\n",
       "      <td>7444318d01</td>\n",
       "      <td>1</td>\n",
       "      <td>2018-03-01 13:00:00</td>\n",
       "      <td>2018-03-02 08:00:00</td>\n",
       "      <td>2018-03-02 14:00:00</td>\n",
       "    </tr>\n",
       "    <tr>\n",
       "      <th>1</th>\n",
       "      <td>f973b01694</td>\n",
       "      <td>4ea3cf408f</td>\n",
       "      <td>623d0a582a</td>\n",
       "      <td>2018-03-01</td>\n",
       "      <td>2018-03-01 09:13:26.0</td>\n",
       "      <td>1</td>\n",
       "      <td>1</td>\n",
       "      <td>2</td>\n",
       "      <td>78.0</td>\n",
       "      <td>58.5</td>\n",
       "      <td>...</td>\n",
       "      <td>0.0</td>\n",
       "      <td>0.0</td>\n",
       "      <td>0</td>\n",
       "      <td>28</td>\n",
       "      <td>28</td>\n",
       "      <td>f973b01694</td>\n",
       "      <td>1</td>\n",
       "      <td>2018-03-01 14:00:00</td>\n",
       "      <td>2018-03-02 09:00:00</td>\n",
       "      <td>2018-03-02 13:00:00</td>\n",
       "    </tr>\n",
       "    <tr>\n",
       "      <th>2</th>\n",
       "      <td>8c1cec8d4b</td>\n",
       "      <td>b87cb736cb</td>\n",
       "      <td>fc5289b139</td>\n",
       "      <td>2018-03-01</td>\n",
       "      <td>2018-03-01 21:29:50.0</td>\n",
       "      <td>1</td>\n",
       "      <td>1</td>\n",
       "      <td>2</td>\n",
       "      <td>61.0</td>\n",
       "      <td>35.0</td>\n",
       "      <td>...</td>\n",
       "      <td>0.0</td>\n",
       "      <td>0.0</td>\n",
       "      <td>0</td>\n",
       "      <td>4</td>\n",
       "      <td>28</td>\n",
       "      <td>8c1cec8d4b</td>\n",
       "      <td>1</td>\n",
       "      <td>2018-03-02 09:00:00</td>\n",
       "      <td>2018-03-03 08:00:00</td>\n",
       "      <td>2018-03-04 11:00:00</td>\n",
       "    </tr>\n",
       "    <tr>\n",
       "      <th>3</th>\n",
       "      <td>d43a33c38a</td>\n",
       "      <td>4829223b6f</td>\n",
       "      <td>623d0a582a</td>\n",
       "      <td>2018-03-01</td>\n",
       "      <td>2018-03-01 19:13:37.0</td>\n",
       "      <td>1</td>\n",
       "      <td>1</td>\n",
       "      <td>1</td>\n",
       "      <td>78.0</td>\n",
       "      <td>53.0</td>\n",
       "      <td>...</td>\n",
       "      <td>0.0</td>\n",
       "      <td>6.0</td>\n",
       "      <td>0</td>\n",
       "      <td>3</td>\n",
       "      <td>16</td>\n",
       "      <td>d43a33c38a</td>\n",
       "      <td>1</td>\n",
       "      <td>2018-03-01 20:00:00</td>\n",
       "      <td>2018-03-02 07:00:00</td>\n",
       "      <td>2018-03-02 11:00:00</td>\n",
       "    </tr>\n",
       "    <tr>\n",
       "      <th>4</th>\n",
       "      <td>e0f5386d87</td>\n",
       "      <td>0b07cae293</td>\n",
       "      <td>589c2b865b</td>\n",
       "      <td>2018-03-01</td>\n",
       "      <td>2018-03-01 21:09:15.0</td>\n",
       "      <td>1</td>\n",
       "      <td>1</td>\n",
       "      <td>1</td>\n",
       "      <td>79.9</td>\n",
       "      <td>38.9</td>\n",
       "      <td>...</td>\n",
       "      <td>0.0</td>\n",
       "      <td>0.0</td>\n",
       "      <td>0</td>\n",
       "      <td>3</td>\n",
       "      <td>16</td>\n",
       "      <td>e0f5386d87</td>\n",
       "      <td>1</td>\n",
       "      <td>2018-03-01 22:00:00</td>\n",
       "      <td>2018-03-02 09:00:00</td>\n",
       "      <td>2018-03-02 12:00:00</td>\n",
       "    </tr>\n",
       "    <tr>\n",
       "      <th>...</th>\n",
       "      <td>...</td>\n",
       "      <td>...</td>\n",
       "      <td>...</td>\n",
       "      <td>...</td>\n",
       "      <td>...</td>\n",
       "      <td>...</td>\n",
       "      <td>...</td>\n",
       "      <td>...</td>\n",
       "      <td>...</td>\n",
       "      <td>...</td>\n",
       "      <td>...</td>\n",
       "      <td>...</td>\n",
       "      <td>...</td>\n",
       "      <td>...</td>\n",
       "      <td>...</td>\n",
       "      <td>...</td>\n",
       "      <td>...</td>\n",
       "      <td>...</td>\n",
       "      <td>...</td>\n",
       "      <td>...</td>\n",
       "      <td>...</td>\n",
       "    </tr>\n",
       "    <tr>\n",
       "      <th>326857</th>\n",
       "      <td>5fd298d448</td>\n",
       "      <td>165ee3e319</td>\n",
       "      <td>f7280c119d</td>\n",
       "      <td>2018-03-31</td>\n",
       "      <td>2018-03-31 12:42:35.0</td>\n",
       "      <td>1</td>\n",
       "      <td>2</td>\n",
       "      <td>3</td>\n",
       "      <td>269.0</td>\n",
       "      <td>189.0</td>\n",
       "      <td>...</td>\n",
       "      <td>0.0</td>\n",
       "      <td>0.0</td>\n",
       "      <td>0</td>\n",
       "      <td>2</td>\n",
       "      <td>2</td>\n",
       "      <td>1b81523e8d</td>\n",
       "      <td>0</td>\n",
       "      <td>2018-03-31 13:00:00</td>\n",
       "      <td>2018-04-02 07:00:00</td>\n",
       "      <td>2018-04-02 13:00:00</td>\n",
       "    </tr>\n",
       "    <tr>\n",
       "      <th>326858</th>\n",
       "      <td>9fa0694b3b</td>\n",
       "      <td>39933e9bc6</td>\n",
       "      <td>767ac490ed</td>\n",
       "      <td>2018-03-31</td>\n",
       "      <td>2018-03-31 19:51:43.0</td>\n",
       "      <td>1</td>\n",
       "      <td>1</td>\n",
       "      <td>2</td>\n",
       "      <td>0.0</td>\n",
       "      <td>-1.0</td>\n",
       "      <td>...</td>\n",
       "      <td>0.0</td>\n",
       "      <td>0.0</td>\n",
       "      <td>1</td>\n",
       "      <td>2</td>\n",
       "      <td>2</td>\n",
       "      <td>9fa0694b3b</td>\n",
       "      <td>1</td>\n",
       "      <td>2018-03-31 21:00:00</td>\n",
       "      <td>2018-04-01 07:00:00</td>\n",
       "      <td>2018-04-01 10:00:00</td>\n",
       "    </tr>\n",
       "    <tr>\n",
       "      <th>326859</th>\n",
       "      <td>c9d77a7ed0</td>\n",
       "      <td>18f92434cd</td>\n",
       "      <td>7f53769d3f</td>\n",
       "      <td>2018-03-31</td>\n",
       "      <td>2018-03-31 08:55:57.0</td>\n",
       "      <td>1</td>\n",
       "      <td>1</td>\n",
       "      <td>3</td>\n",
       "      <td>118.0</td>\n",
       "      <td>55.0</td>\n",
       "      <td>...</td>\n",
       "      <td>0.0</td>\n",
       "      <td>0.0</td>\n",
       "      <td>0</td>\n",
       "      <td>59</td>\n",
       "      <td>2</td>\n",
       "      <td>c9d77a7ed0</td>\n",
       "      <td>1</td>\n",
       "      <td>2018-03-31 11:00:00</td>\n",
       "      <td>2018-04-02 07:00:00</td>\n",
       "      <td>2018-04-02 15:00:00</td>\n",
       "    </tr>\n",
       "    <tr>\n",
       "      <th>326860</th>\n",
       "      <td>b9ad79338f</td>\n",
       "      <td>b5caf8a580</td>\n",
       "      <td>8dc4a01dec</td>\n",
       "      <td>2018-03-31</td>\n",
       "      <td>2018-03-31 13:31:01.0</td>\n",
       "      <td>1</td>\n",
       "      <td>1</td>\n",
       "      <td>2</td>\n",
       "      <td>78.0</td>\n",
       "      <td>78.0</td>\n",
       "      <td>...</td>\n",
       "      <td>0.0</td>\n",
       "      <td>0.0</td>\n",
       "      <td>0</td>\n",
       "      <td>2</td>\n",
       "      <td>2</td>\n",
       "      <td>b9ad79338f</td>\n",
       "      <td>1</td>\n",
       "      <td>2018-03-31 14:00:00</td>\n",
       "      <td>2018-04-01 07:00:00</td>\n",
       "      <td>2018-04-01 11:00:00</td>\n",
       "    </tr>\n",
       "    <tr>\n",
       "      <th>326861</th>\n",
       "      <td>02d31f05c9</td>\n",
       "      <td>f260895cbe</td>\n",
       "      <td>10d369ef96</td>\n",
       "      <td>2018-03-31</td>\n",
       "      <td>2018-03-31 18:21:16.0</td>\n",
       "      <td>1</td>\n",
       "      <td>2</td>\n",
       "      <td>4</td>\n",
       "      <td>68.0</td>\n",
       "      <td>49.0</td>\n",
       "      <td>...</td>\n",
       "      <td>0.0</td>\n",
       "      <td>0.0</td>\n",
       "      <td>0</td>\n",
       "      <td>4</td>\n",
       "      <td>28</td>\n",
       "      <td>1722a36a69</td>\n",
       "      <td>0</td>\n",
       "      <td>2018-04-01 14:00:00</td>\n",
       "      <td>2018-04-05 08:00:00</td>\n",
       "      <td>2018-04-05 13:00:00</td>\n",
       "    </tr>\n",
       "  </tbody>\n",
       "</table>\n",
       "<p>326862 rows × 22 columns</p>\n",
       "</div>"
      ],
      "text/plain": [
       "          order_ID     user_ID      sku_ID  order_date             order_time  \\\n",
       "0       7444318d01  33a9e56257  067b673f2b  2018-03-01  2018-03-01 11:10:40.0   \n",
       "1       f973b01694  4ea3cf408f  623d0a582a  2018-03-01  2018-03-01 09:13:26.0   \n",
       "2       8c1cec8d4b  b87cb736cb  fc5289b139  2018-03-01  2018-03-01 21:29:50.0   \n",
       "3       d43a33c38a  4829223b6f  623d0a582a  2018-03-01  2018-03-01 19:13:37.0   \n",
       "4       e0f5386d87  0b07cae293  589c2b865b  2018-03-01  2018-03-01 21:09:15.0   \n",
       "...            ...         ...         ...         ...                    ...   \n",
       "326857  5fd298d448  165ee3e319  f7280c119d  2018-03-31  2018-03-31 12:42:35.0   \n",
       "326858  9fa0694b3b  39933e9bc6  767ac490ed  2018-03-31  2018-03-31 19:51:43.0   \n",
       "326859  c9d77a7ed0  18f92434cd  7f53769d3f  2018-03-31  2018-03-31 08:55:57.0   \n",
       "326860  b9ad79338f  b5caf8a580  8dc4a01dec  2018-03-31  2018-03-31 13:31:01.0   \n",
       "326861  02d31f05c9  f260895cbe  10d369ef96  2018-03-31  2018-03-31 18:21:16.0   \n",
       "\n",
       "        quantity  type_x promise  original_unit_price  final_unit_price  ...  \\\n",
       "0              1       1       2                 99.9              53.9  ...   \n",
       "1              1       1       2                 78.0              58.5  ...   \n",
       "2              1       1       2                 61.0              35.0  ...   \n",
       "3              1       1       1                 78.0              53.0  ...   \n",
       "4              1       1       1                 79.9              38.9  ...   \n",
       "...          ...     ...     ...                  ...               ...  ...   \n",
       "326857         1       2       3                269.0             189.0  ...   \n",
       "326858         1       1       2                  0.0              -1.0  ...   \n",
       "326859         1       1       3                118.0              55.0  ...   \n",
       "326860         1       1       2                 78.0              78.0  ...   \n",
       "326861         1       2       4                 68.0              49.0  ...   \n",
       "\n",
       "        bundle_discount_per_unit  coupon_discount_per_unit  gift_item  dc_ori  \\\n",
       "0                            0.0                       0.0          0      28   \n",
       "1                            0.0                       0.0          0      28   \n",
       "2                            0.0                       0.0          0       4   \n",
       "3                            0.0                       6.0          0       3   \n",
       "4                            0.0                       0.0          0       3   \n",
       "...                          ...                       ...        ...     ...   \n",
       "326857                       0.0                       0.0          0       2   \n",
       "326858                       0.0                       0.0          1       2   \n",
       "326859                       0.0                       0.0          0      59   \n",
       "326860                       0.0                       0.0          0       2   \n",
       "326861                       0.0                       0.0          0       4   \n",
       "\n",
       "        dc_des  package_ID  type_y        ship_out_time     arr_station_time  \\\n",
       "0           28  7444318d01       1  2018-03-01 13:00:00  2018-03-02 08:00:00   \n",
       "1           28  f973b01694       1  2018-03-01 14:00:00  2018-03-02 09:00:00   \n",
       "2           28  8c1cec8d4b       1  2018-03-02 09:00:00  2018-03-03 08:00:00   \n",
       "3           16  d43a33c38a       1  2018-03-01 20:00:00  2018-03-02 07:00:00   \n",
       "4           16  e0f5386d87       1  2018-03-01 22:00:00  2018-03-02 09:00:00   \n",
       "...        ...         ...     ...                  ...                  ...   \n",
       "326857       2  1b81523e8d       0  2018-03-31 13:00:00  2018-04-02 07:00:00   \n",
       "326858       2  9fa0694b3b       1  2018-03-31 21:00:00  2018-04-01 07:00:00   \n",
       "326859       2  c9d77a7ed0       1  2018-03-31 11:00:00  2018-04-02 07:00:00   \n",
       "326860       2  b9ad79338f       1  2018-03-31 14:00:00  2018-04-01 07:00:00   \n",
       "326861      28  1722a36a69       0  2018-04-01 14:00:00  2018-04-05 08:00:00   \n",
       "\n",
       "                   arr_time  \n",
       "0       2018-03-02 14:00:00  \n",
       "1       2018-03-02 13:00:00  \n",
       "2       2018-03-04 11:00:00  \n",
       "3       2018-03-02 11:00:00  \n",
       "4       2018-03-02 12:00:00  \n",
       "...                     ...  \n",
       "326857  2018-04-02 13:00:00  \n",
       "326858  2018-04-01 10:00:00  \n",
       "326859  2018-04-02 15:00:00  \n",
       "326860  2018-04-01 11:00:00  \n",
       "326861  2018-04-05 13:00:00  \n",
       "\n",
       "[326862 rows x 22 columns]"
      ]
     },
     "execution_count": 27,
     "metadata": {},
     "output_type": "execute_result"
    }
   ],
   "source": [
    "Order_data_delivery_data_inner_merged = pd.merge(order_data, delivery_data, on = 'order_ID', how = 'inner')\n",
    "\n",
    "print('Number of observations in the merged dataset: ',Order_data_delivery_data_inner_merged.shape )\n",
    "print('Number of observations in the Original Order dataset: ',order_data.shape )\n",
    "print('Number of observations in the Original Delivery dataset: ',delivery_data.shape )\n",
    "\n",
    "Order_data_delivery_data_inner_merged\n",
    "#An inner merge combines data from two datasets, including only the records with matching key values in both datasets, excluding non-matching records. \n",
    "#It focuses on shared data between the datasets."
   ]
  },
  {
   "cell_type": "code",
   "execution_count": 28,
   "id": "9c160afb",
   "metadata": {},
   "outputs": [
    {
     "name": "stdout",
     "output_type": "stream",
     "text": [
      "<class 'pandas.core.frame.DataFrame'>\n",
      "Int64Index: 326862 entries, 0 to 326861\n",
      "Data columns (total 22 columns):\n",
      " #   Column                      Non-Null Count   Dtype  \n",
      "---  ------                      --------------   -----  \n",
      " 0   order_ID                    326862 non-null  object \n",
      " 1   user_ID                     326862 non-null  object \n",
      " 2   sku_ID                      326862 non-null  object \n",
      " 3   order_date                  326862 non-null  object \n",
      " 4   order_time                  326862 non-null  object \n",
      " 5   quantity                    326862 non-null  int64  \n",
      " 6   type_x                      326862 non-null  int64  \n",
      " 7   promise                     326862 non-null  object \n",
      " 8   original_unit_price         326862 non-null  float64\n",
      " 9   final_unit_price            326862 non-null  float64\n",
      " 10  direct_discount_per_unit    326862 non-null  float64\n",
      " 11  quantity_discount_per_unit  326862 non-null  float64\n",
      " 12  bundle_discount_per_unit    326862 non-null  float64\n",
      " 13  coupon_discount_per_unit    326862 non-null  float64\n",
      " 14  gift_item                   326862 non-null  int64  \n",
      " 15  dc_ori                      326862 non-null  int64  \n",
      " 16  dc_des                      326862 non-null  int64  \n",
      " 17  package_ID                  326862 non-null  object \n",
      " 18  type_y                      326862 non-null  int64  \n",
      " 19  ship_out_time               326862 non-null  object \n",
      " 20  arr_station_time            326862 non-null  object \n",
      " 21  arr_time                    326862 non-null  object \n",
      "dtypes: float64(6), int64(6), object(10)\n",
      "memory usage: 57.4+ MB\n"
     ]
    }
   ],
   "source": [
    "Order_data_delivery_data_inner_merged.info()"
   ]
  },
  {
   "cell_type": "code",
   "execution_count": 29,
   "id": "6d9e34df",
   "metadata": {},
   "outputs": [
    {
     "data": {
      "text/html": [
       "<div>\n",
       "<style scoped>\n",
       "    .dataframe tbody tr th:only-of-type {\n",
       "        vertical-align: middle;\n",
       "    }\n",
       "\n",
       "    .dataframe tbody tr th {\n",
       "        vertical-align: top;\n",
       "    }\n",
       "\n",
       "    .dataframe thead th {\n",
       "        text-align: right;\n",
       "    }\n",
       "</style>\n",
       "<table border=\"1\" class=\"dataframe\">\n",
       "  <thead>\n",
       "    <tr style=\"text-align: right;\">\n",
       "      <th></th>\n",
       "      <th>quantity</th>\n",
       "      <th>type_x</th>\n",
       "      <th>original_unit_price</th>\n",
       "      <th>final_unit_price</th>\n",
       "      <th>direct_discount_per_unit</th>\n",
       "      <th>quantity_discount_per_unit</th>\n",
       "      <th>bundle_discount_per_unit</th>\n",
       "      <th>coupon_discount_per_unit</th>\n",
       "      <th>gift_item</th>\n",
       "      <th>dc_ori</th>\n",
       "      <th>dc_des</th>\n",
       "      <th>type_y</th>\n",
       "    </tr>\n",
       "  </thead>\n",
       "  <tbody>\n",
       "    <tr>\n",
       "      <th>count</th>\n",
       "      <td>326862.000000</td>\n",
       "      <td>326862.000000</td>\n",
       "      <td>326862.000000</td>\n",
       "      <td>326862.000000</td>\n",
       "      <td>326862.000000</td>\n",
       "      <td>326862.000000</td>\n",
       "      <td>326862.000000</td>\n",
       "      <td>326862.000000</td>\n",
       "      <td>326862.000000</td>\n",
       "      <td>326862.000000</td>\n",
       "      <td>326862.000000</td>\n",
       "      <td>326862.000000</td>\n",
       "    </tr>\n",
       "    <tr>\n",
       "      <th>mean</th>\n",
       "      <td>1.215660</td>\n",
       "      <td>1.165954</td>\n",
       "      <td>116.821854</td>\n",
       "      <td>81.283460</td>\n",
       "      <td>20.592799</td>\n",
       "      <td>11.467994</td>\n",
       "      <td>0.913599</td>\n",
       "      <td>2.564002</td>\n",
       "      <td>0.081973</td>\n",
       "      <td>15.311612</td>\n",
       "      <td>20.773498</td>\n",
       "      <td>0.834046</td>\n",
       "    </tr>\n",
       "    <tr>\n",
       "      <th>std</th>\n",
       "      <td>1.676805</td>\n",
       "      <td>0.372040</td>\n",
       "      <td>88.845661</td>\n",
       "      <td>68.510497</td>\n",
       "      <td>32.055891</td>\n",
       "      <td>21.024286</td>\n",
       "      <td>7.656129</td>\n",
       "      <td>9.438657</td>\n",
       "      <td>0.274325</td>\n",
       "      <td>16.981465</td>\n",
       "      <td>16.790576</td>\n",
       "      <td>0.372040</td>\n",
       "    </tr>\n",
       "    <tr>\n",
       "      <th>min</th>\n",
       "      <td>1.000000</td>\n",
       "      <td>1.000000</td>\n",
       "      <td>0.000000</td>\n",
       "      <td>-18.000000</td>\n",
       "      <td>0.000000</td>\n",
       "      <td>0.000000</td>\n",
       "      <td>0.000000</td>\n",
       "      <td>0.000000</td>\n",
       "      <td>0.000000</td>\n",
       "      <td>1.000000</td>\n",
       "      <td>1.000000</td>\n",
       "      <td>0.000000</td>\n",
       "    </tr>\n",
       "    <tr>\n",
       "      <th>25%</th>\n",
       "      <td>1.000000</td>\n",
       "      <td>1.000000</td>\n",
       "      <td>66.000000</td>\n",
       "      <td>39.900000</td>\n",
       "      <td>0.000000</td>\n",
       "      <td>0.000000</td>\n",
       "      <td>0.000000</td>\n",
       "      <td>0.000000</td>\n",
       "      <td>0.000000</td>\n",
       "      <td>4.000000</td>\n",
       "      <td>5.000000</td>\n",
       "      <td>1.000000</td>\n",
       "    </tr>\n",
       "    <tr>\n",
       "      <th>50%</th>\n",
       "      <td>1.000000</td>\n",
       "      <td>1.000000</td>\n",
       "      <td>80.000000</td>\n",
       "      <td>59.900000</td>\n",
       "      <td>10.000000</td>\n",
       "      <td>0.000000</td>\n",
       "      <td>0.000000</td>\n",
       "      <td>0.000000</td>\n",
       "      <td>0.000000</td>\n",
       "      <td>7.000000</td>\n",
       "      <td>17.000000</td>\n",
       "      <td>1.000000</td>\n",
       "    </tr>\n",
       "    <tr>\n",
       "      <th>75%</th>\n",
       "      <td>1.000000</td>\n",
       "      <td>1.000000</td>\n",
       "      <td>149.000000</td>\n",
       "      <td>108.000000</td>\n",
       "      <td>21.000000</td>\n",
       "      <td>18.000000</td>\n",
       "      <td>0.000000</td>\n",
       "      <td>0.000000</td>\n",
       "      <td>0.000000</td>\n",
       "      <td>24.000000</td>\n",
       "      <td>33.000000</td>\n",
       "      <td>1.000000</td>\n",
       "    </tr>\n",
       "    <tr>\n",
       "      <th>max</th>\n",
       "      <td>250.000000</td>\n",
       "      <td>2.000000</td>\n",
       "      <td>7130.000000</td>\n",
       "      <td>7130.000000</td>\n",
       "      <td>282.000000</td>\n",
       "      <td>200.000000</td>\n",
       "      <td>252.000000</td>\n",
       "      <td>206.000000</td>\n",
       "      <td>1.000000</td>\n",
       "      <td>67.000000</td>\n",
       "      <td>67.000000</td>\n",
       "      <td>1.000000</td>\n",
       "    </tr>\n",
       "  </tbody>\n",
       "</table>\n",
       "</div>"
      ],
      "text/plain": [
       "            quantity         type_x  original_unit_price  final_unit_price  \\\n",
       "count  326862.000000  326862.000000        326862.000000     326862.000000   \n",
       "mean        1.215660       1.165954           116.821854         81.283460   \n",
       "std         1.676805       0.372040            88.845661         68.510497   \n",
       "min         1.000000       1.000000             0.000000        -18.000000   \n",
       "25%         1.000000       1.000000            66.000000         39.900000   \n",
       "50%         1.000000       1.000000            80.000000         59.900000   \n",
       "75%         1.000000       1.000000           149.000000        108.000000   \n",
       "max       250.000000       2.000000          7130.000000       7130.000000   \n",
       "\n",
       "       direct_discount_per_unit  quantity_discount_per_unit  \\\n",
       "count             326862.000000               326862.000000   \n",
       "mean                  20.592799                   11.467994   \n",
       "std                   32.055891                   21.024286   \n",
       "min                    0.000000                    0.000000   \n",
       "25%                    0.000000                    0.000000   \n",
       "50%                   10.000000                    0.000000   \n",
       "75%                   21.000000                   18.000000   \n",
       "max                  282.000000                  200.000000   \n",
       "\n",
       "       bundle_discount_per_unit  coupon_discount_per_unit      gift_item  \\\n",
       "count             326862.000000             326862.000000  326862.000000   \n",
       "mean                   0.913599                  2.564002       0.081973   \n",
       "std                    7.656129                  9.438657       0.274325   \n",
       "min                    0.000000                  0.000000       0.000000   \n",
       "25%                    0.000000                  0.000000       0.000000   \n",
       "50%                    0.000000                  0.000000       0.000000   \n",
       "75%                    0.000000                  0.000000       0.000000   \n",
       "max                  252.000000                206.000000       1.000000   \n",
       "\n",
       "              dc_ori         dc_des         type_y  \n",
       "count  326862.000000  326862.000000  326862.000000  \n",
       "mean       15.311612      20.773498       0.834046  \n",
       "std        16.981465      16.790576       0.372040  \n",
       "min         1.000000       1.000000       0.000000  \n",
       "25%         4.000000       5.000000       1.000000  \n",
       "50%         7.000000      17.000000       1.000000  \n",
       "75%        24.000000      33.000000       1.000000  \n",
       "max        67.000000      67.000000       1.000000  "
      ]
     },
     "execution_count": 29,
     "metadata": {},
     "output_type": "execute_result"
    }
   ],
   "source": [
    "Order_data_delivery_data_inner_merged.describe()"
   ]
  },
  {
   "cell_type": "markdown",
   "id": "71c34250",
   "metadata": {},
   "source": [
    "9. Merge order and delivery tables, using right merge. What does right merge mean? How many obervations are there in the merged dataset? Do all delivery records have matched order information?"
   ]
  },
  {
   "cell_type": "code",
   "execution_count": 30,
   "id": "8f086ba4",
   "metadata": {},
   "outputs": [
    {
     "name": "stdout",
     "output_type": "stream",
     "text": [
      "Number of observations in the right merged dataset:  (326862, 22)\n",
      "Number of observations in the Original Order dataset:  (549989, 17)\n",
      "Number of observations in the Original Delivery dataset:  (293229, 6)\n"
     ]
    },
    {
     "data": {
      "text/html": [
       "<div>\n",
       "<style scoped>\n",
       "    .dataframe tbody tr th:only-of-type {\n",
       "        vertical-align: middle;\n",
       "    }\n",
       "\n",
       "    .dataframe tbody tr th {\n",
       "        vertical-align: top;\n",
       "    }\n",
       "\n",
       "    .dataframe thead th {\n",
       "        text-align: right;\n",
       "    }\n",
       "</style>\n",
       "<table border=\"1\" class=\"dataframe\">\n",
       "  <thead>\n",
       "    <tr style=\"text-align: right;\">\n",
       "      <th></th>\n",
       "      <th>order_ID</th>\n",
       "      <th>user_ID</th>\n",
       "      <th>sku_ID</th>\n",
       "      <th>order_date</th>\n",
       "      <th>order_time</th>\n",
       "      <th>quantity</th>\n",
       "      <th>type_x</th>\n",
       "      <th>promise</th>\n",
       "      <th>original_unit_price</th>\n",
       "      <th>final_unit_price</th>\n",
       "      <th>...</th>\n",
       "      <th>bundle_discount_per_unit</th>\n",
       "      <th>coupon_discount_per_unit</th>\n",
       "      <th>gift_item</th>\n",
       "      <th>dc_ori</th>\n",
       "      <th>dc_des</th>\n",
       "      <th>package_ID</th>\n",
       "      <th>type_y</th>\n",
       "      <th>ship_out_time</th>\n",
       "      <th>arr_station_time</th>\n",
       "      <th>arr_time</th>\n",
       "    </tr>\n",
       "  </thead>\n",
       "  <tbody>\n",
       "    <tr>\n",
       "      <th>0</th>\n",
       "      <td>dc3d6d2258</td>\n",
       "      <td>ee666e25c3</td>\n",
       "      <td>2e06817802</td>\n",
       "      <td>2018-03-01</td>\n",
       "      <td>2018-03-01 06:21:07.0</td>\n",
       "      <td>1</td>\n",
       "      <td>1</td>\n",
       "      <td>1</td>\n",
       "      <td>36.0</td>\n",
       "      <td>33.000000</td>\n",
       "      <td>...</td>\n",
       "      <td>0.0</td>\n",
       "      <td>3.000000</td>\n",
       "      <td>0</td>\n",
       "      <td>4</td>\n",
       "      <td>4</td>\n",
       "      <td>dc3d6d2258</td>\n",
       "      <td>1</td>\n",
       "      <td>2018-03-01 08:00:00</td>\n",
       "      <td>2018-03-01 15:00:00</td>\n",
       "      <td>2018-03-01 18:00:00</td>\n",
       "    </tr>\n",
       "    <tr>\n",
       "      <th>1</th>\n",
       "      <td>19802a570c</td>\n",
       "      <td>845df5b5f2</td>\n",
       "      <td>5ae1bb1c76</td>\n",
       "      <td>2018-03-01</td>\n",
       "      <td>2018-03-01 09:10:09.0</td>\n",
       "      <td>1</td>\n",
       "      <td>1</td>\n",
       "      <td>1</td>\n",
       "      <td>78.0</td>\n",
       "      <td>59.000000</td>\n",
       "      <td>...</td>\n",
       "      <td>0.0</td>\n",
       "      <td>0.000000</td>\n",
       "      <td>0</td>\n",
       "      <td>2</td>\n",
       "      <td>2</td>\n",
       "      <td>19802a570c</td>\n",
       "      <td>1</td>\n",
       "      <td>2018-03-01 10:00:00</td>\n",
       "      <td>2018-03-01 15:00:00</td>\n",
       "      <td>2018-03-01 17:00:00</td>\n",
       "    </tr>\n",
       "    <tr>\n",
       "      <th>2</th>\n",
       "      <td>e22627af66</td>\n",
       "      <td>cae0d8c01f</td>\n",
       "      <td>b8c182c74f</td>\n",
       "      <td>2018-03-01</td>\n",
       "      <td>2018-03-01 10:50:41.0</td>\n",
       "      <td>1</td>\n",
       "      <td>1</td>\n",
       "      <td>1</td>\n",
       "      <td>230.0</td>\n",
       "      <td>188.000000</td>\n",
       "      <td>...</td>\n",
       "      <td>0.0</td>\n",
       "      <td>42.000000</td>\n",
       "      <td>0</td>\n",
       "      <td>5</td>\n",
       "      <td>5</td>\n",
       "      <td>e22627af66</td>\n",
       "      <td>1</td>\n",
       "      <td>2018-03-01 11:00:00</td>\n",
       "      <td>2018-03-01 15:00:00</td>\n",
       "      <td>2018-03-01 17:00:00</td>\n",
       "    </tr>\n",
       "    <tr>\n",
       "      <th>3</th>\n",
       "      <td>e22627af66</td>\n",
       "      <td>cae0d8c01f</td>\n",
       "      <td>c98d32ff09</td>\n",
       "      <td>2018-03-01</td>\n",
       "      <td>2018-03-01 10:50:41.0</td>\n",
       "      <td>3</td>\n",
       "      <td>1</td>\n",
       "      <td>1</td>\n",
       "      <td>0.0</td>\n",
       "      <td>0.000000</td>\n",
       "      <td>...</td>\n",
       "      <td>0.0</td>\n",
       "      <td>0.000000</td>\n",
       "      <td>1</td>\n",
       "      <td>5</td>\n",
       "      <td>5</td>\n",
       "      <td>e22627af66</td>\n",
       "      <td>1</td>\n",
       "      <td>2018-03-01 11:00:00</td>\n",
       "      <td>2018-03-01 15:00:00</td>\n",
       "      <td>2018-03-01 17:00:00</td>\n",
       "    </tr>\n",
       "    <tr>\n",
       "      <th>4</th>\n",
       "      <td>e22627af66</td>\n",
       "      <td>cae0d8c01f</td>\n",
       "      <td>c98d32ff09</td>\n",
       "      <td>2018-03-01</td>\n",
       "      <td>2018-03-01 10:50:41.0</td>\n",
       "      <td>3</td>\n",
       "      <td>1</td>\n",
       "      <td>1</td>\n",
       "      <td>0.0</td>\n",
       "      <td>-0.333333</td>\n",
       "      <td>...</td>\n",
       "      <td>0.0</td>\n",
       "      <td>0.333333</td>\n",
       "      <td>1</td>\n",
       "      <td>5</td>\n",
       "      <td>5</td>\n",
       "      <td>e22627af66</td>\n",
       "      <td>1</td>\n",
       "      <td>2018-03-01 11:00:00</td>\n",
       "      <td>2018-03-01 15:00:00</td>\n",
       "      <td>2018-03-01 17:00:00</td>\n",
       "    </tr>\n",
       "    <tr>\n",
       "      <th>...</th>\n",
       "      <td>...</td>\n",
       "      <td>...</td>\n",
       "      <td>...</td>\n",
       "      <td>...</td>\n",
       "      <td>...</td>\n",
       "      <td>...</td>\n",
       "      <td>...</td>\n",
       "      <td>...</td>\n",
       "      <td>...</td>\n",
       "      <td>...</td>\n",
       "      <td>...</td>\n",
       "      <td>...</td>\n",
       "      <td>...</td>\n",
       "      <td>...</td>\n",
       "      <td>...</td>\n",
       "      <td>...</td>\n",
       "      <td>...</td>\n",
       "      <td>...</td>\n",
       "      <td>...</td>\n",
       "      <td>...</td>\n",
       "      <td>...</td>\n",
       "    </tr>\n",
       "    <tr>\n",
       "      <th>326857</th>\n",
       "      <td>cb319102f1</td>\n",
       "      <td>df8c108eff</td>\n",
       "      <td>ac0cd64708</td>\n",
       "      <td>2018-03-31</td>\n",
       "      <td>2018-03-31 23:38:17.0</td>\n",
       "      <td>2</td>\n",
       "      <td>1</td>\n",
       "      <td>6</td>\n",
       "      <td>69.9</td>\n",
       "      <td>44.900000</td>\n",
       "      <td>...</td>\n",
       "      <td>0.0</td>\n",
       "      <td>0.000000</td>\n",
       "      <td>0</td>\n",
       "      <td>24</td>\n",
       "      <td>41</td>\n",
       "      <td>cb319102f1</td>\n",
       "      <td>1</td>\n",
       "      <td>2018-04-01 10:00:00</td>\n",
       "      <td>2018-04-07 11:00:00</td>\n",
       "      <td>2018-04-07 15:00:00</td>\n",
       "    </tr>\n",
       "    <tr>\n",
       "      <th>326858</th>\n",
       "      <td>0fe3bbcfd8</td>\n",
       "      <td>b1fa95ae5e</td>\n",
       "      <td>068f4481b3</td>\n",
       "      <td>2018-03-22</td>\n",
       "      <td>2018-03-22 17:42:37.0</td>\n",
       "      <td>1</td>\n",
       "      <td>1</td>\n",
       "      <td>8</td>\n",
       "      <td>298.0</td>\n",
       "      <td>232.000000</td>\n",
       "      <td>...</td>\n",
       "      <td>66.0</td>\n",
       "      <td>0.000000</td>\n",
       "      <td>0</td>\n",
       "      <td>41</td>\n",
       "      <td>41</td>\n",
       "      <td>0fe3bbcfd8</td>\n",
       "      <td>1</td>\n",
       "      <td>2018-03-31 13:00:00</td>\n",
       "      <td>2018-04-04 22:00:00</td>\n",
       "      <td>2018-04-07 11:00:00</td>\n",
       "    </tr>\n",
       "    <tr>\n",
       "      <th>326859</th>\n",
       "      <td>0fe3bbcfd8</td>\n",
       "      <td>b1fa95ae5e</td>\n",
       "      <td>fbce41fd82</td>\n",
       "      <td>2018-03-22</td>\n",
       "      <td>2018-03-22 17:42:37.0</td>\n",
       "      <td>1</td>\n",
       "      <td>1</td>\n",
       "      <td>8</td>\n",
       "      <td>178.0</td>\n",
       "      <td>158.000000</td>\n",
       "      <td>...</td>\n",
       "      <td>20.0</td>\n",
       "      <td>0.000000</td>\n",
       "      <td>0</td>\n",
       "      <td>41</td>\n",
       "      <td>41</td>\n",
       "      <td>0fe3bbcfd8</td>\n",
       "      <td>1</td>\n",
       "      <td>2018-03-31 13:00:00</td>\n",
       "      <td>2018-04-04 22:00:00</td>\n",
       "      <td>2018-04-07 11:00:00</td>\n",
       "    </tr>\n",
       "    <tr>\n",
       "      <th>326860</th>\n",
       "      <td>0fe3bbcfd8</td>\n",
       "      <td>b1fa95ae5e</td>\n",
       "      <td>8dc4a01dec</td>\n",
       "      <td>2018-03-22</td>\n",
       "      <td>2018-03-22 17:42:37.0</td>\n",
       "      <td>2</td>\n",
       "      <td>1</td>\n",
       "      <td>8</td>\n",
       "      <td>78.0</td>\n",
       "      <td>54.500000</td>\n",
       "      <td>...</td>\n",
       "      <td>13.5</td>\n",
       "      <td>10.000000</td>\n",
       "      <td>0</td>\n",
       "      <td>41</td>\n",
       "      <td>41</td>\n",
       "      <td>0fe3bbcfd8</td>\n",
       "      <td>1</td>\n",
       "      <td>2018-03-31 13:00:00</td>\n",
       "      <td>2018-04-04 22:00:00</td>\n",
       "      <td>2018-04-07 11:00:00</td>\n",
       "    </tr>\n",
       "    <tr>\n",
       "      <th>326861</th>\n",
       "      <td>d22fa05841</td>\n",
       "      <td>4032897ccb</td>\n",
       "      <td>50b53a8536</td>\n",
       "      <td>2018-03-24</td>\n",
       "      <td>2018-03-24 14:50:47.0</td>\n",
       "      <td>1</td>\n",
       "      <td>1</td>\n",
       "      <td>8</td>\n",
       "      <td>99.0</td>\n",
       "      <td>65.000000</td>\n",
       "      <td>...</td>\n",
       "      <td>0.0</td>\n",
       "      <td>0.000000</td>\n",
       "      <td>0</td>\n",
       "      <td>4</td>\n",
       "      <td>4</td>\n",
       "      <td>d22fa05841</td>\n",
       "      <td>1</td>\n",
       "      <td>2018-03-25 09:00:00</td>\n",
       "      <td>2018-03-26 09:00:00</td>\n",
       "      <td>2018-04-07 14:00:00</td>\n",
       "    </tr>\n",
       "  </tbody>\n",
       "</table>\n",
       "<p>326862 rows × 22 columns</p>\n",
       "</div>"
      ],
      "text/plain": [
       "          order_ID     user_ID      sku_ID  order_date             order_time  \\\n",
       "0       dc3d6d2258  ee666e25c3  2e06817802  2018-03-01  2018-03-01 06:21:07.0   \n",
       "1       19802a570c  845df5b5f2  5ae1bb1c76  2018-03-01  2018-03-01 09:10:09.0   \n",
       "2       e22627af66  cae0d8c01f  b8c182c74f  2018-03-01  2018-03-01 10:50:41.0   \n",
       "3       e22627af66  cae0d8c01f  c98d32ff09  2018-03-01  2018-03-01 10:50:41.0   \n",
       "4       e22627af66  cae0d8c01f  c98d32ff09  2018-03-01  2018-03-01 10:50:41.0   \n",
       "...            ...         ...         ...         ...                    ...   \n",
       "326857  cb319102f1  df8c108eff  ac0cd64708  2018-03-31  2018-03-31 23:38:17.0   \n",
       "326858  0fe3bbcfd8  b1fa95ae5e  068f4481b3  2018-03-22  2018-03-22 17:42:37.0   \n",
       "326859  0fe3bbcfd8  b1fa95ae5e  fbce41fd82  2018-03-22  2018-03-22 17:42:37.0   \n",
       "326860  0fe3bbcfd8  b1fa95ae5e  8dc4a01dec  2018-03-22  2018-03-22 17:42:37.0   \n",
       "326861  d22fa05841  4032897ccb  50b53a8536  2018-03-24  2018-03-24 14:50:47.0   \n",
       "\n",
       "        quantity  type_x promise  original_unit_price  final_unit_price  ...  \\\n",
       "0              1       1       1                 36.0         33.000000  ...   \n",
       "1              1       1       1                 78.0         59.000000  ...   \n",
       "2              1       1       1                230.0        188.000000  ...   \n",
       "3              3       1       1                  0.0          0.000000  ...   \n",
       "4              3       1       1                  0.0         -0.333333  ...   \n",
       "...          ...     ...     ...                  ...               ...  ...   \n",
       "326857         2       1       6                 69.9         44.900000  ...   \n",
       "326858         1       1       8                298.0        232.000000  ...   \n",
       "326859         1       1       8                178.0        158.000000  ...   \n",
       "326860         2       1       8                 78.0         54.500000  ...   \n",
       "326861         1       1       8                 99.0         65.000000  ...   \n",
       "\n",
       "        bundle_discount_per_unit  coupon_discount_per_unit  gift_item  dc_ori  \\\n",
       "0                            0.0                  3.000000          0       4   \n",
       "1                            0.0                  0.000000          0       2   \n",
       "2                            0.0                 42.000000          0       5   \n",
       "3                            0.0                  0.000000          1       5   \n",
       "4                            0.0                  0.333333          1       5   \n",
       "...                          ...                       ...        ...     ...   \n",
       "326857                       0.0                  0.000000          0      24   \n",
       "326858                      66.0                  0.000000          0      41   \n",
       "326859                      20.0                  0.000000          0      41   \n",
       "326860                      13.5                 10.000000          0      41   \n",
       "326861                       0.0                  0.000000          0       4   \n",
       "\n",
       "        dc_des  package_ID  type_y        ship_out_time     arr_station_time  \\\n",
       "0            4  dc3d6d2258       1  2018-03-01 08:00:00  2018-03-01 15:00:00   \n",
       "1            2  19802a570c       1  2018-03-01 10:00:00  2018-03-01 15:00:00   \n",
       "2            5  e22627af66       1  2018-03-01 11:00:00  2018-03-01 15:00:00   \n",
       "3            5  e22627af66       1  2018-03-01 11:00:00  2018-03-01 15:00:00   \n",
       "4            5  e22627af66       1  2018-03-01 11:00:00  2018-03-01 15:00:00   \n",
       "...        ...         ...     ...                  ...                  ...   \n",
       "326857      41  cb319102f1       1  2018-04-01 10:00:00  2018-04-07 11:00:00   \n",
       "326858      41  0fe3bbcfd8       1  2018-03-31 13:00:00  2018-04-04 22:00:00   \n",
       "326859      41  0fe3bbcfd8       1  2018-03-31 13:00:00  2018-04-04 22:00:00   \n",
       "326860      41  0fe3bbcfd8       1  2018-03-31 13:00:00  2018-04-04 22:00:00   \n",
       "326861       4  d22fa05841       1  2018-03-25 09:00:00  2018-03-26 09:00:00   \n",
       "\n",
       "                   arr_time  \n",
       "0       2018-03-01 18:00:00  \n",
       "1       2018-03-01 17:00:00  \n",
       "2       2018-03-01 17:00:00  \n",
       "3       2018-03-01 17:00:00  \n",
       "4       2018-03-01 17:00:00  \n",
       "...                     ...  \n",
       "326857  2018-04-07 15:00:00  \n",
       "326858  2018-04-07 11:00:00  \n",
       "326859  2018-04-07 11:00:00  \n",
       "326860  2018-04-07 11:00:00  \n",
       "326861  2018-04-07 14:00:00  \n",
       "\n",
       "[326862 rows x 22 columns]"
      ]
     },
     "execution_count": 30,
     "metadata": {},
     "output_type": "execute_result"
    }
   ],
   "source": [
    "Order_data_delivery_data_right_merged = pd.merge(order_data, delivery_data, on = 'order_ID', how = 'right')\n",
    "print('Number of observations in the right merged dataset: ',Order_data_delivery_data_right_merged.shape )\n",
    "print('Number of observations in the Original Order dataset: ',order_data.shape )\n",
    "print('Number of observations in the Original Delivery dataset: ',delivery_data.shape )\n",
    "\n",
    "Order_data_delivery_data_right_merged\n",
    "#Here a Right merge results in merging the two tables basing on a common key that is the 'Order_ID. \n",
    "#The Right merge particularly focuses on keeping all the data from the \"right\" dataset while incorporating only the relevant information from the \"left\" dataset, creating a merged dataset that emphasizes the Right dataset's content and structure.\n",
    "\n",
    "#We then print the Original Datasets both Order and Delivery data to facilitate better comparision."
   ]
  },
  {
   "cell_type": "code",
   "execution_count": 31,
   "id": "3190a8b5",
   "metadata": {},
   "outputs": [
    {
     "name": "stdout",
     "output_type": "stream",
     "text": [
      "<class 'pandas.core.frame.DataFrame'>\n",
      "Int64Index: 326862 entries, 0 to 326861\n",
      "Data columns (total 22 columns):\n",
      " #   Column                      Non-Null Count   Dtype  \n",
      "---  ------                      --------------   -----  \n",
      " 0   order_ID                    326862 non-null  object \n",
      " 1   user_ID                     326862 non-null  object \n",
      " 2   sku_ID                      326862 non-null  object \n",
      " 3   order_date                  326862 non-null  object \n",
      " 4   order_time                  326862 non-null  object \n",
      " 5   quantity                    326862 non-null  int64  \n",
      " 6   type_x                      326862 non-null  int64  \n",
      " 7   promise                     326862 non-null  object \n",
      " 8   original_unit_price         326862 non-null  float64\n",
      " 9   final_unit_price            326862 non-null  float64\n",
      " 10  direct_discount_per_unit    326862 non-null  float64\n",
      " 11  quantity_discount_per_unit  326862 non-null  float64\n",
      " 12  bundle_discount_per_unit    326862 non-null  float64\n",
      " 13  coupon_discount_per_unit    326862 non-null  float64\n",
      " 14  gift_item                   326862 non-null  int64  \n",
      " 15  dc_ori                      326862 non-null  int64  \n",
      " 16  dc_des                      326862 non-null  int64  \n",
      " 17  package_ID                  326862 non-null  object \n",
      " 18  type_y                      326862 non-null  int64  \n",
      " 19  ship_out_time               326862 non-null  object \n",
      " 20  arr_station_time            326862 non-null  object \n",
      " 21  arr_time                    326862 non-null  object \n",
      "dtypes: float64(6), int64(6), object(10)\n",
      "memory usage: 57.4+ MB\n"
     ]
    }
   ],
   "source": [
    "Order_data_delivery_data_right_merged.info()"
   ]
  },
  {
   "cell_type": "code",
   "execution_count": 32,
   "id": "e01b0805",
   "metadata": {},
   "outputs": [
    {
     "data": {
      "text/html": [
       "<div>\n",
       "<style scoped>\n",
       "    .dataframe tbody tr th:only-of-type {\n",
       "        vertical-align: middle;\n",
       "    }\n",
       "\n",
       "    .dataframe tbody tr th {\n",
       "        vertical-align: top;\n",
       "    }\n",
       "\n",
       "    .dataframe thead th {\n",
       "        text-align: right;\n",
       "    }\n",
       "</style>\n",
       "<table border=\"1\" class=\"dataframe\">\n",
       "  <thead>\n",
       "    <tr style=\"text-align: right;\">\n",
       "      <th></th>\n",
       "      <th>quantity</th>\n",
       "      <th>type_x</th>\n",
       "      <th>original_unit_price</th>\n",
       "      <th>final_unit_price</th>\n",
       "      <th>direct_discount_per_unit</th>\n",
       "      <th>quantity_discount_per_unit</th>\n",
       "      <th>bundle_discount_per_unit</th>\n",
       "      <th>coupon_discount_per_unit</th>\n",
       "      <th>gift_item</th>\n",
       "      <th>dc_ori</th>\n",
       "      <th>dc_des</th>\n",
       "      <th>type_y</th>\n",
       "    </tr>\n",
       "  </thead>\n",
       "  <tbody>\n",
       "    <tr>\n",
       "      <th>count</th>\n",
       "      <td>326862.000000</td>\n",
       "      <td>326862.000000</td>\n",
       "      <td>326862.000000</td>\n",
       "      <td>326862.000000</td>\n",
       "      <td>326862.000000</td>\n",
       "      <td>326862.000000</td>\n",
       "      <td>326862.000000</td>\n",
       "      <td>326862.000000</td>\n",
       "      <td>326862.000000</td>\n",
       "      <td>326862.000000</td>\n",
       "      <td>326862.000000</td>\n",
       "      <td>326862.000000</td>\n",
       "    </tr>\n",
       "    <tr>\n",
       "      <th>mean</th>\n",
       "      <td>1.215660</td>\n",
       "      <td>1.165954</td>\n",
       "      <td>116.821854</td>\n",
       "      <td>81.283460</td>\n",
       "      <td>20.592799</td>\n",
       "      <td>11.467994</td>\n",
       "      <td>0.913599</td>\n",
       "      <td>2.564002</td>\n",
       "      <td>0.081973</td>\n",
       "      <td>15.311612</td>\n",
       "      <td>20.773498</td>\n",
       "      <td>0.834046</td>\n",
       "    </tr>\n",
       "    <tr>\n",
       "      <th>std</th>\n",
       "      <td>1.676805</td>\n",
       "      <td>0.372040</td>\n",
       "      <td>88.845661</td>\n",
       "      <td>68.510497</td>\n",
       "      <td>32.055891</td>\n",
       "      <td>21.024286</td>\n",
       "      <td>7.656129</td>\n",
       "      <td>9.438657</td>\n",
       "      <td>0.274325</td>\n",
       "      <td>16.981465</td>\n",
       "      <td>16.790576</td>\n",
       "      <td>0.372040</td>\n",
       "    </tr>\n",
       "    <tr>\n",
       "      <th>min</th>\n",
       "      <td>1.000000</td>\n",
       "      <td>1.000000</td>\n",
       "      <td>0.000000</td>\n",
       "      <td>-18.000000</td>\n",
       "      <td>0.000000</td>\n",
       "      <td>0.000000</td>\n",
       "      <td>0.000000</td>\n",
       "      <td>0.000000</td>\n",
       "      <td>0.000000</td>\n",
       "      <td>1.000000</td>\n",
       "      <td>1.000000</td>\n",
       "      <td>0.000000</td>\n",
       "    </tr>\n",
       "    <tr>\n",
       "      <th>25%</th>\n",
       "      <td>1.000000</td>\n",
       "      <td>1.000000</td>\n",
       "      <td>66.000000</td>\n",
       "      <td>39.900000</td>\n",
       "      <td>0.000000</td>\n",
       "      <td>0.000000</td>\n",
       "      <td>0.000000</td>\n",
       "      <td>0.000000</td>\n",
       "      <td>0.000000</td>\n",
       "      <td>4.000000</td>\n",
       "      <td>5.000000</td>\n",
       "      <td>1.000000</td>\n",
       "    </tr>\n",
       "    <tr>\n",
       "      <th>50%</th>\n",
       "      <td>1.000000</td>\n",
       "      <td>1.000000</td>\n",
       "      <td>80.000000</td>\n",
       "      <td>59.900000</td>\n",
       "      <td>10.000000</td>\n",
       "      <td>0.000000</td>\n",
       "      <td>0.000000</td>\n",
       "      <td>0.000000</td>\n",
       "      <td>0.000000</td>\n",
       "      <td>7.000000</td>\n",
       "      <td>17.000000</td>\n",
       "      <td>1.000000</td>\n",
       "    </tr>\n",
       "    <tr>\n",
       "      <th>75%</th>\n",
       "      <td>1.000000</td>\n",
       "      <td>1.000000</td>\n",
       "      <td>149.000000</td>\n",
       "      <td>108.000000</td>\n",
       "      <td>21.000000</td>\n",
       "      <td>18.000000</td>\n",
       "      <td>0.000000</td>\n",
       "      <td>0.000000</td>\n",
       "      <td>0.000000</td>\n",
       "      <td>24.000000</td>\n",
       "      <td>33.000000</td>\n",
       "      <td>1.000000</td>\n",
       "    </tr>\n",
       "    <tr>\n",
       "      <th>max</th>\n",
       "      <td>250.000000</td>\n",
       "      <td>2.000000</td>\n",
       "      <td>7130.000000</td>\n",
       "      <td>7130.000000</td>\n",
       "      <td>282.000000</td>\n",
       "      <td>200.000000</td>\n",
       "      <td>252.000000</td>\n",
       "      <td>206.000000</td>\n",
       "      <td>1.000000</td>\n",
       "      <td>67.000000</td>\n",
       "      <td>67.000000</td>\n",
       "      <td>1.000000</td>\n",
       "    </tr>\n",
       "  </tbody>\n",
       "</table>\n",
       "</div>"
      ],
      "text/plain": [
       "            quantity         type_x  original_unit_price  final_unit_price  \\\n",
       "count  326862.000000  326862.000000        326862.000000     326862.000000   \n",
       "mean        1.215660       1.165954           116.821854         81.283460   \n",
       "std         1.676805       0.372040            88.845661         68.510497   \n",
       "min         1.000000       1.000000             0.000000        -18.000000   \n",
       "25%         1.000000       1.000000            66.000000         39.900000   \n",
       "50%         1.000000       1.000000            80.000000         59.900000   \n",
       "75%         1.000000       1.000000           149.000000        108.000000   \n",
       "max       250.000000       2.000000          7130.000000       7130.000000   \n",
       "\n",
       "       direct_discount_per_unit  quantity_discount_per_unit  \\\n",
       "count             326862.000000               326862.000000   \n",
       "mean                  20.592799                   11.467994   \n",
       "std                   32.055891                   21.024286   \n",
       "min                    0.000000                    0.000000   \n",
       "25%                    0.000000                    0.000000   \n",
       "50%                   10.000000                    0.000000   \n",
       "75%                   21.000000                   18.000000   \n",
       "max                  282.000000                  200.000000   \n",
       "\n",
       "       bundle_discount_per_unit  coupon_discount_per_unit      gift_item  \\\n",
       "count             326862.000000             326862.000000  326862.000000   \n",
       "mean                   0.913599                  2.564002       0.081973   \n",
       "std                    7.656129                  9.438657       0.274325   \n",
       "min                    0.000000                  0.000000       0.000000   \n",
       "25%                    0.000000                  0.000000       0.000000   \n",
       "50%                    0.000000                  0.000000       0.000000   \n",
       "75%                    0.000000                  0.000000       0.000000   \n",
       "max                  252.000000                206.000000       1.000000   \n",
       "\n",
       "              dc_ori         dc_des         type_y  \n",
       "count  326862.000000  326862.000000  326862.000000  \n",
       "mean       15.311612      20.773498       0.834046  \n",
       "std        16.981465      16.790576       0.372040  \n",
       "min         1.000000       1.000000       0.000000  \n",
       "25%         4.000000       5.000000       1.000000  \n",
       "50%         7.000000      17.000000       1.000000  \n",
       "75%        24.000000      33.000000       1.000000  \n",
       "max        67.000000      67.000000       1.000000  "
      ]
     },
     "execution_count": 32,
     "metadata": {},
     "output_type": "execute_result"
    }
   ],
   "source": [
    "Order_data_delivery_data_right_merged.describe()"
   ]
  },
  {
   "cell_type": "markdown",
   "id": "6b9bbe86",
   "metadata": {},
   "source": [
    "10. Merge order and delivery tables, using left merge. What does left merge mean? How many obervations are there in the merged dataset? Compare the number of observations of the merged table with the original order table, what can you say about the match between orders and deliveries?"
   ]
  },
  {
   "cell_type": "code",
   "execution_count": 33,
   "id": "0c26a7f4",
   "metadata": {},
   "outputs": [
    {
     "name": "stdout",
     "output_type": "stream",
     "text": [
      "Number of observations in the left merged dataset:  (550017, 22)\n",
      "Number of observations in the Original Order dataset:  (549989, 17)\n",
      "Number of observations in the Original Delivery dataset:  (293229, 6)\n"
     ]
    },
    {
     "data": {
      "text/html": [
       "<div>\n",
       "<style scoped>\n",
       "    .dataframe tbody tr th:only-of-type {\n",
       "        vertical-align: middle;\n",
       "    }\n",
       "\n",
       "    .dataframe tbody tr th {\n",
       "        vertical-align: top;\n",
       "    }\n",
       "\n",
       "    .dataframe thead th {\n",
       "        text-align: right;\n",
       "    }\n",
       "</style>\n",
       "<table border=\"1\" class=\"dataframe\">\n",
       "  <thead>\n",
       "    <tr style=\"text-align: right;\">\n",
       "      <th></th>\n",
       "      <th>order_ID</th>\n",
       "      <th>user_ID</th>\n",
       "      <th>sku_ID</th>\n",
       "      <th>order_date</th>\n",
       "      <th>order_time</th>\n",
       "      <th>quantity</th>\n",
       "      <th>type_x</th>\n",
       "      <th>promise</th>\n",
       "      <th>original_unit_price</th>\n",
       "      <th>final_unit_price</th>\n",
       "      <th>...</th>\n",
       "      <th>bundle_discount_per_unit</th>\n",
       "      <th>coupon_discount_per_unit</th>\n",
       "      <th>gift_item</th>\n",
       "      <th>dc_ori</th>\n",
       "      <th>dc_des</th>\n",
       "      <th>package_ID</th>\n",
       "      <th>type_y</th>\n",
       "      <th>ship_out_time</th>\n",
       "      <th>arr_station_time</th>\n",
       "      <th>arr_time</th>\n",
       "    </tr>\n",
       "  </thead>\n",
       "  <tbody>\n",
       "    <tr>\n",
       "      <th>0</th>\n",
       "      <td>d0cf5cc6db</td>\n",
       "      <td>0abe9ef2ce</td>\n",
       "      <td>581d5b54c1</td>\n",
       "      <td>2018-03-01</td>\n",
       "      <td>2018-03-01 17:14:25.0</td>\n",
       "      <td>1</td>\n",
       "      <td>2</td>\n",
       "      <td>-</td>\n",
       "      <td>89.0</td>\n",
       "      <td>79.0</td>\n",
       "      <td>...</td>\n",
       "      <td>0.0</td>\n",
       "      <td>0.0</td>\n",
       "      <td>0</td>\n",
       "      <td>4</td>\n",
       "      <td>28</td>\n",
       "      <td>NaN</td>\n",
       "      <td>NaN</td>\n",
       "      <td>NaN</td>\n",
       "      <td>NaN</td>\n",
       "      <td>NaN</td>\n",
       "    </tr>\n",
       "    <tr>\n",
       "      <th>1</th>\n",
       "      <td>7444318d01</td>\n",
       "      <td>33a9e56257</td>\n",
       "      <td>067b673f2b</td>\n",
       "      <td>2018-03-01</td>\n",
       "      <td>2018-03-01 11:10:40.0</td>\n",
       "      <td>1</td>\n",
       "      <td>1</td>\n",
       "      <td>2</td>\n",
       "      <td>99.9</td>\n",
       "      <td>53.9</td>\n",
       "      <td>...</td>\n",
       "      <td>0.0</td>\n",
       "      <td>0.0</td>\n",
       "      <td>0</td>\n",
       "      <td>28</td>\n",
       "      <td>28</td>\n",
       "      <td>7444318d01</td>\n",
       "      <td>1.0</td>\n",
       "      <td>2018-03-01 13:00:00</td>\n",
       "      <td>2018-03-02 08:00:00</td>\n",
       "      <td>2018-03-02 14:00:00</td>\n",
       "    </tr>\n",
       "    <tr>\n",
       "      <th>2</th>\n",
       "      <td>f973b01694</td>\n",
       "      <td>4ea3cf408f</td>\n",
       "      <td>623d0a582a</td>\n",
       "      <td>2018-03-01</td>\n",
       "      <td>2018-03-01 09:13:26.0</td>\n",
       "      <td>1</td>\n",
       "      <td>1</td>\n",
       "      <td>2</td>\n",
       "      <td>78.0</td>\n",
       "      <td>58.5</td>\n",
       "      <td>...</td>\n",
       "      <td>0.0</td>\n",
       "      <td>0.0</td>\n",
       "      <td>0</td>\n",
       "      <td>28</td>\n",
       "      <td>28</td>\n",
       "      <td>f973b01694</td>\n",
       "      <td>1.0</td>\n",
       "      <td>2018-03-01 14:00:00</td>\n",
       "      <td>2018-03-02 09:00:00</td>\n",
       "      <td>2018-03-02 13:00:00</td>\n",
       "    </tr>\n",
       "    <tr>\n",
       "      <th>3</th>\n",
       "      <td>8c1cec8d4b</td>\n",
       "      <td>b87cb736cb</td>\n",
       "      <td>fc5289b139</td>\n",
       "      <td>2018-03-01</td>\n",
       "      <td>2018-03-01 21:29:50.0</td>\n",
       "      <td>1</td>\n",
       "      <td>1</td>\n",
       "      <td>2</td>\n",
       "      <td>61.0</td>\n",
       "      <td>35.0</td>\n",
       "      <td>...</td>\n",
       "      <td>0.0</td>\n",
       "      <td>0.0</td>\n",
       "      <td>0</td>\n",
       "      <td>4</td>\n",
       "      <td>28</td>\n",
       "      <td>8c1cec8d4b</td>\n",
       "      <td>1.0</td>\n",
       "      <td>2018-03-02 09:00:00</td>\n",
       "      <td>2018-03-03 08:00:00</td>\n",
       "      <td>2018-03-04 11:00:00</td>\n",
       "    </tr>\n",
       "    <tr>\n",
       "      <th>4</th>\n",
       "      <td>d43a33c38a</td>\n",
       "      <td>4829223b6f</td>\n",
       "      <td>623d0a582a</td>\n",
       "      <td>2018-03-01</td>\n",
       "      <td>2018-03-01 19:13:37.0</td>\n",
       "      <td>1</td>\n",
       "      <td>1</td>\n",
       "      <td>1</td>\n",
       "      <td>78.0</td>\n",
       "      <td>53.0</td>\n",
       "      <td>...</td>\n",
       "      <td>0.0</td>\n",
       "      <td>6.0</td>\n",
       "      <td>0</td>\n",
       "      <td>3</td>\n",
       "      <td>16</td>\n",
       "      <td>d43a33c38a</td>\n",
       "      <td>1.0</td>\n",
       "      <td>2018-03-01 20:00:00</td>\n",
       "      <td>2018-03-02 07:00:00</td>\n",
       "      <td>2018-03-02 11:00:00</td>\n",
       "    </tr>\n",
       "    <tr>\n",
       "      <th>...</th>\n",
       "      <td>...</td>\n",
       "      <td>...</td>\n",
       "      <td>...</td>\n",
       "      <td>...</td>\n",
       "      <td>...</td>\n",
       "      <td>...</td>\n",
       "      <td>...</td>\n",
       "      <td>...</td>\n",
       "      <td>...</td>\n",
       "      <td>...</td>\n",
       "      <td>...</td>\n",
       "      <td>...</td>\n",
       "      <td>...</td>\n",
       "      <td>...</td>\n",
       "      <td>...</td>\n",
       "      <td>...</td>\n",
       "      <td>...</td>\n",
       "      <td>...</td>\n",
       "      <td>...</td>\n",
       "      <td>...</td>\n",
       "      <td>...</td>\n",
       "    </tr>\n",
       "    <tr>\n",
       "      <th>550012</th>\n",
       "      <td>3ad06b9fbe</td>\n",
       "      <td>a27b3ed4d4</td>\n",
       "      <td>a9109972d1</td>\n",
       "      <td>2018-03-31</td>\n",
       "      <td>2018-03-31 01:22:47.0</td>\n",
       "      <td>1</td>\n",
       "      <td>2</td>\n",
       "      <td>-</td>\n",
       "      <td>0.0</td>\n",
       "      <td>-1.0</td>\n",
       "      <td>...</td>\n",
       "      <td>0.0</td>\n",
       "      <td>1.0</td>\n",
       "      <td>1</td>\n",
       "      <td>2</td>\n",
       "      <td>2</td>\n",
       "      <td>NaN</td>\n",
       "      <td>NaN</td>\n",
       "      <td>NaN</td>\n",
       "      <td>NaN</td>\n",
       "      <td>NaN</td>\n",
       "    </tr>\n",
       "    <tr>\n",
       "      <th>550013</th>\n",
       "      <td>c9d77a7ed0</td>\n",
       "      <td>18f92434cd</td>\n",
       "      <td>7f53769d3f</td>\n",
       "      <td>2018-03-31</td>\n",
       "      <td>2018-03-31 08:55:57.0</td>\n",
       "      <td>1</td>\n",
       "      <td>1</td>\n",
       "      <td>3</td>\n",
       "      <td>118.0</td>\n",
       "      <td>55.0</td>\n",
       "      <td>...</td>\n",
       "      <td>0.0</td>\n",
       "      <td>0.0</td>\n",
       "      <td>0</td>\n",
       "      <td>59</td>\n",
       "      <td>2</td>\n",
       "      <td>c9d77a7ed0</td>\n",
       "      <td>1.0</td>\n",
       "      <td>2018-03-31 11:00:00</td>\n",
       "      <td>2018-04-02 07:00:00</td>\n",
       "      <td>2018-04-02 15:00:00</td>\n",
       "    </tr>\n",
       "    <tr>\n",
       "      <th>550014</th>\n",
       "      <td>b9ad79338f</td>\n",
       "      <td>b5caf8a580</td>\n",
       "      <td>8dc4a01dec</td>\n",
       "      <td>2018-03-31</td>\n",
       "      <td>2018-03-31 13:31:01.0</td>\n",
       "      <td>1</td>\n",
       "      <td>1</td>\n",
       "      <td>2</td>\n",
       "      <td>78.0</td>\n",
       "      <td>78.0</td>\n",
       "      <td>...</td>\n",
       "      <td>0.0</td>\n",
       "      <td>0.0</td>\n",
       "      <td>0</td>\n",
       "      <td>2</td>\n",
       "      <td>2</td>\n",
       "      <td>b9ad79338f</td>\n",
       "      <td>1.0</td>\n",
       "      <td>2018-03-31 14:00:00</td>\n",
       "      <td>2018-04-01 07:00:00</td>\n",
       "      <td>2018-04-01 11:00:00</td>\n",
       "    </tr>\n",
       "    <tr>\n",
       "      <th>550015</th>\n",
       "      <td>be3a9414b1</td>\n",
       "      <td>20ba6655f3</td>\n",
       "      <td>2dd6b818ec</td>\n",
       "      <td>2018-03-31</td>\n",
       "      <td>2018-03-31 12:51:18.0</td>\n",
       "      <td>1</td>\n",
       "      <td>2</td>\n",
       "      <td>-</td>\n",
       "      <td>189.0</td>\n",
       "      <td>78.0</td>\n",
       "      <td>...</td>\n",
       "      <td>0.0</td>\n",
       "      <td>0.0</td>\n",
       "      <td>0</td>\n",
       "      <td>4</td>\n",
       "      <td>28</td>\n",
       "      <td>NaN</td>\n",
       "      <td>NaN</td>\n",
       "      <td>NaN</td>\n",
       "      <td>NaN</td>\n",
       "      <td>NaN</td>\n",
       "    </tr>\n",
       "    <tr>\n",
       "      <th>550016</th>\n",
       "      <td>02d31f05c9</td>\n",
       "      <td>f260895cbe</td>\n",
       "      <td>10d369ef96</td>\n",
       "      <td>2018-03-31</td>\n",
       "      <td>2018-03-31 18:21:16.0</td>\n",
       "      <td>1</td>\n",
       "      <td>2</td>\n",
       "      <td>4</td>\n",
       "      <td>68.0</td>\n",
       "      <td>49.0</td>\n",
       "      <td>...</td>\n",
       "      <td>0.0</td>\n",
       "      <td>0.0</td>\n",
       "      <td>0</td>\n",
       "      <td>4</td>\n",
       "      <td>28</td>\n",
       "      <td>1722a36a69</td>\n",
       "      <td>0.0</td>\n",
       "      <td>2018-04-01 14:00:00</td>\n",
       "      <td>2018-04-05 08:00:00</td>\n",
       "      <td>2018-04-05 13:00:00</td>\n",
       "    </tr>\n",
       "  </tbody>\n",
       "</table>\n",
       "<p>550017 rows × 22 columns</p>\n",
       "</div>"
      ],
      "text/plain": [
       "          order_ID     user_ID      sku_ID  order_date             order_time  \\\n",
       "0       d0cf5cc6db  0abe9ef2ce  581d5b54c1  2018-03-01  2018-03-01 17:14:25.0   \n",
       "1       7444318d01  33a9e56257  067b673f2b  2018-03-01  2018-03-01 11:10:40.0   \n",
       "2       f973b01694  4ea3cf408f  623d0a582a  2018-03-01  2018-03-01 09:13:26.0   \n",
       "3       8c1cec8d4b  b87cb736cb  fc5289b139  2018-03-01  2018-03-01 21:29:50.0   \n",
       "4       d43a33c38a  4829223b6f  623d0a582a  2018-03-01  2018-03-01 19:13:37.0   \n",
       "...            ...         ...         ...         ...                    ...   \n",
       "550012  3ad06b9fbe  a27b3ed4d4  a9109972d1  2018-03-31  2018-03-31 01:22:47.0   \n",
       "550013  c9d77a7ed0  18f92434cd  7f53769d3f  2018-03-31  2018-03-31 08:55:57.0   \n",
       "550014  b9ad79338f  b5caf8a580  8dc4a01dec  2018-03-31  2018-03-31 13:31:01.0   \n",
       "550015  be3a9414b1  20ba6655f3  2dd6b818ec  2018-03-31  2018-03-31 12:51:18.0   \n",
       "550016  02d31f05c9  f260895cbe  10d369ef96  2018-03-31  2018-03-31 18:21:16.0   \n",
       "\n",
       "        quantity  type_x promise  original_unit_price  final_unit_price  ...  \\\n",
       "0              1       2       -                 89.0              79.0  ...   \n",
       "1              1       1       2                 99.9              53.9  ...   \n",
       "2              1       1       2                 78.0              58.5  ...   \n",
       "3              1       1       2                 61.0              35.0  ...   \n",
       "4              1       1       1                 78.0              53.0  ...   \n",
       "...          ...     ...     ...                  ...               ...  ...   \n",
       "550012         1       2       -                  0.0              -1.0  ...   \n",
       "550013         1       1       3                118.0              55.0  ...   \n",
       "550014         1       1       2                 78.0              78.0  ...   \n",
       "550015         1       2       -                189.0              78.0  ...   \n",
       "550016         1       2       4                 68.0              49.0  ...   \n",
       "\n",
       "        bundle_discount_per_unit  coupon_discount_per_unit  gift_item  dc_ori  \\\n",
       "0                            0.0                       0.0          0       4   \n",
       "1                            0.0                       0.0          0      28   \n",
       "2                            0.0                       0.0          0      28   \n",
       "3                            0.0                       0.0          0       4   \n",
       "4                            0.0                       6.0          0       3   \n",
       "...                          ...                       ...        ...     ...   \n",
       "550012                       0.0                       1.0          1       2   \n",
       "550013                       0.0                       0.0          0      59   \n",
       "550014                       0.0                       0.0          0       2   \n",
       "550015                       0.0                       0.0          0       4   \n",
       "550016                       0.0                       0.0          0       4   \n",
       "\n",
       "        dc_des  package_ID  type_y        ship_out_time     arr_station_time  \\\n",
       "0           28         NaN     NaN                  NaN                  NaN   \n",
       "1           28  7444318d01     1.0  2018-03-01 13:00:00  2018-03-02 08:00:00   \n",
       "2           28  f973b01694     1.0  2018-03-01 14:00:00  2018-03-02 09:00:00   \n",
       "3           28  8c1cec8d4b     1.0  2018-03-02 09:00:00  2018-03-03 08:00:00   \n",
       "4           16  d43a33c38a     1.0  2018-03-01 20:00:00  2018-03-02 07:00:00   \n",
       "...        ...         ...     ...                  ...                  ...   \n",
       "550012       2         NaN     NaN                  NaN                  NaN   \n",
       "550013       2  c9d77a7ed0     1.0  2018-03-31 11:00:00  2018-04-02 07:00:00   \n",
       "550014       2  b9ad79338f     1.0  2018-03-31 14:00:00  2018-04-01 07:00:00   \n",
       "550015      28         NaN     NaN                  NaN                  NaN   \n",
       "550016      28  1722a36a69     0.0  2018-04-01 14:00:00  2018-04-05 08:00:00   \n",
       "\n",
       "                   arr_time  \n",
       "0                       NaN  \n",
       "1       2018-03-02 14:00:00  \n",
       "2       2018-03-02 13:00:00  \n",
       "3       2018-03-04 11:00:00  \n",
       "4       2018-03-02 11:00:00  \n",
       "...                     ...  \n",
       "550012                  NaN  \n",
       "550013  2018-04-02 15:00:00  \n",
       "550014  2018-04-01 11:00:00  \n",
       "550015                  NaN  \n",
       "550016  2018-04-05 13:00:00  \n",
       "\n",
       "[550017 rows x 22 columns]"
      ]
     },
     "execution_count": 33,
     "metadata": {},
     "output_type": "execute_result"
    }
   ],
   "source": [
    "Order_data_delivery_data_left_merged = pd.merge(order_data, delivery_data, on = 'order_ID', how = 'left')\n",
    "print('Number of observations in the left merged dataset: ',Order_data_delivery_data_left_merged.shape )\n",
    "print('Number of observations in the Original Order dataset: ',order_data.shape )\n",
    "print('Number of observations in the Original Delivery dataset: ',delivery_data.shape )\n",
    "\n",
    "Order_data_delivery_data_left_merged\n",
    "#Here a left merge results in merging the two tables basing on a common key that is the 'Order_ID. \n",
    "#The left merge particularly focuses on keeping all the data from the \"left\" dataset while incorporating only the relevant information from the \"right\" dataset, creating a merged dataset that emphasizes the left dataset's content and structure.\n",
    "\n",
    "#We then print the Original Datasets both Order and Delivery data to facilitate better comparision"
   ]
  },
  {
   "cell_type": "code",
   "execution_count": 34,
   "id": "08332a13",
   "metadata": {},
   "outputs": [
    {
     "name": "stdout",
     "output_type": "stream",
     "text": [
      "<class 'pandas.core.frame.DataFrame'>\n",
      "Int64Index: 550017 entries, 0 to 550016\n",
      "Data columns (total 22 columns):\n",
      " #   Column                      Non-Null Count   Dtype  \n",
      "---  ------                      --------------   -----  \n",
      " 0   order_ID                    550017 non-null  object \n",
      " 1   user_ID                     550017 non-null  object \n",
      " 2   sku_ID                      550017 non-null  object \n",
      " 3   order_date                  550017 non-null  object \n",
      " 4   order_time                  550017 non-null  object \n",
      " 5   quantity                    550017 non-null  int64  \n",
      " 6   type_x                      550017 non-null  int64  \n",
      " 7   promise                     550017 non-null  object \n",
      " 8   original_unit_price         550017 non-null  float64\n",
      " 9   final_unit_price            550017 non-null  float64\n",
      " 10  direct_discount_per_unit    550017 non-null  float64\n",
      " 11  quantity_discount_per_unit  550017 non-null  float64\n",
      " 12  bundle_discount_per_unit    550017 non-null  float64\n",
      " 13  coupon_discount_per_unit    550017 non-null  float64\n",
      " 14  gift_item                   550017 non-null  int64  \n",
      " 15  dc_ori                      550017 non-null  int64  \n",
      " 16  dc_des                      550017 non-null  int64  \n",
      " 17  package_ID                  326862 non-null  object \n",
      " 18  type_y                      326862 non-null  float64\n",
      " 19  ship_out_time               326862 non-null  object \n",
      " 20  arr_station_time            326862 non-null  object \n",
      " 21  arr_time                    326862 non-null  object \n",
      "dtypes: float64(7), int64(5), object(10)\n",
      "memory usage: 96.5+ MB\n"
     ]
    }
   ],
   "source": [
    "Order_data_delivery_data_left_merged.info()"
   ]
  },
  {
   "cell_type": "code",
   "execution_count": 35,
   "id": "08721d37",
   "metadata": {},
   "outputs": [
    {
     "data": {
      "text/html": [
       "<div>\n",
       "<style scoped>\n",
       "    .dataframe tbody tr th:only-of-type {\n",
       "        vertical-align: middle;\n",
       "    }\n",
       "\n",
       "    .dataframe tbody tr th {\n",
       "        vertical-align: top;\n",
       "    }\n",
       "\n",
       "    .dataframe thead th {\n",
       "        text-align: right;\n",
       "    }\n",
       "</style>\n",
       "<table border=\"1\" class=\"dataframe\">\n",
       "  <thead>\n",
       "    <tr style=\"text-align: right;\">\n",
       "      <th></th>\n",
       "      <th>quantity</th>\n",
       "      <th>type_x</th>\n",
       "      <th>original_unit_price</th>\n",
       "      <th>final_unit_price</th>\n",
       "      <th>direct_discount_per_unit</th>\n",
       "      <th>quantity_discount_per_unit</th>\n",
       "      <th>bundle_discount_per_unit</th>\n",
       "      <th>coupon_discount_per_unit</th>\n",
       "      <th>gift_item</th>\n",
       "      <th>dc_ori</th>\n",
       "      <th>dc_des</th>\n",
       "      <th>type_y</th>\n",
       "    </tr>\n",
       "  </thead>\n",
       "  <tbody>\n",
       "    <tr>\n",
       "      <th>count</th>\n",
       "      <td>550017.000000</td>\n",
       "      <td>550017.000000</td>\n",
       "      <td>550017.000000</td>\n",
       "      <td>550017.000000</td>\n",
       "      <td>550017.000000</td>\n",
       "      <td>550017.000000</td>\n",
       "      <td>550017.000000</td>\n",
       "      <td>550017.000000</td>\n",
       "      <td>550017.000000</td>\n",
       "      <td>550017.000000</td>\n",
       "      <td>550017.000000</td>\n",
       "      <td>326862.000000</td>\n",
       "    </tr>\n",
       "    <tr>\n",
       "      <th>mean</th>\n",
       "      <td>1.216664</td>\n",
       "      <td>1.499165</td>\n",
       "      <td>102.811173</td>\n",
       "      <td>71.570670</td>\n",
       "      <td>19.845583</td>\n",
       "      <td>7.842990</td>\n",
       "      <td>0.625617</td>\n",
       "      <td>2.926312</td>\n",
       "      <td>0.172018</td>\n",
       "      <td>12.062494</td>\n",
       "      <td>21.679994</td>\n",
       "      <td>0.834046</td>\n",
       "    </tr>\n",
       "    <tr>\n",
       "      <th>std</th>\n",
       "      <td>1.844543</td>\n",
       "      <td>0.500000</td>\n",
       "      <td>95.034157</td>\n",
       "      <td>75.877931</td>\n",
       "      <td>33.592835</td>\n",
       "      <td>17.993983</td>\n",
       "      <td>6.442119</td>\n",
       "      <td>11.588546</td>\n",
       "      <td>0.377397</td>\n",
       "      <td>14.200940</td>\n",
       "      <td>16.973949</td>\n",
       "      <td>0.372040</td>\n",
       "    </tr>\n",
       "    <tr>\n",
       "      <th>min</th>\n",
       "      <td>1.000000</td>\n",
       "      <td>1.000000</td>\n",
       "      <td>0.000000</td>\n",
       "      <td>-32.000000</td>\n",
       "      <td>0.000000</td>\n",
       "      <td>0.000000</td>\n",
       "      <td>0.000000</td>\n",
       "      <td>0.000000</td>\n",
       "      <td>0.000000</td>\n",
       "      <td>1.000000</td>\n",
       "      <td>1.000000</td>\n",
       "      <td>0.000000</td>\n",
       "    </tr>\n",
       "    <tr>\n",
       "      <th>25%</th>\n",
       "      <td>1.000000</td>\n",
       "      <td>1.000000</td>\n",
       "      <td>59.000000</td>\n",
       "      <td>33.000000</td>\n",
       "      <td>0.000000</td>\n",
       "      <td>0.000000</td>\n",
       "      <td>0.000000</td>\n",
       "      <td>0.000000</td>\n",
       "      <td>0.000000</td>\n",
       "      <td>4.000000</td>\n",
       "      <td>5.000000</td>\n",
       "      <td>1.000000</td>\n",
       "    </tr>\n",
       "    <tr>\n",
       "      <th>50%</th>\n",
       "      <td>1.000000</td>\n",
       "      <td>1.000000</td>\n",
       "      <td>79.000000</td>\n",
       "      <td>58.000000</td>\n",
       "      <td>4.000000</td>\n",
       "      <td>0.000000</td>\n",
       "      <td>0.000000</td>\n",
       "      <td>0.000000</td>\n",
       "      <td>0.000000</td>\n",
       "      <td>7.000000</td>\n",
       "      <td>20.000000</td>\n",
       "      <td>1.000000</td>\n",
       "    </tr>\n",
       "    <tr>\n",
       "      <th>75%</th>\n",
       "      <td>1.000000</td>\n",
       "      <td>2.000000</td>\n",
       "      <td>139.000000</td>\n",
       "      <td>95.000000</td>\n",
       "      <td>21.000000</td>\n",
       "      <td>0.000000</td>\n",
       "      <td>0.000000</td>\n",
       "      <td>0.000000</td>\n",
       "      <td>0.000000</td>\n",
       "      <td>10.000000</td>\n",
       "      <td>34.000000</td>\n",
       "      <td>1.000000</td>\n",
       "    </tr>\n",
       "    <tr>\n",
       "      <th>max</th>\n",
       "      <td>400.000000</td>\n",
       "      <td>2.000000</td>\n",
       "      <td>12158.000000</td>\n",
       "      <td>12158.000000</td>\n",
       "      <td>720.000000</td>\n",
       "      <td>225.000000</td>\n",
       "      <td>252.000000</td>\n",
       "      <td>210.000000</td>\n",
       "      <td>1.000000</td>\n",
       "      <td>67.000000</td>\n",
       "      <td>67.000000</td>\n",
       "      <td>1.000000</td>\n",
       "    </tr>\n",
       "  </tbody>\n",
       "</table>\n",
       "</div>"
      ],
      "text/plain": [
       "            quantity         type_x  original_unit_price  final_unit_price  \\\n",
       "count  550017.000000  550017.000000        550017.000000     550017.000000   \n",
       "mean        1.216664       1.499165           102.811173         71.570670   \n",
       "std         1.844543       0.500000            95.034157         75.877931   \n",
       "min         1.000000       1.000000             0.000000        -32.000000   \n",
       "25%         1.000000       1.000000            59.000000         33.000000   \n",
       "50%         1.000000       1.000000            79.000000         58.000000   \n",
       "75%         1.000000       2.000000           139.000000         95.000000   \n",
       "max       400.000000       2.000000         12158.000000      12158.000000   \n",
       "\n",
       "       direct_discount_per_unit  quantity_discount_per_unit  \\\n",
       "count             550017.000000               550017.000000   \n",
       "mean                  19.845583                    7.842990   \n",
       "std                   33.592835                   17.993983   \n",
       "min                    0.000000                    0.000000   \n",
       "25%                    0.000000                    0.000000   \n",
       "50%                    4.000000                    0.000000   \n",
       "75%                   21.000000                    0.000000   \n",
       "max                  720.000000                  225.000000   \n",
       "\n",
       "       bundle_discount_per_unit  coupon_discount_per_unit      gift_item  \\\n",
       "count             550017.000000             550017.000000  550017.000000   \n",
       "mean                   0.625617                  2.926312       0.172018   \n",
       "std                    6.442119                 11.588546       0.377397   \n",
       "min                    0.000000                  0.000000       0.000000   \n",
       "25%                    0.000000                  0.000000       0.000000   \n",
       "50%                    0.000000                  0.000000       0.000000   \n",
       "75%                    0.000000                  0.000000       0.000000   \n",
       "max                  252.000000                210.000000       1.000000   \n",
       "\n",
       "              dc_ori         dc_des         type_y  \n",
       "count  550017.000000  550017.000000  326862.000000  \n",
       "mean       12.062494      21.679994       0.834046  \n",
       "std        14.200940      16.973949       0.372040  \n",
       "min         1.000000       1.000000       0.000000  \n",
       "25%         4.000000       5.000000       1.000000  \n",
       "50%         7.000000      20.000000       1.000000  \n",
       "75%        10.000000      34.000000       1.000000  \n",
       "max        67.000000      67.000000       1.000000  "
      ]
     },
     "execution_count": 35,
     "metadata": {},
     "output_type": "execute_result"
    }
   ],
   "source": [
    "Order_data_delivery_data_left_merged.describe()"
   ]
  },
  {
   "cell_type": "markdown",
   "id": "b96e04d2",
   "metadata": {},
   "source": [
    "### Assignment 9 starts here. Q11 - Q20."
   ]
  },
  {
   "cell_type": "markdown",
   "id": "5f47c320",
   "metadata": {},
   "source": [
    "In this part, we prepare the data for analysis."
   ]
  },
  {
   "cell_type": "markdown",
   "id": "a3c58838",
   "metadata": {},
   "source": [
    "11. First, we need to clean the merged order and delivery table.<br>\n",
    "Identify the table from the inner merge in Q8. Take a look at it. You may find there are two variables: type_x and type_y, which were not in the original two tables.<br>\n",
    "The reason is that there is a type variable in both orders and delivery tables. The merge keeps both and assigned x and y suffix to them.<br>\n",
    "Check the meaning of the two variables in our data description.<br>\n",
    "To make the two variables consistent, we can replace the values of one variable to match the other."
   ]
  },
  {
   "cell_type": "code",
   "execution_count": 36,
   "id": "45855a47",
   "metadata": {},
   "outputs": [],
   "source": [
    "Order_data_delivery_data_inner_merged['type_y'] = Order_data_delivery_data_inner_merged['type_x']"
   ]
  },
  {
   "cell_type": "markdown",
   "id": "71e74326",
   "metadata": {},
   "source": [
    "Then compare the values of the two variables are the same."
   ]
  },
  {
   "cell_type": "code",
   "execution_count": 37,
   "id": "4a5a220e",
   "metadata": {},
   "outputs": [
    {
     "data": {
      "text/plain": [
       "True"
      ]
     },
     "execution_count": 37,
     "metadata": {},
     "output_type": "execute_result"
    }
   ],
   "source": [
    "Are_the_values_same = Order_data_delivery_data_inner_merged['type_x'].equals (Order_data_delivery_data_inner_merged['type_y'])\n",
    "\n",
    "Are_the_values_same"
   ]
  },
  {
   "cell_type": "markdown",
   "id": "caa13f03",
   "metadata": {},
   "source": [
    "If they are, please drop one of them."
   ]
  },
  {
   "cell_type": "code",
   "execution_count": 38,
   "id": "ddb5d3d9",
   "metadata": {},
   "outputs": [
    {
     "data": {
      "text/html": [
       "<div>\n",
       "<style scoped>\n",
       "    .dataframe tbody tr th:only-of-type {\n",
       "        vertical-align: middle;\n",
       "    }\n",
       "\n",
       "    .dataframe tbody tr th {\n",
       "        vertical-align: top;\n",
       "    }\n",
       "\n",
       "    .dataframe thead th {\n",
       "        text-align: right;\n",
       "    }\n",
       "</style>\n",
       "<table border=\"1\" class=\"dataframe\">\n",
       "  <thead>\n",
       "    <tr style=\"text-align: right;\">\n",
       "      <th></th>\n",
       "      <th>order_ID</th>\n",
       "      <th>user_ID</th>\n",
       "      <th>sku_ID</th>\n",
       "      <th>order_date</th>\n",
       "      <th>order_time</th>\n",
       "      <th>quantity</th>\n",
       "      <th>type_x</th>\n",
       "      <th>promise</th>\n",
       "      <th>original_unit_price</th>\n",
       "      <th>final_unit_price</th>\n",
       "      <th>...</th>\n",
       "      <th>quantity_discount_per_unit</th>\n",
       "      <th>bundle_discount_per_unit</th>\n",
       "      <th>coupon_discount_per_unit</th>\n",
       "      <th>gift_item</th>\n",
       "      <th>dc_ori</th>\n",
       "      <th>dc_des</th>\n",
       "      <th>package_ID</th>\n",
       "      <th>ship_out_time</th>\n",
       "      <th>arr_station_time</th>\n",
       "      <th>arr_time</th>\n",
       "    </tr>\n",
       "  </thead>\n",
       "  <tbody>\n",
       "    <tr>\n",
       "      <th>0</th>\n",
       "      <td>7444318d01</td>\n",
       "      <td>33a9e56257</td>\n",
       "      <td>067b673f2b</td>\n",
       "      <td>2018-03-01</td>\n",
       "      <td>2018-03-01 11:10:40.0</td>\n",
       "      <td>1</td>\n",
       "      <td>1</td>\n",
       "      <td>2</td>\n",
       "      <td>99.9</td>\n",
       "      <td>53.9</td>\n",
       "      <td>...</td>\n",
       "      <td>41.0</td>\n",
       "      <td>0.0</td>\n",
       "      <td>0.0</td>\n",
       "      <td>0</td>\n",
       "      <td>28</td>\n",
       "      <td>28</td>\n",
       "      <td>7444318d01</td>\n",
       "      <td>2018-03-01 13:00:00</td>\n",
       "      <td>2018-03-02 08:00:00</td>\n",
       "      <td>2018-03-02 14:00:00</td>\n",
       "    </tr>\n",
       "    <tr>\n",
       "      <th>1</th>\n",
       "      <td>f973b01694</td>\n",
       "      <td>4ea3cf408f</td>\n",
       "      <td>623d0a582a</td>\n",
       "      <td>2018-03-01</td>\n",
       "      <td>2018-03-01 09:13:26.0</td>\n",
       "      <td>1</td>\n",
       "      <td>1</td>\n",
       "      <td>2</td>\n",
       "      <td>78.0</td>\n",
       "      <td>58.5</td>\n",
       "      <td>...</td>\n",
       "      <td>0.0</td>\n",
       "      <td>0.0</td>\n",
       "      <td>0.0</td>\n",
       "      <td>0</td>\n",
       "      <td>28</td>\n",
       "      <td>28</td>\n",
       "      <td>f973b01694</td>\n",
       "      <td>2018-03-01 14:00:00</td>\n",
       "      <td>2018-03-02 09:00:00</td>\n",
       "      <td>2018-03-02 13:00:00</td>\n",
       "    </tr>\n",
       "    <tr>\n",
       "      <th>2</th>\n",
       "      <td>8c1cec8d4b</td>\n",
       "      <td>b87cb736cb</td>\n",
       "      <td>fc5289b139</td>\n",
       "      <td>2018-03-01</td>\n",
       "      <td>2018-03-01 21:29:50.0</td>\n",
       "      <td>1</td>\n",
       "      <td>1</td>\n",
       "      <td>2</td>\n",
       "      <td>61.0</td>\n",
       "      <td>35.0</td>\n",
       "      <td>...</td>\n",
       "      <td>26.0</td>\n",
       "      <td>0.0</td>\n",
       "      <td>0.0</td>\n",
       "      <td>0</td>\n",
       "      <td>4</td>\n",
       "      <td>28</td>\n",
       "      <td>8c1cec8d4b</td>\n",
       "      <td>2018-03-02 09:00:00</td>\n",
       "      <td>2018-03-03 08:00:00</td>\n",
       "      <td>2018-03-04 11:00:00</td>\n",
       "    </tr>\n",
       "    <tr>\n",
       "      <th>3</th>\n",
       "      <td>d43a33c38a</td>\n",
       "      <td>4829223b6f</td>\n",
       "      <td>623d0a582a</td>\n",
       "      <td>2018-03-01</td>\n",
       "      <td>2018-03-01 19:13:37.0</td>\n",
       "      <td>1</td>\n",
       "      <td>1</td>\n",
       "      <td>1</td>\n",
       "      <td>78.0</td>\n",
       "      <td>53.0</td>\n",
       "      <td>...</td>\n",
       "      <td>0.0</td>\n",
       "      <td>0.0</td>\n",
       "      <td>6.0</td>\n",
       "      <td>0</td>\n",
       "      <td>3</td>\n",
       "      <td>16</td>\n",
       "      <td>d43a33c38a</td>\n",
       "      <td>2018-03-01 20:00:00</td>\n",
       "      <td>2018-03-02 07:00:00</td>\n",
       "      <td>2018-03-02 11:00:00</td>\n",
       "    </tr>\n",
       "    <tr>\n",
       "      <th>4</th>\n",
       "      <td>e0f5386d87</td>\n",
       "      <td>0b07cae293</td>\n",
       "      <td>589c2b865b</td>\n",
       "      <td>2018-03-01</td>\n",
       "      <td>2018-03-01 21:09:15.0</td>\n",
       "      <td>1</td>\n",
       "      <td>1</td>\n",
       "      <td>1</td>\n",
       "      <td>79.9</td>\n",
       "      <td>38.9</td>\n",
       "      <td>...</td>\n",
       "      <td>37.0</td>\n",
       "      <td>0.0</td>\n",
       "      <td>0.0</td>\n",
       "      <td>0</td>\n",
       "      <td>3</td>\n",
       "      <td>16</td>\n",
       "      <td>e0f5386d87</td>\n",
       "      <td>2018-03-01 22:00:00</td>\n",
       "      <td>2018-03-02 09:00:00</td>\n",
       "      <td>2018-03-02 12:00:00</td>\n",
       "    </tr>\n",
       "  </tbody>\n",
       "</table>\n",
       "<p>5 rows × 21 columns</p>\n",
       "</div>"
      ],
      "text/plain": [
       "     order_ID     user_ID      sku_ID  order_date             order_time  \\\n",
       "0  7444318d01  33a9e56257  067b673f2b  2018-03-01  2018-03-01 11:10:40.0   \n",
       "1  f973b01694  4ea3cf408f  623d0a582a  2018-03-01  2018-03-01 09:13:26.0   \n",
       "2  8c1cec8d4b  b87cb736cb  fc5289b139  2018-03-01  2018-03-01 21:29:50.0   \n",
       "3  d43a33c38a  4829223b6f  623d0a582a  2018-03-01  2018-03-01 19:13:37.0   \n",
       "4  e0f5386d87  0b07cae293  589c2b865b  2018-03-01  2018-03-01 21:09:15.0   \n",
       "\n",
       "   quantity  type_x promise  original_unit_price  final_unit_price  ...  \\\n",
       "0         1       1       2                 99.9              53.9  ...   \n",
       "1         1       1       2                 78.0              58.5  ...   \n",
       "2         1       1       2                 61.0              35.0  ...   \n",
       "3         1       1       1                 78.0              53.0  ...   \n",
       "4         1       1       1                 79.9              38.9  ...   \n",
       "\n",
       "   quantity_discount_per_unit  bundle_discount_per_unit  \\\n",
       "0                        41.0                       0.0   \n",
       "1                         0.0                       0.0   \n",
       "2                        26.0                       0.0   \n",
       "3                         0.0                       0.0   \n",
       "4                        37.0                       0.0   \n",
       "\n",
       "   coupon_discount_per_unit  gift_item  dc_ori  dc_des  package_ID  \\\n",
       "0                       0.0          0      28      28  7444318d01   \n",
       "1                       0.0          0      28      28  f973b01694   \n",
       "2                       0.0          0       4      28  8c1cec8d4b   \n",
       "3                       6.0          0       3      16  d43a33c38a   \n",
       "4                       0.0          0       3      16  e0f5386d87   \n",
       "\n",
       "         ship_out_time     arr_station_time             arr_time  \n",
       "0  2018-03-01 13:00:00  2018-03-02 08:00:00  2018-03-02 14:00:00  \n",
       "1  2018-03-01 14:00:00  2018-03-02 09:00:00  2018-03-02 13:00:00  \n",
       "2  2018-03-02 09:00:00  2018-03-03 08:00:00  2018-03-04 11:00:00  \n",
       "3  2018-03-01 20:00:00  2018-03-02 07:00:00  2018-03-02 11:00:00  \n",
       "4  2018-03-01 22:00:00  2018-03-02 09:00:00  2018-03-02 12:00:00  \n",
       "\n",
       "[5 rows x 21 columns]"
      ]
     },
     "execution_count": 38,
     "metadata": {},
     "output_type": "execute_result"
    }
   ],
   "source": [
    "import pandas as pd\n",
    "\n",
    "order_data = pd.read_csv('C:\\\\Users\\\\prana\\\\Downloads\\\\JD Data (2)\\\\JD Data\\\\JD_order_data.csv')\n",
    "\n",
    "Order_data_delivery_data_inner_merged = Order_data_delivery_data_inner_merged.drop(['type_y'], axis = 1, errors = 'ignore')\n",
    "\n",
    "Order_data_delivery_data_inner_merged.head()"
   ]
  },
  {
   "cell_type": "markdown",
   "id": "64cefd13",
   "metadata": {},
   "source": [
    "12. We need to remove the orders that <br>\n",
    "1) has a single item; <br>\n",
    "2) the item is a gift item;<br>\n",
    "\n",
    "The reason is that those orders might have come from other product categories and only use products from current category as a gift. We do not have information about those orders."
   ]
  },
  {
   "cell_type": "markdown",
   "id": "f9338863",
   "metadata": {},
   "source": [
    "We first find orders with order_ID only appears once in the data, which indicates this order contains a single item.<br>\n",
    "Hint: you may use .duplicated() method to mark that. Think about which value of the argument 'keep' you want to choose. Consider saving the outcome as a variable."
   ]
  },
  {
   "cell_type": "code",
   "execution_count": 39,
   "id": "4dc1e8c7",
   "metadata": {},
   "outputs": [
    {
     "data": {
      "text/html": [
       "<div>\n",
       "<style scoped>\n",
       "    .dataframe tbody tr th:only-of-type {\n",
       "        vertical-align: middle;\n",
       "    }\n",
       "\n",
       "    .dataframe tbody tr th {\n",
       "        vertical-align: top;\n",
       "    }\n",
       "\n",
       "    .dataframe thead th {\n",
       "        text-align: right;\n",
       "    }\n",
       "</style>\n",
       "<table border=\"1\" class=\"dataframe\">\n",
       "  <thead>\n",
       "    <tr style=\"text-align: right;\">\n",
       "      <th></th>\n",
       "      <th>order_ID</th>\n",
       "      <th>user_ID</th>\n",
       "      <th>sku_ID</th>\n",
       "      <th>order_date</th>\n",
       "      <th>order_time</th>\n",
       "      <th>quantity</th>\n",
       "      <th>type_x</th>\n",
       "      <th>promise</th>\n",
       "      <th>original_unit_price</th>\n",
       "      <th>final_unit_price</th>\n",
       "      <th>...</th>\n",
       "      <th>bundle_discount_per_unit</th>\n",
       "      <th>coupon_discount_per_unit</th>\n",
       "      <th>gift_item</th>\n",
       "      <th>dc_ori</th>\n",
       "      <th>dc_des</th>\n",
       "      <th>package_ID</th>\n",
       "      <th>ship_out_time</th>\n",
       "      <th>arr_station_time</th>\n",
       "      <th>arr_time</th>\n",
       "      <th>Single Item</th>\n",
       "    </tr>\n",
       "  </thead>\n",
       "  <tbody>\n",
       "    <tr>\n",
       "      <th>0</th>\n",
       "      <td>7444318d01</td>\n",
       "      <td>33a9e56257</td>\n",
       "      <td>067b673f2b</td>\n",
       "      <td>2018-03-01</td>\n",
       "      <td>2018-03-01 11:10:40.0</td>\n",
       "      <td>1</td>\n",
       "      <td>1</td>\n",
       "      <td>2</td>\n",
       "      <td>99.9</td>\n",
       "      <td>53.9</td>\n",
       "      <td>...</td>\n",
       "      <td>0.0</td>\n",
       "      <td>0.0</td>\n",
       "      <td>0</td>\n",
       "      <td>28</td>\n",
       "      <td>28</td>\n",
       "      <td>7444318d01</td>\n",
       "      <td>2018-03-01 13:00:00</td>\n",
       "      <td>2018-03-02 08:00:00</td>\n",
       "      <td>2018-03-02 14:00:00</td>\n",
       "      <td>False</td>\n",
       "    </tr>\n",
       "    <tr>\n",
       "      <th>1</th>\n",
       "      <td>f973b01694</td>\n",
       "      <td>4ea3cf408f</td>\n",
       "      <td>623d0a582a</td>\n",
       "      <td>2018-03-01</td>\n",
       "      <td>2018-03-01 09:13:26.0</td>\n",
       "      <td>1</td>\n",
       "      <td>1</td>\n",
       "      <td>2</td>\n",
       "      <td>78.0</td>\n",
       "      <td>58.5</td>\n",
       "      <td>...</td>\n",
       "      <td>0.0</td>\n",
       "      <td>0.0</td>\n",
       "      <td>0</td>\n",
       "      <td>28</td>\n",
       "      <td>28</td>\n",
       "      <td>f973b01694</td>\n",
       "      <td>2018-03-01 14:00:00</td>\n",
       "      <td>2018-03-02 09:00:00</td>\n",
       "      <td>2018-03-02 13:00:00</td>\n",
       "      <td>False</td>\n",
       "    </tr>\n",
       "    <tr>\n",
       "      <th>2</th>\n",
       "      <td>8c1cec8d4b</td>\n",
       "      <td>b87cb736cb</td>\n",
       "      <td>fc5289b139</td>\n",
       "      <td>2018-03-01</td>\n",
       "      <td>2018-03-01 21:29:50.0</td>\n",
       "      <td>1</td>\n",
       "      <td>1</td>\n",
       "      <td>2</td>\n",
       "      <td>61.0</td>\n",
       "      <td>35.0</td>\n",
       "      <td>...</td>\n",
       "      <td>0.0</td>\n",
       "      <td>0.0</td>\n",
       "      <td>0</td>\n",
       "      <td>4</td>\n",
       "      <td>28</td>\n",
       "      <td>8c1cec8d4b</td>\n",
       "      <td>2018-03-02 09:00:00</td>\n",
       "      <td>2018-03-03 08:00:00</td>\n",
       "      <td>2018-03-04 11:00:00</td>\n",
       "      <td>False</td>\n",
       "    </tr>\n",
       "    <tr>\n",
       "      <th>3</th>\n",
       "      <td>d43a33c38a</td>\n",
       "      <td>4829223b6f</td>\n",
       "      <td>623d0a582a</td>\n",
       "      <td>2018-03-01</td>\n",
       "      <td>2018-03-01 19:13:37.0</td>\n",
       "      <td>1</td>\n",
       "      <td>1</td>\n",
       "      <td>1</td>\n",
       "      <td>78.0</td>\n",
       "      <td>53.0</td>\n",
       "      <td>...</td>\n",
       "      <td>0.0</td>\n",
       "      <td>6.0</td>\n",
       "      <td>0</td>\n",
       "      <td>3</td>\n",
       "      <td>16</td>\n",
       "      <td>d43a33c38a</td>\n",
       "      <td>2018-03-01 20:00:00</td>\n",
       "      <td>2018-03-02 07:00:00</td>\n",
       "      <td>2018-03-02 11:00:00</td>\n",
       "      <td>False</td>\n",
       "    </tr>\n",
       "    <tr>\n",
       "      <th>4</th>\n",
       "      <td>e0f5386d87</td>\n",
       "      <td>0b07cae293</td>\n",
       "      <td>589c2b865b</td>\n",
       "      <td>2018-03-01</td>\n",
       "      <td>2018-03-01 21:09:15.0</td>\n",
       "      <td>1</td>\n",
       "      <td>1</td>\n",
       "      <td>1</td>\n",
       "      <td>79.9</td>\n",
       "      <td>38.9</td>\n",
       "      <td>...</td>\n",
       "      <td>0.0</td>\n",
       "      <td>0.0</td>\n",
       "      <td>0</td>\n",
       "      <td>3</td>\n",
       "      <td>16</td>\n",
       "      <td>e0f5386d87</td>\n",
       "      <td>2018-03-01 22:00:00</td>\n",
       "      <td>2018-03-02 09:00:00</td>\n",
       "      <td>2018-03-02 12:00:00</td>\n",
       "      <td>False</td>\n",
       "    </tr>\n",
       "  </tbody>\n",
       "</table>\n",
       "<p>5 rows × 22 columns</p>\n",
       "</div>"
      ],
      "text/plain": [
       "     order_ID     user_ID      sku_ID  order_date             order_time  \\\n",
       "0  7444318d01  33a9e56257  067b673f2b  2018-03-01  2018-03-01 11:10:40.0   \n",
       "1  f973b01694  4ea3cf408f  623d0a582a  2018-03-01  2018-03-01 09:13:26.0   \n",
       "2  8c1cec8d4b  b87cb736cb  fc5289b139  2018-03-01  2018-03-01 21:29:50.0   \n",
       "3  d43a33c38a  4829223b6f  623d0a582a  2018-03-01  2018-03-01 19:13:37.0   \n",
       "4  e0f5386d87  0b07cae293  589c2b865b  2018-03-01  2018-03-01 21:09:15.0   \n",
       "\n",
       "   quantity  type_x promise  original_unit_price  final_unit_price  ...  \\\n",
       "0         1       1       2                 99.9              53.9  ...   \n",
       "1         1       1       2                 78.0              58.5  ...   \n",
       "2         1       1       2                 61.0              35.0  ...   \n",
       "3         1       1       1                 78.0              53.0  ...   \n",
       "4         1       1       1                 79.9              38.9  ...   \n",
       "\n",
       "   bundle_discount_per_unit  coupon_discount_per_unit  gift_item  dc_ori  \\\n",
       "0                       0.0                       0.0          0      28   \n",
       "1                       0.0                       0.0          0      28   \n",
       "2                       0.0                       0.0          0       4   \n",
       "3                       0.0                       6.0          0       3   \n",
       "4                       0.0                       0.0          0       3   \n",
       "\n",
       "   dc_des  package_ID        ship_out_time     arr_station_time  \\\n",
       "0      28  7444318d01  2018-03-01 13:00:00  2018-03-02 08:00:00   \n",
       "1      28  f973b01694  2018-03-01 14:00:00  2018-03-02 09:00:00   \n",
       "2      28  8c1cec8d4b  2018-03-02 09:00:00  2018-03-03 08:00:00   \n",
       "3      16  d43a33c38a  2018-03-01 20:00:00  2018-03-02 07:00:00   \n",
       "4      16  e0f5386d87  2018-03-01 22:00:00  2018-03-02 09:00:00   \n",
       "\n",
       "              arr_time Single Item  \n",
       "0  2018-03-02 14:00:00       False  \n",
       "1  2018-03-02 13:00:00       False  \n",
       "2  2018-03-04 11:00:00       False  \n",
       "3  2018-03-02 11:00:00       False  \n",
       "4  2018-03-02 12:00:00       False  \n",
       "\n",
       "[5 rows x 22 columns]"
      ]
     },
     "execution_count": 39,
     "metadata": {},
     "output_type": "execute_result"
    }
   ],
   "source": [
    "Order_data_delivery_data_inner_merged['Single Item'] = Order_data_delivery_data_inner_merged.duplicated(subset=['order_ID'], keep=False)\n",
    "Orders_with_single_item = Order_data_delivery_data_inner_merged['Single Item']\n",
    "Order_data_delivery_data_inner_merged.head()"
   ]
  },
  {
   "cell_type": "markdown",
   "id": "e4ca8fbb",
   "metadata": {},
   "source": [
    "Then we filter the data to remove those orders of a single gift item. Save the changes."
   ]
  },
  {
   "cell_type": "code",
   "execution_count": 40,
   "id": "e59c8837",
   "metadata": {},
   "outputs": [
    {
     "data": {
      "text/html": [
       "<div>\n",
       "<style scoped>\n",
       "    .dataframe tbody tr th:only-of-type {\n",
       "        vertical-align: middle;\n",
       "    }\n",
       "\n",
       "    .dataframe tbody tr th {\n",
       "        vertical-align: top;\n",
       "    }\n",
       "\n",
       "    .dataframe thead th {\n",
       "        text-align: right;\n",
       "    }\n",
       "</style>\n",
       "<table border=\"1\" class=\"dataframe\">\n",
       "  <thead>\n",
       "    <tr style=\"text-align: right;\">\n",
       "      <th></th>\n",
       "      <th>order_ID</th>\n",
       "      <th>user_ID</th>\n",
       "      <th>sku_ID</th>\n",
       "      <th>order_date</th>\n",
       "      <th>order_time</th>\n",
       "      <th>quantity</th>\n",
       "      <th>type_x</th>\n",
       "      <th>promise</th>\n",
       "      <th>original_unit_price</th>\n",
       "      <th>final_unit_price</th>\n",
       "      <th>...</th>\n",
       "      <th>bundle_discount_per_unit</th>\n",
       "      <th>coupon_discount_per_unit</th>\n",
       "      <th>gift_item</th>\n",
       "      <th>dc_ori</th>\n",
       "      <th>dc_des</th>\n",
       "      <th>package_ID</th>\n",
       "      <th>ship_out_time</th>\n",
       "      <th>arr_station_time</th>\n",
       "      <th>arr_time</th>\n",
       "      <th>Single Item</th>\n",
       "    </tr>\n",
       "  </thead>\n",
       "  <tbody>\n",
       "    <tr>\n",
       "      <th>0</th>\n",
       "      <td>7444318d01</td>\n",
       "      <td>33a9e56257</td>\n",
       "      <td>067b673f2b</td>\n",
       "      <td>2018-03-01</td>\n",
       "      <td>2018-03-01 11:10:40.0</td>\n",
       "      <td>1</td>\n",
       "      <td>1</td>\n",
       "      <td>2</td>\n",
       "      <td>99.9</td>\n",
       "      <td>53.9</td>\n",
       "      <td>...</td>\n",
       "      <td>0.0</td>\n",
       "      <td>0.0</td>\n",
       "      <td>0</td>\n",
       "      <td>28</td>\n",
       "      <td>28</td>\n",
       "      <td>7444318d01</td>\n",
       "      <td>2018-03-01 13:00:00</td>\n",
       "      <td>2018-03-02 08:00:00</td>\n",
       "      <td>2018-03-02 14:00:00</td>\n",
       "      <td>False</td>\n",
       "    </tr>\n",
       "    <tr>\n",
       "      <th>1</th>\n",
       "      <td>f973b01694</td>\n",
       "      <td>4ea3cf408f</td>\n",
       "      <td>623d0a582a</td>\n",
       "      <td>2018-03-01</td>\n",
       "      <td>2018-03-01 09:13:26.0</td>\n",
       "      <td>1</td>\n",
       "      <td>1</td>\n",
       "      <td>2</td>\n",
       "      <td>78.0</td>\n",
       "      <td>58.5</td>\n",
       "      <td>...</td>\n",
       "      <td>0.0</td>\n",
       "      <td>0.0</td>\n",
       "      <td>0</td>\n",
       "      <td>28</td>\n",
       "      <td>28</td>\n",
       "      <td>f973b01694</td>\n",
       "      <td>2018-03-01 14:00:00</td>\n",
       "      <td>2018-03-02 09:00:00</td>\n",
       "      <td>2018-03-02 13:00:00</td>\n",
       "      <td>False</td>\n",
       "    </tr>\n",
       "    <tr>\n",
       "      <th>2</th>\n",
       "      <td>8c1cec8d4b</td>\n",
       "      <td>b87cb736cb</td>\n",
       "      <td>fc5289b139</td>\n",
       "      <td>2018-03-01</td>\n",
       "      <td>2018-03-01 21:29:50.0</td>\n",
       "      <td>1</td>\n",
       "      <td>1</td>\n",
       "      <td>2</td>\n",
       "      <td>61.0</td>\n",
       "      <td>35.0</td>\n",
       "      <td>...</td>\n",
       "      <td>0.0</td>\n",
       "      <td>0.0</td>\n",
       "      <td>0</td>\n",
       "      <td>4</td>\n",
       "      <td>28</td>\n",
       "      <td>8c1cec8d4b</td>\n",
       "      <td>2018-03-02 09:00:00</td>\n",
       "      <td>2018-03-03 08:00:00</td>\n",
       "      <td>2018-03-04 11:00:00</td>\n",
       "      <td>False</td>\n",
       "    </tr>\n",
       "    <tr>\n",
       "      <th>3</th>\n",
       "      <td>d43a33c38a</td>\n",
       "      <td>4829223b6f</td>\n",
       "      <td>623d0a582a</td>\n",
       "      <td>2018-03-01</td>\n",
       "      <td>2018-03-01 19:13:37.0</td>\n",
       "      <td>1</td>\n",
       "      <td>1</td>\n",
       "      <td>1</td>\n",
       "      <td>78.0</td>\n",
       "      <td>53.0</td>\n",
       "      <td>...</td>\n",
       "      <td>0.0</td>\n",
       "      <td>6.0</td>\n",
       "      <td>0</td>\n",
       "      <td>3</td>\n",
       "      <td>16</td>\n",
       "      <td>d43a33c38a</td>\n",
       "      <td>2018-03-01 20:00:00</td>\n",
       "      <td>2018-03-02 07:00:00</td>\n",
       "      <td>2018-03-02 11:00:00</td>\n",
       "      <td>False</td>\n",
       "    </tr>\n",
       "    <tr>\n",
       "      <th>4</th>\n",
       "      <td>e0f5386d87</td>\n",
       "      <td>0b07cae293</td>\n",
       "      <td>589c2b865b</td>\n",
       "      <td>2018-03-01</td>\n",
       "      <td>2018-03-01 21:09:15.0</td>\n",
       "      <td>1</td>\n",
       "      <td>1</td>\n",
       "      <td>1</td>\n",
       "      <td>79.9</td>\n",
       "      <td>38.9</td>\n",
       "      <td>...</td>\n",
       "      <td>0.0</td>\n",
       "      <td>0.0</td>\n",
       "      <td>0</td>\n",
       "      <td>3</td>\n",
       "      <td>16</td>\n",
       "      <td>e0f5386d87</td>\n",
       "      <td>2018-03-01 22:00:00</td>\n",
       "      <td>2018-03-02 09:00:00</td>\n",
       "      <td>2018-03-02 12:00:00</td>\n",
       "      <td>False</td>\n",
       "    </tr>\n",
       "  </tbody>\n",
       "</table>\n",
       "<p>5 rows × 22 columns</p>\n",
       "</div>"
      ],
      "text/plain": [
       "     order_ID     user_ID      sku_ID  order_date             order_time  \\\n",
       "0  7444318d01  33a9e56257  067b673f2b  2018-03-01  2018-03-01 11:10:40.0   \n",
       "1  f973b01694  4ea3cf408f  623d0a582a  2018-03-01  2018-03-01 09:13:26.0   \n",
       "2  8c1cec8d4b  b87cb736cb  fc5289b139  2018-03-01  2018-03-01 21:29:50.0   \n",
       "3  d43a33c38a  4829223b6f  623d0a582a  2018-03-01  2018-03-01 19:13:37.0   \n",
       "4  e0f5386d87  0b07cae293  589c2b865b  2018-03-01  2018-03-01 21:09:15.0   \n",
       "\n",
       "   quantity  type_x promise  original_unit_price  final_unit_price  ...  \\\n",
       "0         1       1       2                 99.9              53.9  ...   \n",
       "1         1       1       2                 78.0              58.5  ...   \n",
       "2         1       1       2                 61.0              35.0  ...   \n",
       "3         1       1       1                 78.0              53.0  ...   \n",
       "4         1       1       1                 79.9              38.9  ...   \n",
       "\n",
       "   bundle_discount_per_unit  coupon_discount_per_unit  gift_item  dc_ori  \\\n",
       "0                       0.0                       0.0          0      28   \n",
       "1                       0.0                       0.0          0      28   \n",
       "2                       0.0                       0.0          0       4   \n",
       "3                       0.0                       6.0          0       3   \n",
       "4                       0.0                       0.0          0       3   \n",
       "\n",
       "   dc_des  package_ID        ship_out_time     arr_station_time  \\\n",
       "0      28  7444318d01  2018-03-01 13:00:00  2018-03-02 08:00:00   \n",
       "1      28  f973b01694  2018-03-01 14:00:00  2018-03-02 09:00:00   \n",
       "2      28  8c1cec8d4b  2018-03-02 09:00:00  2018-03-03 08:00:00   \n",
       "3      16  d43a33c38a  2018-03-01 20:00:00  2018-03-02 07:00:00   \n",
       "4      16  e0f5386d87  2018-03-01 22:00:00  2018-03-02 09:00:00   \n",
       "\n",
       "              arr_time Single Item  \n",
       "0  2018-03-02 14:00:00       False  \n",
       "1  2018-03-02 13:00:00       False  \n",
       "2  2018-03-04 11:00:00       False  \n",
       "3  2018-03-02 11:00:00       False  \n",
       "4  2018-03-02 12:00:00       False  \n",
       "\n",
       "[5 rows x 22 columns]"
      ]
     },
     "execution_count": 40,
     "metadata": {},
     "output_type": "execute_result"
    }
   ],
   "source": [
    "single_gift_orders = (Order_data_delivery_data_inner_merged['quantity'] == 1) & (Order_data_delivery_data_inner_merged['gift_item'] == 1)\n",
    "filtered_order_data_delivery_data = Order_data_delivery_data_inner_merged[~(Orders_with_single_item & single_gift_orders)]\n",
    "filtered_order_data_delivery_data.to_csv('filtered_order_data_delivery_data.csv', index=False)\n",
    "filtered_order_data_delivery_data.head()"
   ]
  },
  {
   "cell_type": "markdown",
   "id": "a6834bef",
   "metadata": {},
   "source": [
    "13. Next, we remove orders with multiple packages. Hint: You may groupby order_ID, find the number of unique package_ID ('nunique') and then use transform() to broadcast the value to all record. Save the results as a new variable. Use the variable value to filter."
   ]
  },
  {
   "cell_type": "code",
   "execution_count": 41,
   "id": "d04379c4",
   "metadata": {},
   "outputs": [
    {
     "name": "stderr",
     "output_type": "stream",
     "text": [
      "C:\\Users\\prana\\AppData\\Local\\Temp\\ipykernel_14956\\1429270093.py:2: SettingWithCopyWarning: \n",
      "A value is trying to be set on a copy of a slice from a DataFrame.\n",
      "Try using .loc[row_indexer,col_indexer] = value instead\n",
      "\n",
      "See the caveats in the documentation: https://pandas.pydata.org/pandas-docs/stable/user_guide/indexing.html#returning-a-view-versus-a-copy\n",
      "  filtered_order_data_delivery_data['unique_package_count'] = filtered_order_data_delivery_data.groupby('order_ID')['package_ID'].transform('nunique')\n"
     ]
    },
    {
     "data": {
      "text/html": [
       "<div>\n",
       "<style scoped>\n",
       "    .dataframe tbody tr th:only-of-type {\n",
       "        vertical-align: middle;\n",
       "    }\n",
       "\n",
       "    .dataframe tbody tr th {\n",
       "        vertical-align: top;\n",
       "    }\n",
       "\n",
       "    .dataframe thead th {\n",
       "        text-align: right;\n",
       "    }\n",
       "</style>\n",
       "<table border=\"1\" class=\"dataframe\">\n",
       "  <thead>\n",
       "    <tr style=\"text-align: right;\">\n",
       "      <th></th>\n",
       "      <th>order_ID</th>\n",
       "      <th>user_ID</th>\n",
       "      <th>sku_ID</th>\n",
       "      <th>order_date</th>\n",
       "      <th>order_time</th>\n",
       "      <th>quantity</th>\n",
       "      <th>type_x</th>\n",
       "      <th>promise</th>\n",
       "      <th>original_unit_price</th>\n",
       "      <th>final_unit_price</th>\n",
       "      <th>...</th>\n",
       "      <th>coupon_discount_per_unit</th>\n",
       "      <th>gift_item</th>\n",
       "      <th>dc_ori</th>\n",
       "      <th>dc_des</th>\n",
       "      <th>package_ID</th>\n",
       "      <th>ship_out_time</th>\n",
       "      <th>arr_station_time</th>\n",
       "      <th>arr_time</th>\n",
       "      <th>Single Item</th>\n",
       "      <th>unique_package_count</th>\n",
       "    </tr>\n",
       "  </thead>\n",
       "  <tbody>\n",
       "    <tr>\n",
       "      <th>0</th>\n",
       "      <td>7444318d01</td>\n",
       "      <td>33a9e56257</td>\n",
       "      <td>067b673f2b</td>\n",
       "      <td>2018-03-01</td>\n",
       "      <td>2018-03-01 11:10:40.0</td>\n",
       "      <td>1</td>\n",
       "      <td>1</td>\n",
       "      <td>2</td>\n",
       "      <td>99.9</td>\n",
       "      <td>53.9</td>\n",
       "      <td>...</td>\n",
       "      <td>0.0</td>\n",
       "      <td>0</td>\n",
       "      <td>28</td>\n",
       "      <td>28</td>\n",
       "      <td>7444318d01</td>\n",
       "      <td>2018-03-01 13:00:00</td>\n",
       "      <td>2018-03-02 08:00:00</td>\n",
       "      <td>2018-03-02 14:00:00</td>\n",
       "      <td>False</td>\n",
       "      <td>1</td>\n",
       "    </tr>\n",
       "    <tr>\n",
       "      <th>1</th>\n",
       "      <td>f973b01694</td>\n",
       "      <td>4ea3cf408f</td>\n",
       "      <td>623d0a582a</td>\n",
       "      <td>2018-03-01</td>\n",
       "      <td>2018-03-01 09:13:26.0</td>\n",
       "      <td>1</td>\n",
       "      <td>1</td>\n",
       "      <td>2</td>\n",
       "      <td>78.0</td>\n",
       "      <td>58.5</td>\n",
       "      <td>...</td>\n",
       "      <td>0.0</td>\n",
       "      <td>0</td>\n",
       "      <td>28</td>\n",
       "      <td>28</td>\n",
       "      <td>f973b01694</td>\n",
       "      <td>2018-03-01 14:00:00</td>\n",
       "      <td>2018-03-02 09:00:00</td>\n",
       "      <td>2018-03-02 13:00:00</td>\n",
       "      <td>False</td>\n",
       "      <td>1</td>\n",
       "    </tr>\n",
       "    <tr>\n",
       "      <th>2</th>\n",
       "      <td>8c1cec8d4b</td>\n",
       "      <td>b87cb736cb</td>\n",
       "      <td>fc5289b139</td>\n",
       "      <td>2018-03-01</td>\n",
       "      <td>2018-03-01 21:29:50.0</td>\n",
       "      <td>1</td>\n",
       "      <td>1</td>\n",
       "      <td>2</td>\n",
       "      <td>61.0</td>\n",
       "      <td>35.0</td>\n",
       "      <td>...</td>\n",
       "      <td>0.0</td>\n",
       "      <td>0</td>\n",
       "      <td>4</td>\n",
       "      <td>28</td>\n",
       "      <td>8c1cec8d4b</td>\n",
       "      <td>2018-03-02 09:00:00</td>\n",
       "      <td>2018-03-03 08:00:00</td>\n",
       "      <td>2018-03-04 11:00:00</td>\n",
       "      <td>False</td>\n",
       "      <td>1</td>\n",
       "    </tr>\n",
       "    <tr>\n",
       "      <th>3</th>\n",
       "      <td>d43a33c38a</td>\n",
       "      <td>4829223b6f</td>\n",
       "      <td>623d0a582a</td>\n",
       "      <td>2018-03-01</td>\n",
       "      <td>2018-03-01 19:13:37.0</td>\n",
       "      <td>1</td>\n",
       "      <td>1</td>\n",
       "      <td>1</td>\n",
       "      <td>78.0</td>\n",
       "      <td>53.0</td>\n",
       "      <td>...</td>\n",
       "      <td>6.0</td>\n",
       "      <td>0</td>\n",
       "      <td>3</td>\n",
       "      <td>16</td>\n",
       "      <td>d43a33c38a</td>\n",
       "      <td>2018-03-01 20:00:00</td>\n",
       "      <td>2018-03-02 07:00:00</td>\n",
       "      <td>2018-03-02 11:00:00</td>\n",
       "      <td>False</td>\n",
       "      <td>1</td>\n",
       "    </tr>\n",
       "    <tr>\n",
       "      <th>4</th>\n",
       "      <td>e0f5386d87</td>\n",
       "      <td>0b07cae293</td>\n",
       "      <td>589c2b865b</td>\n",
       "      <td>2018-03-01</td>\n",
       "      <td>2018-03-01 21:09:15.0</td>\n",
       "      <td>1</td>\n",
       "      <td>1</td>\n",
       "      <td>1</td>\n",
       "      <td>79.9</td>\n",
       "      <td>38.9</td>\n",
       "      <td>...</td>\n",
       "      <td>0.0</td>\n",
       "      <td>0</td>\n",
       "      <td>3</td>\n",
       "      <td>16</td>\n",
       "      <td>e0f5386d87</td>\n",
       "      <td>2018-03-01 22:00:00</td>\n",
       "      <td>2018-03-02 09:00:00</td>\n",
       "      <td>2018-03-02 12:00:00</td>\n",
       "      <td>False</td>\n",
       "      <td>1</td>\n",
       "    </tr>\n",
       "  </tbody>\n",
       "</table>\n",
       "<p>5 rows × 23 columns</p>\n",
       "</div>"
      ],
      "text/plain": [
       "     order_ID     user_ID      sku_ID  order_date             order_time  \\\n",
       "0  7444318d01  33a9e56257  067b673f2b  2018-03-01  2018-03-01 11:10:40.0   \n",
       "1  f973b01694  4ea3cf408f  623d0a582a  2018-03-01  2018-03-01 09:13:26.0   \n",
       "2  8c1cec8d4b  b87cb736cb  fc5289b139  2018-03-01  2018-03-01 21:29:50.0   \n",
       "3  d43a33c38a  4829223b6f  623d0a582a  2018-03-01  2018-03-01 19:13:37.0   \n",
       "4  e0f5386d87  0b07cae293  589c2b865b  2018-03-01  2018-03-01 21:09:15.0   \n",
       "\n",
       "   quantity  type_x promise  original_unit_price  final_unit_price  ...  \\\n",
       "0         1       1       2                 99.9              53.9  ...   \n",
       "1         1       1       2                 78.0              58.5  ...   \n",
       "2         1       1       2                 61.0              35.0  ...   \n",
       "3         1       1       1                 78.0              53.0  ...   \n",
       "4         1       1       1                 79.9              38.9  ...   \n",
       "\n",
       "   coupon_discount_per_unit  gift_item  dc_ori  dc_des  package_ID  \\\n",
       "0                       0.0          0      28      28  7444318d01   \n",
       "1                       0.0          0      28      28  f973b01694   \n",
       "2                       0.0          0       4      28  8c1cec8d4b   \n",
       "3                       6.0          0       3      16  d43a33c38a   \n",
       "4                       0.0          0       3      16  e0f5386d87   \n",
       "\n",
       "         ship_out_time     arr_station_time             arr_time Single Item  \\\n",
       "0  2018-03-01 13:00:00  2018-03-02 08:00:00  2018-03-02 14:00:00       False   \n",
       "1  2018-03-01 14:00:00  2018-03-02 09:00:00  2018-03-02 13:00:00       False   \n",
       "2  2018-03-02 09:00:00  2018-03-03 08:00:00  2018-03-04 11:00:00       False   \n",
       "3  2018-03-01 20:00:00  2018-03-02 07:00:00  2018-03-02 11:00:00       False   \n",
       "4  2018-03-01 22:00:00  2018-03-02 09:00:00  2018-03-02 12:00:00       False   \n",
       "\n",
       "  unique_package_count  \n",
       "0                    1  \n",
       "1                    1  \n",
       "2                    1  \n",
       "3                    1  \n",
       "4                    1  \n",
       "\n",
       "[5 rows x 23 columns]"
      ]
     },
     "execution_count": 41,
     "metadata": {},
     "output_type": "execute_result"
    }
   ],
   "source": [
    "package_counts = filtered_order_data_delivery_data.groupby('order_ID')['package_ID'].nunique()\n",
    "filtered_order_data_delivery_data['unique_package_count'] = filtered_order_data_delivery_data.groupby('order_ID')['package_ID'].transform('nunique')\n",
    "single_package_orders = filtered_order_data_delivery_data['unique_package_count'] == 1\n",
    "filtered_data = filtered_order_data_delivery_data[single_package_orders]\n",
    "\n",
    "filtered_order_data_delivery_data.head()"
   ]
  },
  {
   "cell_type": "markdown",
   "id": "c334d96d",
   "metadata": {},
   "source": [
    "14. Now we process time-related variables: order_date, order_time, ship_out_time, arr_station_time, and arr_time. <br>\n",
    "First change all of them to Timestamp data type. <br>\n",
    "Get the day of the month from the order_date and save it to a new variable 'order_day'. <br>\n",
    "Get the hour of the order_time and save it to a new variable 'order_hour'.<br>\n",
    "Caculate the delivery time by minus arr_time with order_time. <br>"
   ]
  },
  {
   "cell_type": "code",
   "execution_count": 42,
   "id": "4b24e87e",
   "metadata": {},
   "outputs": [],
   "source": [
    "import pandas as pd\n",
    "\n",
    "# A copy of the DataFrame is created to avoid SettingWithCopyWarning\n",
    "filtered_data = filtered_data.copy()\n",
    "\n",
    "filtered_data['order_date'] = pd.to_datetime(filtered_data['order_date'])\n",
    "filtered_data['order_time'] = pd.to_datetime(filtered_data['order_time'])\n",
    "filtered_data['ship_out_time'] = pd.to_datetime(filtered_data['ship_out_time'])\n",
    "filtered_data['arr_station_time'] = pd.to_datetime(filtered_data['arr_station_time'])\n",
    "filtered_data['arr_time'] = pd.to_datetime(filtered_data['arr_time'])\n",
    "\n",
    "filtered_data.to_csv('filtered_order_data_delivery_data.csv', index=False)"
   ]
  },
  {
   "cell_type": "code",
   "execution_count": 43,
   "id": "6d017a74",
   "metadata": {},
   "outputs": [],
   "source": [
    "# Get the day of the month from order_date and save it to a new variable 'order_day'\n",
    "filtered_data['order_day'] = filtered_data['order_date'].dt.day"
   ]
  },
  {
   "cell_type": "code",
   "execution_count": 44,
   "id": "129abe25",
   "metadata": {},
   "outputs": [],
   "source": [
    "# Get the hour of the order_time and save it to a new variable 'order_hour'\n",
    "filtered_data['order_hour'] = filtered_data['order_time'].dt.hour"
   ]
  },
  {
   "cell_type": "code",
   "execution_count": 45,
   "id": "2a47a990",
   "metadata": {},
   "outputs": [],
   "source": [
    "# Calculate the delivery time by subtracting arr_time from order_time\n",
    "filtered_data['delivery_time'] = filtered_data['arr_time'] - filtered_data['order_time']"
   ]
  },
  {
   "cell_type": "code",
   "execution_count": 46,
   "id": "cf490e7f",
   "metadata": {},
   "outputs": [
    {
     "data": {
      "text/html": [
       "<div>\n",
       "<style scoped>\n",
       "    .dataframe tbody tr th:only-of-type {\n",
       "        vertical-align: middle;\n",
       "    }\n",
       "\n",
       "    .dataframe tbody tr th {\n",
       "        vertical-align: top;\n",
       "    }\n",
       "\n",
       "    .dataframe thead th {\n",
       "        text-align: right;\n",
       "    }\n",
       "</style>\n",
       "<table border=\"1\" class=\"dataframe\">\n",
       "  <thead>\n",
       "    <tr style=\"text-align: right;\">\n",
       "      <th></th>\n",
       "      <th>order_ID</th>\n",
       "      <th>user_ID</th>\n",
       "      <th>sku_ID</th>\n",
       "      <th>order_date</th>\n",
       "      <th>order_time</th>\n",
       "      <th>quantity</th>\n",
       "      <th>type_x</th>\n",
       "      <th>promise</th>\n",
       "      <th>original_unit_price</th>\n",
       "      <th>final_unit_price</th>\n",
       "      <th>...</th>\n",
       "      <th>dc_des</th>\n",
       "      <th>package_ID</th>\n",
       "      <th>ship_out_time</th>\n",
       "      <th>arr_station_time</th>\n",
       "      <th>arr_time</th>\n",
       "      <th>Single Item</th>\n",
       "      <th>unique_package_count</th>\n",
       "      <th>order_day</th>\n",
       "      <th>order_hour</th>\n",
       "      <th>delivery_time</th>\n",
       "    </tr>\n",
       "  </thead>\n",
       "  <tbody>\n",
       "    <tr>\n",
       "      <th>0</th>\n",
       "      <td>7444318d01</td>\n",
       "      <td>33a9e56257</td>\n",
       "      <td>067b673f2b</td>\n",
       "      <td>2018-03-01</td>\n",
       "      <td>2018-03-01 11:10:40</td>\n",
       "      <td>1</td>\n",
       "      <td>1</td>\n",
       "      <td>2</td>\n",
       "      <td>99.9</td>\n",
       "      <td>53.9</td>\n",
       "      <td>...</td>\n",
       "      <td>28</td>\n",
       "      <td>7444318d01</td>\n",
       "      <td>2018-03-01 13:00:00</td>\n",
       "      <td>2018-03-02 08:00:00</td>\n",
       "      <td>2018-03-02 14:00:00</td>\n",
       "      <td>False</td>\n",
       "      <td>1</td>\n",
       "      <td>1</td>\n",
       "      <td>11</td>\n",
       "      <td>1 days 02:49:20</td>\n",
       "    </tr>\n",
       "    <tr>\n",
       "      <th>1</th>\n",
       "      <td>f973b01694</td>\n",
       "      <td>4ea3cf408f</td>\n",
       "      <td>623d0a582a</td>\n",
       "      <td>2018-03-01</td>\n",
       "      <td>2018-03-01 09:13:26</td>\n",
       "      <td>1</td>\n",
       "      <td>1</td>\n",
       "      <td>2</td>\n",
       "      <td>78.0</td>\n",
       "      <td>58.5</td>\n",
       "      <td>...</td>\n",
       "      <td>28</td>\n",
       "      <td>f973b01694</td>\n",
       "      <td>2018-03-01 14:00:00</td>\n",
       "      <td>2018-03-02 09:00:00</td>\n",
       "      <td>2018-03-02 13:00:00</td>\n",
       "      <td>False</td>\n",
       "      <td>1</td>\n",
       "      <td>1</td>\n",
       "      <td>9</td>\n",
       "      <td>1 days 03:46:34</td>\n",
       "    </tr>\n",
       "    <tr>\n",
       "      <th>2</th>\n",
       "      <td>8c1cec8d4b</td>\n",
       "      <td>b87cb736cb</td>\n",
       "      <td>fc5289b139</td>\n",
       "      <td>2018-03-01</td>\n",
       "      <td>2018-03-01 21:29:50</td>\n",
       "      <td>1</td>\n",
       "      <td>1</td>\n",
       "      <td>2</td>\n",
       "      <td>61.0</td>\n",
       "      <td>35.0</td>\n",
       "      <td>...</td>\n",
       "      <td>28</td>\n",
       "      <td>8c1cec8d4b</td>\n",
       "      <td>2018-03-02 09:00:00</td>\n",
       "      <td>2018-03-03 08:00:00</td>\n",
       "      <td>2018-03-04 11:00:00</td>\n",
       "      <td>False</td>\n",
       "      <td>1</td>\n",
       "      <td>1</td>\n",
       "      <td>21</td>\n",
       "      <td>2 days 13:30:10</td>\n",
       "    </tr>\n",
       "    <tr>\n",
       "      <th>3</th>\n",
       "      <td>d43a33c38a</td>\n",
       "      <td>4829223b6f</td>\n",
       "      <td>623d0a582a</td>\n",
       "      <td>2018-03-01</td>\n",
       "      <td>2018-03-01 19:13:37</td>\n",
       "      <td>1</td>\n",
       "      <td>1</td>\n",
       "      <td>1</td>\n",
       "      <td>78.0</td>\n",
       "      <td>53.0</td>\n",
       "      <td>...</td>\n",
       "      <td>16</td>\n",
       "      <td>d43a33c38a</td>\n",
       "      <td>2018-03-01 20:00:00</td>\n",
       "      <td>2018-03-02 07:00:00</td>\n",
       "      <td>2018-03-02 11:00:00</td>\n",
       "      <td>False</td>\n",
       "      <td>1</td>\n",
       "      <td>1</td>\n",
       "      <td>19</td>\n",
       "      <td>0 days 15:46:23</td>\n",
       "    </tr>\n",
       "    <tr>\n",
       "      <th>4</th>\n",
       "      <td>e0f5386d87</td>\n",
       "      <td>0b07cae293</td>\n",
       "      <td>589c2b865b</td>\n",
       "      <td>2018-03-01</td>\n",
       "      <td>2018-03-01 21:09:15</td>\n",
       "      <td>1</td>\n",
       "      <td>1</td>\n",
       "      <td>1</td>\n",
       "      <td>79.9</td>\n",
       "      <td>38.9</td>\n",
       "      <td>...</td>\n",
       "      <td>16</td>\n",
       "      <td>e0f5386d87</td>\n",
       "      <td>2018-03-01 22:00:00</td>\n",
       "      <td>2018-03-02 09:00:00</td>\n",
       "      <td>2018-03-02 12:00:00</td>\n",
       "      <td>False</td>\n",
       "      <td>1</td>\n",
       "      <td>1</td>\n",
       "      <td>21</td>\n",
       "      <td>0 days 14:50:45</td>\n",
       "    </tr>\n",
       "  </tbody>\n",
       "</table>\n",
       "<p>5 rows × 26 columns</p>\n",
       "</div>"
      ],
      "text/plain": [
       "     order_ID     user_ID      sku_ID order_date          order_time  \\\n",
       "0  7444318d01  33a9e56257  067b673f2b 2018-03-01 2018-03-01 11:10:40   \n",
       "1  f973b01694  4ea3cf408f  623d0a582a 2018-03-01 2018-03-01 09:13:26   \n",
       "2  8c1cec8d4b  b87cb736cb  fc5289b139 2018-03-01 2018-03-01 21:29:50   \n",
       "3  d43a33c38a  4829223b6f  623d0a582a 2018-03-01 2018-03-01 19:13:37   \n",
       "4  e0f5386d87  0b07cae293  589c2b865b 2018-03-01 2018-03-01 21:09:15   \n",
       "\n",
       "   quantity  type_x promise  original_unit_price  final_unit_price  ...  \\\n",
       "0         1       1       2                 99.9              53.9  ...   \n",
       "1         1       1       2                 78.0              58.5  ...   \n",
       "2         1       1       2                 61.0              35.0  ...   \n",
       "3         1       1       1                 78.0              53.0  ...   \n",
       "4         1       1       1                 79.9              38.9  ...   \n",
       "\n",
       "   dc_des  package_ID       ship_out_time    arr_station_time  \\\n",
       "0      28  7444318d01 2018-03-01 13:00:00 2018-03-02 08:00:00   \n",
       "1      28  f973b01694 2018-03-01 14:00:00 2018-03-02 09:00:00   \n",
       "2      28  8c1cec8d4b 2018-03-02 09:00:00 2018-03-03 08:00:00   \n",
       "3      16  d43a33c38a 2018-03-01 20:00:00 2018-03-02 07:00:00   \n",
       "4      16  e0f5386d87 2018-03-01 22:00:00 2018-03-02 09:00:00   \n",
       "\n",
       "             arr_time  Single Item  unique_package_count order_day order_hour  \\\n",
       "0 2018-03-02 14:00:00        False                     1         1         11   \n",
       "1 2018-03-02 13:00:00        False                     1         1          9   \n",
       "2 2018-03-04 11:00:00        False                     1         1         21   \n",
       "3 2018-03-02 11:00:00        False                     1         1         19   \n",
       "4 2018-03-02 12:00:00        False                     1         1         21   \n",
       "\n",
       "    delivery_time  \n",
       "0 1 days 02:49:20  \n",
       "1 1 days 03:46:34  \n",
       "2 2 days 13:30:10  \n",
       "3 0 days 15:46:23  \n",
       "4 0 days 14:50:45  \n",
       "\n",
       "[5 rows x 26 columns]"
      ]
     },
     "execution_count": 46,
     "metadata": {},
     "output_type": "execute_result"
    }
   ],
   "source": [
    "filtered_data.head()"
   ]
  },
  {
   "cell_type": "markdown",
   "id": "bfa148fb",
   "metadata": {},
   "source": [
    "15. We will transform the delivery time to hours. Hint: You can use total_seconds() method to turn it into seconds and find hours. Use apply() to apply a function for the transformation."
   ]
  },
  {
   "cell_type": "code",
   "execution_count": 47,
   "id": "9e7052a2",
   "metadata": {},
   "outputs": [
    {
     "data": {
      "text/plain": [
       "0    26.822222\n",
       "1    27.776111\n",
       "2    61.502778\n",
       "3    15.773056\n",
       "4    14.845833\n",
       "Name: delivery_time_hours, dtype: float64"
      ]
     },
     "execution_count": 47,
     "metadata": {},
     "output_type": "execute_result"
    }
   ],
   "source": [
    "filtered_data['delivery_time_hours'] = filtered_data['delivery_time'].dt.total_seconds() / 3600\n",
    "filtered_data['delivery_time_hours'].head()"
   ]
  },
  {
   "cell_type": "markdown",
   "id": "607f416f",
   "metadata": {},
   "source": [
    "16. Find the total number of packages between the origin distribution center and the destination center. What do you observe from those pairs of highest traffic? <br>\n",
    "Hint: You may group by the distribution centers and count the unique number of packages.<br>\n",
    "You can use reset_index() method to turn the groupby aggregation results into a regular dataframe for later operations."
   ]
  },
  {
   "cell_type": "code",
   "execution_count": 48,
   "id": "6beaa5ac",
   "metadata": {
    "scrolled": true
   },
   "outputs": [],
   "source": [
    "package_counts = filtered_data.groupby(['dc_ori', 'dc_des'])['package_ID'].nunique()"
   ]
  },
  {
   "cell_type": "code",
   "execution_count": 49,
   "id": "fd394019",
   "metadata": {
    "scrolled": true
   },
   "outputs": [
    {
     "data": {
      "text/html": [
       "<div>\n",
       "<style scoped>\n",
       "    .dataframe tbody tr th:only-of-type {\n",
       "        vertical-align: middle;\n",
       "    }\n",
       "\n",
       "    .dataframe tbody tr th {\n",
       "        vertical-align: top;\n",
       "    }\n",
       "\n",
       "    .dataframe thead th {\n",
       "        text-align: right;\n",
       "    }\n",
       "</style>\n",
       "<table border=\"1\" class=\"dataframe\">\n",
       "  <thead>\n",
       "    <tr style=\"text-align: right;\">\n",
       "      <th></th>\n",
       "      <th>dc_ori</th>\n",
       "      <th>dc_des</th>\n",
       "      <th>package_ID</th>\n",
       "    </tr>\n",
       "  </thead>\n",
       "  <tbody>\n",
       "    <tr>\n",
       "      <th>0</th>\n",
       "      <td>1</td>\n",
       "      <td>1</td>\n",
       "      <td>439</td>\n",
       "    </tr>\n",
       "    <tr>\n",
       "      <th>1</th>\n",
       "      <td>1</td>\n",
       "      <td>18</td>\n",
       "      <td>1</td>\n",
       "    </tr>\n",
       "    <tr>\n",
       "      <th>2</th>\n",
       "      <td>1</td>\n",
       "      <td>31</td>\n",
       "      <td>8</td>\n",
       "    </tr>\n",
       "    <tr>\n",
       "      <th>3</th>\n",
       "      <td>1</td>\n",
       "      <td>39</td>\n",
       "      <td>24</td>\n",
       "    </tr>\n",
       "    <tr>\n",
       "      <th>4</th>\n",
       "      <td>1</td>\n",
       "      <td>46</td>\n",
       "      <td>1</td>\n",
       "    </tr>\n",
       "    <tr>\n",
       "      <th>...</th>\n",
       "      <td>...</td>\n",
       "      <td>...</td>\n",
       "      <td>...</td>\n",
       "    </tr>\n",
       "    <tr>\n",
       "      <th>622</th>\n",
       "      <td>65</td>\n",
       "      <td>60</td>\n",
       "      <td>4</td>\n",
       "    </tr>\n",
       "    <tr>\n",
       "      <th>623</th>\n",
       "      <td>65</td>\n",
       "      <td>61</td>\n",
       "      <td>2</td>\n",
       "    </tr>\n",
       "    <tr>\n",
       "      <th>624</th>\n",
       "      <td>65</td>\n",
       "      <td>64</td>\n",
       "      <td>15</td>\n",
       "    </tr>\n",
       "    <tr>\n",
       "      <th>625</th>\n",
       "      <td>66</td>\n",
       "      <td>20</td>\n",
       "      <td>128</td>\n",
       "    </tr>\n",
       "    <tr>\n",
       "      <th>626</th>\n",
       "      <td>67</td>\n",
       "      <td>67</td>\n",
       "      <td>441</td>\n",
       "    </tr>\n",
       "  </tbody>\n",
       "</table>\n",
       "<p>627 rows × 3 columns</p>\n",
       "</div>"
      ],
      "text/plain": [
       "     dc_ori  dc_des  package_ID\n",
       "0         1       1         439\n",
       "1         1      18           1\n",
       "2         1      31           8\n",
       "3         1      39          24\n",
       "4         1      46           1\n",
       "..      ...     ...         ...\n",
       "622      65      60           4\n",
       "623      65      61           2\n",
       "624      65      64          15\n",
       "625      66      20         128\n",
       "626      67      67         441\n",
       "\n",
       "[627 rows x 3 columns]"
      ]
     },
     "execution_count": 49,
     "metadata": {},
     "output_type": "execute_result"
    }
   ],
   "source": [
    "package_counts = package_counts.reset_index()\n",
    "package_counts"
   ]
  },
  {
   "cell_type": "markdown",
   "id": "11d6ed80",
   "metadata": {},
   "source": [
    "17. Now let's go back to the original orders table. Find the orders where gift_item equals to 1 (use filtering). What do you find about the orignal_unit_price and final_unit_price in the filtered dataset? Do we consider the 0 price as data errors?"
   ]
  },
  {
   "cell_type": "code",
   "execution_count": 50,
   "id": "9f2345c0",
   "metadata": {},
   "outputs": [
    {
     "name": "stdout",
     "output_type": "stream",
     "text": [
      "       original_unit_price  final_unit_price\n",
      "count         94606.000000      94606.000000\n",
      "mean              0.004334         -0.215242\n",
      "std               0.544303          1.109574\n",
      "min               0.000000        -32.000000\n",
      "25%               0.000000          0.000000\n",
      "50%               0.000000          0.000000\n",
      "75%               0.000000          0.000000\n",
      "max              69.000000          0.000000\n",
      "Empty DataFrame\n",
      "Columns: [order_ID, user_ID, sku_ID, order_date, order_time, quantity, type, promise, original_unit_price, final_unit_price, direct_discount_per_unit, quantity_discount_per_unit, bundle_discount_per_unit, coupon_discount_per_unit, gift_item, dc_ori, dc_des]\n",
      "Index: []\n"
     ]
    }
   ],
   "source": [
    "gift_order = order_data[order_data['gift_item'] == 1]\n",
    "print(gift_order[['original_unit_price', 'final_unit_price']].describe())\n",
    "\n",
    "# When examining records where 'gift_item' equals 1, we observe that both 'original_unit_price' and 'final_unit_price' are consistently zero.\n",
    "# This observation implies that for gift items marked with 'gift_item' equal to 1, the prices are intentionally set to zero, indicating that these items are complimentary and not subject to charges.\n",
    "\n",
    "print(order_data[(order_data['gift_item'] == 1) & (order_data['final_unit_price'] > 0) & (order_data['original_unit_price'] > 0)])\n"
   ]
  },
  {
   "cell_type": "markdown",
   "id": "b7f3a034",
   "metadata": {},
   "source": [
    "18. Still use the original order table. Filter the orders of a product (sku: 'a0e49f9966') on '2018-3-15'. Calculate the sales. <br>\n",
    "Hint: we can multiply the quantity and final price columns together. <br>\n",
    "The outcome will be a pandas series. <br>\n",
    "The sum of the series will be the total sales. "
   ]
  },
  {
   "cell_type": "code",
   "execution_count": 51,
   "id": "f54f17b5",
   "metadata": {},
   "outputs": [
    {
     "data": {
      "text/plain": [
       "0.0"
      ]
     },
     "execution_count": 51,
     "metadata": {},
     "output_type": "execute_result"
    }
   ],
   "source": [
    "March_1st_orders = (order_data['sku_ID'] == 'a0e49f9966') & (order_data['order_date'] == '2018-3-15')\n",
    "March_1st_sales = (order_data.loc[March_1st_orders, 'quantity'] * order_data.loc[March_1st_orders, 'final_unit_price']).sum()\n",
    "\n",
    "March_1st_sales"
   ]
  },
  {
   "cell_type": "markdown",
   "id": "8564c8a0",
   "metadata": {},
   "source": [
    "19. Now let's move to the user table. <br>\n",
    "Create a pivot table that counts the customers based on their user_level and education."
   ]
  },
  {
   "cell_type": "code",
   "execution_count": 52,
   "id": "934d9dd8",
   "metadata": {},
   "outputs": [
    {
     "data": {
      "text/html": [
       "<div>\n",
       "<style scoped>\n",
       "    .dataframe tbody tr th:only-of-type {\n",
       "        vertical-align: middle;\n",
       "    }\n",
       "\n",
       "    .dataframe tbody tr th {\n",
       "        vertical-align: top;\n",
       "    }\n",
       "\n",
       "    .dataframe thead th {\n",
       "        text-align: right;\n",
       "    }\n",
       "</style>\n",
       "<table border=\"1\" class=\"dataframe\">\n",
       "  <thead>\n",
       "    <tr style=\"text-align: right;\">\n",
       "      <th></th>\n",
       "      <th></th>\n",
       "      <th>user_ID</th>\n",
       "    </tr>\n",
       "    <tr>\n",
       "      <th>user_level</th>\n",
       "      <th>education</th>\n",
       "      <th></th>\n",
       "    </tr>\n",
       "  </thead>\n",
       "  <tbody>\n",
       "    <tr>\n",
       "      <th rowspan=\"2\" valign=\"top\">-1</th>\n",
       "      <th>-1</th>\n",
       "      <td>2294</td>\n",
       "    </tr>\n",
       "    <tr>\n",
       "      <th>3</th>\n",
       "      <td>9</td>\n",
       "    </tr>\n",
       "    <tr>\n",
       "      <th rowspan=\"4\" valign=\"top\">0</th>\n",
       "      <th>-1</th>\n",
       "      <td>145</td>\n",
       "    </tr>\n",
       "    <tr>\n",
       "      <th>2</th>\n",
       "      <td>7</td>\n",
       "    </tr>\n",
       "    <tr>\n",
       "      <th>3</th>\n",
       "      <td>8</td>\n",
       "    </tr>\n",
       "    <tr>\n",
       "      <th>4</th>\n",
       "      <td>1</td>\n",
       "    </tr>\n",
       "    <tr>\n",
       "      <th rowspan=\"5\" valign=\"top\">1</th>\n",
       "      <th>-1</th>\n",
       "      <td>66391</td>\n",
       "    </tr>\n",
       "    <tr>\n",
       "      <th>1</th>\n",
       "      <td>3001</td>\n",
       "    </tr>\n",
       "    <tr>\n",
       "      <th>2</th>\n",
       "      <td>24182</td>\n",
       "    </tr>\n",
       "    <tr>\n",
       "      <th>3</th>\n",
       "      <td>35486</td>\n",
       "    </tr>\n",
       "    <tr>\n",
       "      <th>4</th>\n",
       "      <td>369</td>\n",
       "    </tr>\n",
       "    <tr>\n",
       "      <th rowspan=\"5\" valign=\"top\">2</th>\n",
       "      <th>-1</th>\n",
       "      <td>28310</td>\n",
       "    </tr>\n",
       "    <tr>\n",
       "      <th>1</th>\n",
       "      <td>3270</td>\n",
       "    </tr>\n",
       "    <tr>\n",
       "      <th>2</th>\n",
       "      <td>32953</td>\n",
       "    </tr>\n",
       "    <tr>\n",
       "      <th>3</th>\n",
       "      <td>75907</td>\n",
       "    </tr>\n",
       "    <tr>\n",
       "      <th>4</th>\n",
       "      <td>1419</td>\n",
       "    </tr>\n",
       "    <tr>\n",
       "      <th rowspan=\"5\" valign=\"top\">3</th>\n",
       "      <th>-1</th>\n",
       "      <td>8201</td>\n",
       "    </tr>\n",
       "    <tr>\n",
       "      <th>1</th>\n",
       "      <td>1260</td>\n",
       "    </tr>\n",
       "    <tr>\n",
       "      <th>2</th>\n",
       "      <td>13418</td>\n",
       "    </tr>\n",
       "    <tr>\n",
       "      <th>3</th>\n",
       "      <td>68944</td>\n",
       "    </tr>\n",
       "    <tr>\n",
       "      <th>4</th>\n",
       "      <td>4979</td>\n",
       "    </tr>\n",
       "    <tr>\n",
       "      <th rowspan=\"5\" valign=\"top\">4</th>\n",
       "      <th>-1</th>\n",
       "      <td>4023</td>\n",
       "    </tr>\n",
       "    <tr>\n",
       "      <th>1</th>\n",
       "      <td>629</td>\n",
       "    </tr>\n",
       "    <tr>\n",
       "      <th>2</th>\n",
       "      <td>3606</td>\n",
       "    </tr>\n",
       "    <tr>\n",
       "      <th>3</th>\n",
       "      <td>37548</td>\n",
       "    </tr>\n",
       "    <tr>\n",
       "      <th>4</th>\n",
       "      <td>39922</td>\n",
       "    </tr>\n",
       "    <tr>\n",
       "      <th rowspan=\"4\" valign=\"top\">10</th>\n",
       "      <th>-1</th>\n",
       "      <td>1005</td>\n",
       "    </tr>\n",
       "    <tr>\n",
       "      <th>2</th>\n",
       "      <td>2</td>\n",
       "    </tr>\n",
       "    <tr>\n",
       "      <th>3</th>\n",
       "      <td>6</td>\n",
       "    </tr>\n",
       "    <tr>\n",
       "      <th>4</th>\n",
       "      <td>3</td>\n",
       "    </tr>\n",
       "  </tbody>\n",
       "</table>\n",
       "</div>"
      ],
      "text/plain": [
       "                      user_ID\n",
       "user_level education         \n",
       "-1         -1            2294\n",
       "            3               9\n",
       " 0         -1             145\n",
       "            2               7\n",
       "            3               8\n",
       "            4               1\n",
       " 1         -1           66391\n",
       "            1            3001\n",
       "            2           24182\n",
       "            3           35486\n",
       "            4             369\n",
       " 2         -1           28310\n",
       "            1            3270\n",
       "            2           32953\n",
       "            3           75907\n",
       "            4            1419\n",
       " 3         -1            8201\n",
       "            1            1260\n",
       "            2           13418\n",
       "            3           68944\n",
       "            4            4979\n",
       " 4         -1            4023\n",
       "            1             629\n",
       "            2            3606\n",
       "            3           37548\n",
       "            4           39922\n",
       " 10        -1            1005\n",
       "            2               2\n",
       "            3               6\n",
       "            4               3"
      ]
     },
     "execution_count": 52,
     "metadata": {},
     "output_type": "execute_result"
    }
   ],
   "source": [
    "education_level = pd.pivot_table(user_data, values='user_ID', index=['user_level', 'education'], aggfunc='count')\n",
    "education_level"
   ]
  },
  {
   "cell_type": "markdown",
   "id": "4f8df9fa",
   "metadata": {},
   "source": [
    "20. Answer one of your descriptive questions using groupby or pivot table."
   ]
  },
  {
   "cell_type": "code",
   "execution_count": 53,
   "id": "7fa0edb5",
   "metadata": {},
   "outputs": [
    {
     "name": "stdout",
     "output_type": "stream",
     "text": [
      "Product Category with the Highest Average Order Quantity: 312a861317\n"
     ]
    }
   ],
   "source": [
    "# Group by 'sku_ID' and calculate the average order quantity for each product category\n",
    "average_quantity_by_category = order_data.groupby('sku_ID')['quantity'].mean()\n",
    "\n",
    "# Find the product category with the highest average order quantity\n",
    "highest_avg_quantity_category = average_quantity_by_category.idxmax()\n",
    "\n",
    "# Display the product category with the highest average order quantity\n",
    "print(\"Product Category with the Highest Average Order Quantity:\", highest_avg_quantity_category)\n",
    "\n",
    "#Which product category exhibits the highest average order quantity?"
   ]
  },
  {
   "cell_type": "markdown",
   "id": "5f87e3ec",
   "metadata": {},
   "source": [
    "### Assignment 10 starts here. Q21-Q30.\n",
    "We now further explore the data, especially with graphs. We do not require formatting details of graph. The basics are enough."
   ]
  },
  {
   "cell_type": "markdown",
   "id": "412b9f1d",
   "metadata": {},
   "source": [
    "21. Let's first look at the user table. Use info() to display basic information about the table. Check the Dtype column. What is the data type for variable user_level? This data type does not fit our description about this variable: <br>\n",
    "\"taking on a value of 0, 1, 2, 3, or 4, where a higher user_level is associated with a higher total purchase value in the past. For users who are enterprise users (e.g., small shops in rural areas or small businesses), the corresponding\n",
    "user_level takes on a value of 10. However, for first-time purchasers, their user_level takes on\n",
    "the value −1.\" <br>\n",
    "The numbers do not have a numeric meaning, but refer to categories of customers. So, we would like to change the data type to categorical. Please use .astype('string') to change the data type of user_level.<br>\n",
    "You may find similar situation for variables: education, city_level and purchase_power. Change their data type too."
   ]
  },
  {
   "cell_type": "code",
   "execution_count": 54,
   "id": "604e4700",
   "metadata": {},
   "outputs": [
    {
     "name": "stdout",
     "output_type": "stream",
     "text": [
      "<class 'pandas.core.frame.DataFrame'>\n",
      "RangeIndex: 457298 entries, 0 to 457297\n",
      "Data columns (total 10 columns):\n",
      " #   Column             Non-Null Count   Dtype \n",
      "---  ------             --------------   ----- \n",
      " 0   user_ID            457298 non-null  object\n",
      " 1   user_level         457298 non-null  int64 \n",
      " 2   first_order_month  457298 non-null  object\n",
      " 3   plus               457298 non-null  int64 \n",
      " 4   gender             457298 non-null  object\n",
      " 5   age                457298 non-null  object\n",
      " 6   marital_status     457298 non-null  object\n",
      " 7   education          457298 non-null  int64 \n",
      " 8   city_level         457298 non-null  int64 \n",
      " 9   purchase_power     457298 non-null  int64 \n",
      "dtypes: int64(5), object(5)\n",
      "memory usage: 34.9+ MB\n"
     ]
    }
   ],
   "source": [
    "import pandas as pd\n",
    "user_data = pd.read_csv('C:\\\\Users\\\\prana\\\\Downloads\\\\JD Data (2)\\\\JD Data\\\\JD_user_data.csv')\n",
    "\n",
    "user_data.info()"
   ]
  },
  {
   "cell_type": "code",
   "execution_count": 55,
   "id": "c9763260",
   "metadata": {},
   "outputs": [
    {
     "name": "stdout",
     "output_type": "stream",
     "text": [
      "<class 'pandas.core.frame.DataFrame'>\n",
      "RangeIndex: 457298 entries, 0 to 457297\n",
      "Data columns (total 10 columns):\n",
      " #   Column             Non-Null Count   Dtype \n",
      "---  ------             --------------   ----- \n",
      " 0   user_ID            457298 non-null  object\n",
      " 1   user_level         457298 non-null  string\n",
      " 2   first_order_month  457298 non-null  object\n",
      " 3   plus               457298 non-null  int64 \n",
      " 4   gender             457298 non-null  object\n",
      " 5   age                457298 non-null  object\n",
      " 6   marital_status     457298 non-null  object\n",
      " 7   education          457298 non-null  string\n",
      " 8   city_level         457298 non-null  string\n",
      " 9   purchase_power     457298 non-null  string\n",
      "dtypes: int64(1), object(5), string(4)\n",
      "memory usage: 34.9+ MB\n"
     ]
    }
   ],
   "source": [
    "columns_to_convert = ['user_level', 'education', 'city_level', 'purchase_power']\n",
    "\n",
    "user_data[columns_to_convert] = user_data[columns_to_convert].astype('string')\n",
    "\n",
    "user_data.info()"
   ]
  },
  {
   "cell_type": "markdown",
   "id": "981de815",
   "metadata": {},
   "source": [
    "22. 1) The meaning of '-1' for user_level is new customer. We will replace '-1' with 'New' and '10' with 'Bus'. Notice that -1 now changes to a string '-1'."
   ]
  },
  {
   "cell_type": "code",
   "execution_count": 56,
   "id": "1389331b",
   "metadata": {},
   "outputs": [
    {
     "data": {
      "text/plain": [
       "<StringArray>\n",
       "['1', '3', '4', '2', 'New', 'Bus', '0']\n",
       "Length: 7, dtype: string"
      ]
     },
     "execution_count": 56,
     "metadata": {},
     "output_type": "execute_result"
    }
   ],
   "source": [
    "user_data['user_level'].replace({'-1': 'New', '10': 'Bus'}, inplace=True)\n",
    "\n",
    "user_data['user_level'].unique()"
   ]
  },
  {
   "cell_type": "markdown",
   "id": "7d690477",
   "metadata": {},
   "source": [
    "2) The meaning of -1 in education, city_level and purchase_power is missing values. We will replace it with 'U', as missing value indicator of other variables like 'age', 'gender', etc."
   ]
  },
  {
   "cell_type": "code",
   "execution_count": 57,
   "id": "1160a43b",
   "metadata": {
    "scrolled": true
   },
   "outputs": [
    {
     "data": {
      "text/html": [
       "<div>\n",
       "<style scoped>\n",
       "    .dataframe tbody tr th:only-of-type {\n",
       "        vertical-align: middle;\n",
       "    }\n",
       "\n",
       "    .dataframe tbody tr th {\n",
       "        vertical-align: top;\n",
       "    }\n",
       "\n",
       "    .dataframe thead th {\n",
       "        text-align: right;\n",
       "    }\n",
       "</style>\n",
       "<table border=\"1\" class=\"dataframe\">\n",
       "  <thead>\n",
       "    <tr style=\"text-align: right;\">\n",
       "      <th></th>\n",
       "      <th>user_ID</th>\n",
       "      <th>user_level</th>\n",
       "      <th>first_order_month</th>\n",
       "      <th>plus</th>\n",
       "      <th>gender</th>\n",
       "      <th>age</th>\n",
       "      <th>marital_status</th>\n",
       "      <th>education</th>\n",
       "      <th>city_level</th>\n",
       "      <th>purchase_power</th>\n",
       "    </tr>\n",
       "  </thead>\n",
       "  <tbody>\n",
       "    <tr>\n",
       "      <th>0</th>\n",
       "      <td>000089d6a6</td>\n",
       "      <td>1</td>\n",
       "      <td>2017-08</td>\n",
       "      <td>0</td>\n",
       "      <td>F</td>\n",
       "      <td>26-35</td>\n",
       "      <td>S</td>\n",
       "      <td>3</td>\n",
       "      <td>4</td>\n",
       "      <td>3</td>\n",
       "    </tr>\n",
       "    <tr>\n",
       "      <th>1</th>\n",
       "      <td>0000babd1f</td>\n",
       "      <td>1</td>\n",
       "      <td>2018-03</td>\n",
       "      <td>0</td>\n",
       "      <td>U</td>\n",
       "      <td>U</td>\n",
       "      <td>U</td>\n",
       "      <td>U</td>\n",
       "      <td>U</td>\n",
       "      <td>U</td>\n",
       "    </tr>\n",
       "    <tr>\n",
       "      <th>2</th>\n",
       "      <td>0000bc018b</td>\n",
       "      <td>3</td>\n",
       "      <td>2016-06</td>\n",
       "      <td>0</td>\n",
       "      <td>F</td>\n",
       "      <td>&gt;=56</td>\n",
       "      <td>M</td>\n",
       "      <td>3</td>\n",
       "      <td>2</td>\n",
       "      <td>3</td>\n",
       "    </tr>\n",
       "    <tr>\n",
       "      <th>3</th>\n",
       "      <td>0000d0e5ab</td>\n",
       "      <td>3</td>\n",
       "      <td>2014-06</td>\n",
       "      <td>0</td>\n",
       "      <td>M</td>\n",
       "      <td>26-35</td>\n",
       "      <td>M</td>\n",
       "      <td>3</td>\n",
       "      <td>2</td>\n",
       "      <td>2</td>\n",
       "    </tr>\n",
       "    <tr>\n",
       "      <th>4</th>\n",
       "      <td>0000dce472</td>\n",
       "      <td>3</td>\n",
       "      <td>2012-08</td>\n",
       "      <td>1</td>\n",
       "      <td>U</td>\n",
       "      <td>U</td>\n",
       "      <td>U</td>\n",
       "      <td>U</td>\n",
       "      <td>U</td>\n",
       "      <td>U</td>\n",
       "    </tr>\n",
       "  </tbody>\n",
       "</table>\n",
       "</div>"
      ],
      "text/plain": [
       "      user_ID user_level first_order_month  plus gender    age marital_status  \\\n",
       "0  000089d6a6          1           2017-08     0      F  26-35              S   \n",
       "1  0000babd1f          1           2018-03     0      U      U              U   \n",
       "2  0000bc018b          3           2016-06     0      F   >=56              M   \n",
       "3  0000d0e5ab          3           2014-06     0      M  26-35              M   \n",
       "4  0000dce472          3           2012-08     1      U      U              U   \n",
       "\n",
       "  education city_level purchase_power  \n",
       "0         3          4              3  \n",
       "1         U          U              U  \n",
       "2         3          2              3  \n",
       "3         3          2              2  \n",
       "4         U          U              U  "
      ]
     },
     "execution_count": 57,
     "metadata": {},
     "output_type": "execute_result"
    }
   ],
   "source": [
    "# Replace -1 with 'U' in other specified columns\n",
    "user_data[columns_to_convert[1:]] = user_data[columns_to_convert[1:]].replace('-1', 'U')\n",
    "\n",
    "user_data.head()"
   ]
  },
  {
   "cell_type": "markdown",
   "id": "c42dd2fb",
   "metadata": {},
   "source": [
    "23. Let's move to the user table. Almost all user features are categorical variables. Make bar graphs to examine the distribution of \"user_level', 'plus', 'gender', 'age', 'marital_status', 'education', 'city_level', and 'purchase_power'. You may consider using a loop. Based on the graphs, you may answer questions like these:\n",
    " 1. What is the education level of the majority?\n",
    " 2. Which age level has the most users?"
   ]
  },
  {
   "cell_type": "code",
   "execution_count": 68,
   "id": "affa58bf",
   "metadata": {},
   "outputs": [
    {
     "data": {
      "text/plain": [
       "<Axes: >"
      ]
     },
     "execution_count": 68,
     "metadata": {},
     "output_type": "execute_result"
    },
    {
     "data": {
      "text/plain": [
       "Text(0.5, 1.0, 'Distribution of user_level in User Table')"
      ]
     },
     "execution_count": 68,
     "metadata": {},
     "output_type": "execute_result"
    },
    {
     "data": {
      "text/plain": [
       "Text(0.5, 0, 'user_level')"
      ]
     },
     "execution_count": 68,
     "metadata": {},
     "output_type": "execute_result"
    },
    {
     "data": {
      "text/plain": [
       "Text(0, 0.5, 'Count')"
      ]
     },
     "execution_count": 68,
     "metadata": {},
     "output_type": "execute_result"
    },
    {
     "data": {
      "text/plain": [
       "(array([0, 1, 2, 3, 4, 5, 6]),\n",
       " [Text(0, 0, '2'),\n",
       "  Text(1, 0, '1'),\n",
       "  Text(2, 0, '3'),\n",
       "  Text(3, 0, '4'),\n",
       "  Text(4, 0, 'New'),\n",
       "  Text(5, 0, 'Bus'),\n",
       "  Text(6, 0, '0')])"
      ]
     },
     "execution_count": 68,
     "metadata": {},
     "output_type": "execute_result"
    },
    {
     "data": {
      "image/png": "[encoded data removed]",
      "text/plain": [
       "<Figure size 640x480 with 1 Axes>"
      ]
     },
     "metadata": {},
     "output_type": "display_data"
    },
    {
     "data": {
      "text/plain": [
       "<Axes: >"
      ]
     },
     "execution_count": 68,
     "metadata": {},
     "output_type": "execute_result"
    },
    {
     "data": {
      "text/plain": [
       "Text(0.5, 1.0, 'Distribution of plus in User Table')"
      ]
     },
     "execution_count": 68,
     "metadata": {},
     "output_type": "execute_result"
    },
    {
     "data": {
      "text/plain": [
       "Text(0.5, 0, 'plus')"
      ]
     },
     "execution_count": 68,
     "metadata": {},
     "output_type": "execute_result"
    },
    {
     "data": {
      "text/plain": [
       "Text(0, 0.5, 'Count')"
      ]
     },
     "execution_count": 68,
     "metadata": {},
     "output_type": "execute_result"
    },
    {
     "data": {
      "text/plain": [
       "(array([0, 1]), [Text(0, 0, '0'), Text(1, 0, '1')])"
      ]
     },
     "execution_count": 68,
     "metadata": {},
     "output_type": "execute_result"
    },
    {
     "data": {
      "image/png": "[encoded data removed]",
      "text/plain": [
       "<Figure size 640x480 with 1 Axes>"
      ]
     },
     "metadata": {},
     "output_type": "display_data"
    },
    {
     "data": {
      "text/plain": [
       "<Axes: >"
      ]
     },
     "execution_count": 68,
     "metadata": {},
     "output_type": "execute_result"
    },
    {
     "data": {
      "text/plain": [
       "Text(0.5, 1.0, 'Distribution of gender in User Table')"
      ]
     },
     "execution_count": 68,
     "metadata": {},
     "output_type": "execute_result"
    },
    {
     "data": {
      "text/plain": [
       "Text(0.5, 0, 'gender')"
      ]
     },
     "execution_count": 68,
     "metadata": {},
     "output_type": "execute_result"
    },
    {
     "data": {
      "text/plain": [
       "Text(0, 0.5, 'Count')"
      ]
     },
     "execution_count": 68,
     "metadata": {},
     "output_type": "execute_result"
    },
    {
     "data": {
      "text/plain": [
       "(array([0, 1, 2]), [Text(0, 0, 'F'), Text(1, 0, 'M'), Text(2, 0, 'U')])"
      ]
     },
     "execution_count": 68,
     "metadata": {},
     "output_type": "execute_result"
    },
    {
     "data": {
      "image/png": "[encoded data removed]",
      "text/plain": [
       "<Figure size 640x480 with 1 Axes>"
      ]
     },
     "metadata": {},
     "output_type": "display_data"
    },
    {
     "data": {
      "text/plain": [
       "<Axes: >"
      ]
     },
     "execution_count": 68,
     "metadata": {},
     "output_type": "execute_result"
    },
    {
     "data": {
      "text/plain": [
       "Text(0.5, 1.0, 'Distribution of age in User Table')"
      ]
     },
     "execution_count": 68,
     "metadata": {},
     "output_type": "execute_result"
    },
    {
     "data": {
      "text/plain": [
       "Text(0.5, 0, 'age')"
      ]
     },
     "execution_count": 68,
     "metadata": {},
     "output_type": "execute_result"
    },
    {
     "data": {
      "text/plain": [
       "Text(0, 0.5, 'Count')"
      ]
     },
     "execution_count": 68,
     "metadata": {},
     "output_type": "execute_result"
    },
    {
     "data": {
      "text/plain": [
       "(array([0, 1, 2, 3, 4, 5, 6]),\n",
       " [Text(0, 0, '26-35'),\n",
       "  Text(1, 0, '16-25'),\n",
       "  Text(2, 0, '36-45'),\n",
       "  Text(3, 0, 'U'),\n",
       "  Text(4, 0, '46-55'),\n",
       "  Text(5, 0, '>=56'),\n",
       "  Text(6, 0, '<=15')])"
      ]
     },
     "execution_count": 68,
     "metadata": {},
     "output_type": "execute_result"
    },
    {
     "data": {
      "image/png": "[encoded data removed]",
      "text/plain": [
       "<Figure size 640x480 with 1 Axes>"
      ]
     },
     "metadata": {},
     "output_type": "display_data"
    },
    {
     "data": {
      "text/plain": [
       "<Axes: >"
      ]
     },
     "execution_count": 68,
     "metadata": {},
     "output_type": "execute_result"
    },
    {
     "data": {
      "text/plain": [
       "Text(0.5, 1.0, 'Distribution of marital_status in User Table')"
      ]
     },
     "execution_count": 68,
     "metadata": {},
     "output_type": "execute_result"
    },
    {
     "data": {
      "text/plain": [
       "Text(0.5, 0, 'marital_status')"
      ]
     },
     "execution_count": 68,
     "metadata": {},
     "output_type": "execute_result"
    },
    {
     "data": {
      "text/plain": [
       "Text(0, 0.5, 'Count')"
      ]
     },
     "execution_count": 68,
     "metadata": {},
     "output_type": "execute_result"
    },
    {
     "data": {
      "text/plain": [
       "(array([0, 1, 2]), [Text(0, 0, 'M'), Text(1, 0, 'S'), Text(2, 0, 'U')])"
      ]
     },
     "execution_count": 68,
     "metadata": {},
     "output_type": "execute_result"
    },
    {
     "data": {
      "image/png": "[encoded data removed]",
      "text/plain": [
       "<Figure size 640x480 with 1 Axes>"
      ]
     },
     "metadata": {},
     "output_type": "display_data"
    },
    {
     "data": {
      "text/plain": [
       "<Axes: >"
      ]
     },
     "execution_count": 68,
     "metadata": {},
     "output_type": "execute_result"
    },
    {
     "data": {
      "text/plain": [
       "Text(0.5, 1.0, 'Distribution of education in User Table')"
      ]
     },
     "execution_count": 68,
     "metadata": {},
     "output_type": "execute_result"
    },
    {
     "data": {
      "text/plain": [
       "Text(0.5, 0, 'education')"
      ]
     },
     "execution_count": 68,
     "metadata": {},
     "output_type": "execute_result"
    },
    {
     "data": {
      "text/plain": [
       "Text(0, 0.5, 'Count')"
      ]
     },
     "execution_count": 68,
     "metadata": {},
     "output_type": "execute_result"
    },
    {
     "data": {
      "text/plain": [
       "(array([0, 1, 2, 3, 4]),\n",
       " [Text(0, 0, '3'),\n",
       "  Text(1, 0, 'U'),\n",
       "  Text(2, 0, '2'),\n",
       "  Text(3, 0, '4'),\n",
       "  Text(4, 0, '1')])"
      ]
     },
     "execution_count": 68,
     "metadata": {},
     "output_type": "execute_result"
    },
    {
     "data": {
      "image/png": "[encoded data removed]",
      "text/plain": [
       "<Figure size 640x480 with 1 Axes>"
      ]
     },
     "metadata": {},
     "output_type": "display_data"
    },
    {
     "data": {
      "text/plain": [
       "<Axes: >"
      ]
     },
     "execution_count": 68,
     "metadata": {},
     "output_type": "execute_result"
    },
    {
     "data": {
      "text/plain": [
       "Text(0.5, 1.0, 'Distribution of city_level in User Table')"
      ]
     },
     "execution_count": 68,
     "metadata": {},
     "output_type": "execute_result"
    },
    {
     "data": {
      "text/plain": [
       "Text(0.5, 0, 'city_level')"
      ]
     },
     "execution_count": 68,
     "metadata": {},
     "output_type": "execute_result"
    },
    {
     "data": {
      "text/plain": [
       "Text(0, 0.5, 'Count')"
      ]
     },
     "execution_count": 68,
     "metadata": {},
     "output_type": "execute_result"
    },
    {
     "data": {
      "text/plain": [
       "(array([0, 1, 2, 3, 4, 5]),\n",
       " [Text(0, 0, '2'),\n",
       "  Text(1, 0, '1'),\n",
       "  Text(2, 0, 'U'),\n",
       "  Text(3, 0, '3'),\n",
       "  Text(4, 0, '4'),\n",
       "  Text(5, 0, '5')])"
      ]
     },
     "execution_count": 68,
     "metadata": {},
     "output_type": "execute_result"
    },
    {
     "data": {
      "image/png": "[encoded data removed]",
      "text/plain": [
       "<Figure size 640x480 with 1 Axes>"
      ]
     },
     "metadata": {},
     "output_type": "display_data"
    },
    {
     "data": {
      "text/plain": [
       "<Axes: >"
      ]
     },
     "execution_count": 68,
     "metadata": {},
     "output_type": "execute_result"
    },
    {
     "data": {
      "text/plain": [
       "Text(0.5, 1.0, 'Distribution of purchase_power in User Table')"
      ]
     },
     "execution_count": 68,
     "metadata": {},
     "output_type": "execute_result"
    },
    {
     "data": {
      "text/plain": [
       "Text(0.5, 0, 'purchase_power')"
      ]
     },
     "execution_count": 68,
     "metadata": {},
     "output_type": "execute_result"
    },
    {
     "data": {
      "text/plain": [
       "Text(0, 0.5, 'Count')"
      ]
     },
     "execution_count": 68,
     "metadata": {},
     "output_type": "execute_result"
    },
    {
     "data": {
      "text/plain": [
       "(array([0, 1, 2, 3, 4, 5]),\n",
       " [Text(0, 0, '2'),\n",
       "  Text(1, 0, 'U'),\n",
       "  Text(2, 0, '3'),\n",
       "  Text(3, 0, '4'),\n",
       "  Text(4, 0, '1'),\n",
       "  Text(5, 0, '5')])"
      ]
     },
     "execution_count": 68,
     "metadata": {},
     "output_type": "execute_result"
    },
    {
     "data": {
      "image/png": "[encoded data removed]",
      "text/plain": [
       "<Figure size 640x480 with 1 Axes>"
      ]
     },
     "metadata": {},
     "output_type": "display_data"
    }
   ],
   "source": [
    "import matplotlib.pyplot as plt\n",
    "\n",
    "user_data['user_level'].replace({'-1': 'New', '10': 'Bus'}, inplace=True)\n",
    "\n",
    "categorical_variables = ['user_level', 'plus', 'gender', 'age', 'marital_status', 'education', 'city_level', 'purchase_power']\n",
    "\n",
    "for variable in categorical_variables:\n",
    "    user_data[variable].value_counts().plot(kind='bar', color='blue')\n",
    "    plt.title(f'Distribution of {variable} in User Table')\n",
    "    plt.xlabel(variable)\n",
    "    plt.ylabel('Count')\n",
    "    plt.xticks(rotation=360, ha='right')\n",
    "    plt.show()\n",
    "    \n",
    "    #What is the education level of the majority? - 3, over 200,000\n",
    "    #Which age level has the most users? - 26 to 35, over 175,000\n"
   ]
  },
  {
   "cell_type": "markdown",
   "id": "da17ae2a",
   "metadata": {},
   "source": [
    "25. Next we move to the table that resulted from Q11-Q15. Sum the quantity by day (we created this variable in Q14.) and save the results.\n",
    "Create a line graph based on it. Hint: The outcome of the sum is a Pandas Series. Use the .index to get the day and .values to get the sum for the plot.<br>\n",
    "Or you may use reset_index() to turn the results to a dataframe.\n",
    "Which day has the most quantity sold? "
   ]
  },
  {
   "cell_type": "code",
   "execution_count": 67,
   "id": "ec1882d5",
   "metadata": {},
   "outputs": [
    {
     "data": {
      "text/plain": [
       "[<matplotlib.lines.Line2D at 0x1a93a883410>]"
      ]
     },
     "execution_count": 67,
     "metadata": {},
     "output_type": "execute_result"
    },
    {
     "data": {
      "text/plain": [
       "Text(0.5, 1.0, 'Quantity Sold by Day')"
      ]
     },
     "execution_count": 67,
     "metadata": {},
     "output_type": "execute_result"
    },
    {
     "data": {
      "text/plain": [
       "Text(0.5, 0, 'Day of the Month')"
      ]
     },
     "execution_count": 67,
     "metadata": {},
     "output_type": "execute_result"
    },
    {
     "data": {
      "text/plain": [
       "Text(0, 0.5, 'Quantity Sold')"
      ]
     },
     "execution_count": 67,
     "metadata": {},
     "output_type": "execute_result"
    },
    {
     "data": {
      "image/png": "[encoded data removed]",
      "text/plain": [
       "<Figure size 640x480 with 1 Axes>"
      ]
     },
     "metadata": {},
     "output_type": "display_data"
    },
    {
     "name": "stdout",
     "output_type": "stream",
     "text": [
      "The day with the most quantity sold is 1 with a total of 37774 units.\n"
     ]
    }
   ],
   "source": [
    "import matplotlib.pyplot as plt\n",
    "\n",
    "# Sum the quantity by day\n",
    "quantity_by_day = filtered_data.groupby('order_day')['quantity'].sum()\n",
    "\n",
    "plt.plot(quantity_by_day.index, quantity_by_day.values, marker='o', linestyle='-', color='b')\n",
    "plt.title('Quantity Sold by Day')\n",
    "plt.xlabel('Day of the Month')\n",
    "plt.ylabel('Quantity Sold')\n",
    "plt.show()\n",
    "\n",
    "# Finding the day with the most quantity sold\n",
    "max_quantity_day = quantity_by_day.idxmax()\n",
    "max_quantity_value = quantity_by_day.max()\n",
    "\n",
    "print(f\"The day with the most quantity sold is {max_quantity_day} with a total of {max_quantity_value} units.\")\n",
    "\n",
    "#The day with the most quantity sold is 1 with a total of 38239 units.\n"
   ]
  },
  {
   "cell_type": "markdown",
   "id": "9d3763ce",
   "metadata": {},
   "source": [
    "26. Repeat Q25 for variable 'order_hour' we created in Q14. When is the peak time for orders during a day? Can you describe the customer order trend over a day's time?"
   ]
  },
  {
   "cell_type": "code",
   "execution_count": 60,
   "id": "bef7e971",
   "metadata": {},
   "outputs": [
    {
     "data": {
      "text/plain": [
       "[<matplotlib.lines.Line2D at 0x1a93bc7dfd0>]"
      ]
     },
     "execution_count": 60,
     "metadata": {},
     "output_type": "execute_result"
    },
    {
     "data": {
      "text/plain": [
       "Text(0.5, 1.0, 'Quantity Sold by Hour')"
      ]
     },
     "execution_count": 60,
     "metadata": {},
     "output_type": "execute_result"
    },
    {
     "data": {
      "text/plain": [
       "Text(0.5, 0, 'Hour of the Day')"
      ]
     },
     "execution_count": 60,
     "metadata": {},
     "output_type": "execute_result"
    },
    {
     "data": {
      "text/plain": [
       "Text(0, 0.5, 'Quantity Sold')"
      ]
     },
     "execution_count": 60,
     "metadata": {},
     "output_type": "execute_result"
    },
    {
     "data": {
      "image/png": "[encoded data removed]",
      "text/plain": [
       "<Figure size 640x480 with 1 Axes>"
      ]
     },
     "metadata": {},
     "output_type": "display_data"
    },
    {
     "name": "stdout",
     "output_type": "stream",
     "text": [
      "The peak time for orders is at 10 o'clock with a total of 29591 units.\n"
     ]
    }
   ],
   "source": [
    "import matplotlib.pyplot as plt\n",
    "\n",
    "# Sum the quantity by hour\n",
    "quantity_by_hour = filtered_data.groupby('order_hour')['quantity'].sum()\n",
    "\n",
    "plt.plot(quantity_by_hour.index, quantity_by_hour.values, marker='o', linestyle='-', color='blue')\n",
    "plt.title('Quantity Sold by Hour')\n",
    "plt.xlabel('Hour of the Day')\n",
    "plt.ylabel('Quantity Sold')\n",
    "plt.show()\n",
    "\n",
    "peak_hour = quantity_by_hour.idxmax()\n",
    "peak_quantity_value = quantity_by_hour.max()\n",
    "\n",
    "print(f\"The peak time for orders is at {peak_hour} o'clock with a total of {peak_quantity_value} units.\")\n",
    "\n",
    "\n",
    "#The peak time for orders is at 10 o'clock with a total of 29591 units.\n"
   ]
  },
  {
   "cell_type": "markdown",
   "id": "4a661088",
   "metadata": {},
   "source": [
    "27. Examine variable original_unit_price .<br>"
   ]
  },
  {
   "cell_type": "markdown",
   "id": "3e503d07",
   "metadata": {},
   "source": [
    "1) Using describe() to check the stastitics. What is min, max and median?"
   ]
  },
  {
   "cell_type": "code",
   "execution_count": 61,
   "id": "c19e4bb1",
   "metadata": {},
   "outputs": [
    {
     "data": {
      "text/plain": [
       "count    315898.000000\n",
       "mean        120.867210\n",
       "std          87.629065\n",
       "min           0.000000\n",
       "25%          69.000000\n",
       "50%          85.000000\n",
       "75%         149.000000\n",
       "max        7130.000000\n",
       "Name: original_unit_price, dtype: float64"
      ]
     },
     "execution_count": 61,
     "metadata": {},
     "output_type": "execute_result"
    }
   ],
   "source": [
    "filtered_data['original_unit_price'].describe()\n",
    "\n",
    "#Minimum original unit price: 0.0\n",
    "#Maximum original unit price: 7130.0\n",
    "#Median original unit price: 85.0"
   ]
  },
  {
   "cell_type": "markdown",
   "id": "ce6b4b9c",
   "metadata": {},
   "source": [
    "2) Find out the percentage of observations whose original_unit_price is greater than 350. Delete those observations using filtering. We will use the filtered dataset from now on."
   ]
  },
  {
   "cell_type": "code",
   "execution_count": 62,
   "id": "aacc2f83",
   "metadata": {},
   "outputs": [
    {
     "name": "stdout",
     "output_type": "stream",
     "text": [
      "The percentage of observations with original_unit_price > 350 is: 0.65%\n"
     ]
    }
   ],
   "source": [
    "percentage_above_350 = (filtered_data['original_unit_price'] > 350).mean() * 100\n",
    "\n",
    "print(f\"The percentage of observations with original_unit_price > 350 is: {percentage_above_350:.2f}%\")\n",
    "\n",
    "#updated data\n",
    "filtered_data = filtered_data[filtered_data['original_unit_price'] <= 350]\n"
   ]
  },
  {
   "cell_type": "markdown",
   "id": "0632e2a3",
   "metadata": {},
   "source": [
    "3) Examine the distribution of original_unit_price, using bins range from 0 to 350, width 10. Which price range has the most orders?"
   ]
  },
  {
   "cell_type": "code",
   "execution_count": 63,
   "id": "8121b9c5",
   "metadata": {},
   "outputs": [
    {
     "data": {
      "text/plain": [
       "(array([1.5876e+04, 3.6630e+03, 1.6820e+03, 4.5640e+03, 4.9610e+03,\n",
       "        3.2915e+04, 3.1537e+04, 5.7240e+04, 1.9267e+04, 1.4141e+04,\n",
       "        8.4430e+03, 5.5720e+03, 1.3102e+04, 1.6162e+04, 9.5800e+03,\n",
       "        5.3300e+03, 2.4780e+03, 1.2135e+04, 3.3870e+03, 5.3610e+03,\n",
       "        8.1100e+02, 6.3500e+02, 5.0000e+01, 2.6950e+03, 5.8090e+03,\n",
       "        2.8450e+03, 2.0040e+03, 3.1800e+02, 4.3000e+02, 2.7036e+04,\n",
       "        9.9100e+02, 3.2000e+01, 5.1800e+02, 2.2650e+03, 7.0000e+00,\n",
       "        0.0000e+00]),\n",
       " array([  0.,  10.,  20.,  30.,  40.,  50.,  60.,  70.,  80.,  90., 100.,\n",
       "        110., 120., 130., 140., 150., 160., 170., 180., 190., 200., 210.,\n",
       "        220., 230., 240., 250., 260., 270., 280., 290., 300., 310., 320.,\n",
       "        330., 340., 350., 360.]),\n",
       " <BarContainer object of 36 artists>)"
      ]
     },
     "execution_count": 63,
     "metadata": {},
     "output_type": "execute_result"
    },
    {
     "data": {
      "text/plain": [
       "Text(0.5, 1.0, 'Distribution of original_unit_price')"
      ]
     },
     "execution_count": 63,
     "metadata": {},
     "output_type": "execute_result"
    },
    {
     "data": {
      "text/plain": [
       "Text(0.5, 0, 'Original Unit Price')"
      ]
     },
     "execution_count": 63,
     "metadata": {},
     "output_type": "execute_result"
    },
    {
     "data": {
      "text/plain": [
       "Text(0, 0.5, 'Number of Orders')"
      ]
     },
     "execution_count": 63,
     "metadata": {},
     "output_type": "execute_result"
    },
    {
     "data": {
      "image/png": "[encoded data removed]",
      "text/plain": [
       "<Figure size 640x480 with 1 Axes>"
      ]
     },
     "metadata": {},
     "output_type": "display_data"
    },
    {
     "name": "stdout",
     "output_type": "stream",
     "text": [
      "The price range with the most orders is: (70, 80]\n"
     ]
    }
   ],
   "source": [
    "bins = list(range(0, 361, 10))\n",
    "\n",
    "plt.hist(filtered_data['original_unit_price'], bins=bins, edgecolor='red')\n",
    "\n",
    "plt.title('Distribution of original_unit_price')\n",
    "plt.xlabel('Original Unit Price')\n",
    "plt.ylabel('Number of Orders')\n",
    "\n",
    "plt.show()\n",
    "\n",
    "most_orders_price_range = filtered_data.groupby(pd.cut(filtered_data['original_unit_price'], bins=bins)).size().idxmax()\n",
    "\n",
    "print(f\"The price range with the most orders is: {most_orders_price_range}\")\n",
    "\n",
    "#The price range with the most orders is: (70, 80]\n"
   ]
  },
  {
   "cell_type": "markdown",
   "id": "41361250",
   "metadata": {},
   "source": [
    "28. Examine the distribution of final_unit_price, using bins range from -20 to 350, width 10. Comparing to original unit prices, how are the final prices different?"
   ]
  },
  {
   "cell_type": "code",
   "execution_count": 64,
   "id": "cbc89158",
   "metadata": {},
   "outputs": [
    {
     "data": {
      "text/plain": [
       "(array([0.0000e+00, 0.0000e+00, 1.5876e+04, 3.6630e+03, 1.6820e+03,\n",
       "        4.5640e+03, 4.9610e+03, 3.2915e+04, 3.1537e+04, 5.7240e+04,\n",
       "        1.9267e+04, 1.4141e+04, 8.4430e+03, 5.5720e+03, 1.3102e+04,\n",
       "        1.6162e+04, 9.5800e+03, 5.3300e+03, 2.4780e+03, 1.2135e+04,\n",
       "        3.3870e+03, 5.3610e+03, 8.1100e+02, 6.3500e+02, 5.0000e+01,\n",
       "        2.6950e+03, 5.8090e+03, 2.8450e+03, 2.0040e+03, 3.1800e+02,\n",
       "        4.3000e+02, 2.7036e+04, 9.9100e+02, 3.2000e+01, 5.1800e+02,\n",
       "        2.2650e+03, 7.0000e+00, 0.0000e+00]),\n",
       " array([-20., -10.,   0.,  10.,  20.,  30.,  40.,  50.,  60.,  70.,  80.,\n",
       "         90., 100., 110., 120., 130., 140., 150., 160., 170., 180., 190.,\n",
       "        200., 210., 220., 230., 240., 250., 260., 270., 280., 290., 300.,\n",
       "        310., 320., 330., 340., 350., 360.]),\n",
       " <BarContainer object of 38 artists>)"
      ]
     },
     "execution_count": 64,
     "metadata": {},
     "output_type": "execute_result"
    },
    {
     "data": {
      "text/plain": [
       "(array([8.9000e+01, 1.4520e+03, 1.9450e+04, 4.7850e+03, 1.0509e+04,\n",
       "        3.7819e+04, 3.6622e+04, 4.2602e+04, 3.5412e+04, 1.9199e+04,\n",
       "        9.4270e+03, 1.1268e+04, 1.1681e+04, 4.6090e+03, 1.0485e+04,\n",
       "        5.0810e+03, 4.6640e+03, 5.4450e+03, 7.9960e+03, 1.7980e+03,\n",
       "        2.1200e+03, 3.4790e+03, 1.0715e+04, 2.4290e+03, 8.0320e+03,\n",
       "        2.4030e+03, 2.5380e+03, 6.8500e+02, 2.8700e+02, 2.3400e+02,\n",
       "        1.3600e+02, 2.8800e+02, 7.1000e+01, 1.4000e+01, 5.0000e+00,\n",
       "        1.3000e+01, 0.0000e+00, 0.0000e+00]),\n",
       " array([-20., -10.,   0.,  10.,  20.,  30.,  40.,  50.,  60.,  70.,  80.,\n",
       "         90., 100., 110., 120., 130., 140., 150., 160., 170., 180., 190.,\n",
       "        200., 210., 220., 230., 240., 250., 260., 270., 280., 290., 300.,\n",
       "        310., 320., 330., 340., 350., 360.]),\n",
       " <BarContainer object of 38 artists>)"
      ]
     },
     "execution_count": 64,
     "metadata": {},
     "output_type": "execute_result"
    },
    {
     "data": {
      "text/plain": [
       "Text(0.5, 1.0, 'Distribution of Original and Final Unit Prices')"
      ]
     },
     "execution_count": 64,
     "metadata": {},
     "output_type": "execute_result"
    },
    {
     "data": {
      "text/plain": [
       "Text(0.5, 0, 'Unit Price')"
      ]
     },
     "execution_count": 64,
     "metadata": {},
     "output_type": "execute_result"
    },
    {
     "data": {
      "text/plain": [
       "Text(0, 0.5, 'Number of Orders')"
      ]
     },
     "execution_count": 64,
     "metadata": {},
     "output_type": "execute_result"
    },
    {
     "data": {
      "text/plain": [
       "<matplotlib.legend.Legend at 0x1a93b0ca610>"
      ]
     },
     "execution_count": 64,
     "metadata": {},
     "output_type": "execute_result"
    },
    {
     "data": {
      "image/png": "[encoded data removed]",
      "text/plain": [
       "<Figure size 640x480 with 1 Axes>"
      ]
     },
     "metadata": {},
     "output_type": "display_data"
    }
   ],
   "source": [
    "bins = list(range(-20, 361, 10))\n",
    "\n",
    "plt.hist(filtered_data['original_unit_price'], bins=bins, alpha=0.5, edgecolor='red', color='blue', label='Original Unit Price')\n",
    "plt.hist(filtered_data['final_unit_price'], bins=bins, alpha=0.5, edgecolor='purple',  color='green', label='Final Unit Price')\n",
    "\n",
    "plt.title('Distribution of Original and Final Unit Prices')\n",
    "plt.xlabel('Unit Price')\n",
    "plt.ylabel('Number of Orders')\n",
    "plt.legend()\n",
    "\n",
    "plt.show()\n",
    "\n",
    "#The original unit prices were wayy higher than the final. They were visually substantial."
   ]
  },
  {
   "cell_type": "markdown",
   "id": "3146104a",
   "metadata": {},
   "source": [
    "29. Create a new variable 'sales', which is equal to the multiplication of quantity and final unit price. Make a graph for sales by day as in Q25."
   ]
  },
  {
   "cell_type": "code",
   "execution_count": 65,
   "id": "78d29d15",
   "metadata": {},
   "outputs": [
    {
     "data": {
      "text/plain": [
       "[<matplotlib.lines.Line2D at 0x1a93b2ebc90>]"
      ]
     },
     "execution_count": 65,
     "metadata": {},
     "output_type": "execute_result"
    },
    {
     "data": {
      "text/plain": [
       "Text(0.5, 1.0, 'Sales by Day')"
      ]
     },
     "execution_count": 65,
     "metadata": {},
     "output_type": "execute_result"
    },
    {
     "data": {
      "text/plain": [
       "Text(0.5, 0, 'Day of the Month')"
      ]
     },
     "execution_count": 65,
     "metadata": {},
     "output_type": "execute_result"
    },
    {
     "data": {
      "text/plain": [
       "Text(0, 0.5, 'Total Sales')"
      ]
     },
     "execution_count": 65,
     "metadata": {},
     "output_type": "execute_result"
    },
    {
     "data": {
      "image/png": "[encoded data removed]",
      "text/plain": [
       "<Figure size 640x480 with 1 Axes>"
      ]
     },
     "metadata": {},
     "output_type": "display_data"
    }
   ],
   "source": [
    "filtered_data['sales'] = filtered_data['quantity'] * filtered_data['final_unit_price']\n",
    "\n",
    "# Sum the sales by day\n",
    "sales_by_day = filtered_data.groupby('order_day')['sales'].sum()\n",
    "\n",
    "plt.plot(sales_by_day.index, sales_by_day.values, marker='.', linestyle='-', color='blue')\n",
    "plt.title('Sales by Day')\n",
    "plt.xlabel('Day of the Month')\n",
    "plt.ylabel('Total Sales')\n",
    "plt.show()"
   ]
  },
  {
   "cell_type": "markdown",
   "id": "f8b594ac",
   "metadata": {},
   "source": [
    "30. Try to answer one descriptive question you asked in your project initial report."
   ]
  },
  {
   "cell_type": "code",
   "execution_count": 66,
   "id": "b6d837ae",
   "metadata": {},
   "outputs": [
    {
     "data": {
      "text/plain": [
       "<Figure size 800x400 with 0 Axes>"
      ]
     },
     "execution_count": 66,
     "metadata": {},
     "output_type": "execute_result"
    },
    {
     "data": {
      "text/plain": [
       "<Axes: ylabel='type_x'>"
      ]
     },
     "execution_count": 66,
     "metadata": {},
     "output_type": "execute_result"
    },
    {
     "data": {
      "text/plain": [
       "Text(0.5, 1.0, 'Order Volume Across Different Regions in China')"
      ]
     },
     "execution_count": 66,
     "metadata": {},
     "output_type": "execute_result"
    },
    {
     "data": {
      "text/plain": [
       "Text(0.5, 0, 'Total Order Volume')"
      ]
     },
     "execution_count": 66,
     "metadata": {},
     "output_type": "execute_result"
    },
    {
     "data": {
      "text/plain": [
       "Text(0, 0.5, 'Region')"
      ]
     },
     "execution_count": 66,
     "metadata": {},
     "output_type": "execute_result"
    },
    {
     "data": {
      "image/png": "[encoded data removed]",
      "text/plain": [
       "<Figure size 800x400 with 1 Axes>"
      ]
     },
     "metadata": {},
     "output_type": "display_data"
    }
   ],
   "source": [
    "import pandas as pd\n",
    "import matplotlib.pyplot as plt\n",
    "\n",
    "# Group by Region and calculate the total order volume\n",
    "region_order_volume = filtered_data.groupby('type_x')['quantity'].sum()\n",
    "\n",
    "# Create a bar chart to visualize order volume across different regions\n",
    "plt.figure(figsize=(8, 4))\n",
    "region_order_volume.sort_values().plot(kind='barh', color='skyblue')\n",
    "plt.title('Order Volume Across Different Regions in China')\n",
    "plt.xlabel('Total Order Volume')\n",
    "plt.ylabel('Region')\n",
    "plt.show()\n",
    "\n",
    "#How does order volume vary across different regions in China?"
   ]
  },
  {
   "cell_type": "markdown",
   "id": "f0c24792",
   "metadata": {},
   "source": [
    "### Assignment 11 starts from here: Q31-Q40.\n",
    "We only covered a small part of data exploration in Assignment 10. If you are interested, you can make many more graphs to understand the data. <br>\n",
    "Next we intend to build models to predict delivery times."
   ]
  },
  {
   "cell_type": "markdown",
   "id": "aae847a1",
   "metadata": {},
   "source": [
    "We want to use two sets of features to make predictions.<br>\n",
    "1. order effect: This class of predictors captures thevcharacteristics of an order that may impact deliveryvtime, such as the number of items (SKUs), order size (quantity), order type (1P or 3P), discount rate and the number of gift items.<br>\n",
    "2. User effect: The process may prioritize certain customers over others, for example, customers with a PLUSmembership or higher past purchase values.<br>\n",
    "Note: Actually, it will be better if we can include real-time workloads of distribution centers. It can be done with this dataset, but might be a little too much for us. So, we will leave that part out."
   ]
  },
  {
   "cell_type": "markdown",
   "id": "4d6d4f39",
   "metadata": {},
   "source": [
    "We need to further process the data to prepare the features.<br>\n",
    "<b>Note: Here I have done this part. You need to change the name of DataFrame \"order_delivery_inner' to your dataframe name that results from all the previous steps. Make sure you run the cells before you proceed.</b>"
   ]
  },
  {
   "cell_type": "markdown",
   "id": "5172354f",
   "metadata": {},
   "source": [
    "31. The dataset we have so far is based on order-items. Each row is an item in an order. Now we need to aggregate by order to match order information with delivery information. Afterwards, each row is about one delivery / one order because we have already removed orders that have multiple deliveries."
   ]
  },
  {
   "cell_type": "markdown",
   "id": "59606105",
   "metadata": {},
   "source": [
    "First, let's calculate order values by multiply price and quantity."
   ]
  },
  {
   "cell_type": "code",
   "execution_count": 78,
   "id": "1319d2d9",
   "metadata": {},
   "outputs": [],
   "source": [
    "import pandas as pd\n",
    "# Original value of items\n",
    "filtered_data['originValue'] = filtered_data['original_unit_price'] \\\n",
    "                                        * filtered_data['quantity']\n",
    "\n",
    "# Final value of items                                    \n",
    "filtered_data['finalValue'] = filtered_data['final_unit_price'] \\\n",
    "                                    * filtered_data['quantity']                                 "
   ]
  },
  {
   "cell_type": "markdown",
   "id": "f31f2672",
   "metadata": {},
   "source": [
    "Next we aggregate by each order. <br>\n",
    "Please pay attention to the variable names. They should be consistent with yours. Make changes when necessary. <br>\n",
    "\n",
    "Variables that are the same across one order:<br>\n",
    "user_ID<br>\n",
    "order type - type_x<br>\n",
    "delivery time - delivery_time<br>\n",
    "order day - order_day<br>\n",
    "order hour - order_hour<br>\n",
    "<br>\n",
    "<br>\n",
    "Variables to be aggregated across one order:<br>\n",
    "sku_ID - to count to calculate the number of different products<br>\n",
    "quantity - to sum to calculate the order size<br>\n",
    "originValue - to sum to calculate sales value with the original price<br>\n",
    "finalValue - to sum to calculate final sales value<br>\n",
    "discount rate<br>\n",
    "gift_item - to sum to calculate the number of gift items<br>\n",
    "\n",
    "Therefore, we need to do the following:<br>\n",
    "\n",
    "1. For variables that are the same across one order, we can use the 'first' method to keep the value in the groupby result.<br>\n",
    "2. For variables to be aggregated, we specify aggregation for each of them.<br>\n",
    "3. We can use a dictionary to put all actions together."
   ]
  },
  {
   "cell_type": "code",
   "execution_count": 79,
   "id": "c8a0f382",
   "metadata": {},
   "outputs": [
    {
     "data": {
      "text/html": [
       "<div>\n",
       "<style scoped>\n",
       "    .dataframe tbody tr th:only-of-type {\n",
       "        vertical-align: middle;\n",
       "    }\n",
       "\n",
       "    .dataframe tbody tr th {\n",
       "        vertical-align: top;\n",
       "    }\n",
       "\n",
       "    .dataframe thead th {\n",
       "        text-align: right;\n",
       "    }\n",
       "</style>\n",
       "<table border=\"1\" class=\"dataframe\">\n",
       "  <thead>\n",
       "    <tr style=\"text-align: right;\">\n",
       "      <th></th>\n",
       "      <th>order_ID</th>\n",
       "      <th>user_ID</th>\n",
       "      <th>type_x</th>\n",
       "      <th>order_day</th>\n",
       "      <th>order_time</th>\n",
       "      <th>delivery_time</th>\n",
       "      <th>sku_ID</th>\n",
       "      <th>quantity</th>\n",
       "      <th>originValue</th>\n",
       "      <th>finalValue</th>\n",
       "      <th>gift_item</th>\n",
       "    </tr>\n",
       "  </thead>\n",
       "  <tbody>\n",
       "    <tr>\n",
       "      <th>0</th>\n",
       "      <td>0000095025</td>\n",
       "      <td>57648ed1fc</td>\n",
       "      <td>1</td>\n",
       "      <td>19</td>\n",
       "      <td>2018-03-19 11:11:34</td>\n",
       "      <td>0 days 22:48:26</td>\n",
       "      <td>1</td>\n",
       "      <td>1</td>\n",
       "      <td>230.0</td>\n",
       "      <td>176.2</td>\n",
       "      <td>0</td>\n",
       "    </tr>\n",
       "    <tr>\n",
       "      <th>1</th>\n",
       "      <td>00000e13eb</td>\n",
       "      <td>c113527e40</td>\n",
       "      <td>2</td>\n",
       "      <td>9</td>\n",
       "      <td>2018-03-09 12:40:42</td>\n",
       "      <td>2 days 05:19:18</td>\n",
       "      <td>1</td>\n",
       "      <td>1</td>\n",
       "      <td>56.0</td>\n",
       "      <td>56.0</td>\n",
       "      <td>0</td>\n",
       "    </tr>\n",
       "    <tr>\n",
       "      <th>2</th>\n",
       "      <td>0000132b39</td>\n",
       "      <td>c4f5626c0d</td>\n",
       "      <td>1</td>\n",
       "      <td>13</td>\n",
       "      <td>2018-03-13 16:30:35</td>\n",
       "      <td>0 days 22:29:25</td>\n",
       "      <td>1</td>\n",
       "      <td>1</td>\n",
       "      <td>89.0</td>\n",
       "      <td>85.0</td>\n",
       "      <td>0</td>\n",
       "    </tr>\n",
       "    <tr>\n",
       "      <th>3</th>\n",
       "      <td>000064fa67</td>\n",
       "      <td>99439045cb</td>\n",
       "      <td>1</td>\n",
       "      <td>2</td>\n",
       "      <td>2018-03-02 10:56:17</td>\n",
       "      <td>0 days 08:03:43</td>\n",
       "      <td>1</td>\n",
       "      <td>1</td>\n",
       "      <td>298.0</td>\n",
       "      <td>208.0</td>\n",
       "      <td>0</td>\n",
       "    </tr>\n",
       "    <tr>\n",
       "      <th>4</th>\n",
       "      <td>0000bde331</td>\n",
       "      <td>20d84fc11a</td>\n",
       "      <td>1</td>\n",
       "      <td>17</td>\n",
       "      <td>2018-03-17 14:22:54</td>\n",
       "      <td>0 days 21:37:06</td>\n",
       "      <td>1</td>\n",
       "      <td>1</td>\n",
       "      <td>59.9</td>\n",
       "      <td>39.9</td>\n",
       "      <td>0</td>\n",
       "    </tr>\n",
       "  </tbody>\n",
       "</table>\n",
       "</div>"
      ],
      "text/plain": [
       "     order_ID     user_ID  type_x  order_day          order_time  \\\n",
       "0  0000095025  57648ed1fc       1         19 2018-03-19 11:11:34   \n",
       "1  00000e13eb  c113527e40       2          9 2018-03-09 12:40:42   \n",
       "2  0000132b39  c4f5626c0d       1         13 2018-03-13 16:30:35   \n",
       "3  000064fa67  99439045cb       1          2 2018-03-02 10:56:17   \n",
       "4  0000bde331  20d84fc11a       1         17 2018-03-17 14:22:54   \n",
       "\n",
       "    delivery_time  sku_ID  quantity  originValue  finalValue  gift_item  \n",
       "0 0 days 22:48:26       1         1        230.0       176.2          0  \n",
       "1 2 days 05:19:18       1         1         56.0        56.0          0  \n",
       "2 0 days 22:29:25       1         1         89.0        85.0          0  \n",
       "3 0 days 08:03:43       1         1        298.0       208.0          0  \n",
       "4 0 days 21:37:06       1         1         59.9        39.9          0  "
      ]
     },
     "execution_count": 79,
     "metadata": {},
     "output_type": "execute_result"
    }
   ],
   "source": [
    "agg_dict = {\n",
    "    'user_ID': 'first',\n",
    "    'type_x': 'first',\n",
    "    'order_day': 'first',\n",
    "    'order_time': 'first',\n",
    "    'delivery_time': 'first',\n",
    "    'sku_ID': 'count',\n",
    "    'quantity': 'sum',\n",
    "    'originValue': 'sum',\n",
    "    'finalValue': 'sum',\n",
    "    'gift_item': 'sum'\n",
    "}\n",
    "\n",
    "order_agg = filtered_data.groupby('order_ID').agg(agg_dict).reset_index()\n",
    "order_agg.head()"
   ]
  },
  {
   "cell_type": "markdown",
   "id": "fdc3e486",
   "metadata": {},
   "source": [
    "32. Merge user table with this aggregated order table."
   ]
  },
  {
   "cell_type": "code",
   "execution_count": 81,
   "id": "9b6c49fb",
   "metadata": {},
   "outputs": [],
   "source": [
    "user_data = pd.read_csv('C:\\\\Users\\\\prana\\\\Downloads\\\\JD Data (2)\\\\JD Data\\\\JD_user_data.csv')\n",
    "order_user = pd.merge(order_agg, user_data, on = 'user_ID', how = 'inner')"
   ]
  },
  {
   "cell_type": "markdown",
   "id": "dc1d24b9",
   "metadata": {},
   "source": [
    "33. We need to code a few more variables."
   ]
  },
  {
   "cell_type": "code",
   "execution_count": 82,
   "id": "84ea5602",
   "metadata": {},
   "outputs": [],
   "source": [
    "# First we remove the orders with originValue is 0\n",
    "order_user = order_user[order_user['originValue'] != 0]"
   ]
  },
  {
   "cell_type": "code",
   "execution_count": 83,
   "id": "8887322d",
   "metadata": {},
   "outputs": [],
   "source": [
    "\n",
    "# Get the hour of the order_time and save it to a new variable 'order_hour'\n",
    "order_user['order_hour'] = order_user['order_time'].dt.hour\n",
    "\n",
    "# Calculate discount rate\n",
    "order_user['dis_rate'] = (order_user['originValue'] - order_user['finalValue']) / order_user['originValue']\n",
    "\n",
    "# Code 'busy_hour' to be busy vs. not busy\n",
    "order_user['busy_hour'] = order_user['order_hour'].apply(lambda h: 1 if (8 <= h <= 22) else 0)"
   ]
  },
  {
   "cell_type": "markdown",
   "id": "fd453eb5",
   "metadata": {},
   "source": [
    "34. Prepare data for analysis. The target variable is 'delivery_time'.<br>\n",
    "Features: 'type_x', 'sku_ID', 'quantity', 'finalValue', 'gift_item', 'plus', 'dis_rate', 'busy_hour'"
   ]
  },
  {
   "cell_type": "code",
   "execution_count": 84,
   "id": "b2a32107",
   "metadata": {},
   "outputs": [],
   "source": [
    "order_user['delivery_time'] = pd.to_timedelta(order_user['delivery_time']).dt.total_seconds() / 3600"
   ]
  },
  {
   "cell_type": "code",
   "execution_count": 85,
   "id": "6bdb97fd",
   "metadata": {},
   "outputs": [
    {
     "data": {
      "text/plain": [
       "order_ID                      0000132b39\n",
       "user_ID                       c4f5626c0d\n",
       "type_x                                 1\n",
       "order_day                             13\n",
       "order_time           2018-03-13 16:30:35\n",
       "delivery_time                  22.490278\n",
       "sku_ID                                 1\n",
       "quantity                               1\n",
       "originValue                         89.0\n",
       "finalValue                          85.0\n",
       "gift_item                              0\n",
       "user_level                             2\n",
       "first_order_month                2016-06\n",
       "plus                                   0\n",
       "education                              3\n",
       "city_level                             2\n",
       "purchase_power                         1\n",
       "order_hour                            16\n",
       "dis_rate                        0.044944\n",
       "busy_hour                              1\n",
       "gender_M                               0\n",
       "gender_U                               0\n",
       "marital_status_S                       1\n",
       "marital_status_U                       0\n",
       "age_26-35                              0\n",
       "age_36-45                              0\n",
       "age_46-55                              0\n",
       "age_<=15                               0\n",
       "age_>=56                               0\n",
       "age_U                                  0\n",
       "Name: 2, dtype: object"
      ]
     },
     "execution_count": 85,
     "metadata": {},
     "output_type": "execute_result"
    }
   ],
   "source": [
    "order_user = pd.get_dummies(order_user, columns=['gender', 'marital_status', 'age'], drop_first=True)\n",
    "\n",
    "\n",
    "\n",
    "X = order_user[['type_x', 'sku_ID', 'quantity', 'finalValue', 'gift_item', 'plus', 'dis_rate', 'busy_hour']]\n",
    "y = order_user['delivery_time']\n",
    "order_user.iloc[2]"
   ]
  },
  {
   "cell_type": "markdown",
   "id": "847ade50",
   "metadata": {},
   "source": [
    "35. Prepare the training and test datasets"
   ]
  },
  {
   "cell_type": "code",
   "execution_count": 86,
   "id": "9d79d189",
   "metadata": {},
   "outputs": [
    {
     "data": {
      "text/plain": [
       "(194722, 8)"
      ]
     },
     "execution_count": 86,
     "metadata": {},
     "output_type": "execute_result"
    },
    {
     "data": {
      "text/plain": [
       "(83453, 8)"
      ]
     },
     "execution_count": 86,
     "metadata": {},
     "output_type": "execute_result"
    }
   ],
   "source": [
    "\n",
    "from sklearn.model_selection import train_test_split\n",
    "\n",
    "X_train, X_test, y_train, y_test = train_test_split(X, y, test_size=0.3, random_state=42)\n",
    "\n",
    "X_train.shape\n",
    "X_test.shape"
   ]
  },
  {
   "cell_type": "markdown",
   "id": "710e9e72",
   "metadata": {},
   "source": [
    "36. Train a Decision Tree regression model."
   ]
  },
  {
   "cell_type": "code",
   "execution_count": 87,
   "id": "06d31756",
   "metadata": {},
   "outputs": [
    {
     "data": {
      "text/html": [
       "<style>#sk-container-id-1 {color: black;}#sk-container-id-1 pre{padding: 0;}#sk-container-id-1 div.sk-toggleable {background-color: white;}#sk-container-id-1 label.sk-toggleable__label {cursor: pointer;display: block;width: 100%;margin-bottom: 0;padding: 0.3em;box-sizing: border-box;text-align: center;}#sk-container-id-1 label.sk-toggleable__label-arrow:before {content: \"▸\";float: left;margin-right: 0.25em;color: #696969;}#sk-container-id-1 label.sk-toggleable__label-arrow:hover:before {color: black;}#sk-container-id-1 div.sk-estimator:hover label.sk-toggleable__label-arrow:before {color: black;}#sk-container-id-1 div.sk-toggleable__content {max-height: 0;max-width: 0;overflow: hidden;text-align: left;background-color: #f0f8ff;}#sk-container-id-1 div.sk-toggleable__content pre {margin: 0.2em;color: black;border-radius: 0.25em;background-color: #f0f8ff;}#sk-container-id-1 input.sk-toggleable__control:checked~div.sk-toggleable__content {max-height: 200px;max-width: 100%;overflow: auto;}#sk-container-id-1 input.sk-toggleable__control:checked~label.sk-toggleable__label-arrow:before {content: \"▾\";}#sk-container-id-1 div.sk-estimator input.sk-toggleable__control:checked~label.sk-toggleable__label {background-color: #d4ebff;}#sk-container-id-1 div.sk-label input.sk-toggleable__control:checked~label.sk-toggleable__label {background-color: #d4ebff;}#sk-container-id-1 input.sk-hidden--visually {border: 0;clip: rect(1px 1px 1px 1px);clip: rect(1px, 1px, 1px, 1px);height: 1px;margin: -1px;overflow: hidden;padding: 0;position: absolute;width: 1px;}#sk-container-id-1 div.sk-estimator {font-family: monospace;background-color: #f0f8ff;border: 1px dotted black;border-radius: 0.25em;box-sizing: border-box;margin-bottom: 0.5em;}#sk-container-id-1 div.sk-estimator:hover {background-color: #d4ebff;}#sk-container-id-1 div.sk-parallel-item::after {content: \"\";width: 100%;border-bottom: 1px solid gray;flex-grow: 1;}#sk-container-id-1 div.sk-label:hover label.sk-toggleable__label {background-color: #d4ebff;}#sk-container-id-1 div.sk-serial::before {content: \"\";position: absolute;border-left: 1px solid gray;box-sizing: border-box;top: 0;bottom: 0;left: 50%;z-index: 0;}#sk-container-id-1 div.sk-serial {display: flex;flex-direction: column;align-items: center;background-color: white;padding-right: 0.2em;padding-left: 0.2em;position: relative;}#sk-container-id-1 div.sk-item {position: relative;z-index: 1;}#sk-container-id-1 div.sk-parallel {display: flex;align-items: stretch;justify-content: center;background-color: white;position: relative;}#sk-container-id-1 div.sk-item::before, #sk-container-id-1 div.sk-parallel-item::before {content: \"\";position: absolute;border-left: 1px solid gray;box-sizing: border-box;top: 0;bottom: 0;left: 50%;z-index: -1;}#sk-container-id-1 div.sk-parallel-item {display: flex;flex-direction: column;z-index: 1;position: relative;background-color: white;}#sk-container-id-1 div.sk-parallel-item:first-child::after {align-self: flex-end;width: 50%;}#sk-container-id-1 div.sk-parallel-item:last-child::after {align-self: flex-start;width: 50%;}#sk-container-id-1 div.sk-parallel-item:only-child::after {width: 0;}#sk-container-id-1 div.sk-dashed-wrapped {border: 1px dashed gray;margin: 0 0.4em 0.5em 0.4em;box-sizing: border-box;padding-bottom: 0.4em;background-color: white;}#sk-container-id-1 div.sk-label label {font-family: monospace;font-weight: bold;display: inline-block;line-height: 1.2em;}#sk-container-id-1 div.sk-label-container {text-align: center;}#sk-container-id-1 div.sk-container {/* jupyter's `normalize.less` sets `[hidden] { display: none; }` but bootstrap.min.css set `[hidden] { display: none !important; }` so we also need the `!important` here to be able to override the default hidden behavior on the sphinx rendered scikit-learn.org. See: https://github.com/scikit-learn/scikit-learn/issues/21755 */display: inline-block !important;position: relative;}#sk-container-id-1 div.sk-text-repr-fallback {display: none;}</style><div id=\"sk-container-id-1\" class=\"sk-top-container\"><div class=\"sk-text-repr-fallback\"><pre>DecisionTreeRegressor(random_state=42)</pre><b>In a Jupyter environment, please rerun this cell to show the HTML representation or trust the notebook. <br />On GitHub, the HTML representation is unable to render, please try loading this page with nbviewer.org.</b></div><div class=\"sk-container\" hidden><div class=\"sk-item\"><div class=\"sk-estimator sk-toggleable\"><input class=\"sk-toggleable__control sk-hidden--visually\" id=\"sk-estimator-id-1\" type=\"checkbox\" checked><label for=\"sk-estimator-id-1\" class=\"sk-toggleable__label sk-toggleable__label-arrow\">DecisionTreeRegressor</label><div class=\"sk-toggleable__content\"><pre>DecisionTreeRegressor(random_state=42)</pre></div></div></div></div></div>"
      ],
      "text/plain": [
       "DecisionTreeRegressor(random_state=42)"
      ]
     },
     "execution_count": 87,
     "metadata": {},
     "output_type": "execute_result"
    },
    {
     "name": "stdout",
     "output_type": "stream",
     "text": [
      "Training RMSE: 22.091446284900385\n",
      "Test RMSE: 26.622305926572817\n"
     ]
    }
   ],
   "source": [
    "from sklearn.tree import DecisionTreeRegressor\n",
    "from sklearn.metrics import mean_squared_error\n",
    "import numpy as np\n",
    "\n",
    "dt_regressor = DecisionTreeRegressor(random_state=42)\n",
    "\n",
    "dt_regressor.fit(X_train, y_train)\n",
    "\n",
    "train_predictions = dt_regressor.predict(X_train)\n",
    "\n",
    "test_predictions = dt_regressor.predict(X_test)\n",
    "\n",
    "y_train_numeric = y_train.astype(np.int64)\n",
    "y_test_numeric = y_test.astype(np.int64)\n",
    "\n",
    "# Evaluate the model\n",
    "train_rmse = np.sqrt(mean_squared_error(y_train_numeric, train_predictions))\n",
    "test_rmse = np.sqrt(mean_squared_error(y_test_numeric, test_predictions))\n",
    "\n",
    "print(\"Training RMSE:\", train_rmse)\n",
    "print(\"Test RMSE:\", test_rmse)\n"
   ]
  },
  {
   "cell_type": "markdown",
   "id": "16d7e840",
   "metadata": {},
   "source": [
    "37. Make predictions on the testing data."
   ]
  },
  {
   "cell_type": "code",
   "execution_count": 88,
   "id": "63bfb5dc",
   "metadata": {},
   "outputs": [
    {
     "name": "stdout",
     "output_type": "stream",
     "text": [
      "Predicted values on the test set:\n",
      "[37.83700855 24.60143617 37.46199444 ... 25.98941893 22.12701389\n",
      " 28.42532407]\n"
     ]
    }
   ],
   "source": [
    "test_predictions = dt_regressor.predict(X_test)\n",
    "\n",
    "print(\"Predicted values on the test set:\")\n",
    "print(test_predictions)"
   ]
  },
  {
   "cell_type": "markdown",
   "id": "d5e881fa",
   "metadata": {},
   "source": [
    "38. Evaluate the model using RMSE"
   ]
  },
  {
   "cell_type": "code",
   "execution_count": 89,
   "id": "6c14af6e",
   "metadata": {},
   "outputs": [
    {
     "data": {
      "text/html": [
       "<style>#sk-container-id-2 {color: black;}#sk-container-id-2 pre{padding: 0;}#sk-container-id-2 div.sk-toggleable {background-color: white;}#sk-container-id-2 label.sk-toggleable__label {cursor: pointer;display: block;width: 100%;margin-bottom: 0;padding: 0.3em;box-sizing: border-box;text-align: center;}#sk-container-id-2 label.sk-toggleable__label-arrow:before {content: \"▸\";float: left;margin-right: 0.25em;color: #696969;}#sk-container-id-2 label.sk-toggleable__label-arrow:hover:before {color: black;}#sk-container-id-2 div.sk-estimator:hover label.sk-toggleable__label-arrow:before {color: black;}#sk-container-id-2 div.sk-toggleable__content {max-height: 0;max-width: 0;overflow: hidden;text-align: left;background-color: #f0f8ff;}#sk-container-id-2 div.sk-toggleable__content pre {margin: 0.2em;color: black;border-radius: 0.25em;background-color: #f0f8ff;}#sk-container-id-2 input.sk-toggleable__control:checked~div.sk-toggleable__content {max-height: 200px;max-width: 100%;overflow: auto;}#sk-container-id-2 input.sk-toggleable__control:checked~label.sk-toggleable__label-arrow:before {content: \"▾\";}#sk-container-id-2 div.sk-estimator input.sk-toggleable__control:checked~label.sk-toggleable__label {background-color: #d4ebff;}#sk-container-id-2 div.sk-label input.sk-toggleable__control:checked~label.sk-toggleable__label {background-color: #d4ebff;}#sk-container-id-2 input.sk-hidden--visually {border: 0;clip: rect(1px 1px 1px 1px);clip: rect(1px, 1px, 1px, 1px);height: 1px;margin: -1px;overflow: hidden;padding: 0;position: absolute;width: 1px;}#sk-container-id-2 div.sk-estimator {font-family: monospace;background-color: #f0f8ff;border: 1px dotted black;border-radius: 0.25em;box-sizing: border-box;margin-bottom: 0.5em;}#sk-container-id-2 div.sk-estimator:hover {background-color: #d4ebff;}#sk-container-id-2 div.sk-parallel-item::after {content: \"\";width: 100%;border-bottom: 1px solid gray;flex-grow: 1;}#sk-container-id-2 div.sk-label:hover label.sk-toggleable__label {background-color: #d4ebff;}#sk-container-id-2 div.sk-serial::before {content: \"\";position: absolute;border-left: 1px solid gray;box-sizing: border-box;top: 0;bottom: 0;left: 50%;z-index: 0;}#sk-container-id-2 div.sk-serial {display: flex;flex-direction: column;align-items: center;background-color: white;padding-right: 0.2em;padding-left: 0.2em;position: relative;}#sk-container-id-2 div.sk-item {position: relative;z-index: 1;}#sk-container-id-2 div.sk-parallel {display: flex;align-items: stretch;justify-content: center;background-color: white;position: relative;}#sk-container-id-2 div.sk-item::before, #sk-container-id-2 div.sk-parallel-item::before {content: \"\";position: absolute;border-left: 1px solid gray;box-sizing: border-box;top: 0;bottom: 0;left: 50%;z-index: -1;}#sk-container-id-2 div.sk-parallel-item {display: flex;flex-direction: column;z-index: 1;position: relative;background-color: white;}#sk-container-id-2 div.sk-parallel-item:first-child::after {align-self: flex-end;width: 50%;}#sk-container-id-2 div.sk-parallel-item:last-child::after {align-self: flex-start;width: 50%;}#sk-container-id-2 div.sk-parallel-item:only-child::after {width: 0;}#sk-container-id-2 div.sk-dashed-wrapped {border: 1px dashed gray;margin: 0 0.4em 0.5em 0.4em;box-sizing: border-box;padding-bottom: 0.4em;background-color: white;}#sk-container-id-2 div.sk-label label {font-family: monospace;font-weight: bold;display: inline-block;line-height: 1.2em;}#sk-container-id-2 div.sk-label-container {text-align: center;}#sk-container-id-2 div.sk-container {/* jupyter's `normalize.less` sets `[hidden] { display: none; }` but bootstrap.min.css set `[hidden] { display: none !important; }` so we also need the `!important` here to be able to override the default hidden behavior on the sphinx rendered scikit-learn.org. See: https://github.com/scikit-learn/scikit-learn/issues/21755 */display: inline-block !important;position: relative;}#sk-container-id-2 div.sk-text-repr-fallback {display: none;}</style><div id=\"sk-container-id-2\" class=\"sk-top-container\"><div class=\"sk-text-repr-fallback\"><pre>DecisionTreeRegressor(random_state=42)</pre><b>In a Jupyter environment, please rerun this cell to show the HTML representation or trust the notebook. <br />On GitHub, the HTML representation is unable to render, please try loading this page with nbviewer.org.</b></div><div class=\"sk-container\" hidden><div class=\"sk-item\"><div class=\"sk-estimator sk-toggleable\"><input class=\"sk-toggleable__control sk-hidden--visually\" id=\"sk-estimator-id-2\" type=\"checkbox\" checked><label for=\"sk-estimator-id-2\" class=\"sk-toggleable__label sk-toggleable__label-arrow\">DecisionTreeRegressor</label><div class=\"sk-toggleable__content\"><pre>DecisionTreeRegressor(random_state=42)</pre></div></div></div></div></div>"
      ],
      "text/plain": [
       "DecisionTreeRegressor(random_state=42)"
      ]
     },
     "execution_count": 89,
     "metadata": {},
     "output_type": "execute_result"
    },
    {
     "name": "stdout",
     "output_type": "stream",
     "text": [
      "Test RMSE: 26.622305926572817\n"
     ]
    }
   ],
   "source": [
    "from sklearn.tree import DecisionTreeRegressor\n",
    "from sklearn.metrics import mean_squared_error\n",
    "import numpy as np\n",
    "\n",
    "dt_regressor = DecisionTreeRegressor(random_state=42)\n",
    "\n",
    "# Train the model on the training data\n",
    "dt_regressor.fit(X_train, y_train)\n",
    "\n",
    "# Make predictions on the test set\n",
    "test_predictions = dt_regressor.predict(X_test)\n",
    "\n",
    "y_test_numeric = y_test.astype(np.int64)\n",
    "\n",
    "# Calculate RMSE on the test set\n",
    "test_rmse = np.sqrt(mean_squared_error(y_test_numeric, test_predictions))\n",
    "\n",
    "print(\"Test RMSE:\", test_rmse)"
   ]
  },
  {
   "cell_type": "code",
   "execution_count": 90,
   "id": "818290ae",
   "metadata": {},
   "outputs": [
    {
     "data": {
      "text/plain": [
       "count    278175.000000\n",
       "mean         33.679660\n",
       "std          28.369402\n",
       "min         -16.583333\n",
       "25%          17.348333\n",
       "50%          23.557778\n",
       "75%          43.032639\n",
       "max         641.217500\n",
       "Name: delivery_time, dtype: float64"
      ]
     },
     "execution_count": 90,
     "metadata": {},
     "output_type": "execute_result"
    }
   ],
   "source": [
    "# To understand the RMSE, We check the statistics of the target variable.\n",
    "order_user['delivery_time'].describe()\n",
    "# It seems the mean is about 33.40 hours. \n",
    "# the prediction seems not very good.\n",
    "#The large magnitudes of these errors suggest that the model is not performing well in terms of predicting the target variable.\n",
    "#The model's predictions deviate significantly from the actual values.\n",
    "#If the training RMSE is much lower than the test RMSE it may indicate that the model is overfitting the training data. \n",
    "#Overfitting occurs when a model learns the training data too well, capturing noise and idiosyncrasies that do not generalize to new, unseen data."
   ]
  },
  {
   "cell_type": "code",
   "execution_count": 73,
   "id": "51dc9e96",
   "metadata": {},
   "outputs": [
    {
     "data": {
      "text/plain": [
       "<Figure size 800x500 with 0 Axes>"
      ]
     },
     "execution_count": 73,
     "metadata": {},
     "output_type": "execute_result"
    },
    {
     "data": {
      "text/plain": [
       "<Axes: >"
      ]
     },
     "execution_count": 73,
     "metadata": {},
     "output_type": "execute_result"
    },
    {
     "data": {
      "text/plain": [
       "Text(0.5, 1.0, 'Correlation matrix for Selected Features')"
      ]
     },
     "execution_count": 73,
     "metadata": {},
     "output_type": "execute_result"
    },
    {
     "data": {
      "image/png": "[encoded data removed]",
      "text/plain": [
       "<Figure size 800x500 with 2 Axes>"
      ]
     },
     "metadata": {},
     "output_type": "display_data"
    }
   ],
   "source": [
    "# Given the list of selected features, I'll create a sample dataframe for demonstration purposes\n",
    "selected_features_actual = [\n",
    "    'user_ID',\n",
    "    'type',\n",
    "    'delivery_time',\n",
    "    'order_time',\n",
    "    'sku_ID',\n",
    "    'quantity',\n",
    "    'originValue',\n",
    "    'finalValue',\n",
    "    'gift_item'\n",
    "]\n",
    "\n",
    "# Generating random data for these features for illustration\n",
    "np.random.seed(42)  # for reproducibility\n",
    "data_actual = {feature: np.random.rand(100) for feature in selected_features_actual}\n",
    "\n",
    "df_selected_features = pd.DataFrame(data_actual)\n",
    "\n",
    "# Calculate the correlation matrix for the selected features\n",
    "correlation_matrix_actual = df_selected_features.corr()\n",
    "\n",
    "# Plot the correlogram\n",
    "plt.figure(figsize=(8, 5))\n",
    "sns.heatmap(correlation_matrix_actual, annot=True, cmap='coolwarm', vmin=-1, vmax=1, square=True, linewidths=0.5)\n",
    "plt.title(\"Correlation matrix for Selected Features\")\n",
    "plt.show()\n"
   ]
  },
  {
   "cell_type": "code",
   "execution_count": null,
   "id": "c0efc479",
   "metadata": {},
   "outputs": [],
   "source": []
  }
 ],
 "metadata": {
  "kernelspec": {
   "display_name": "Python 3 (ipykernel)",
   "language": "python",
   "name": "python3"
  },
  "language_info": {
   "codemirror_mode": {
    "name": "ipython",
    "version": 3
   },
   "file_extension": ".py",
   "mimetype": "text/x-python",
   "name": "python",
   "nbconvert_exporter": "python",
   "pygments_lexer": "ipython3",
   "version": "3.11.4"
  }
 },
 "nbformat": 4,
 "nbformat_minor": 5
}
