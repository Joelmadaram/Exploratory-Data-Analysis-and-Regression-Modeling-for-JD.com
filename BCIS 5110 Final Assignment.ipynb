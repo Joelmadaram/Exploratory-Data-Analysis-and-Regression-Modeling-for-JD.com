{
 "cells": [
  {
   "cell_type": "markdown",
   "id": "edb5e6f2",
   "metadata": {},
   "source": [
    "## BCIS 5110 Analysis of JD Data"
   ]
  },
  {
   "cell_type": "code",
   "execution_count": null,
   "id": "6fc2bb24",
   "metadata": {},
   "outputs": [],
   "source": [
    "# This code appears in every demonstration Notebook.\n",
    "# By default, when you run each cell, only the last output of the codes will show.\n",
    "# This code makes all outputs of a cell show.\n",
    "from IPython.core.interactiveshell import InteractiveShell\n",
    "InteractiveShell.ast_node_interactivity = \"all\""
   ]
  },
  {
   "cell_type": "markdown",
   "id": "409e4901",
   "metadata": {},
   "source": [
    "### We will analyze JD Data in the rest of our assignments.\n",
    "The objective: to build models to accurately predict delivery times for customer orders.<br>\n",
    "The data: We need the following tables from the JD.com data<br>\n",
    "        1. Order<br>\n",
    "        2. User<br>\n",
    "        3. Delivery<br>\n",
    "        4. Inventory<br>\n",
    "        5. Network<br>        "
   ]
  },
  {
   "cell_type": "markdown",
   "id": "959c44b9",
   "metadata": {},
   "source": [
    "#### Assignment 8 include Q1 - Q10."
   ]
  },
  {
   "cell_type": "markdown",
   "id": "52749b83",
   "metadata": {},
   "source": [
    "1. Import necessary packages."
   ]
  },
  {
   "cell_type": "code",
   "execution_count": 125,
   "id": "e832a01e",
   "metadata": {},
   "outputs": [],
   "source": [
    "import pandas as pd"
   ]
  },
  {
   "cell_type": "markdown",
   "id": "2169b408",
   "metadata": {},
   "source": [
    "2. Read in the five csv files."
   ]
  },
  {
   "cell_type": "code",
   "execution_count": 126,
   "id": "4c19a50a",
   "metadata": {},
   "outputs": [],
   "source": [
    "order_data_df = pd.read_csv('JD_order_data.csv')\n",
    "user_data_df = pd.read_csv('JD_user_data.csv')\n",
    "delivery_data_df = pd.read_csv('JD_delivery_data.csv')\n",
    "inventory_data_df = pd.read_csv('JD_inventory_data.csv')\n",
    "network_data_df = pd.read_csv('JD_network_data.csv')"
   ]
  },
  {
   "cell_type": "markdown",
   "id": "68e999a7",
   "metadata": {},
   "source": [
    "3. Display a sample of each data frame. How many observations? How many columns? What are the column names? (Use code to display such information.)"
   ]
  },
  {
   "cell_type": "code",
   "execution_count": 127,
   "id": "66478200",
   "metadata": {},
   "outputs": [
    {
     "name": "stdout",
     "output_type": "stream",
     "text": [
      "Dataframe: order_data_df\n",
      "\n",
      "     order_ID     user_ID      sku_ID  order_date             order_time  \\\n",
      "0  d0cf5cc6db  0abe9ef2ce  581d5b54c1  2018-03-01  2018-03-01 17:14:25.0   \n",
      "1  7444318d01  33a9e56257  067b673f2b  2018-03-01  2018-03-01 11:10:40.0   \n",
      "2  f973b01694  4ea3cf408f  623d0a582a  2018-03-01  2018-03-01 09:13:26.0   \n",
      "3  8c1cec8d4b  b87cb736cb  fc5289b139  2018-03-01  2018-03-01 21:29:50.0   \n",
      "4  d43a33c38a  4829223b6f  623d0a582a  2018-03-01  2018-03-01 19:13:37.0   \n",
      "\n",
      "   quantity  type promise  original_unit_price  final_unit_price  \\\n",
      "0         1     2       -                 89.0              79.0   \n",
      "1         1     1       2                 99.9              53.9   \n",
      "2         1     1       2                 78.0              58.5   \n",
      "3         1     1       2                 61.0              35.0   \n",
      "4         1     1       1                 78.0              53.0   \n",
      "\n",
      "   direct_discount_per_unit  quantity_discount_per_unit  \\\n",
      "0                       0.0                        10.0   \n",
      "1                       5.0                        41.0   \n",
      "2                      19.5                         0.0   \n",
      "3                       0.0                        26.0   \n",
      "4                      19.0                         0.0   \n",
      "\n",
      "   bundle_discount_per_unit  coupon_discount_per_unit  gift_item  dc_ori  \\\n",
      "0                       0.0                       0.0          0       4   \n",
      "1                       0.0                       0.0          0      28   \n",
      "2                       0.0                       0.0          0      28   \n",
      "3                       0.0                       0.0          0       4   \n",
      "4                       0.0                       6.0          0       3   \n",
      "\n",
      "   dc_des  \n",
      "0      28  \n",
      "1      28  \n",
      "2      28  \n",
      "3      28  \n",
      "4      16  \n",
      "Number of observations: 549989\n",
      "Number of columns: 17\n",
      "\n",
      "column names:\n",
      "order_ID\n",
      "user_ID\n",
      "sku_ID\n",
      "order_date\n",
      "order_time\n",
      "quantity\n",
      "type\n",
      "promise\n",
      "original_unit_price\n",
      "final_unit_price\n",
      "direct_discount_per_unit\n",
      "quantity_discount_per_unit\n",
      "bundle_discount_per_unit\n",
      "coupon_discount_per_unit\n",
      "gift_item\n",
      "dc_ori\n",
      "dc_des\n",
      "----------------------------------------------------------------------------------------------------\n",
      "\n",
      "\n",
      "Dataframe: user_data_df\n",
      "\n",
      "      user_ID  user_level first_order_month  plus gender    age  \\\n",
      "0  000089d6a6           1           2017-08     0      F  26-35   \n",
      "1  0000babd1f           1           2018-03     0      U      U   \n",
      "2  0000bc018b           3           2016-06     0      F   >=56   \n",
      "3  0000d0e5ab           3           2014-06     0      M  26-35   \n",
      "4  0000dce472           3           2012-08     1      U      U   \n",
      "\n",
      "  marital_status  education  city_level  purchase_power  \n",
      "0              S          3           4               3  \n",
      "1              U         -1          -1              -1  \n",
      "2              M          3           2               3  \n",
      "3              M          3           2               2  \n",
      "4              U         -1          -1              -1  \n",
      "Number of observations: 457298\n",
      "Number of columns: 10\n",
      "\n",
      "column names:\n",
      "user_ID\n",
      "user_level\n",
      "first_order_month\n",
      "plus\n",
      "gender\n",
      "age\n",
      "marital_status\n",
      "education\n",
      "city_level\n",
      "purchase_power\n",
      "----------------------------------------------------------------------------------------------------\n",
      "\n",
      "\n",
      "Dataframe: delivery_data_df\n",
      "\n",
      "   package_ID    order_ID  type        ship_out_time     arr_station_time  \\\n",
      "0  dc3d6d2258  dc3d6d2258     1  2018-03-01 08:00:00  2018-03-01 15:00:00   \n",
      "1  19802a570c  19802a570c     1  2018-03-01 10:00:00  2018-03-01 15:00:00   \n",
      "2  e22627af66  e22627af66     1  2018-03-01 11:00:00  2018-03-01 15:00:00   \n",
      "3  50d11a586d  50d11a586d     1  2018-03-01 10:00:00  2018-03-01 16:00:00   \n",
      "4  a3bfe38bf4  a3bfe38bf4     1  2018-03-01 11:00:00  2018-03-01 16:00:00   \n",
      "\n",
      "              arr_time  \n",
      "0  2018-03-01 18:00:00  \n",
      "1  2018-03-01 17:00:00  \n",
      "2  2018-03-01 17:00:00  \n",
      "3  2018-03-01 19:00:00  \n",
      "4  2018-03-01 17:00:00  \n",
      "Number of observations: 293229\n",
      "Number of columns: 6\n",
      "\n",
      "column names:\n",
      "package_ID\n",
      "order_ID\n",
      "type\n",
      "ship_out_time\n",
      "arr_station_time\n",
      "arr_time\n",
      "----------------------------------------------------------------------------------------------------\n",
      "\n",
      "\n",
      "Dataframe: inventory_data_df\n",
      "\n",
      "   dc_ID      sku_ID        date\n",
      "0      9  50f6f91962  2018-03-01\n",
      "1      9  7f0ddbcdde  2018-03-01\n",
      "2      9  8ad5789d74  2018-03-01\n",
      "3      9  468d34eda4  2018-03-01\n",
      "4      9  460afaddb6  2018-03-01\n",
      "Number of observations: 136079\n",
      "Number of columns: 3\n",
      "\n",
      "column names:\n",
      "dc_ID\n",
      "sku_ID\n",
      "date\n",
      "----------------------------------------------------------------------------------------------------\n",
      "\n",
      "\n",
      "Dataframe: network_data_df\n",
      "\n",
      "   region_ID  dc_ID\n",
      "0          2     57\n",
      "1          2     43\n",
      "2          2     42\n",
      "3          2     66\n",
      "4          2     20\n",
      "Number of observations: 56\n",
      "Number of columns: 2\n",
      "\n",
      "column names:\n",
      "region_ID\n",
      "dc_ID\n",
      "----------------------------------------------------------------------------------------------------\n",
      "\n",
      "\n"
     ]
    }
   ],
   "source": [
    "data_frames = [order_data_df,user_data_df,delivery_data_df,inventory_data_df,network_data_df]\n",
    "data_frame_names = [\"order_data_df\",\"user_data_df\",\"delivery_data_df\",\"inventory_data_df\",\"network_data_df\"]\n",
    "\n",
    "for i,df in enumerate(data_frames):\n",
    "    print(f\"Dataframe: {data_frame_names[i]}\\n\")\n",
    "    print(df.head())\n",
    "    print(f\"Number of observations: {len(df)}\")\n",
    "    print(f\"Number of columns: {len(df.columns)}\")\n",
    "    print(\"\\ncolumn names:\")\n",
    "    for column in df.columns:\n",
    "        print(column)\n",
    "    print(\"-\"*100)\n",
    "    print(\"\\n\")"
   ]
  },
  {
   "cell_type": "markdown",
   "id": "740303fd",
   "metadata": {},
   "source": [
    "4. Check for missing values of columns of each dataframe. You can use sum() (instead of any()) to find out the number of missing values. Which variables have missing values?"
   ]
  },
  {
   "cell_type": "code",
   "execution_count": 129,
   "id": "7c36b60a",
   "metadata": {
    "scrolled": true
   },
   "outputs": [
    {
     "name": "stdout",
     "output_type": "stream",
     "text": [
      "order_data_df :\n",
      "Missing values not found..!!\n",
      "\n",
      "\n",
      "user_data_df :\n",
      "Missing values not found..!!\n",
      "\n",
      "\n",
      "delivery_data_df :\n",
      "Missing values not found..!!\n",
      "\n",
      "\n",
      "inventory_data_df :\n",
      "Missing values not found..!!\n",
      "\n",
      "\n",
      "network_data_df :\n",
      "Missing values not found..!!\n",
      "\n",
      "\n"
     ]
    }
   ],
   "source": [
    "data_frames = [order_data_df,user_data_df,delivery_data_df,inventory_data_df,network_data_df]\n",
    "data_frame_names = [\"order_data_df\",\"user_data_df\",\"delivery_data_df\",\"inventory_data_df\",\"network_data_df\"]\n",
    "\n",
    "for i, df in enumerate(data_frames):\n",
    "    missing_values = df.isnull().sum()\n",
    "    print(f\"{data_frame_names[i]} :\")\n",
    "    \n",
    "    if missing_values.sum() == 0:\n",
    "        print(\"Missing values not found..!!\")\n",
    "    else:\n",
    "        print(\"Variables with missing values:\")\n",
    "        for column, count in missing_values.items():\n",
    "            if count > 0:\n",
    "                print(f\"{column}: {count} missing values\")\n",
    "                \n",
    "    print(\"\\n\")"
   ]
  },
  {
   "cell_type": "markdown",
   "id": "d8417be7",
   "metadata": {},
   "source": [
    "5. Check the promise variable in orders table. What unusual values do you notice? What do you think it means?"
   ]
  },
  {
   "cell_type": "code",
   "execution_count": 130,
   "id": "db6c21e7",
   "metadata": {},
   "outputs": [
    {
     "data": {
      "text/plain": [
       "array(['-', '2', '1', '3', '4', '5', '6', '7', '8'], dtype=object)"
      ]
     },
     "execution_count": 130,
     "metadata": {},
     "output_type": "execute_result"
    }
   ],
   "source": [
    "order_data_df['promise'].unique()\n",
    "\n",
    "#Explanation:\n",
    "# In the promise column of the orders table we observe \"-\" values \n",
    "# This \"-\" value indicates that the values are missing in the promise column of the orders dataframe"
   ]
  },
  {
   "cell_type": "markdown",
   "id": "7f44a1aa",
   "metadata": {},
   "source": [
    "6. How many observations for each value in 'promise' variable? What information can you draw from this?"
   ]
  },
  {
   "cell_type": "code",
   "execution_count": 131,
   "id": "ed4221a7",
   "metadata": {
    "scrolled": true
   },
   "outputs": [
    {
     "name": "stdout",
     "output_type": "stream",
     "text": [
      "Unique values and their counts:\n",
      "-    208583\n",
      "1    157509\n",
      "2    109990\n",
      "3     33176\n",
      "4     23882\n",
      "5     10054\n",
      "6      3039\n",
      "8      2374\n",
      "7      1382\n",
      "Name: promise, dtype: int64\n"
     ]
    }
   ],
   "source": [
    "unique_values = order_data_df['promise'].value_counts()\n",
    "print(\"Unique values and their counts:\")\n",
    "print(unique_values)\n",
    "\n",
    "# Explanation\n",
    "# We can infer that there are 208583 \"-\" values in the promise column and \"1\" value is present  157509 times and so and so forth\n",
    "#208583 \"-\" values represent that there are 208583 missing values in the promise column of the orders dataframe"
   ]
  },
  {
   "cell_type": "markdown",
   "id": "056bb6b2",
   "metadata": {},
   "source": [
    "7. Select only two variables: 'type' and 'promise' from order table. Sort it by variable 'type' in descending order. What do you observe from the results? (check the first 10 and last 10 observations.) Think about the meaning of the type variable."
   ]
  },
  {
   "cell_type": "code",
   "execution_count": 132,
   "id": "e7c4bf62",
   "metadata": {},
   "outputs": [
    {
     "name": "stdout",
     "output_type": "stream",
     "text": [
      "First 10 observations:\n",
      "        type promise\n",
      "0          2       -\n",
      "308329     2       -\n",
      "308358     2       -\n",
      "308357     2       -\n",
      "308356     2       -\n",
      "308355     2       -\n",
      "308354     2       -\n",
      "308353     2       -\n",
      "308352     2       -\n",
      "308351     2       -\n",
      "\n",
      " Last 10 observations:\n",
      "        type promise\n",
      "334636     1       1\n",
      "334633     1       1\n",
      "334626     1       1\n",
      "334632     1       1\n",
      "334631     1       1\n",
      "116820     1       2\n",
      "116821     1       2\n",
      "116822     1       1\n",
      "334627     1       1\n",
      "274994     1       2\n"
     ]
    },
    {
     "data": {
      "text/plain": [
       "\"\\nExplanation:\\n'type' column values 2 has no values in the promise column\\n'type' column values 1 has values of promise 1 through 8\\n\""
      ]
     },
     "execution_count": 132,
     "metadata": {},
     "output_type": "execute_result"
    }
   ],
   "source": [
    "columns = order_data_df[['type','promise']]\n",
    "sorted_data = columns.sort_values(by='type', ascending = False)\n",
    "\n",
    "print(\"First 10 observations:\")\n",
    "print(sorted_data.head(10))\n",
    "\n",
    "print(\"\\n Last 10 observations:\")\n",
    "print(sorted_data.tail(10))\n",
    "\n",
    "'''\n",
    "Explanation:\n",
    "'type' column values 2 has no values in the promise column\n",
    "'type' column values 1 has values of promise 1 through 8\n",
    "'''"
   ]
  },
  {
   "cell_type": "markdown",
   "id": "0df0b8a6",
   "metadata": {},
   "source": [
    "8. Merge order and delivery tables, using inner merge. What does inner merge mean? How many observations are there in the merged dataset? Compared with the number of observations in the original order and delivery table, what can you say about the match between orders and deliveries?"
   ]
  },
  {
   "cell_type": "code",
   "execution_count": 133,
   "id": "f3678054",
   "metadata": {},
   "outputs": [
    {
     "name": "stdout",
     "output_type": "stream",
     "text": [
      "Number of observations in the merged data set: 326862\n",
      "Number of observations in the order data set: 549989\n",
      "Number of observations in the delivery data set: 293229\n"
     ]
    },
    {
     "data": {
      "text/plain": [
       "'\\nNumber of observations in the merged data set: 326862\\nNumber of observations in the order data set: 549989\\nNumber of observations in the delivery data set: 293229\\n\\nIn comparison to the order data set 549989 and the \"delivery\" data set 293229, \\nthere are fewer observations in the combined data collection 326862. Data loss or mismatched records \\nare shown by the discrepancy between the number of observations in the combined data set and the original data sets.\\n\\n'"
      ]
     },
     "execution_count": 133,
     "metadata": {},
     "output_type": "execute_result"
    }
   ],
   "source": [
    "merged_data = pd.merge(order_data_df, delivery_data_df, on='order_ID', how = 'inner')\n",
    "print(\"Number of observations in the merged data set:\", len(merged_data))\n",
    "print(\"Number of observations in the order data set:\", len(order_data_df))\n",
    "print(\"Number of observations in the delivery data set:\", len(delivery_data_df))\n",
    "\n",
    "'''\n",
    "Number of observations in the merged data set: 326862\n",
    "Number of observations in the order data set: 549989\n",
    "Number of observations in the delivery data set: 293229\n",
    "\n",
    "In comparison to the order data set 549989 and the \"delivery\" data set 293229, \n",
    "there are fewer observations in the combined data collection 326862. Data loss or mismatched records \n",
    "are shown by the discrepancy between the number of observations in the combined data set and the original data sets.\n",
    "\n",
    "'''\n"
   ]
  },
  {
   "cell_type": "markdown",
   "id": "71c34250",
   "metadata": {},
   "source": [
    "9. Merge order and delivery tables, using right merge. What does right merge mean? How many obervations are there in the merged dataset? Do all delivery records have matched order information?"
   ]
  },
  {
   "cell_type": "code",
   "execution_count": 134,
   "id": "8f086ba4",
   "metadata": {},
   "outputs": [
    {
     "name": "stdout",
     "output_type": "stream",
     "text": [
      "Number of observations in the right merged dataset: 326862\n",
      "Number of observations in the delivery dataset: 293229\n",
      "Number of observations in the order dataset: 549989\n"
     ]
    },
    {
     "data": {
      "text/plain": [
       "'\\nNumber of observations in the right merged dataset: 326862\\nNumber of observations in the delivery dataset: 293229\\nNumber of observations in the order dataset: 549989\\n\\nThere are 326862 observations in the right combined data set. \\nThis indicates that just the matching entries from the \"orders\" dataset are included, and all records from the delivery dataset are included.\\nWhether or not the delivery records contain matching order records, all of the delivery records from the delivery dataset are included in the correctly merged dataset.\\nOn the other hand, only the orders with corresponding delivery records from the \\'orders\\' datset are included in the correct merged dataset.\\n\\n\\n'"
      ]
     },
     "execution_count": 134,
     "metadata": {},
     "output_type": "execute_result"
    }
   ],
   "source": [
    "merged_data_right = pd.merge(order_data_df, delivery_data_df, on='order_ID', how = 'right')\n",
    "print(\"Number of observations in the right merged dataset:\", len(merged_data_right))\n",
    "print(\"Number of observations in the delivery dataset:\", len(delivery_data_df))\n",
    "print(\"Number of observations in the order dataset:\", len(order_data_df))\n",
    "\n",
    "'''\n",
    "Number of observations in the right merged dataset: 326862\n",
    "Number of observations in the delivery dataset: 293229\n",
    "Number of observations in the order dataset: 549989\n",
    "\n",
    "There are 326862 observations in the right combined data set. \n",
    "This indicates that just the matching entries from the \"orders\" dataset are included, and all records from the delivery dataset are included.\n",
    "Whether or not the delivery records contain matching order records, all of the delivery records from the delivery dataset are included in the correctly merged dataset.\n",
    "On the other hand, only the orders with corresponding delivery records from the 'orders' datset are included in the correct merged dataset.\n",
    "\n",
    "\n",
    "'''"
   ]
  },
  {
   "cell_type": "markdown",
   "id": "6b9bbe86",
   "metadata": {},
   "source": [
    "10. Merge order and delivery tables, using left merge. What does left merge mean? How many obervations are there in the merged dataset? Compare the number of observations of the merged table with the original order table, what can you say about the match between orders and deliveries?"
   ]
  },
  {
   "cell_type": "code",
   "execution_count": 135,
   "id": "0c26a7f4",
   "metadata": {},
   "outputs": [
    {
     "name": "stdout",
     "output_type": "stream",
     "text": [
      "The number of the observations for the left merged data: 550017\n",
      "The number of the observations for the  delivery data: 293229\n",
      "The number of the observations for the order data: 549989\n"
     ]
    },
    {
     "data": {
      "text/plain": [
       "\"\\nThe number of the observations for the left merged data: 550017\\nThe number of the observations for the  delivery data: 293229\\nThe number of the observations for the order data: 549989\\n\\nThere are 550017 observations in the left combined dataset. \\nThis indicates that only the matching record from the delivery dataset is included, and all entries from the ordered dataset are included.\\nWhether or not they have matching delivery records, all order records from the 'orders' dataset are included in the left merged dataset.\\nOn the other hand, only the deliveries connected to order records from the 'delivery' dataset are included in the left merged dataset. \\n\\n\""
      ]
     },
     "execution_count": 135,
     "metadata": {},
     "output_type": "execute_result"
    }
   ],
   "source": [
    "merged_data_left = pd.merge(order_data_df, delivery_data_df, on='order_ID', how = 'left')\n",
    "print(\"The number of the observations for the left merged data:\", len(merged_data_left))\n",
    "print(\"The number of the observations for the  delivery data:\", len(delivery_data_df))\n",
    "print(\"The number of the observations for the order data:\", len(order_data_df))\n",
    "\n",
    "'''\n",
    "The number of the observations for the left merged data: 550017\n",
    "The number of the observations for the  delivery data: 293229\n",
    "The number of the observations for the order data: 549989\n",
    "\n",
    "There are 550017 observations in the left combined dataset. \n",
    "This indicates that only the matching record from the delivery dataset is included, and all entries from the ordered dataset are included.\n",
    "Whether or not they have matching delivery records, all order records from the 'orders' dataset are included in the left merged dataset.\n",
    "On the other hand, only the deliveries connected to order records from the 'delivery' dataset are included in the left merged dataset. \n",
    "\n",
    "'''"
   ]
  },
  {
   "cell_type": "markdown",
   "id": "b96e04d2",
   "metadata": {},
   "source": [
    "### Assignment 9 starts here. Q11 - Q20."
   ]
  },
  {
   "cell_type": "markdown",
   "id": "5f47c320",
   "metadata": {},
   "source": [
    "In this part, we prepare the data for analysis."
   ]
  },
  {
   "cell_type": "markdown",
   "id": "a3c58838",
   "metadata": {},
   "source": [
    "11. First, we need to clean the merged order and delivery table.<br>\n",
    "Identify the table from the inner merge in Q8. Take a look at it. You may find there are two variables: type_x and type_y, which were not in the original two tables.<br>\n",
    "The reason is that there is a type variable in both orders and delivery tables. The merge keeps both and assigned x and y suffix to them.<br>\n",
    "Check the meaning of the two variables in our data description.<br>\n",
    "To make the two variables consistent, we can replace the values of one variable to match the other."
   ]
  },
  {
   "cell_type": "code",
   "execution_count": 136,
   "id": "45855a47",
   "metadata": {},
   "outputs": [
    {
     "name": "stdout",
     "output_type": "stream",
     "text": [
      "Variables present in merged_data but not in order and delivery tables: ['type_x', 'type_y']\n"
     ]
    }
   ],
   "source": [
    "def solve(merged_data, order_data_df, delivery_data_df):\n",
    "    # Initialize an empty list to store column names.\n",
    "    temp = []\n",
    "\n",
    "    # Iterate through each column name in the merged_data DataFrame.\n",
    "    for col in merged_data.columns:\n",
    "        # Check if the current column is not in both order_data_df and delivery_data_df.\n",
    "        if col not in order_data_df.columns and col not in delivery_data_df.columns:\n",
    "            # If the column is unique to merged_data, add it to the temp list.\n",
    "            temp.append(col)\n",
    "\n",
    "    # Return the list of unique columns.\n",
    "    return temp\n",
    "\n",
    "# Call the function with the three DataFrames as arguments.\n",
    "result = solve(merged_data, order_data_df, delivery_data_df)\n",
    "\n",
    "# Print the unique columns found in merged_data.\n",
    "print(\"Variables present in merged_data but not in order and delivery tables:\", result)"
   ]
  },
  {
   "cell_type": "code",
   "execution_count": 137,
   "id": "581e817b",
   "metadata": {},
   "outputs": [
    {
     "name": "stdout",
     "output_type": "stream",
     "text": [
      "Unique values in type_x: [1 2]\n",
      "Unique values in type_y: [1 0]\n"
     ]
    }
   ],
   "source": [
    "# Printing the unique values in the 'type_x' column of merged_data\n",
    "print('Unique values in type_x:', merged_data['type_x'].unique())\n",
    "\n",
    "# Printing the unique values in the 'type_y' column of merged_data\n",
    "print('Unique values in type_y:', merged_data['type_y'].unique())\n",
    "\n",
    "# Assuming merged_data resulted from an inner merge in Q8; now aligning 'type_x' values with 'type_y'\n",
    "merged_data['type_x'] = merged_data['type_y']"
   ]
  },
  {
   "cell_type": "markdown",
   "id": "71e74326",
   "metadata": {},
   "source": [
    "Then compare the values of the two variables are the same."
   ]
  },
  {
   "cell_type": "code",
   "execution_count": 138,
   "id": "4a5a220e",
   "metadata": {},
   "outputs": [
    {
     "name": "stdout",
     "output_type": "stream",
     "text": [
      "Replaced type_x with type_y values:\n",
      "Unique values in type_x: [1 0]\n",
      "Unique values in type_y: [1 0]\n"
     ]
    }
   ],
   "source": [
    "# Displaying a message to indicate the replacement of 'type_x' values with 'type_y' values\n",
    "print('Replaced type_x with type_y values:')\n",
    "\n",
    "# Printing the updated unique values in the 'type_x' column after replacement\n",
    "print('Unique values in type_x:', merged_data['type_x'].unique())\n",
    "\n",
    "# Printing the unique values in the 'type_y' column for comparison\n",
    "print('Unique values in type_y:', merged_data['type_y'].unique())"
   ]
  },
  {
   "cell_type": "markdown",
   "id": "caa13f03",
   "metadata": {},
   "source": [
    "If they are, please drop one of them."
   ]
  },
  {
   "cell_type": "code",
   "execution_count": 139,
   "id": "ddb5d3d9",
   "metadata": {},
   "outputs": [
    {
     "name": "stdout",
     "output_type": "stream",
     "text": [
      "Unique values in type: [1 0]\n"
     ]
    }
   ],
   "source": [
    "# Dropping the 'type_y' column from merged_data\n",
    "merged_data = merged_data.drop(columns=['type_y'])\n",
    "\n",
    "# Renaming the column 'type_x' to 'type' in merged_data\n",
    "merged_data = merged_data.rename(columns={'type_x': 'type'})\n",
    "\n",
    "# Printing the unique values in the newly renamed 'type' column\n",
    "print('Unique values in type:', merged_data['type'].unique())"
   ]
  },
  {
   "cell_type": "markdown",
   "id": "64cefd13",
   "metadata": {},
   "source": [
    "12. We need to remove the orders that <br>\n",
    "1) has a single item; <br>\n",
    "2) the item is a gift item;<br>\n",
    "\n",
    "The reason is that those orders might have come from other product categories and only use products from current category as a gift. We do not have information about those orders."
   ]
  },
  {
   "cell_type": "markdown",
   "id": "f9338863",
   "metadata": {},
   "source": [
    "We first find orders with order_ID only appears once in the data, which indicates this order contains a single item.<br>\n",
    "Hint: you may use .duplicated() method to mark that. Think about which value of the argument 'keep' you want to choose. Consider saving the outcome as a variable."
   ]
  },
  {
   "cell_type": "code",
   "execution_count": 140,
   "id": "4dc1e8c7",
   "metadata": {},
   "outputs": [
    {
     "name": "stdout",
     "output_type": "stream",
     "text": [
      "   index  order_ID\n",
      "0      0     False\n",
      "1      1     False\n",
      "2      2     False\n",
      "3      3     False\n",
      "4      4     False\n"
     ]
    }
   ],
   "source": [
    "# Identify and store duplicate 'order_ID' values in 'merged_data', marking all occurrences as duplicates.\n",
    "result = merged_data['order_ID'].duplicated(keep=False)\n",
    "\n",
    "# Print the first five entries of the duplication check results, along with a reset index for clarity.\n",
    "print(result.head().reset_index())"
   ]
  },
  {
   "cell_type": "markdown",
   "id": "e4ca8fbb",
   "metadata": {},
   "source": [
    "Then we filter the data to remove those orders of a single gift item. Save the changes."
   ]
  },
  {
   "cell_type": "code",
   "execution_count": 141,
   "id": "e59c8837",
   "metadata": {},
   "outputs": [
    {
     "name": "stdout",
     "output_type": "stream",
     "text": [
      "     order_ID     user_ID      sku_ID  order_date             order_time  \\\n",
      "5  89286e5fd9  79154d0001  6717b7c979  2018-03-01  2018-03-01 22:18:41.0   \n",
      "6  89286e5fd9  79154d0001  01c9d91829  2018-03-01  2018-03-01 22:18:41.0   \n",
      "7  72585b87a6  d5e8910932  d829f03a28  2018-03-01  2018-03-01 15:28:49.0   \n",
      "8  72585b87a6  d5e8910932  5f58bfd286  2018-03-01  2018-03-01 15:28:49.0   \n",
      "9  9c65b6264b  2021a86702  068f4481b3  2018-03-01  2018-03-01 00:12:07.0   \n",
      "\n",
      "   quantity  type promise  original_unit_price  final_unit_price  ...  \\\n",
      "5         1     1       1                  0.0               0.0  ...   \n",
      "6         1     1       1                129.0             129.0  ...   \n",
      "7         2     1       1                 79.9              40.9  ...   \n",
      "8         1     1       1                 79.9              37.9  ...   \n",
      "9         1     1       1                298.0             208.0  ...   \n",
      "\n",
      "   quantity_discount_per_unit  bundle_discount_per_unit  \\\n",
      "5                         0.0                       0.0   \n",
      "6                         0.0                       0.0   \n",
      "7                        39.0                       0.0   \n",
      "8                        38.0                       0.0   \n",
      "9                         0.0                       0.0   \n",
      "\n",
      "   coupon_discount_per_unit  gift_item  dc_ori  dc_des  package_ID  \\\n",
      "5                       0.0          1       3      16  89286e5fd9   \n",
      "6                       0.0          0       3      16  89286e5fd9   \n",
      "7                       0.0          0       3      16  72585b87a6   \n",
      "8                       0.0          0       3      16  72585b87a6   \n",
      "9                       0.0          0       3      16  9c65b6264b   \n",
      "\n",
      "         ship_out_time     arr_station_time             arr_time  \n",
      "5  2018-03-01 23:00:00  2018-03-02 09:00:00  2018-03-02 13:00:00  \n",
      "6  2018-03-01 23:00:00  2018-03-02 09:00:00  2018-03-02 13:00:00  \n",
      "7  2018-03-02 14:00:00  2018-03-03 09:00:00  2018-03-03 13:00:00  \n",
      "8  2018-03-02 14:00:00  2018-03-03 09:00:00  2018-03-03 13:00:00  \n",
      "9  2018-03-04 01:00:00  2018-03-04 07:00:00  2018-03-04 12:00:00  \n",
      "\n",
      "[5 rows x 21 columns]\n"
     ]
    }
   ],
   "source": [
    "# Add a new column 'item_count' to 'merged_data', which counts the number of 'type' entries per 'order_ID'.\n",
    "merged_data['item_count'] = merged_data.groupby('order_ID')['type'].transform('count')\n",
    "\n",
    "# Filter 'merged_data' to create a new DataFrame 'f_data' containing only orders with more than one item.\n",
    "f_data = merged_data[merged_data['item_count'] > 1]\n",
    "\n",
    "# Drop the 'item_count' column from 'f_data' as it's no longer needed after the filtering step.\n",
    "f_data = f_data.drop(columns=['item_count'])\n",
    "\n",
    "# Print the first five rows of 'f_data' for a quick preview of the filtered data.\n",
    "print(f_data.head())"
   ]
  },
  {
   "cell_type": "code",
   "execution_count": null,
   "id": "b7e6f7b3",
   "metadata": {},
   "outputs": [],
   "source": []
  },
  {
   "cell_type": "markdown",
   "id": "a6834bef",
   "metadata": {},
   "source": [
    "13. Next, we remove orders with multiple packages. Hint: You may groupby order_ID, find the number of unique package_ID ('nunique') and then use transform() to broadcast the value to all record. Save the results as a new variable. Use the variable value to filter."
   ]
  },
  {
   "cell_type": "code",
   "execution_count": 142,
   "id": "d04379c4",
   "metadata": {},
   "outputs": [
    {
     "name": "stdout",
     "output_type": "stream",
     "text": [
      "     order_ID     user_ID      sku_ID  order_date             order_time  \\\n",
      "5  89286e5fd9  79154d0001  6717b7c979  2018-03-01  2018-03-01 22:18:41.0   \n",
      "6  89286e5fd9  79154d0001  01c9d91829  2018-03-01  2018-03-01 22:18:41.0   \n",
      "7  72585b87a6  d5e8910932  d829f03a28  2018-03-01  2018-03-01 15:28:49.0   \n",
      "8  72585b87a6  d5e8910932  5f58bfd286  2018-03-01  2018-03-01 15:28:49.0   \n",
      "9  9c65b6264b  2021a86702  068f4481b3  2018-03-01  2018-03-01 00:12:07.0   \n",
      "\n",
      "   quantity  type promise  original_unit_price  final_unit_price  ...  \\\n",
      "5         1     1       1                  0.0               0.0  ...   \n",
      "6         1     1       1                129.0             129.0  ...   \n",
      "7         2     1       1                 79.9              40.9  ...   \n",
      "8         1     1       1                 79.9              37.9  ...   \n",
      "9         1     1       1                298.0             208.0  ...   \n",
      "\n",
      "   quantity_discount_per_unit  bundle_discount_per_unit  \\\n",
      "5                         0.0                       0.0   \n",
      "6                         0.0                       0.0   \n",
      "7                        39.0                       0.0   \n",
      "8                        38.0                       0.0   \n",
      "9                         0.0                       0.0   \n",
      "\n",
      "   coupon_discount_per_unit  gift_item  dc_ori  dc_des  package_ID  \\\n",
      "5                       0.0          1       3      16  89286e5fd9   \n",
      "6                       0.0          0       3      16  89286e5fd9   \n",
      "7                       0.0          0       3      16  72585b87a6   \n",
      "8                       0.0          0       3      16  72585b87a6   \n",
      "9                       0.0          0       3      16  9c65b6264b   \n",
      "\n",
      "         ship_out_time     arr_station_time             arr_time  \n",
      "5  2018-03-01 23:00:00  2018-03-02 09:00:00  2018-03-02 13:00:00  \n",
      "6  2018-03-01 23:00:00  2018-03-02 09:00:00  2018-03-02 13:00:00  \n",
      "7  2018-03-02 14:00:00  2018-03-03 09:00:00  2018-03-03 13:00:00  \n",
      "8  2018-03-02 14:00:00  2018-03-03 09:00:00  2018-03-03 13:00:00  \n",
      "9  2018-03-04 01:00:00  2018-03-04 07:00:00  2018-03-04 12:00:00  \n",
      "\n",
      "[5 rows x 21 columns]\n"
     ]
    }
   ],
   "source": [
    "# Add a new column 'unique_package_count' to 'f_data', counting unique 'package_ID' values per 'order_ID'.\n",
    "f_data['unique_package_count'] = f_data.groupby('order_ID')['package_ID'].transform('nunique')\n",
    "\n",
    "# Create a new DataFrame 'final_data' by filtering 'f_data' to keep only orders with exactly one unique package.\n",
    "final_data = f_data[f_data['unique_package_count'] == 1]\n",
    "\n",
    "# Remove the 'unique_package_count' column from 'final_data' as it's no longer needed after filtering.\n",
    "final_data = final_data.drop(columns=['unique_package_count'])\n",
    "\n",
    "# Print the first five rows of 'final_data' to preview the data after these operations.\n",
    "print(final_data.head())\n"
   ]
  },
  {
   "cell_type": "markdown",
   "id": "c334d96d",
   "metadata": {},
   "source": [
    "14. Now we process time-related variables: order_date, order_time, ship_out_time, arr_station_time, and arr_time. <br>\n",
    "First change all of them to Timestamp data type. <br>\n",
    "Get the day of the month from the order_date and save it to a new variable 'order_day'. <br>\n",
    "Get the hour of the order_time and save it to a new variable 'order_hour'.<br>\n",
    "Caculate the delivery time by minus arr_time with order_time. <br>"
   ]
  },
  {
   "cell_type": "code",
   "execution_count": 171,
   "id": "4b24e87e",
   "metadata": {},
   "outputs": [],
   "source": [
    "#Assumption is that final_data is the DataFrame to be processed\n",
    "# Converting time-related variables to Timestamp data type\n",
    "merged_data['order_date'] = pd.to_datetime(merged_data['order_date'])\n",
    "merged_data['order_time'] = pd.to_datetime(merged_data['order_time'])\n",
    "merged_data['ship_out_time'] = pd.to_datetime(merged_data['ship_out_time'])\n",
    "merged_data['arr_station_time'] = pd.to_datetime(merged_data['arr_station_time'])\n",
    "merged_data['arr_time'] = pd.to_datetime(merged_data['arr_time'])\n"
   ]
  },
  {
   "cell_type": "code",
   "execution_count": 172,
   "id": "42eea89b",
   "metadata": {},
   "outputs": [],
   "source": [
    "# Extract the day of the month from 'order_date' and save it to 'order_day'\n",
    "merged_data['order_day'] = merged_data['order_date'].dt.day"
   ]
  },
  {
   "cell_type": "code",
   "execution_count": 173,
   "id": "4ec49020",
   "metadata": {},
   "outputs": [],
   "source": [
    "# Extract the hour from 'order_time' and save it to 'order_hour'\n",
    "merged_data['order_hour'] = merged_data['order_time'].dt.hour"
   ]
  },
  {
   "cell_type": "code",
   "execution_count": 174,
   "id": "f961d618",
   "metadata": {},
   "outputs": [],
   "source": [
    "# Calculate the delivery time by subtracting 'arr_time' from 'order_time'\n",
    "merged_data['delivery_time'] = merged_data['arr_time'] - merged_data['order_time']"
   ]
  },
  {
   "cell_type": "code",
   "execution_count": 175,
   "id": "ed313dde",
   "metadata": {},
   "outputs": [
    {
     "name": "stdout",
     "output_type": "stream",
     "text": [
      "     order_ID     user_ID      sku_ID order_date          order_time  \\\n",
      "0  7444318d01  33a9e56257  067b673f2b 2018-03-01 2018-03-01 11:10:40   \n",
      "1  f973b01694  4ea3cf408f  623d0a582a 2018-03-01 2018-03-01 09:13:26   \n",
      "2  8c1cec8d4b  b87cb736cb  fc5289b139 2018-03-01 2018-03-01 21:29:50   \n",
      "3  d43a33c38a  4829223b6f  623d0a582a 2018-03-01 2018-03-01 19:13:37   \n",
      "4  e0f5386d87  0b07cae293  589c2b865b 2018-03-01 2018-03-01 21:09:15   \n",
      "\n",
      "   quantity  type promise  original_unit_price  final_unit_price  ...  \\\n",
      "0         1     1       2                 99.9              53.9  ...   \n",
      "1         1     1       2                 78.0              58.5  ...   \n",
      "2         1     1       2                 61.0              35.0  ...   \n",
      "3         1     1       1                 78.0              53.0  ...   \n",
      "4         1     1       1                 79.9              38.9  ...   \n",
      "\n",
      "        ship_out_time    arr_station_time            arr_time  item_count  \\\n",
      "0 2018-03-01 13:00:00 2018-03-02 08:00:00 2018-03-02 14:00:00           1   \n",
      "1 2018-03-01 14:00:00 2018-03-02 09:00:00 2018-03-02 13:00:00           1   \n",
      "2 2018-03-02 09:00:00 2018-03-03 08:00:00 2018-03-04 11:00:00           1   \n",
      "3 2018-03-01 20:00:00 2018-03-02 07:00:00 2018-03-02 11:00:00           1   \n",
      "4 2018-03-01 22:00:00 2018-03-02 09:00:00 2018-03-02 12:00:00           1   \n",
      "\n",
      "   hour  originValue  finalValue order_day order_hour   delivery_time  \n",
      "0    11         99.9        53.9         1         11 1 days 02:49:20  \n",
      "1     9         78.0        58.5         1          9 1 days 03:46:34  \n",
      "2    21         61.0        35.0         1         21 2 days 13:30:10  \n",
      "3    19         78.0        53.0         1         19 0 days 15:46:23  \n",
      "4    21         79.9        38.9         1         21 0 days 14:50:45  \n",
      "\n",
      "[5 rows x 28 columns]\n"
     ]
    }
   ],
   "source": [
    "print(merged_data.head())"
   ]
  },
  {
   "cell_type": "markdown",
   "id": "bfa148fb",
   "metadata": {},
   "source": [
    "15. We will transform the delivery time to hours. Hint: You can use total_seconds() method to turn it into seconds and find hours. Use apply() to apply a function for the transformation."
   ]
  },
  {
   "cell_type": "code",
   "execution_count": 177,
   "id": "9e7052a2",
   "metadata": {},
   "outputs": [
    {
     "name": "stdout",
     "output_type": "stream",
     "text": [
      "     order_ID     user_ID      sku_ID order_date          order_time  \\\n",
      "0  7444318d01  33a9e56257  067b673f2b 2018-03-01 2018-03-01 11:10:40   \n",
      "1  f973b01694  4ea3cf408f  623d0a582a 2018-03-01 2018-03-01 09:13:26   \n",
      "2  8c1cec8d4b  b87cb736cb  fc5289b139 2018-03-01 2018-03-01 21:29:50   \n",
      "3  d43a33c38a  4829223b6f  623d0a582a 2018-03-01 2018-03-01 19:13:37   \n",
      "4  e0f5386d87  0b07cae293  589c2b865b 2018-03-01 2018-03-01 21:09:15   \n",
      "\n",
      "   quantity  type promise  original_unit_price  final_unit_price  ...  \\\n",
      "0         1     1       2                 99.9              53.9  ...   \n",
      "1         1     1       2                 78.0              58.5  ...   \n",
      "2         1     1       2                 61.0              35.0  ...   \n",
      "3         1     1       1                 78.0              53.0  ...   \n",
      "4         1     1       1                 79.9              38.9  ...   \n",
      "\n",
      "     arr_station_time            arr_time  item_count  hour  originValue  \\\n",
      "0 2018-03-02 08:00:00 2018-03-02 14:00:00           1    11         99.9   \n",
      "1 2018-03-02 09:00:00 2018-03-02 13:00:00           1     9         78.0   \n",
      "2 2018-03-03 08:00:00 2018-03-04 11:00:00           1    21         61.0   \n",
      "3 2018-03-02 07:00:00 2018-03-02 11:00:00           1    19         78.0   \n",
      "4 2018-03-02 09:00:00 2018-03-02 12:00:00           1    21         79.9   \n",
      "\n",
      "   finalValue  order_day order_hour   delivery_time delivery_time_hours  \n",
      "0        53.9          1         11 1 days 02:49:20           26.822222  \n",
      "1        58.5          1          9 1 days 03:46:34           27.776111  \n",
      "2        35.0          1         21 2 days 13:30:10           61.502778  \n",
      "3        53.0          1         19 0 days 15:46:23           15.773056  \n",
      "4        38.9          1         21 0 days 14:50:45           14.845833  \n",
      "\n",
      "[5 rows x 29 columns]\n"
     ]
    }
   ],
   "source": [
    "merged_data['delivery_time_hours'] = merged_data['delivery_time'].apply(lambda x: x.total_seconds() / 3600)\n",
    "print(merged_data.head())"
   ]
  },
  {
   "cell_type": "markdown",
   "id": "607f416f",
   "metadata": {},
   "source": [
    "16. Find the total number of packages between the origin distribution center and the destination center. What do you observe from those pairs of highest traffic? <br>\n",
    "Hint: You may group by the distribution centers and count the unique number of packages.<br>\n",
    "You can use reset_index() method to turn the groupby aggregation results into a regular dataframe for later operations."
   ]
  },
  {
   "cell_type": "code",
   "execution_count": 149,
   "id": "6beaa5ac",
   "metadata": {
    "scrolled": true
   },
   "outputs": [
    {
     "name": "stdout",
     "output_type": "stream",
     "text": [
      "     dc_ori  dc_des  package_ID\n",
      "26        5       5        3855\n",
      "1         2       2        2589\n",
      "56        9       9        2036\n",
      "18        4       4        1992\n",
      "86       24      24        1174\n",
      "..      ...     ...         ...\n",
      "151      55      33           1\n",
      "205      58      52           1\n",
      "145      53      31           1\n",
      "74       13      14           1\n",
      "109      32      27           1\n",
      "\n",
      "[278 rows x 3 columns]\n"
     ]
    }
   ],
   "source": [
    "# Group 'final_data' by origin and destination distribution centers ('dc_ori' and 'dc_des'), and count unique package IDs in each group.\n",
    "package_counts = final_data.groupby(['dc_ori', 'dc_des'])['package_ID'].nunique().reset_index()\n",
    "\n",
    "# Sort the resulting 'package_counts' DataFrame in descending order based on the unique count of 'package_ID'.\n",
    "sorted_package_counts = package_counts.sort_values(by='package_ID', ascending=False)\n",
    "\n",
    "# Print the sorted DataFrame to view the distribution centers with the highest unique package traffic.\n",
    "print(sorted_package_counts)\n"
   ]
  },
  {
   "cell_type": "markdown",
   "id": "11d6ed80",
   "metadata": {},
   "source": [
    "17. Now let's go back to the original orders table. Find the orders where gift_item equals to 1 (use filtering). What do you find about the orignal_unit_price and final_unit_price in the filtered dataset? Do we consider the 0 price as data errors?"
   ]
  },
  {
   "cell_type": "code",
   "execution_count": 150,
   "id": "9f2345c0",
   "metadata": {},
   "outputs": [
    {
     "name": "stdout",
     "output_type": "stream",
     "text": [
      "      order_ID     user_ID      sku_ID  order_date             order_time  \\\n",
      "6   89286e5fd9  79154d0001  6717b7c979  2018-03-01  2018-03-01 22:18:41.0   \n",
      "10  9c65b6264b  2021a86702  d3e31fdd6e  2018-03-01  2018-03-01 00:12:07.0   \n",
      "23  8b71aa6716  9bb8b4c04f  a0e49f9966  2018-03-01  2018-03-01 22:08:44.0   \n",
      "25  67b8f778f6  53dc20e68d  a0e49f9966  2018-03-01  2018-03-01 23:17:02.0   \n",
      "26  67b8f778f6  53dc20e68d  c98d32ff09  2018-03-01  2018-03-01 23:17:02.0   \n",
      "\n",
      "    quantity  type promise  original_unit_price  final_unit_price  \\\n",
      "6          1     1       1                  0.0               0.0   \n",
      "10         2     1       1                  0.0               0.0   \n",
      "23         1     1       1                  0.0               0.0   \n",
      "25         1     1       1                  0.0               0.0   \n",
      "26         1     1       1                  0.0               0.0   \n",
      "\n",
      "    direct_discount_per_unit  quantity_discount_per_unit  \\\n",
      "6                        0.0                         0.0   \n",
      "10                       0.0                         0.0   \n",
      "23                       0.0                         0.0   \n",
      "25                       0.0                         0.0   \n",
      "26                       0.0                         0.0   \n",
      "\n",
      "    bundle_discount_per_unit  coupon_discount_per_unit  gift_item  dc_ori  \\\n",
      "6                        0.0                       0.0          1       3   \n",
      "10                       0.0                       0.0          1       3   \n",
      "23                       0.0                       0.0          1       3   \n",
      "25                       0.0                       0.0          1       3   \n",
      "26                       0.0                       0.0          1       3   \n",
      "\n",
      "    dc_des  \n",
      "6       16  \n",
      "10      16  \n",
      "23      16  \n",
      "25      16  \n",
      "26      16  \n",
      "       original_unit_price  final_unit_price\n",
      "count         94606.000000      94606.000000\n",
      "mean              0.004334         -0.215242\n",
      "std               0.544303          1.109574\n",
      "min               0.000000        -32.000000\n",
      "25%               0.000000          0.000000\n",
      "50%               0.000000          0.000000\n",
      "75%               0.000000          0.000000\n",
      "max              69.000000          0.000000\n"
     ]
    }
   ],
   "source": [
    "# Filter 'order_data_df' to select only rows where 'gift_item' is 1, indicating they are gift orders.\n",
    "gift_orders = order_data_df[order_data_df['gift_item'] == 1]\n",
    "\n",
    "# Print the first five rows of the filtered 'gift_orders' DataFrame for a quick overview.\n",
    "print(gift_orders.head())\n",
    "\n",
    "# Generate and print descriptive statistics for 'original_unit_price' and 'final_unit_price' columns in 'gift_orders'.\n",
    "print(gift_orders[['original_unit_price', 'final_unit_price']].describe())"
   ]
  },
  {
   "cell_type": "markdown",
   "id": "b7f3a034",
   "metadata": {},
   "source": [
    "18. Still use the original order table. Filter the orders of a product (sku: 'a0e49f9966') on '2018-3-15'. Calculate the sales. <br>\n",
    "Hint: we can multiply the quantity and final price columns together. <br>\n",
    "The outcome will be a pandas series. <br>\n",
    "The sum of the series will be the total sales. "
   ]
  },
  {
   "cell_type": "code",
   "execution_count": 151,
   "id": "f54f17b5",
   "metadata": {},
   "outputs": [
    {
     "name": "stdout",
     "output_type": "stream",
     "text": [
      "Series([], dtype: float64)\n",
      "Total Sales: 0.0\n"
     ]
    }
   ],
   "source": [
    "# Filter 'order_data_df' for orders of the product with SKU 'a0e49f9966' made on '2018-03-15'.\n",
    "filtered_orders = order_data_df[(order_data_df['sku_ID'] == 'a0e49f9966') & (order_data_df['order_date'] == '2018-03-15')]\n",
    "\n",
    "# Calculate the sales (quantity multiplied by final unit price) for each order in the filtered dataset.\n",
    "sales_series = filtered_orders['quantity'] * filtered_orders['final_unit_price']\n",
    "\n",
    "# Print the first five entries of the sales calculation for a quick preview.\n",
    "print(sales_series.head())\n",
    "\n",
    "# Sum the sales series to get the total sales value and print it.\n",
    "total_sales = sales_series.sum()\n",
    "print(f'Total Sales: {total_sales}')"
   ]
  },
  {
   "cell_type": "markdown",
   "id": "8564c8a0",
   "metadata": {},
   "source": [
    "19. Now let's move to the user table. <br>\n",
    "Create a pivot table that counts the customers based on their user_level and education."
   ]
  },
  {
   "cell_type": "code",
   "execution_count": 152,
   "id": "934d9dd8",
   "metadata": {},
   "outputs": [
    {
     "name": "stdout",
     "output_type": "stream",
     "text": [
      "                      customer_count\n",
      "user_level education                \n",
      "-1         -1                   2294\n",
      "            3                      9\n",
      " 0         -1                    145\n",
      "            2                      7\n",
      "            3                      8\n",
      "            4                      1\n",
      " 1         -1                  66391\n",
      "            1                   3001\n",
      "            2                  24182\n",
      "            3                  35486\n",
      "            4                    369\n",
      " 2         -1                  28310\n",
      "            1                   3270\n",
      "            2                  32953\n",
      "            3                  75907\n",
      "            4                   1419\n",
      " 3         -1                   8201\n",
      "            1                   1260\n",
      "            2                  13418\n",
      "            3                  68944\n",
      "            4                   4979\n",
      " 4         -1                   4023\n",
      "            1                    629\n",
      "            2                   3606\n",
      "            3                  37548\n",
      "            4                  39922\n",
      " 10        -1                   1005\n",
      "            2                      2\n",
      "            3                      6\n",
      "            4                      3\n"
     ]
    }
   ],
   "source": [
    "# Create a pivot table from 'user_data_df' with 'user_level' and 'education' as rows and count of 'user_ID' as values.\n",
    "temp = pd.pivot_table(user_data_df, values='user_ID', index=['user_level', 'education'], aggfunc='count')\n",
    "\n",
    "# Rename the aggregated column in the pivot table to 'customer_count' for better readability.\n",
    "temp = temp.rename(columns={'user_ID': 'customer_count'})\n",
    "\n",
    "# Print the pivot table to display the count of users grouped by their user level and education.\n",
    "print(temp)"
   ]
  },
  {
   "cell_type": "markdown",
   "id": "4f8df9fa",
   "metadata": {},
   "source": [
    "20. Answer one of your descriptive questions using groupby or pivot table."
   ]
  },
  {
   "cell_type": "code",
   "execution_count": 153,
   "id": "bce931a8",
   "metadata": {},
   "outputs": [
    {
     "name": "stdout",
     "output_type": "stream",
     "text": [
      "sku_ID\n",
      "000aa92b82    1.166667\n",
      "000d4af39d    1.000000\n",
      "000dc27e13    1.000000\n",
      "000e84e3a7    1.000000\n",
      "00104dbcd7    1.072289\n",
      "                ...   \n",
      "fff33f1633    1.500000\n",
      "fff4328ec0    1.000000\n",
      "fff84ed7ec    1.230769\n",
      "fffe1bd280    1.207392\n",
      "fffe6eb4df    1.000000\n",
      "Name: quantity, Length: 9159, dtype: float64\n"
     ]
    }
   ],
   "source": [
    "print(order_data_df.groupby('sku_ID')['quantity'].mean())"
   ]
  },
  {
   "cell_type": "markdown",
   "id": "5f87e3ec",
   "metadata": {},
   "source": [
    "### Assignment 10 starts here. Q21-Q30.\n",
    "We now further explore the data, especially with graphs. We do not require formatting details of graph. The basics are enough."
   ]
  },
  {
   "cell_type": "markdown",
   "id": "412b9f1d",
   "metadata": {},
   "source": [
    "21. Let's first look at the user table. Use info() to display basic information about the table. Check the Dtype column. What is the data type for variable user_level? This data type does not fit our description about this variable: <br>\n",
    "\"taking on a value of 0, 1, 2, 3, or 4, where a higher user_level is associated with a higher total purchase value in the past. For users who are enterprise users (e.g., small shops in rural areas or small businesses), the corresponding\n",
    "user_level takes on a value of 10. However, for first-time purchasers, their user_level takes on\n",
    "the value −1.\" <br>\n",
    "The numbers do not have a numeric meaning, but refer to categories of customers. So, we would like to change the data type to categorical. Please use .astype('string') to change the data type of user_level.<br>\n",
    "You may find similar situation for variables: education, city_level and purchase_power. Change their data type too."
   ]
  },
  {
   "cell_type": "code",
   "execution_count": 154,
   "id": "604e4700",
   "metadata": {},
   "outputs": [
    {
     "name": "stdout",
     "output_type": "stream",
     "text": [
      "Before data type conversion\n",
      "<class 'pandas.core.frame.DataFrame'>\n",
      "RangeIndex: 457298 entries, 0 to 457297\n",
      "Data columns (total 10 columns):\n",
      " #   Column             Non-Null Count   Dtype \n",
      "---  ------             --------------   ----- \n",
      " 0   user_ID            457298 non-null  object\n",
      " 1   user_level         457298 non-null  int64 \n",
      " 2   first_order_month  457298 non-null  object\n",
      " 3   plus               457298 non-null  int64 \n",
      " 4   gender             457298 non-null  object\n",
      " 5   age                457298 non-null  object\n",
      " 6   marital_status     457298 non-null  object\n",
      " 7   education          457298 non-null  int64 \n",
      " 8   city_level         457298 non-null  int64 \n",
      " 9   purchase_power     457298 non-null  int64 \n",
      "dtypes: int64(5), object(5)\n",
      "memory usage: 34.9+ MB\n",
      "None\n",
      "\n",
      "After Data Type Conversion:\n",
      "<class 'pandas.core.frame.DataFrame'>\n",
      "RangeIndex: 457298 entries, 0 to 457297\n",
      "Data columns (total 10 columns):\n",
      " #   Column             Non-Null Count   Dtype \n",
      "---  ------             --------------   ----- \n",
      " 0   user_ID            457298 non-null  object\n",
      " 1   user_level         457298 non-null  string\n",
      " 2   first_order_month  457298 non-null  object\n",
      " 3   plus               457298 non-null  int64 \n",
      " 4   gender             457298 non-null  object\n",
      " 5   age                457298 non-null  object\n",
      " 6   marital_status     457298 non-null  object\n",
      " 7   education          457298 non-null  string\n",
      " 8   city_level         457298 non-null  string\n",
      " 9   purchase_power     457298 non-null  string\n",
      "dtypes: int64(1), object(5), string(4)\n",
      "memory usage: 34.9+ MB\n",
      "None\n"
     ]
    }
   ],
   "source": [
    "import pandas as pd \n",
    "\n",
    "# Load the user data table\n",
    "user_data_df = pd.read_csv('JD_user_data.csv')\n",
    "\n",
    "# Display basic information about the user table\n",
    "print(\"Before data type conversion\")\n",
    "print(user_data_df.info())\n",
    "\n",
    "# We need to change the 'int' data type of user_level, education, city_level, and purchase_power to 'string'\n",
    "columns_to_convert = ['user_level', 'education', 'city_level', 'purchase_power']\n",
    "\n",
    "user_data_df[columns_to_convert] = user_data_df[columns_to_convert].astype('string')\n",
    "\n",
    "#  Display the basic information after the data type conversion\n",
    "print(\"\\nAfter Data Type Conversion:\")\n",
    "print(user_data_df.info())"
   ]
  },
  {
   "cell_type": "markdown",
   "id": "981de815",
   "metadata": {},
   "source": [
    "22. 1) The meaning of '-1' for user_level is new customer. We will replace '-1' with 'New' and '10' with 'Bus'. Notice that -1 now changes to a string '-1'."
   ]
  },
  {
   "cell_type": "code",
   "execution_count": 155,
   "id": "1389331b",
   "metadata": {},
   "outputs": [
    {
     "name": "stdout",
     "output_type": "stream",
     "text": [
      "count of values before changing: \n",
      " 2     141859\n",
      " 1     129429\n",
      " 3      96802\n",
      " 4      85728\n",
      "-1       2303\n",
      " 10      1016\n",
      " 0        161\n",
      "Name: user_level, dtype: int64\n",
      "count of values after changing: \n",
      "2      141859\n",
      "1      129429\n",
      "3       96802\n",
      "4       85728\n",
      "New      2303\n",
      "Bus      1016\n",
      "0         161\n",
      "Name: user_level, dtype: Int64\n"
     ]
    }
   ],
   "source": [
    "import pandas as pd \n",
    "\n",
    "# Load the user data table\n",
    "user_data_df = pd.read_csv('JD_user_data.csv')\n",
    "\n",
    "print('count of values before changing: ')\n",
    "print(user_data_df['user_level'].value_counts())\n",
    "\n",
    "# We need to change the 'int' data type of user_level, education, city_level, and purchase_power to 'string'\n",
    "columns_to_convert = ['user_level', 'education', 'city_level', 'purchase_power']\n",
    "\n",
    "user_data_df[columns_to_convert] = user_data_df[columns_to_convert].astype('string')\n",
    "# '-1' for user_level means that it is a new customer. Replace -1 with new and '10' with 'Bus', we will notice that '-1 now changes to a string'-1'\n",
    "user_data_df['user_level'] = user_data_df['user_level'].replace({'-1': 'New', '10': 'Bus'})\n",
    "\n",
    "print('count of values after changing: ')\n",
    "print(user_data_df['user_level'].value_counts())"
   ]
  },
  {
   "cell_type": "markdown",
   "id": "7d690477",
   "metadata": {},
   "source": [
    "2) The meaning of -1 in education, city_level and purchase_power is missing values. We will replace it with 'U', as missing value indicator of other variables like 'age', 'gender', etc."
   ]
  },
  {
   "cell_type": "code",
   "execution_count": 156,
   "id": "1160a43b",
   "metadata": {
    "scrolled": true
   },
   "outputs": [
    {
     "name": "stdout",
     "output_type": "stream",
     "text": [
      "Value count before changing: \n",
      "3     217908\n",
      "-1    110369\n",
      "2      74168\n",
      "4      46693\n",
      "1       8160\n",
      "Name: education, dtype: Int64\n",
      "2     138993\n",
      "1      97177\n",
      "-1     84764\n",
      "3      69379\n",
      "4      61110\n",
      "5       5875\n",
      "Name: city_level, dtype: Int64\n",
      "2     239270\n",
      "-1    100440\n",
      "3      97891\n",
      "4      10943\n",
      "1       8605\n",
      "5        149\n",
      "Name: purchase_power, dtype: Int64\n",
      "Value count after changing: \n",
      "3    217908\n",
      "U    110369\n",
      "2     74168\n",
      "4     46693\n",
      "1      8160\n",
      "Name: education, dtype: Int64\n",
      "2    138993\n",
      "1     97177\n",
      "U     84764\n",
      "3     69379\n",
      "4     61110\n",
      "5      5875\n",
      "Name: city_level, dtype: Int64\n",
      "2    239270\n",
      "U    100440\n",
      "3     97891\n",
      "4     10943\n",
      "1      8605\n",
      "5       149\n",
      "Name: purchase_power, dtype: Int64\n"
     ]
    }
   ],
   "source": [
    "print('Value count before changing: ')\n",
    "print(user_data_df['education'].value_counts())\n",
    "print(user_data_df['city_level'].value_counts())\n",
    "print(user_data_df['purchase_power'].value_counts())\n",
    "user_data_df['education'] = user_data_df['education'].replace({'-1': 'U'})\n",
    "user_data_df['city_level'] = user_data_df['city_level'].replace({'-1': 'U'})\n",
    "user_data_df['purchase_power'] = user_data_df['purchase_power'].replace({'-1': 'U'})\n",
    "print('Value count after changing: ')\n",
    "print(user_data_df['education'].value_counts())\n",
    "print(user_data_df['city_level'].value_counts())\n",
    "print(user_data_df['purchase_power'].value_counts())\n"
   ]
  },
  {
   "cell_type": "markdown",
   "id": "c42dd2fb",
   "metadata": {},
   "source": [
    "23. Let's move to the user table. Almost all user features are categorical variables. Make bar graphs to examine the distribution of \"user_level', 'plus', 'gender', 'age', 'marital_status', 'education', 'city_level', and 'purchase_power'. You may consider using a loop. Based on the graphs, you may answer questions like these:\n",
    " 1. What is the education level of the majority?\n",
    " 2. Which age level has the most users?"
   ]
  },
  {
   "cell_type": "code",
   "execution_count": 157,
   "id": "affa58bf",
   "metadata": {},
   "outputs": [
    {
     "data": {
      "image/png": "[encoded data removed]",
      "text/plain": [
       "<Figure size 1000x600 with 1 Axes>"
      ]
     },
     "metadata": {},
     "output_type": "display_data"
    },
    {
     "data": {
      "image/png": "[encoded data removed]",
      "text/plain": [
       "<Figure size 1000x600 with 1 Axes>"
      ]
     },
     "metadata": {},
     "output_type": "display_data"
    },
    {
     "data": {
      "image/png": "[encoded data removed]",
      "text/plain": [
       "<Figure size 1000x600 with 1 Axes>"
      ]
     },
     "metadata": {},
     "output_type": "display_data"
    },
    {
     "data": {
      "image/png": "[encoded data removed]",
      "text/plain": [
       "<Figure size 1000x600 with 1 Axes>"
      ]
     },
     "metadata": {},
     "output_type": "display_data"
    },
    {
     "data": {
      "image/png": "[encoded data removed]",
      "text/plain": [
       "<Figure size 1000x600 with 1 Axes>"
      ]
     },
     "metadata": {},
     "output_type": "display_data"
    },
    {
     "data": {
      "image/png": "[encoded data removed]",
      "text/plain": [
       "<Figure size 1000x600 with 1 Axes>"
      ]
     },
     "metadata": {},
     "output_type": "display_data"
    },
    {
     "data": {
      "image/png": "[encoded data removed]",
      "text/plain": [
       "<Figure size 1000x600 with 1 Axes>"
      ]
     },
     "metadata": {},
     "output_type": "display_data"
    },
    {
     "data": {
      "image/png": "[encoded data removed]",
      "text/plain": [
       "<Figure size 1000x600 with 1 Axes>"
      ]
     },
     "metadata": {},
     "output_type": "display_data"
    }
   ],
   "source": [
    "import pandas as pd\n",
    "import matplotlib.pyplot as plt \n",
    "\n",
    "# Load the user data table\n",
    "user_data_df = pd.read_csv('JD_user_data.csv')\n",
    "\n",
    "# Define the categorical_columns\n",
    "categorical_columns = ['user_level', 'plus', 'gender', 'age', 'marital_status', 'education', 'city_level', 'purchase_power']\n",
    "\n",
    "# Create the bar graphs for each categorical variable\n",
    "for column in categorical_columns:\n",
    "    plt.figure(figsize=(10, 6))\n",
    "    user_data_df[column].value_counts().sort_index().plot(kind='bar', color='skyblue')\n",
    "    plt.title(f'Distribution of {column}')\n",
    "    plt.xlabel(column)\n",
    "    plt.ylabel('Count')\n",
    "    plt.show()"
   ]
  },
  {
   "cell_type": "markdown",
   "id": "da17ae2a",
   "metadata": {},
   "source": [
    "25. Next we move to the table that resulted from Q11-Q15. Sum the quantity by day (we created this variable in Q14.) and save the results.\n",
    "Create a line graph based on it. Hint: The outcome of the sum is a Pandas Series. Use the .index to get the day and .values to get the sum for the plot.<br>\n",
    "Or you may use reset_index() to turn the results to a dataframe.\n",
    "Which day has the most quantity sold? "
   ]
  },
  {
   "cell_type": "code",
   "execution_count": 158,
   "id": "31bf318c",
   "metadata": {
    "scrolled": true
   },
   "outputs": [
    {
     "data": {
      "image/png": "[encoded data removed]",
      "text/plain": [
       "<Figure size 1800x1200 with 1 Axes>"
      ]
     },
     "metadata": {},
     "output_type": "display_data"
    },
    {
     "name": "stdout",
     "output_type": "stream",
     "text": [
      "Day with the most quantity sold: 2018-03-01 Quantity: 39822\n"
     ]
    }
   ],
   "source": [
    "import matplotlib.pyplot as plt\n",
    "daily_quantity_sum = merged_data.groupby('order_date')['quantity'].sum()\n",
    "plt.figure(figsize=(18, 12))\n",
    "plt.plot(daily_quantity_sum.index, daily_quantity_sum.values, marker='o')\n",
    "plt.title('Daily Quantity Sold')\n",
    "plt.xlabel('Day')\n",
    "plt.ylabel('Total Quantity Sold')\n",
    "plt.grid(True)\n",
    "plt.show()\n",
    "max_quantity_day = daily_quantity_sum.idxmax()\n",
    "max_quantity_sold = daily_quantity_sum.max()\n",
    "print(\"Day with the most quantity sold:\" ,max_quantity_day, 'Quantity:',max_quantity_sold)"
   ]
  },
  {
   "cell_type": "markdown",
   "id": "9d3763ce",
   "metadata": {},
   "source": [
    "26. Repeat Q25 for variable 'order_hour' we created in Q14. When is the peak time for orders during a day? Can you describe the customer order trend over a day's time?"
   ]
  },
  {
   "cell_type": "code",
   "execution_count": 159,
   "id": "bef7e971",
   "metadata": {},
   "outputs": [
    {
     "data": {
      "image/png": "[encoded data removed]",
      "text/plain": [
       "<Figure size 1200x600 with 1 Axes>"
      ]
     },
     "metadata": {},
     "output_type": "display_data"
    },
    {
     "name": "stdout",
     "output_type": "stream",
     "text": [
      "Peak Time for Orders: 10 Quantity: 30379\n"
     ]
    }
   ],
   "source": [
    "merged_data['order_time'] = pd.to_datetime(merged_data['order_time'])\n",
    "merged_data['hour'] = merged_data['order_time'].dt.hour\n",
    "hourly_quantity_sum = merged_data.groupby('hour')['quantity'].sum()\n",
    "plt.figure(figsize=(12, 6))\n",
    "plt.plot(hourly_quantity_sum.index, hourly_quantity_sum.values, marker='*', color='blue')\n",
    "plt.title('Hourly Quantity Sold')\n",
    "plt.xlabel('Hour of the Day')\n",
    "plt.ylabel('Total Quantity Sold')\n",
    "plt.grid(True)\n",
    "plt.show()\n",
    "peak_hour = hourly_quantity_sum.idxmax()\n",
    "peak_quantity_sold = hourly_quantity_sum.max()\n",
    "print(\"Peak Time for Orders:\" ,peak_hour, \"Quantity:\" ,peak_quantity_sold)"
   ]
  },
  {
   "cell_type": "markdown",
   "id": "4a661088",
   "metadata": {},
   "source": [
    "27. Examine variable original_unit_price .<br>"
   ]
  },
  {
   "cell_type": "markdown",
   "id": "3e503d07",
   "metadata": {},
   "source": [
    "1) Using describe() to check the stastitics. What is min, max and median?"
   ]
  },
  {
   "cell_type": "code",
   "execution_count": 160,
   "id": "c19e4bb1",
   "metadata": {},
   "outputs": [
    {
     "name": "stdout",
     "output_type": "stream",
     "text": [
      "count    326862.000000\n",
      "mean        116.821854\n",
      "std          88.845661\n",
      "min           0.000000\n",
      "25%          66.000000\n",
      "50%          80.000000\n",
      "75%         149.000000\n",
      "max        7130.000000\n",
      "Name: original_unit_price, dtype: float64\n",
      "Minimum Original Unit Price: 0.0\n",
      "Maximum Original Unit Price: 7130.0\n",
      "Median Original Unit Price: 80.0\n"
     ]
    }
   ],
   "source": [
    "original_unit_price_stats = merged_data['original_unit_price'].describe()\n",
    "print(original_unit_price_stats)\n",
    "min_price = original_unit_price_stats['min']\n",
    "max_price = original_unit_price_stats['max']\n",
    "median_price = original_unit_price_stats['50%']\n",
    "print(\"Minimum Original Unit Price:\" ,min_price)\n",
    "print(\"Maximum Original Unit Price:\",max_price)\n",
    "print(\"Median Original Unit Price:\",median_price)"
   ]
  },
  {
   "cell_type": "markdown",
   "id": "ce6b4b9c",
   "metadata": {},
   "source": [
    "2) Find out the percentage of observations whose original_unit_price is greater than 350. Delete those observations using filtering. We will use the filtered dataset from now on."
   ]
  },
  {
   "cell_type": "code",
   "execution_count": 161,
   "id": "aacc2f83",
   "metadata": {},
   "outputs": [
    {
     "name": "stdout",
     "output_type": "stream",
     "text": [
      "Percentage of observations with 'original_unit_price' > 350: 0.6290116318201565\n",
      "Shape of the filtered dataset: (324806, 23)\n"
     ]
    }
   ],
   "source": [
    "percentage_above_350 = (merged_data['original_unit_price'] > 350).mean() * 100\n",
    "print(\"Percentage of observations with 'original_unit_price' > 350:\", percentage_above_350)\n",
    "filtered_data = merged_data[merged_data['original_unit_price'] <= 350]\n",
    "print(\"Shape of the filtered dataset:\", filtered_data.shape)"
   ]
  },
  {
   "cell_type": "markdown",
   "id": "0632e2a3",
   "metadata": {},
   "source": [
    "3) Examine the distribution of original_unit_price, using bins range from 0 to 350, width 10. Which price range has the most orders?"
   ]
  },
  {
   "cell_type": "code",
   "execution_count": 162,
   "id": "8121b9c5",
   "metadata": {},
   "outputs": [
    {
     "data": {
      "image/png": "[encoded data removed]",
      "text/plain": [
       "<Figure size 1200x600 with 1 Axes>"
      ]
     },
     "metadata": {},
     "output_type": "display_data"
    },
    {
     "name": "stdout",
     "output_type": "stream",
     "text": [
      "Price range with the most orders: (70.0, 80.0]\n"
     ]
    }
   ],
   "source": [
    "plt.figure(figsize=(12, 6))\n",
    "plt.hist(filtered_data['original_unit_price'], bins=range(0, 360, 10), color='yellow', edgecolor='black')\n",
    "plt.title('Distribution of Original Unit Price')\n",
    "plt.xlabel('Original Unit Price')\n",
    "plt.ylabel('Number of Orders')\n",
    "plt.grid(True)\n",
    "plt.show()\n",
    "most_orders_price_range = filtered_data['original_unit_price'].value_counts(bins=range(0, 360, 10)).idxmax()\n",
    "print('Price range with the most orders:',most_orders_price_range)"
   ]
  },
  {
   "cell_type": "markdown",
   "id": "41361250",
   "metadata": {},
   "source": [
    "28. Examine the distribution of final_unit_price, using bins range from -20 to 350, width 10. Comparing to original unit prices, how are the final prices different?"
   ]
  },
  {
   "cell_type": "code",
   "execution_count": 163,
   "id": "cbc89158",
   "metadata": {},
   "outputs": [
    {
     "data": {
      "image/png": "[encoded data removed]",
      "text/plain": [
       "<Figure size 1000x600 with 1 Axes>"
      ]
     },
     "metadata": {},
     "output_type": "display_data"
    }
   ],
   "source": [
    "plt.figure(figsize=(10, 6))\n",
    "plt.hist(filtered_data['original_unit_price'], bins=range(0, 360, 10), color='green', edgecolor='black', alpha=0.8, label='Original Unit Price')\n",
    "plt.hist(filtered_data['final_unit_price'], bins=range(-20, 360, 10), color='red', edgecolor='black', alpha=0.8, label='Final Unit Price')\n",
    "plt.title('Distribution of Original and Final Unit Prices')\n",
    "plt.xlabel('Unit Price')\n",
    "plt.ylabel('Number of Orders')\n",
    "plt.legend()\n",
    "plt.grid(True)\n",
    "plt.show()"
   ]
  },
  {
   "cell_type": "markdown",
   "id": "3146104a",
   "metadata": {},
   "source": [
    "29. Create a new variable 'sales', which is equal to the multiplication of quantity and final unit price. Make a graph for sales by day as in Q25."
   ]
  },
  {
   "cell_type": "code",
   "execution_count": 164,
   "id": "78d29d15",
   "metadata": {},
   "outputs": [
    {
     "name": "stderr",
     "output_type": "stream",
     "text": [
      "C:\\Users\\19403\\AppData\\Local\\Temp\\ipykernel_20268\\2597236395.py:1: SettingWithCopyWarning: \n",
      "A value is trying to be set on a copy of a slice from a DataFrame.\n",
      "Try using .loc[row_indexer,col_indexer] = value instead\n",
      "\n",
      "See the caveats in the documentation: https://pandas.pydata.org/pandas-docs/stable/user_guide/indexing.html#returning-a-view-versus-a-copy\n",
      "  filtered_data['sales'] = filtered_data['quantity'] * filtered_data['final_unit_price']\n"
     ]
    },
    {
     "data": {
      "image/png": "[encoded data removed]",
      "text/plain": [
       "<Figure size 1600x600 with 1 Axes>"
      ]
     },
     "metadata": {},
     "output_type": "display_data"
    }
   ],
   "source": [
    "filtered_data['sales'] = filtered_data['quantity'] * filtered_data['final_unit_price']\n",
    "daily_sales_sum = filtered_data.groupby('order_date')['sales'].sum()\n",
    "plt.figure(figsize=(16, 6))\n",
    "plt.plot(daily_sales_sum.index, daily_sales_sum.values, marker='*', linestyle='-', color='red')\n",
    "plt.title('Daily Sales')\n",
    "plt.xlabel('Day')\n",
    "plt.ylabel('Total Sales')\n",
    "plt.show()"
   ]
  },
  {
   "cell_type": "markdown",
   "id": "f8b594ac",
   "metadata": {},
   "source": [
    "30. Try to answer one descriptive question you asked in your project initial report."
   ]
  },
  {
   "cell_type": "code",
   "execution_count": 165,
   "id": "b6d837ae",
   "metadata": {},
   "outputs": [
    {
     "name": "stdout",
     "output_type": "stream",
     "text": [
      "Total sales for SKU your_sku on 2021-02-16 : $ 0.0\n"
     ]
    }
   ],
   "source": [
    "specific_sku = 'your_sku' \n",
    "specific_day = '2021-02-16'\n",
    "filtered_data_sku_day = order_data_df[(order_data_df['sku_ID'] == specific_sku) & (order_data_df['order_date'] == specific_day)]\n",
    "filtered_data_sku_day['sales'] = filtered_data_sku_day['quantity'] * filtered_data_sku_day['final_unit_price']\n",
    "total_sales_sku_day = filtered_data_sku_day['sales'].sum()\n",
    "print('Total sales for SKU', specific_sku, 'on', specific_day,': $', total_sales_sku_day)"
   ]
  },
  {
   "cell_type": "markdown",
   "id": "f0c24792",
   "metadata": {},
   "source": [
    "### Assignment 11 starts from here: Q31-Q40.\n",
    "We only covered a small part of data exploration in Assignment 10. If you are interested, you can make many more graphs to understand the data. <br>\n",
    "Next we intend to build models to predict delivery times."
   ]
  },
  {
   "cell_type": "markdown",
   "id": "aae847a1",
   "metadata": {},
   "source": [
    "We want to use two sets of features to make predictions.<br>\n",
    "1. order effect: This class of predictors captures thevcharacteristics of an order that may impact deliveryvtime, such as the number of items (SKUs), order size (quantity), order type (1P or 3P), discount rate and the number of gift items.<br>\n",
    "2. User effect: The process may prioritize certain customers over others, for example, customers with a PLUSmembership or higher past purchase values.<br>\n",
    "Note: Actually, it will be better if we can include real-time workloads of distribution centers. It can be done with this dataset, but might be a little too much for us. So, we will leave that part out."
   ]
  },
  {
   "cell_type": "markdown",
   "id": "4d6d4f39",
   "metadata": {},
   "source": [
    "We need to further process the data to prepare the features.<br>\n",
    "<b>Note: Here I have done this part. You need to change the name of DataFrame \"order_delivery_inner' to your dataframe name that results from all the previous steps. Make sure you run the cells before you proceed.</b>"
   ]
  },
  {
   "cell_type": "markdown",
   "id": "5172354f",
   "metadata": {},
   "source": [
    "31. The dataset we have so far is based on order-items. Each row is an item in an order. Now we need to aggregate by order to match order information with delivery information. Afterwards, each row is about one delivery / one order because we have already removed orders that have multiple deliveries."
   ]
  },
  {
   "cell_type": "markdown",
   "id": "59606105",
   "metadata": {},
   "source": [
    "First, let's calculate order values by multiply price and quantity."
   ]
  },
  {
   "cell_type": "code",
   "execution_count": 166,
   "id": "1319d2d9",
   "metadata": {},
   "outputs": [],
   "source": [
    "# Original value of items\n",
    "merged_data['originValue'] = merged_data['original_unit_price'] \\\n",
    "                                        * merged_data['quantity']\n",
    "\n",
    "# Final value of items                                    \n",
    "merged_data['finalValue'] = merged_data['final_unit_price'] \\\n",
    "                                    * merged_data['quantity']                                   "
   ]
  },
  {
   "cell_type": "code",
   "execution_count": 210,
   "id": "2b017585",
   "metadata": {},
   "outputs": [
    {
     "data": {
      "text/plain": [
       "Index(['order_ID', 'user_ID', 'sku_ID', 'order_date', 'order_time', 'quantity',\n",
       "       'type', 'promise', 'original_unit_price', 'final_unit_price',\n",
       "       'direct_discount_per_unit', 'quantity_discount_per_unit',\n",
       "       'bundle_discount_per_unit', 'coupon_discount_per_unit', 'gift_item',\n",
       "       'dc_ori', 'dc_des', 'package_ID', 'ship_out_time', 'arr_station_time',\n",
       "       'arr_time', 'item_count', 'hour', 'originValue', 'finalValue',\n",
       "       'order_day', 'order_hour', 'delivery_time', 'delivery_time_hours'],\n",
       "      dtype='object')"
      ]
     },
     "execution_count": 210,
     "metadata": {},
     "output_type": "execute_result"
    }
   ],
   "source": [
    "merged_data.columns"
   ]
  },
  {
   "cell_type": "code",
   "execution_count": 211,
   "id": "ff32288a",
   "metadata": {},
   "outputs": [
    {
     "data": {
      "text/html": [
       "<div>\n",
       "<style scoped>\n",
       "    .dataframe tbody tr th:only-of-type {\n",
       "        vertical-align: middle;\n",
       "    }\n",
       "\n",
       "    .dataframe tbody tr th {\n",
       "        vertical-align: top;\n",
       "    }\n",
       "\n",
       "    .dataframe thead th {\n",
       "        text-align: right;\n",
       "    }\n",
       "</style>\n",
       "<table border=\"1\" class=\"dataframe\">\n",
       "  <thead>\n",
       "    <tr style=\"text-align: right;\">\n",
       "      <th></th>\n",
       "      <th>order_ID</th>\n",
       "      <th>user_ID</th>\n",
       "      <th>sku_ID</th>\n",
       "      <th>order_date</th>\n",
       "      <th>order_time</th>\n",
       "      <th>quantity</th>\n",
       "      <th>type</th>\n",
       "      <th>promise</th>\n",
       "      <th>original_unit_price</th>\n",
       "      <th>final_unit_price</th>\n",
       "      <th>...</th>\n",
       "      <th>arr_station_time</th>\n",
       "      <th>arr_time</th>\n",
       "      <th>item_count</th>\n",
       "      <th>hour</th>\n",
       "      <th>originValue</th>\n",
       "      <th>finalValue</th>\n",
       "      <th>order_day</th>\n",
       "      <th>order_hour</th>\n",
       "      <th>delivery_time</th>\n",
       "      <th>delivery_time_hours</th>\n",
       "    </tr>\n",
       "  </thead>\n",
       "  <tbody>\n",
       "    <tr>\n",
       "      <th>0</th>\n",
       "      <td>7444318d01</td>\n",
       "      <td>33a9e56257</td>\n",
       "      <td>067b673f2b</td>\n",
       "      <td>2018-03-01</td>\n",
       "      <td>2018-03-01 11:10:40</td>\n",
       "      <td>1</td>\n",
       "      <td>1</td>\n",
       "      <td>2</td>\n",
       "      <td>99.9</td>\n",
       "      <td>53.9</td>\n",
       "      <td>...</td>\n",
       "      <td>2018-03-02 08:00:00</td>\n",
       "      <td>2018-03-02 14:00:00</td>\n",
       "      <td>1</td>\n",
       "      <td>11</td>\n",
       "      <td>99.9</td>\n",
       "      <td>53.9</td>\n",
       "      <td>1</td>\n",
       "      <td>11</td>\n",
       "      <td>1 days 02:49:20</td>\n",
       "      <td>26.822222</td>\n",
       "    </tr>\n",
       "    <tr>\n",
       "      <th>1</th>\n",
       "      <td>f973b01694</td>\n",
       "      <td>4ea3cf408f</td>\n",
       "      <td>623d0a582a</td>\n",
       "      <td>2018-03-01</td>\n",
       "      <td>2018-03-01 09:13:26</td>\n",
       "      <td>1</td>\n",
       "      <td>1</td>\n",
       "      <td>2</td>\n",
       "      <td>78.0</td>\n",
       "      <td>58.5</td>\n",
       "      <td>...</td>\n",
       "      <td>2018-03-02 09:00:00</td>\n",
       "      <td>2018-03-02 13:00:00</td>\n",
       "      <td>1</td>\n",
       "      <td>9</td>\n",
       "      <td>78.0</td>\n",
       "      <td>58.5</td>\n",
       "      <td>1</td>\n",
       "      <td>9</td>\n",
       "      <td>1 days 03:46:34</td>\n",
       "      <td>27.776111</td>\n",
       "    </tr>\n",
       "    <tr>\n",
       "      <th>2</th>\n",
       "      <td>8c1cec8d4b</td>\n",
       "      <td>b87cb736cb</td>\n",
       "      <td>fc5289b139</td>\n",
       "      <td>2018-03-01</td>\n",
       "      <td>2018-03-01 21:29:50</td>\n",
       "      <td>1</td>\n",
       "      <td>1</td>\n",
       "      <td>2</td>\n",
       "      <td>61.0</td>\n",
       "      <td>35.0</td>\n",
       "      <td>...</td>\n",
       "      <td>2018-03-03 08:00:00</td>\n",
       "      <td>2018-03-04 11:00:00</td>\n",
       "      <td>1</td>\n",
       "      <td>21</td>\n",
       "      <td>61.0</td>\n",
       "      <td>35.0</td>\n",
       "      <td>1</td>\n",
       "      <td>21</td>\n",
       "      <td>2 days 13:30:10</td>\n",
       "      <td>61.502778</td>\n",
       "    </tr>\n",
       "    <tr>\n",
       "      <th>3</th>\n",
       "      <td>d43a33c38a</td>\n",
       "      <td>4829223b6f</td>\n",
       "      <td>623d0a582a</td>\n",
       "      <td>2018-03-01</td>\n",
       "      <td>2018-03-01 19:13:37</td>\n",
       "      <td>1</td>\n",
       "      <td>1</td>\n",
       "      <td>1</td>\n",
       "      <td>78.0</td>\n",
       "      <td>53.0</td>\n",
       "      <td>...</td>\n",
       "      <td>2018-03-02 07:00:00</td>\n",
       "      <td>2018-03-02 11:00:00</td>\n",
       "      <td>1</td>\n",
       "      <td>19</td>\n",
       "      <td>78.0</td>\n",
       "      <td>53.0</td>\n",
       "      <td>1</td>\n",
       "      <td>19</td>\n",
       "      <td>0 days 15:46:23</td>\n",
       "      <td>15.773056</td>\n",
       "    </tr>\n",
       "    <tr>\n",
       "      <th>4</th>\n",
       "      <td>e0f5386d87</td>\n",
       "      <td>0b07cae293</td>\n",
       "      <td>589c2b865b</td>\n",
       "      <td>2018-03-01</td>\n",
       "      <td>2018-03-01 21:09:15</td>\n",
       "      <td>1</td>\n",
       "      <td>1</td>\n",
       "      <td>1</td>\n",
       "      <td>79.9</td>\n",
       "      <td>38.9</td>\n",
       "      <td>...</td>\n",
       "      <td>2018-03-02 09:00:00</td>\n",
       "      <td>2018-03-02 12:00:00</td>\n",
       "      <td>1</td>\n",
       "      <td>21</td>\n",
       "      <td>79.9</td>\n",
       "      <td>38.9</td>\n",
       "      <td>1</td>\n",
       "      <td>21</td>\n",
       "      <td>0 days 14:50:45</td>\n",
       "      <td>14.845833</td>\n",
       "    </tr>\n",
       "  </tbody>\n",
       "</table>\n",
       "<p>5 rows × 29 columns</p>\n",
       "</div>"
      ],
      "text/plain": [
       "     order_ID     user_ID      sku_ID order_date          order_time  \\\n",
       "0  7444318d01  33a9e56257  067b673f2b 2018-03-01 2018-03-01 11:10:40   \n",
       "1  f973b01694  4ea3cf408f  623d0a582a 2018-03-01 2018-03-01 09:13:26   \n",
       "2  8c1cec8d4b  b87cb736cb  fc5289b139 2018-03-01 2018-03-01 21:29:50   \n",
       "3  d43a33c38a  4829223b6f  623d0a582a 2018-03-01 2018-03-01 19:13:37   \n",
       "4  e0f5386d87  0b07cae293  589c2b865b 2018-03-01 2018-03-01 21:09:15   \n",
       "\n",
       "   quantity  type promise  original_unit_price  final_unit_price  ...  \\\n",
       "0         1     1       2                 99.9              53.9  ...   \n",
       "1         1     1       2                 78.0              58.5  ...   \n",
       "2         1     1       2                 61.0              35.0  ...   \n",
       "3         1     1       1                 78.0              53.0  ...   \n",
       "4         1     1       1                 79.9              38.9  ...   \n",
       "\n",
       "     arr_station_time            arr_time  item_count  hour  originValue  \\\n",
       "0 2018-03-02 08:00:00 2018-03-02 14:00:00           1    11         99.9   \n",
       "1 2018-03-02 09:00:00 2018-03-02 13:00:00           1     9         78.0   \n",
       "2 2018-03-03 08:00:00 2018-03-04 11:00:00           1    21         61.0   \n",
       "3 2018-03-02 07:00:00 2018-03-02 11:00:00           1    19         78.0   \n",
       "4 2018-03-02 09:00:00 2018-03-02 12:00:00           1    21         79.9   \n",
       "\n",
       "   finalValue  order_day order_hour   delivery_time delivery_time_hours  \n",
       "0        53.9          1         11 1 days 02:49:20           26.822222  \n",
       "1        58.5          1          9 1 days 03:46:34           27.776111  \n",
       "2        35.0          1         21 2 days 13:30:10           61.502778  \n",
       "3        53.0          1         19 0 days 15:46:23           15.773056  \n",
       "4        38.9          1         21 0 days 14:50:45           14.845833  \n",
       "\n",
       "[5 rows x 29 columns]"
      ]
     },
     "execution_count": 211,
     "metadata": {},
     "output_type": "execute_result"
    }
   ],
   "source": [
    "merged_data.head()"
   ]
  },
  {
   "cell_type": "markdown",
   "id": "f31f2672",
   "metadata": {},
   "source": [
    "Next we aggregate by each order. <br>\n",
    "Please pay attention to the variable names. They should be consistent with yours. Make changes when necessary. <br>\n",
    "\n",
    "Variables that are the same across one order:<br>\n",
    "user_ID<br>\n",
    "order type - type_x<br>\n",
    "delivery time - delivery_time<br>\n",
    "order day - order_day<br>\n",
    "order hour - order_hour<br>\n",
    "<br>\n",
    "<br>\n",
    "Variables to be aggregated across one order:<br>\n",
    "sku_ID - to count to calculate the number of different products<br>\n",
    "quantity - to sum to calculate the order size<br>\n",
    "originValue - to sum to calculate sales value with the original price<br>\n",
    "finalValue - to sum to calculate final sales value<br>\n",
    "discount rate<br>\n",
    "gift_item - to sum to calculate the number of gift items<br>\n",
    "\n",
    "Therefore, we need to do the following:<br>\n",
    "\n",
    "1. For variables that are the same across one order, we can use the 'first' method to keep the value in the groupby result.<br>\n",
    "2. For variables to be aggregated, we specify aggregation for each of them.<br>\n",
    "3. We can use a dictionary to put all actions together."
   ]
  },
  {
   "cell_type": "code",
   "execution_count": 178,
   "id": "c8a0f382",
   "metadata": {},
   "outputs": [
    {
     "data": {
      "text/html": [
       "<div>\n",
       "<style scoped>\n",
       "    .dataframe tbody tr th:only-of-type {\n",
       "        vertical-align: middle;\n",
       "    }\n",
       "\n",
       "    .dataframe tbody tr th {\n",
       "        vertical-align: top;\n",
       "    }\n",
       "\n",
       "    .dataframe thead th {\n",
       "        text-align: right;\n",
       "    }\n",
       "</style>\n",
       "<table border=\"1\" class=\"dataframe\">\n",
       "  <thead>\n",
       "    <tr style=\"text-align: right;\">\n",
       "      <th></th>\n",
       "      <th>order_ID</th>\n",
       "      <th>user_ID</th>\n",
       "      <th>type</th>\n",
       "      <th>delivery_time</th>\n",
       "      <th>order_day</th>\n",
       "      <th>order_hour</th>\n",
       "      <th>sku_ID</th>\n",
       "      <th>quantity</th>\n",
       "      <th>originValue</th>\n",
       "      <th>finalValue</th>\n",
       "      <th>gift_item</th>\n",
       "    </tr>\n",
       "  </thead>\n",
       "  <tbody>\n",
       "    <tr>\n",
       "      <th>0</th>\n",
       "      <td>0000095025</td>\n",
       "      <td>57648ed1fc</td>\n",
       "      <td>1</td>\n",
       "      <td>0 days 22:48:26</td>\n",
       "      <td>19</td>\n",
       "      <td>11</td>\n",
       "      <td>1</td>\n",
       "      <td>1</td>\n",
       "      <td>230.0</td>\n",
       "      <td>176.2</td>\n",
       "      <td>0</td>\n",
       "    </tr>\n",
       "    <tr>\n",
       "      <th>1</th>\n",
       "      <td>00000e13eb</td>\n",
       "      <td>c113527e40</td>\n",
       "      <td>0</td>\n",
       "      <td>2 days 05:19:18</td>\n",
       "      <td>9</td>\n",
       "      <td>12</td>\n",
       "      <td>1</td>\n",
       "      <td>1</td>\n",
       "      <td>56.0</td>\n",
       "      <td>56.0</td>\n",
       "      <td>0</td>\n",
       "    </tr>\n",
       "    <tr>\n",
       "      <th>2</th>\n",
       "      <td>0000132b39</td>\n",
       "      <td>c4f5626c0d</td>\n",
       "      <td>1</td>\n",
       "      <td>0 days 22:29:25</td>\n",
       "      <td>13</td>\n",
       "      <td>16</td>\n",
       "      <td>1</td>\n",
       "      <td>1</td>\n",
       "      <td>89.0</td>\n",
       "      <td>85.0</td>\n",
       "      <td>0</td>\n",
       "    </tr>\n",
       "    <tr>\n",
       "      <th>3</th>\n",
       "      <td>000064fa67</td>\n",
       "      <td>99439045cb</td>\n",
       "      <td>1</td>\n",
       "      <td>0 days 08:03:43</td>\n",
       "      <td>2</td>\n",
       "      <td>10</td>\n",
       "      <td>2</td>\n",
       "      <td>2</td>\n",
       "      <td>298.0</td>\n",
       "      <td>208.0</td>\n",
       "      <td>1</td>\n",
       "    </tr>\n",
       "    <tr>\n",
       "      <th>4</th>\n",
       "      <td>0000bde331</td>\n",
       "      <td>20d84fc11a</td>\n",
       "      <td>1</td>\n",
       "      <td>0 days 21:37:06</td>\n",
       "      <td>17</td>\n",
       "      <td>14</td>\n",
       "      <td>1</td>\n",
       "      <td>1</td>\n",
       "      <td>59.9</td>\n",
       "      <td>39.9</td>\n",
       "      <td>0</td>\n",
       "    </tr>\n",
       "  </tbody>\n",
       "</table>\n",
       "</div>"
      ],
      "text/plain": [
       "     order_ID     user_ID  type   delivery_time  order_day  order_hour  \\\n",
       "0  0000095025  57648ed1fc     1 0 days 22:48:26         19          11   \n",
       "1  00000e13eb  c113527e40     0 2 days 05:19:18          9          12   \n",
       "2  0000132b39  c4f5626c0d     1 0 days 22:29:25         13          16   \n",
       "3  000064fa67  99439045cb     1 0 days 08:03:43          2          10   \n",
       "4  0000bde331  20d84fc11a     1 0 days 21:37:06         17          14   \n",
       "\n",
       "   sku_ID  quantity  originValue  finalValue  gift_item  \n",
       "0       1         1        230.0       176.2          0  \n",
       "1       1         1         56.0        56.0          0  \n",
       "2       1         1         89.0        85.0          0  \n",
       "3       2         2        298.0       208.0          1  \n",
       "4       1         1         59.9        39.9          0  "
      ]
     },
     "execution_count": 178,
     "metadata": {},
     "output_type": "execute_result"
    }
   ],
   "source": [
    "agg_dict = {\n",
    "    'user_ID': 'first',\n",
    "    'type': 'first',\n",
    "    'delivery_time': 'first',\n",
    "    'order_day': 'first',\n",
    "    'order_hour':'first',\n",
    "    'sku_ID': 'count',\n",
    "    'quantity': 'sum',\n",
    "    'originValue': 'sum',\n",
    "    'finalValue': 'sum',\n",
    "    'gift_item': 'sum'\n",
    "}\n",
    "\n",
    "order_agg = merged_data.groupby('order_ID').agg(agg_dict).reset_index()\n",
    "order_agg.head()"
   ]
  },
  {
   "cell_type": "markdown",
   "id": "fdc3e486",
   "metadata": {},
   "source": [
    "32. Merge user table with this aggregated order table."
   ]
  },
  {
   "cell_type": "code",
   "execution_count": 196,
   "id": "9b6c49fb",
   "metadata": {},
   "outputs": [
    {
     "data": {
      "text/html": [
       "<div>\n",
       "<style scoped>\n",
       "    .dataframe tbody tr th:only-of-type {\n",
       "        vertical-align: middle;\n",
       "    }\n",
       "\n",
       "    .dataframe tbody tr th {\n",
       "        vertical-align: top;\n",
       "    }\n",
       "\n",
       "    .dataframe thead th {\n",
       "        text-align: right;\n",
       "    }\n",
       "</style>\n",
       "<table border=\"1\" class=\"dataframe\">\n",
       "  <thead>\n",
       "    <tr style=\"text-align: right;\">\n",
       "      <th></th>\n",
       "      <th>order_ID</th>\n",
       "      <th>user_ID</th>\n",
       "      <th>type</th>\n",
       "      <th>delivery_time</th>\n",
       "      <th>order_day</th>\n",
       "      <th>order_hour</th>\n",
       "      <th>sku_ID</th>\n",
       "      <th>quantity</th>\n",
       "      <th>originValue</th>\n",
       "      <th>finalValue</th>\n",
       "      <th>gift_item</th>\n",
       "      <th>user_level</th>\n",
       "      <th>first_order_month</th>\n",
       "      <th>plus</th>\n",
       "      <th>gender</th>\n",
       "      <th>age</th>\n",
       "      <th>marital_status</th>\n",
       "      <th>education</th>\n",
       "      <th>city_level</th>\n",
       "      <th>purchase_power</th>\n",
       "    </tr>\n",
       "  </thead>\n",
       "  <tbody>\n",
       "    <tr>\n",
       "      <th>0</th>\n",
       "      <td>0000095025</td>\n",
       "      <td>57648ed1fc</td>\n",
       "      <td>1</td>\n",
       "      <td>0 days 22:48:26</td>\n",
       "      <td>19</td>\n",
       "      <td>11</td>\n",
       "      <td>1</td>\n",
       "      <td>1</td>\n",
       "      <td>230.0</td>\n",
       "      <td>176.2</td>\n",
       "      <td>0</td>\n",
       "      <td>-1</td>\n",
       "      <td>2017-10</td>\n",
       "      <td>0</td>\n",
       "      <td>U</td>\n",
       "      <td>U</td>\n",
       "      <td>U</td>\n",
       "      <td>-1</td>\n",
       "      <td>-1</td>\n",
       "      <td>-1</td>\n",
       "    </tr>\n",
       "    <tr>\n",
       "      <th>1</th>\n",
       "      <td>00000e13eb</td>\n",
       "      <td>c113527e40</td>\n",
       "      <td>0</td>\n",
       "      <td>2 days 05:19:18</td>\n",
       "      <td>9</td>\n",
       "      <td>12</td>\n",
       "      <td>1</td>\n",
       "      <td>1</td>\n",
       "      <td>56.0</td>\n",
       "      <td>56.0</td>\n",
       "      <td>0</td>\n",
       "      <td>1</td>\n",
       "      <td>2017-08</td>\n",
       "      <td>0</td>\n",
       "      <td>U</td>\n",
       "      <td>U</td>\n",
       "      <td>U</td>\n",
       "      <td>-1</td>\n",
       "      <td>-1</td>\n",
       "      <td>-1</td>\n",
       "    </tr>\n",
       "    <tr>\n",
       "      <th>2</th>\n",
       "      <td>0000132b39</td>\n",
       "      <td>c4f5626c0d</td>\n",
       "      <td>1</td>\n",
       "      <td>0 days 22:29:25</td>\n",
       "      <td>13</td>\n",
       "      <td>16</td>\n",
       "      <td>1</td>\n",
       "      <td>1</td>\n",
       "      <td>89.0</td>\n",
       "      <td>85.0</td>\n",
       "      <td>0</td>\n",
       "      <td>2</td>\n",
       "      <td>2016-06</td>\n",
       "      <td>0</td>\n",
       "      <td>F</td>\n",
       "      <td>16-25</td>\n",
       "      <td>S</td>\n",
       "      <td>3</td>\n",
       "      <td>2</td>\n",
       "      <td>1</td>\n",
       "    </tr>\n",
       "    <tr>\n",
       "      <th>3</th>\n",
       "      <td>000064fa67</td>\n",
       "      <td>99439045cb</td>\n",
       "      <td>1</td>\n",
       "      <td>0 days 08:03:43</td>\n",
       "      <td>2</td>\n",
       "      <td>10</td>\n",
       "      <td>2</td>\n",
       "      <td>2</td>\n",
       "      <td>298.0</td>\n",
       "      <td>208.0</td>\n",
       "      <td>1</td>\n",
       "      <td>2</td>\n",
       "      <td>2016-01</td>\n",
       "      <td>0</td>\n",
       "      <td>F</td>\n",
       "      <td>16-25</td>\n",
       "      <td>S</td>\n",
       "      <td>3</td>\n",
       "      <td>1</td>\n",
       "      <td>2</td>\n",
       "    </tr>\n",
       "    <tr>\n",
       "      <th>4</th>\n",
       "      <td>0000bde331</td>\n",
       "      <td>20d84fc11a</td>\n",
       "      <td>1</td>\n",
       "      <td>0 days 21:37:06</td>\n",
       "      <td>17</td>\n",
       "      <td>14</td>\n",
       "      <td>1</td>\n",
       "      <td>1</td>\n",
       "      <td>59.9</td>\n",
       "      <td>39.9</td>\n",
       "      <td>0</td>\n",
       "      <td>2</td>\n",
       "      <td>2016-03</td>\n",
       "      <td>0</td>\n",
       "      <td>F</td>\n",
       "      <td>26-35</td>\n",
       "      <td>M</td>\n",
       "      <td>3</td>\n",
       "      <td>-1</td>\n",
       "      <td>2</td>\n",
       "    </tr>\n",
       "  </tbody>\n",
       "</table>\n",
       "</div>"
      ],
      "text/plain": [
       "     order_ID     user_ID  type   delivery_time  order_day  order_hour  \\\n",
       "0  0000095025  57648ed1fc     1 0 days 22:48:26         19          11   \n",
       "1  00000e13eb  c113527e40     0 2 days 05:19:18          9          12   \n",
       "2  0000132b39  c4f5626c0d     1 0 days 22:29:25         13          16   \n",
       "3  000064fa67  99439045cb     1 0 days 08:03:43          2          10   \n",
       "4  0000bde331  20d84fc11a     1 0 days 21:37:06         17          14   \n",
       "\n",
       "   sku_ID  quantity  originValue  finalValue  gift_item  user_level  \\\n",
       "0       1         1        230.0       176.2          0          -1   \n",
       "1       1         1         56.0        56.0          0           1   \n",
       "2       1         1         89.0        85.0          0           2   \n",
       "3       2         2        298.0       208.0          1           2   \n",
       "4       1         1         59.9        39.9          0           2   \n",
       "\n",
       "  first_order_month  plus gender    age marital_status  education  city_level  \\\n",
       "0           2017-10     0      U      U              U         -1          -1   \n",
       "1           2017-08     0      U      U              U         -1          -1   \n",
       "2           2016-06     0      F  16-25              S          3           2   \n",
       "3           2016-01     0      F  16-25              S          3           1   \n",
       "4           2016-03     0      F  26-35              M          3          -1   \n",
       "\n",
       "   purchase_power  \n",
       "0              -1  \n",
       "1              -1  \n",
       "2               1  \n",
       "3               2  \n",
       "4               2  "
      ]
     },
     "execution_count": 196,
     "metadata": {},
     "output_type": "execute_result"
    }
   ],
   "source": [
    "customer_order = pd.merge(order_agg, user_data_df, on = 'user_ID', how = 'inner')\n",
    "customer_order.head()"
   ]
  },
  {
   "cell_type": "code",
   "execution_count": 197,
   "id": "2c5a30b7",
   "metadata": {},
   "outputs": [
    {
     "name": "stdout",
     "output_type": "stream",
     "text": [
      "<class 'pandas.core.frame.DataFrame'>\n",
      "Int64Index: 293204 entries, 0 to 293203\n",
      "Data columns (total 20 columns):\n",
      " #   Column             Non-Null Count   Dtype          \n",
      "---  ------             --------------   -----          \n",
      " 0   order_ID           293204 non-null  object         \n",
      " 1   user_ID            293204 non-null  object         \n",
      " 2   type               293204 non-null  int64          \n",
      " 3   delivery_time      293204 non-null  timedelta64[ns]\n",
      " 4   order_day          293204 non-null  int64          \n",
      " 5   order_hour         293204 non-null  int64          \n",
      " 6   sku_ID             293204 non-null  int64          \n",
      " 7   quantity           293204 non-null  int64          \n",
      " 8   originValue        293204 non-null  float64        \n",
      " 9   finalValue         293204 non-null  float64        \n",
      " 10  gift_item          293204 non-null  int64          \n",
      " 11  user_level         293204 non-null  int64          \n",
      " 12  first_order_month  293204 non-null  object         \n",
      " 13  plus               293204 non-null  int64          \n",
      " 14  gender             293204 non-null  object         \n",
      " 15  age                293204 non-null  object         \n",
      " 16  marital_status     293204 non-null  object         \n",
      " 17  education          293204 non-null  int64          \n",
      " 18  city_level         293204 non-null  int64          \n",
      " 19  purchase_power     293204 non-null  int64          \n",
      "dtypes: float64(2), int64(11), object(6), timedelta64[ns](1)\n",
      "memory usage: 47.0+ MB\n"
     ]
    }
   ],
   "source": [
    "customer_order.info()"
   ]
  },
  {
   "cell_type": "markdown",
   "id": "dc1d24b9",
   "metadata": {},
   "source": [
    "33. We need to code a few more variables."
   ]
  },
  {
   "cell_type": "code",
   "execution_count": 198,
   "id": "84ea5602",
   "metadata": {},
   "outputs": [
    {
     "data": {
      "text/html": [
       "<div>\n",
       "<style scoped>\n",
       "    .dataframe tbody tr th:only-of-type {\n",
       "        vertical-align: middle;\n",
       "    }\n",
       "\n",
       "    .dataframe tbody tr th {\n",
       "        vertical-align: top;\n",
       "    }\n",
       "\n",
       "    .dataframe thead th {\n",
       "        text-align: right;\n",
       "    }\n",
       "</style>\n",
       "<table border=\"1\" class=\"dataframe\">\n",
       "  <thead>\n",
       "    <tr style=\"text-align: right;\">\n",
       "      <th></th>\n",
       "      <th>order_ID</th>\n",
       "      <th>user_ID</th>\n",
       "      <th>type</th>\n",
       "      <th>delivery_time</th>\n",
       "      <th>order_day</th>\n",
       "      <th>order_hour</th>\n",
       "      <th>sku_ID</th>\n",
       "      <th>quantity</th>\n",
       "      <th>originValue</th>\n",
       "      <th>finalValue</th>\n",
       "      <th>gift_item</th>\n",
       "      <th>user_level</th>\n",
       "      <th>first_order_month</th>\n",
       "      <th>plus</th>\n",
       "      <th>gender</th>\n",
       "      <th>age</th>\n",
       "      <th>marital_status</th>\n",
       "      <th>education</th>\n",
       "      <th>city_level</th>\n",
       "      <th>purchase_power</th>\n",
       "    </tr>\n",
       "  </thead>\n",
       "  <tbody>\n",
       "    <tr>\n",
       "      <th>0</th>\n",
       "      <td>0000095025</td>\n",
       "      <td>57648ed1fc</td>\n",
       "      <td>1</td>\n",
       "      <td>0 days 22:48:26</td>\n",
       "      <td>19</td>\n",
       "      <td>11</td>\n",
       "      <td>1</td>\n",
       "      <td>1</td>\n",
       "      <td>230.0</td>\n",
       "      <td>176.2</td>\n",
       "      <td>0</td>\n",
       "      <td>-1</td>\n",
       "      <td>2017-10</td>\n",
       "      <td>0</td>\n",
       "      <td>U</td>\n",
       "      <td>U</td>\n",
       "      <td>U</td>\n",
       "      <td>-1</td>\n",
       "      <td>-1</td>\n",
       "      <td>-1</td>\n",
       "    </tr>\n",
       "    <tr>\n",
       "      <th>1</th>\n",
       "      <td>00000e13eb</td>\n",
       "      <td>c113527e40</td>\n",
       "      <td>0</td>\n",
       "      <td>2 days 05:19:18</td>\n",
       "      <td>9</td>\n",
       "      <td>12</td>\n",
       "      <td>1</td>\n",
       "      <td>1</td>\n",
       "      <td>56.0</td>\n",
       "      <td>56.0</td>\n",
       "      <td>0</td>\n",
       "      <td>1</td>\n",
       "      <td>2017-08</td>\n",
       "      <td>0</td>\n",
       "      <td>U</td>\n",
       "      <td>U</td>\n",
       "      <td>U</td>\n",
       "      <td>-1</td>\n",
       "      <td>-1</td>\n",
       "      <td>-1</td>\n",
       "    </tr>\n",
       "    <tr>\n",
       "      <th>2</th>\n",
       "      <td>0000132b39</td>\n",
       "      <td>c4f5626c0d</td>\n",
       "      <td>1</td>\n",
       "      <td>0 days 22:29:25</td>\n",
       "      <td>13</td>\n",
       "      <td>16</td>\n",
       "      <td>1</td>\n",
       "      <td>1</td>\n",
       "      <td>89.0</td>\n",
       "      <td>85.0</td>\n",
       "      <td>0</td>\n",
       "      <td>2</td>\n",
       "      <td>2016-06</td>\n",
       "      <td>0</td>\n",
       "      <td>F</td>\n",
       "      <td>16-25</td>\n",
       "      <td>S</td>\n",
       "      <td>3</td>\n",
       "      <td>2</td>\n",
       "      <td>1</td>\n",
       "    </tr>\n",
       "    <tr>\n",
       "      <th>3</th>\n",
       "      <td>000064fa67</td>\n",
       "      <td>99439045cb</td>\n",
       "      <td>1</td>\n",
       "      <td>0 days 08:03:43</td>\n",
       "      <td>2</td>\n",
       "      <td>10</td>\n",
       "      <td>2</td>\n",
       "      <td>2</td>\n",
       "      <td>298.0</td>\n",
       "      <td>208.0</td>\n",
       "      <td>1</td>\n",
       "      <td>2</td>\n",
       "      <td>2016-01</td>\n",
       "      <td>0</td>\n",
       "      <td>F</td>\n",
       "      <td>16-25</td>\n",
       "      <td>S</td>\n",
       "      <td>3</td>\n",
       "      <td>1</td>\n",
       "      <td>2</td>\n",
       "    </tr>\n",
       "    <tr>\n",
       "      <th>4</th>\n",
       "      <td>0000bde331</td>\n",
       "      <td>20d84fc11a</td>\n",
       "      <td>1</td>\n",
       "      <td>0 days 21:37:06</td>\n",
       "      <td>17</td>\n",
       "      <td>14</td>\n",
       "      <td>1</td>\n",
       "      <td>1</td>\n",
       "      <td>59.9</td>\n",
       "      <td>39.9</td>\n",
       "      <td>0</td>\n",
       "      <td>2</td>\n",
       "      <td>2016-03</td>\n",
       "      <td>0</td>\n",
       "      <td>F</td>\n",
       "      <td>26-35</td>\n",
       "      <td>M</td>\n",
       "      <td>3</td>\n",
       "      <td>-1</td>\n",
       "      <td>2</td>\n",
       "    </tr>\n",
       "  </tbody>\n",
       "</table>\n",
       "</div>"
      ],
      "text/plain": [
       "     order_ID     user_ID  type   delivery_time  order_day  order_hour  \\\n",
       "0  0000095025  57648ed1fc     1 0 days 22:48:26         19          11   \n",
       "1  00000e13eb  c113527e40     0 2 days 05:19:18          9          12   \n",
       "2  0000132b39  c4f5626c0d     1 0 days 22:29:25         13          16   \n",
       "3  000064fa67  99439045cb     1 0 days 08:03:43          2          10   \n",
       "4  0000bde331  20d84fc11a     1 0 days 21:37:06         17          14   \n",
       "\n",
       "   sku_ID  quantity  originValue  finalValue  gift_item  user_level  \\\n",
       "0       1         1        230.0       176.2          0          -1   \n",
       "1       1         1         56.0        56.0          0           1   \n",
       "2       1         1         89.0        85.0          0           2   \n",
       "3       2         2        298.0       208.0          1           2   \n",
       "4       1         1         59.9        39.9          0           2   \n",
       "\n",
       "  first_order_month  plus gender    age marital_status  education  city_level  \\\n",
       "0           2017-10     0      U      U              U         -1          -1   \n",
       "1           2017-08     0      U      U              U         -1          -1   \n",
       "2           2016-06     0      F  16-25              S          3           2   \n",
       "3           2016-01     0      F  16-25              S          3           1   \n",
       "4           2016-03     0      F  26-35              M          3          -1   \n",
       "\n",
       "   purchase_power  \n",
       "0              -1  \n",
       "1              -1  \n",
       "2               1  \n",
       "3               2  \n",
       "4               2  "
      ]
     },
     "execution_count": 198,
     "metadata": {},
     "output_type": "execute_result"
    }
   ],
   "source": [
    "# First we remove the orders with originValue is 0\n",
    "customer_order = customer_order[customer_order['originValue'] != 0]\n",
    "customer_order.head()"
   ]
  },
  {
   "cell_type": "code",
   "execution_count": 199,
   "id": "8887322d",
   "metadata": {},
   "outputs": [
    {
     "data": {
      "text/html": [
       "<div>\n",
       "<style scoped>\n",
       "    .dataframe tbody tr th:only-of-type {\n",
       "        vertical-align: middle;\n",
       "    }\n",
       "\n",
       "    .dataframe tbody tr th {\n",
       "        vertical-align: top;\n",
       "    }\n",
       "\n",
       "    .dataframe thead th {\n",
       "        text-align: right;\n",
       "    }\n",
       "</style>\n",
       "<table border=\"1\" class=\"dataframe\">\n",
       "  <thead>\n",
       "    <tr style=\"text-align: right;\">\n",
       "      <th></th>\n",
       "      <th>order_ID</th>\n",
       "      <th>user_ID</th>\n",
       "      <th>type</th>\n",
       "      <th>delivery_time</th>\n",
       "      <th>order_day</th>\n",
       "      <th>order_hour</th>\n",
       "      <th>sku_ID</th>\n",
       "      <th>quantity</th>\n",
       "      <th>originValue</th>\n",
       "      <th>finalValue</th>\n",
       "      <th>...</th>\n",
       "      <th>first_order_month</th>\n",
       "      <th>plus</th>\n",
       "      <th>gender</th>\n",
       "      <th>age</th>\n",
       "      <th>marital_status</th>\n",
       "      <th>education</th>\n",
       "      <th>city_level</th>\n",
       "      <th>purchase_power</th>\n",
       "      <th>dis_rate</th>\n",
       "      <th>busy_hour</th>\n",
       "    </tr>\n",
       "  </thead>\n",
       "  <tbody>\n",
       "    <tr>\n",
       "      <th>0</th>\n",
       "      <td>0000095025</td>\n",
       "      <td>57648ed1fc</td>\n",
       "      <td>1</td>\n",
       "      <td>0 days 22:48:26</td>\n",
       "      <td>19</td>\n",
       "      <td>11</td>\n",
       "      <td>1</td>\n",
       "      <td>1</td>\n",
       "      <td>230.0</td>\n",
       "      <td>176.2</td>\n",
       "      <td>...</td>\n",
       "      <td>2017-10</td>\n",
       "      <td>0</td>\n",
       "      <td>U</td>\n",
       "      <td>U</td>\n",
       "      <td>U</td>\n",
       "      <td>-1</td>\n",
       "      <td>-1</td>\n",
       "      <td>-1</td>\n",
       "      <td>0.233913</td>\n",
       "      <td>1</td>\n",
       "    </tr>\n",
       "    <tr>\n",
       "      <th>1</th>\n",
       "      <td>00000e13eb</td>\n",
       "      <td>c113527e40</td>\n",
       "      <td>0</td>\n",
       "      <td>2 days 05:19:18</td>\n",
       "      <td>9</td>\n",
       "      <td>12</td>\n",
       "      <td>1</td>\n",
       "      <td>1</td>\n",
       "      <td>56.0</td>\n",
       "      <td>56.0</td>\n",
       "      <td>...</td>\n",
       "      <td>2017-08</td>\n",
       "      <td>0</td>\n",
       "      <td>U</td>\n",
       "      <td>U</td>\n",
       "      <td>U</td>\n",
       "      <td>-1</td>\n",
       "      <td>-1</td>\n",
       "      <td>-1</td>\n",
       "      <td>0.000000</td>\n",
       "      <td>1</td>\n",
       "    </tr>\n",
       "    <tr>\n",
       "      <th>2</th>\n",
       "      <td>0000132b39</td>\n",
       "      <td>c4f5626c0d</td>\n",
       "      <td>1</td>\n",
       "      <td>0 days 22:29:25</td>\n",
       "      <td>13</td>\n",
       "      <td>16</td>\n",
       "      <td>1</td>\n",
       "      <td>1</td>\n",
       "      <td>89.0</td>\n",
       "      <td>85.0</td>\n",
       "      <td>...</td>\n",
       "      <td>2016-06</td>\n",
       "      <td>0</td>\n",
       "      <td>F</td>\n",
       "      <td>16-25</td>\n",
       "      <td>S</td>\n",
       "      <td>3</td>\n",
       "      <td>2</td>\n",
       "      <td>1</td>\n",
       "      <td>0.044944</td>\n",
       "      <td>1</td>\n",
       "    </tr>\n",
       "    <tr>\n",
       "      <th>3</th>\n",
       "      <td>000064fa67</td>\n",
       "      <td>99439045cb</td>\n",
       "      <td>1</td>\n",
       "      <td>0 days 08:03:43</td>\n",
       "      <td>2</td>\n",
       "      <td>10</td>\n",
       "      <td>2</td>\n",
       "      <td>2</td>\n",
       "      <td>298.0</td>\n",
       "      <td>208.0</td>\n",
       "      <td>...</td>\n",
       "      <td>2016-01</td>\n",
       "      <td>0</td>\n",
       "      <td>F</td>\n",
       "      <td>16-25</td>\n",
       "      <td>S</td>\n",
       "      <td>3</td>\n",
       "      <td>1</td>\n",
       "      <td>2</td>\n",
       "      <td>0.302013</td>\n",
       "      <td>1</td>\n",
       "    </tr>\n",
       "    <tr>\n",
       "      <th>4</th>\n",
       "      <td>0000bde331</td>\n",
       "      <td>20d84fc11a</td>\n",
       "      <td>1</td>\n",
       "      <td>0 days 21:37:06</td>\n",
       "      <td>17</td>\n",
       "      <td>14</td>\n",
       "      <td>1</td>\n",
       "      <td>1</td>\n",
       "      <td>59.9</td>\n",
       "      <td>39.9</td>\n",
       "      <td>...</td>\n",
       "      <td>2016-03</td>\n",
       "      <td>0</td>\n",
       "      <td>F</td>\n",
       "      <td>26-35</td>\n",
       "      <td>M</td>\n",
       "      <td>3</td>\n",
       "      <td>-1</td>\n",
       "      <td>2</td>\n",
       "      <td>0.333890</td>\n",
       "      <td>1</td>\n",
       "    </tr>\n",
       "  </tbody>\n",
       "</table>\n",
       "<p>5 rows × 22 columns</p>\n",
       "</div>"
      ],
      "text/plain": [
       "     order_ID     user_ID  type   delivery_time  order_day  order_hour  \\\n",
       "0  0000095025  57648ed1fc     1 0 days 22:48:26         19          11   \n",
       "1  00000e13eb  c113527e40     0 2 days 05:19:18          9          12   \n",
       "2  0000132b39  c4f5626c0d     1 0 days 22:29:25         13          16   \n",
       "3  000064fa67  99439045cb     1 0 days 08:03:43          2          10   \n",
       "4  0000bde331  20d84fc11a     1 0 days 21:37:06         17          14   \n",
       "\n",
       "   sku_ID  quantity  originValue  finalValue  ...  first_order_month  plus  \\\n",
       "0       1         1        230.0       176.2  ...            2017-10     0   \n",
       "1       1         1         56.0        56.0  ...            2017-08     0   \n",
       "2       1         1         89.0        85.0  ...            2016-06     0   \n",
       "3       2         2        298.0       208.0  ...            2016-01     0   \n",
       "4       1         1         59.9        39.9  ...            2016-03     0   \n",
       "\n",
       "  gender    age marital_status education city_level  purchase_power  dis_rate  \\\n",
       "0      U      U              U        -1         -1              -1  0.233913   \n",
       "1      U      U              U        -1         -1              -1  0.000000   \n",
       "2      F  16-25              S         3          2               1  0.044944   \n",
       "3      F  16-25              S         3          1               2  0.302013   \n",
       "4      F  26-35              M         3         -1               2  0.333890   \n",
       "\n",
       "   busy_hour  \n",
       "0          1  \n",
       "1          1  \n",
       "2          1  \n",
       "3          1  \n",
       "4          1  \n",
       "\n",
       "[5 rows x 22 columns]"
      ]
     },
     "execution_count": 199,
     "metadata": {},
     "output_type": "execute_result"
    }
   ],
   "source": [
    "# Discount rate\n",
    "customer_order['dis_rate'] = (customer_order['originValue'] - customer_order['finalValue'])/customer_order['originValue']\n",
    "# order_hour coded to be busy vs. not busy\n",
    "customer_order['busy_hour'] = customer_order['order_hour'].apply(lambda h: 1 if 8<=h<=22 else 0)\n",
    "customer_order.head()"
   ]
  },
  {
   "cell_type": "markdown",
   "id": "fd453eb5",
   "metadata": {},
   "source": [
    "34. Prepare data for analysis. The target variable is 'delivery_time'.<br>\n",
    "Features: 'type_x', 'sku_ID', 'quantity', 'finalValue', 'gift_item', 'plus', 'dis_rate', 'busy_hour'"
   ]
  },
  {
   "cell_type": "code",
   "execution_count": 200,
   "id": "6bdb97fd",
   "metadata": {},
   "outputs": [],
   "source": [
    "customer_order['hourly_delivery_time'] = customer_order['delivery_time'].dt.total_seconds()/3600\n",
    "Target = 'hourly_delivery_time'\n",
    "features = ['type','sku_ID','quantity', 'finalValue', 'gift_item', 'plus', 'dis_rate', 'busy_hour']"
   ]
  },
  {
   "cell_type": "code",
   "execution_count": 201,
   "id": "967c33bf",
   "metadata": {},
   "outputs": [],
   "source": [
    "X = customer_order[features]\n",
    "y = customer_order[Target]"
   ]
  },
  {
   "cell_type": "markdown",
   "id": "847ade50",
   "metadata": {},
   "source": [
    "35. Prepare the training and test datasets"
   ]
  },
  {
   "cell_type": "code",
   "execution_count": 202,
   "id": "9d79d189",
   "metadata": {},
   "outputs": [
    {
     "data": {
      "text/plain": [
       "(224124, 8)"
      ]
     },
     "execution_count": 202,
     "metadata": {},
     "output_type": "execute_result"
    }
   ],
   "source": [
    "from sklearn.model_selection import train_test_split\n",
    "\n",
    "X_train, X_test, y_train, y_test = train_test_split(X, y, test_size=0.2, random_state=42)\n",
    "X_train.shape\n"
   ]
  },
  {
   "cell_type": "code",
   "execution_count": 203,
   "id": "b18e536f",
   "metadata": {},
   "outputs": [
    {
     "data": {
      "text/plain": [
       "(56031, 8)"
      ]
     },
     "execution_count": 203,
     "metadata": {},
     "output_type": "execute_result"
    }
   ],
   "source": [
    "X_test.shape"
   ]
  },
  {
   "cell_type": "code",
   "execution_count": 204,
   "id": "c6d2e42b",
   "metadata": {},
   "outputs": [
    {
     "data": {
      "text/plain": [
       "(224124,)"
      ]
     },
     "execution_count": 204,
     "metadata": {},
     "output_type": "execute_result"
    }
   ],
   "source": [
    "y_train.shape"
   ]
  },
  {
   "cell_type": "code",
   "execution_count": 205,
   "id": "d766595c",
   "metadata": {},
   "outputs": [
    {
     "data": {
      "text/plain": [
       "(56031,)"
      ]
     },
     "execution_count": 205,
     "metadata": {},
     "output_type": "execute_result"
    }
   ],
   "source": [
    "y_test.shape"
   ]
  },
  {
   "cell_type": "markdown",
   "id": "710e9e72",
   "metadata": {},
   "source": [
    "36. Train a Decision Tree regression model."
   ]
  },
  {
   "cell_type": "code",
   "execution_count": 206,
   "id": "06d31756",
   "metadata": {},
   "outputs": [
    {
     "data": {
      "text/html": [
       "<style>#sk-container-id-2 {color: black;background-color: white;}#sk-container-id-2 pre{padding: 0;}#sk-container-id-2 div.sk-toggleable {background-color: white;}#sk-container-id-2 label.sk-toggleable__label {cursor: pointer;display: block;width: 100%;margin-bottom: 0;padding: 0.3em;box-sizing: border-box;text-align: center;}#sk-container-id-2 label.sk-toggleable__label-arrow:before {content: \"▸\";float: left;margin-right: 0.25em;color: #696969;}#sk-container-id-2 label.sk-toggleable__label-arrow:hover:before {color: black;}#sk-container-id-2 div.sk-estimator:hover label.sk-toggleable__label-arrow:before {color: black;}#sk-container-id-2 div.sk-toggleable__content {max-height: 0;max-width: 0;overflow: hidden;text-align: left;background-color: #f0f8ff;}#sk-container-id-2 div.sk-toggleable__content pre {margin: 0.2em;color: black;border-radius: 0.25em;background-color: #f0f8ff;}#sk-container-id-2 input.sk-toggleable__control:checked~div.sk-toggleable__content {max-height: 200px;max-width: 100%;overflow: auto;}#sk-container-id-2 input.sk-toggleable__control:checked~label.sk-toggleable__label-arrow:before {content: \"▾\";}#sk-container-id-2 div.sk-estimator input.sk-toggleable__control:checked~label.sk-toggleable__label {background-color: #d4ebff;}#sk-container-id-2 div.sk-label input.sk-toggleable__control:checked~label.sk-toggleable__label {background-color: #d4ebff;}#sk-container-id-2 input.sk-hidden--visually {border: 0;clip: rect(1px 1px 1px 1px);clip: rect(1px, 1px, 1px, 1px);height: 1px;margin: -1px;overflow: hidden;padding: 0;position: absolute;width: 1px;}#sk-container-id-2 div.sk-estimator {font-family: monospace;background-color: #f0f8ff;border: 1px dotted black;border-radius: 0.25em;box-sizing: border-box;margin-bottom: 0.5em;}#sk-container-id-2 div.sk-estimator:hover {background-color: #d4ebff;}#sk-container-id-2 div.sk-parallel-item::after {content: \"\";width: 100%;border-bottom: 1px solid gray;flex-grow: 1;}#sk-container-id-2 div.sk-label:hover label.sk-toggleable__label {background-color: #d4ebff;}#sk-container-id-2 div.sk-serial::before {content: \"\";position: absolute;border-left: 1px solid gray;box-sizing: border-box;top: 0;bottom: 0;left: 50%;z-index: 0;}#sk-container-id-2 div.sk-serial {display: flex;flex-direction: column;align-items: center;background-color: white;padding-right: 0.2em;padding-left: 0.2em;position: relative;}#sk-container-id-2 div.sk-item {position: relative;z-index: 1;}#sk-container-id-2 div.sk-parallel {display: flex;align-items: stretch;justify-content: center;background-color: white;position: relative;}#sk-container-id-2 div.sk-item::before, #sk-container-id-2 div.sk-parallel-item::before {content: \"\";position: absolute;border-left: 1px solid gray;box-sizing: border-box;top: 0;bottom: 0;left: 50%;z-index: -1;}#sk-container-id-2 div.sk-parallel-item {display: flex;flex-direction: column;z-index: 1;position: relative;background-color: white;}#sk-container-id-2 div.sk-parallel-item:first-child::after {align-self: flex-end;width: 50%;}#sk-container-id-2 div.sk-parallel-item:last-child::after {align-self: flex-start;width: 50%;}#sk-container-id-2 div.sk-parallel-item:only-child::after {width: 0;}#sk-container-id-2 div.sk-dashed-wrapped {border: 1px dashed gray;margin: 0 0.4em 0.5em 0.4em;box-sizing: border-box;padding-bottom: 0.4em;background-color: white;}#sk-container-id-2 div.sk-label label {font-family: monospace;font-weight: bold;display: inline-block;line-height: 1.2em;}#sk-container-id-2 div.sk-label-container {text-align: center;}#sk-container-id-2 div.sk-container {/* jupyter's `normalize.less` sets `[hidden] { display: none; }` but bootstrap.min.css set `[hidden] { display: none !important; }` so we also need the `!important` here to be able to override the default hidden behavior on the sphinx rendered scikit-learn.org. See: https://github.com/scikit-learn/scikit-learn/issues/21755 */display: inline-block !important;position: relative;}#sk-container-id-2 div.sk-text-repr-fallback {display: none;}</style><div id=\"sk-container-id-2\" class=\"sk-top-container\"><div class=\"sk-text-repr-fallback\"><pre>DecisionTreeRegressor(random_state=42)</pre><b>In a Jupyter environment, please rerun this cell to show the HTML representation or trust the notebook. <br />On GitHub, the HTML representation is unable to render, please try loading this page with nbviewer.org.</b></div><div class=\"sk-container\" hidden><div class=\"sk-item\"><div class=\"sk-estimator sk-toggleable\"><input class=\"sk-toggleable__control sk-hidden--visually\" id=\"sk-estimator-id-2\" type=\"checkbox\" checked><label for=\"sk-estimator-id-2\" class=\"sk-toggleable__label sk-toggleable__label-arrow\">DecisionTreeRegressor</label><div class=\"sk-toggleable__content\"><pre>DecisionTreeRegressor(random_state=42)</pre></div></div></div></div></div>"
      ],
      "text/plain": [
       "DecisionTreeRegressor(random_state=42)"
      ]
     },
     "execution_count": 206,
     "metadata": {},
     "output_type": "execute_result"
    }
   ],
   "source": [
    "from sklearn.tree import DecisionTreeRegressor\n",
    "tree_regressor = DecisionTreeRegressor(random_state=42)\n",
    "tree_regressor.fit(X_train, y_train)"
   ]
  },
  {
   "cell_type": "markdown",
   "id": "16d7e840",
   "metadata": {},
   "source": [
    "37. Make predictions on the testing data."
   ]
  },
  {
   "cell_type": "code",
   "execution_count": 207,
   "id": "63bfb5dc",
   "metadata": {},
   "outputs": [
    {
     "data": {
      "text/plain": [
       "array([23.89138889, 21.52557724, 64.56478614, ..., 45.36681063,\n",
       "       70.4215    , 24.19888301])"
      ]
     },
     "execution_count": 207,
     "metadata": {},
     "output_type": "execute_result"
    }
   ],
   "source": [
    "y_Pred = tree_regressor.predict(X_test)\n",
    "y_Pred"
   ]
  },
  {
   "cell_type": "markdown",
   "id": "d5e881fa",
   "metadata": {},
   "source": [
    "38. Evaluate the model using RMSE"
   ]
  },
  {
   "cell_type": "code",
   "execution_count": 208,
   "id": "6c14af6e",
   "metadata": {},
   "outputs": [
    {
     "name": "stdout",
     "output_type": "stream",
     "text": [
      "RMSE: 26.68951404064796\n"
     ]
    }
   ],
   "source": [
    "from sklearn.metrics import mean_squared_error\n",
    "\n",
    "rmse = mean_squared_error(y_test, y_Pred, squared=False)\n",
    "print('RMSE:', rmse)"
   ]
  },
  {
   "cell_type": "code",
   "execution_count": 212,
   "id": "818290ae",
   "metadata": {},
   "outputs": [
    {
     "data": {
      "text/plain": [
       "count                       280155\n",
       "mean     1 days 09:41:04.107469079\n",
       "std      1 days 04:22:30.757980040\n",
       "min              -1 days +07:25:00\n",
       "25%                0 days 17:21:10\n",
       "50%                0 days 23:33:42\n",
       "75%                1 days 19:01:48\n",
       "max               26 days 17:13:03\n",
       "Name: delivery_time, dtype: object"
      ]
     },
     "execution_count": 212,
     "metadata": {},
     "output_type": "execute_result"
    }
   ],
   "source": [
    "# To understand the RMSE, We check the statistics of the target variable.\n",
    "customer_order['delivery_time'].describe()\n",
    "# It seems the mean is about 34 hours. With RMSE being about 27, \n",
    "# the prediction seems not very good.\n",
    "# If you are interested to explore more, you may try some other prediction methods to see \n",
    "# whether you can get better results."
   ]
  },
  {
   "cell_type": "code",
   "execution_count": null,
   "id": "a0d3e416",
   "metadata": {},
   "outputs": [],
   "source": []
  }
 ],
 "metadata": {
  "kernelspec": {
   "display_name": "Python 3 (ipykernel)",
   "language": "python",
   "name": "python3"
  },
  "language_info": {
   "codemirror_mode": {
    "name": "ipython",
    "version": 3
   },
   "file_extension": ".py",
   "mimetype": "text/x-python",
   "name": "python",
   "nbconvert_exporter": "python",
   "pygments_lexer": "ipython3",
   "version": "3.10.9"
  }
 },
 "nbformat": 4,
 "nbformat_minor": 5
}
